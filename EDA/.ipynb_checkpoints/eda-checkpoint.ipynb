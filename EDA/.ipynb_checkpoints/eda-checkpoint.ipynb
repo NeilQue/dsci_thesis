{
 "cells": [
  {
   "cell_type": "code",
   "execution_count": 11,
   "id": "d2e96e20",
   "metadata": {},
   "outputs": [],
   "source": [
    "import pandas as pd\n",
    "import numpy as np\n",
    "import matplotlib.pyplot as plt\n",
    "import seaborn\n",
    "import os"
   ]
  },
  {
   "cell_type": "markdown",
   "id": "9bb5d26b",
   "metadata": {},
   "source": [
    "## Paths to Files"
   ]
  },
  {
   "cell_type": "code",
   "execution_count": 12,
   "id": "a4ea9f09",
   "metadata": {},
   "outputs": [],
   "source": [
    "BASE_DIR_PATH = '/Users/neilb/Documents/dsci_thesis/'\n",
    "DATA_PATH = 'Scraping_and_Cleaning'"
   ]
  },
  {
   "cell_type": "code",
   "execution_count": 13,
   "id": "20bc50ef",
   "metadata": {},
   "outputs": [],
   "source": [
    "DATASET_FILE = os.path.join(BASE_DIR_PATH, DATA_PATH, 'data_2022.csv')"
   ]
  },
  {
   "cell_type": "markdown",
   "id": "a3e5f0dd",
   "metadata": {},
   "source": [
    "## Load Dataset"
   ]
  },
  {
   "cell_type": "code",
   "execution_count": 15,
   "id": "8a0c42ce",
   "metadata": {},
   "outputs": [
    {
     "data": {
      "text/html": [
       "<div>\n",
       "<style scoped>\n",
       "    .dataframe tbody tr th:only-of-type {\n",
       "        vertical-align: middle;\n",
       "    }\n",
       "\n",
       "    .dataframe tbody tr th {\n",
       "        vertical-align: top;\n",
       "    }\n",
       "\n",
       "    .dataframe thead th {\n",
       "        text-align: right;\n",
       "    }\n",
       "</style>\n",
       "<table border=\"1\" class=\"dataframe\">\n",
       "  <thead>\n",
       "    <tr style=\"text-align: right;\">\n",
       "      <th></th>\n",
       "      <th>datetime</th>\n",
       "      <th>water_level</th>\n",
       "      <th>station</th>\n",
       "      <th>1hr</th>\n",
       "      <th>3hr</th>\n",
       "      <th>6hr</th>\n",
       "      <th>12hr</th>\n",
       "      <th>24hr</th>\n",
       "    </tr>\n",
       "  </thead>\n",
       "  <tbody>\n",
       "    <tr>\n",
       "      <th>0</th>\n",
       "      <td>2022-01-01</td>\n",
       "      <td>11.64</td>\n",
       "      <td>Airport (PAGASA)</td>\n",
       "      <td>0.0</td>\n",
       "      <td>0.0</td>\n",
       "      <td>0.0</td>\n",
       "      <td>0.0</td>\n",
       "      <td>0.0</td>\n",
       "    </tr>\n",
       "    <tr>\n",
       "      <th>1</th>\n",
       "      <td>2022-01-01</td>\n",
       "      <td>11.64</td>\n",
       "      <td>Antipolo</td>\n",
       "      <td>0.0</td>\n",
       "      <td>0.0</td>\n",
       "      <td>0.0</td>\n",
       "      <td>0.0</td>\n",
       "      <td>0.0</td>\n",
       "    </tr>\n",
       "    <tr>\n",
       "      <th>2</th>\n",
       "      <td>2022-01-01</td>\n",
       "      <td>11.64</td>\n",
       "      <td>Bagong Nayon</td>\n",
       "      <td>0.0</td>\n",
       "      <td>0.0</td>\n",
       "      <td>0.0</td>\n",
       "      <td>0.0</td>\n",
       "      <td>0.0</td>\n",
       "    </tr>\n",
       "    <tr>\n",
       "      <th>3</th>\n",
       "      <td>2022-01-01</td>\n",
       "      <td>11.64</td>\n",
       "      <td>Boso Boso</td>\n",
       "      <td>0.0</td>\n",
       "      <td>0.0</td>\n",
       "      <td>0.0</td>\n",
       "      <td>0.0</td>\n",
       "      <td>0.0</td>\n",
       "    </tr>\n",
       "    <tr>\n",
       "      <th>4</th>\n",
       "      <td>2022-01-01</td>\n",
       "      <td>11.64</td>\n",
       "      <td>Calawis</td>\n",
       "      <td>0.0</td>\n",
       "      <td>0.0</td>\n",
       "      <td>0.0</td>\n",
       "      <td>0.0</td>\n",
       "      <td>0.0</td>\n",
       "    </tr>\n",
       "  </tbody>\n",
       "</table>\n",
       "</div>"
      ],
      "text/plain": [
       "    datetime  water_level           station  1hr  3hr  6hr  12hr  24hr\n",
       "0 2022-01-01        11.64  Airport (PAGASA)  0.0  0.0  0.0   0.0   0.0\n",
       "1 2022-01-01        11.64          Antipolo  0.0  0.0  0.0   0.0   0.0\n",
       "2 2022-01-01        11.64      Bagong Nayon  0.0  0.0  0.0   0.0   0.0\n",
       "3 2022-01-01        11.64         Boso Boso  0.0  0.0  0.0   0.0   0.0\n",
       "4 2022-01-01        11.64           Calawis  0.0  0.0  0.0   0.0   0.0"
      ]
     },
     "execution_count": 15,
     "metadata": {},
     "output_type": "execute_result"
    }
   ],
   "source": [
    "df = pd.read_csv(DATASET_FILE)\n",
    "df['datetime'] = pd.to_datetime(df['datetime']) # parsing column to datetime as it is read as string\n",
    "df.head()"
   ]
  },
  {
   "cell_type": "markdown",
   "id": "9135b787",
   "metadata": {},
   "source": [
    "## Basic dataset information"
   ]
  },
  {
   "cell_type": "code",
   "execution_count": 16,
   "id": "65bf46f1",
   "metadata": {},
   "outputs": [
    {
     "name": "stdout",
     "output_type": "stream",
     "text": [
      "<class 'pandas.core.frame.DataFrame'>\n",
      "RangeIndex: 227786 entries, 0 to 227785\n",
      "Data columns (total 8 columns):\n",
      " #   Column       Non-Null Count   Dtype         \n",
      "---  ------       --------------   -----         \n",
      " 0   datetime     227786 non-null  datetime64[ns]\n",
      " 1   water_level  227786 non-null  float64       \n",
      " 2   station      227786 non-null  object        \n",
      " 3   1hr          227786 non-null  float64       \n",
      " 4   3hr          227786 non-null  float64       \n",
      " 5   6hr          227786 non-null  float64       \n",
      " 6   12hr         227786 non-null  float64       \n",
      " 7   24hr         227786 non-null  float64       \n",
      "dtypes: datetime64[ns](1), float64(6), object(1)\n",
      "memory usage: 13.9+ MB\n"
     ]
    }
   ],
   "source": [
    "df.info()"
   ]
  },
  {
   "cell_type": "code",
   "execution_count": 17,
   "id": "e6d2a2d4",
   "metadata": {},
   "outputs": [
    {
     "data": {
      "text/html": [
       "<div>\n",
       "<style scoped>\n",
       "    .dataframe tbody tr th:only-of-type {\n",
       "        vertical-align: middle;\n",
       "    }\n",
       "\n",
       "    .dataframe tbody tr th {\n",
       "        vertical-align: top;\n",
       "    }\n",
       "\n",
       "    .dataframe thead th {\n",
       "        text-align: right;\n",
       "    }\n",
       "</style>\n",
       "<table border=\"1\" class=\"dataframe\">\n",
       "  <thead>\n",
       "    <tr style=\"text-align: right;\">\n",
       "      <th></th>\n",
       "      <th>water_level</th>\n",
       "      <th>1hr</th>\n",
       "      <th>3hr</th>\n",
       "      <th>6hr</th>\n",
       "      <th>12hr</th>\n",
       "      <th>24hr</th>\n",
       "    </tr>\n",
       "  </thead>\n",
       "  <tbody>\n",
       "    <tr>\n",
       "      <th>count</th>\n",
       "      <td>227786.000000</td>\n",
       "      <td>227786.000000</td>\n",
       "      <td>227786.000000</td>\n",
       "      <td>227786.000000</td>\n",
       "      <td>227786.000000</td>\n",
       "      <td>227786.000000</td>\n",
       "    </tr>\n",
       "    <tr>\n",
       "      <th>mean</th>\n",
       "      <td>11.822432</td>\n",
       "      <td>0.212392</td>\n",
       "      <td>0.637735</td>\n",
       "      <td>1.275366</td>\n",
       "      <td>2.550725</td>\n",
       "      <td>5.101611</td>\n",
       "    </tr>\n",
       "    <tr>\n",
       "      <th>std</th>\n",
       "      <td>0.714462</td>\n",
       "      <td>1.760464</td>\n",
       "      <td>3.715819</td>\n",
       "      <td>5.821120</td>\n",
       "      <td>9.058985</td>\n",
       "      <td>14.045297</td>\n",
       "    </tr>\n",
       "    <tr>\n",
       "      <th>min</th>\n",
       "      <td>10.980000</td>\n",
       "      <td>0.000000</td>\n",
       "      <td>0.000000</td>\n",
       "      <td>0.000000</td>\n",
       "      <td>0.000000</td>\n",
       "      <td>0.000000</td>\n",
       "    </tr>\n",
       "    <tr>\n",
       "      <th>25%</th>\n",
       "      <td>11.280000</td>\n",
       "      <td>0.000000</td>\n",
       "      <td>0.000000</td>\n",
       "      <td>0.000000</td>\n",
       "      <td>0.000000</td>\n",
       "      <td>0.000000</td>\n",
       "    </tr>\n",
       "    <tr>\n",
       "      <th>50%</th>\n",
       "      <td>11.590000</td>\n",
       "      <td>0.000000</td>\n",
       "      <td>0.000000</td>\n",
       "      <td>0.000000</td>\n",
       "      <td>0.000000</td>\n",
       "      <td>0.000000</td>\n",
       "    </tr>\n",
       "    <tr>\n",
       "      <th>75%</th>\n",
       "      <td>12.240000</td>\n",
       "      <td>0.000000</td>\n",
       "      <td>0.000000</td>\n",
       "      <td>0.000000</td>\n",
       "      <td>0.000000</td>\n",
       "      <td>2.500000</td>\n",
       "    </tr>\n",
       "    <tr>\n",
       "      <th>max</th>\n",
       "      <td>18.500000</td>\n",
       "      <td>97.000000</td>\n",
       "      <td>161.500000</td>\n",
       "      <td>163.000000</td>\n",
       "      <td>163.000000</td>\n",
       "      <td>209.000000</td>\n",
       "    </tr>\n",
       "  </tbody>\n",
       "</table>\n",
       "</div>"
      ],
      "text/plain": [
       "         water_level            1hr            3hr            6hr  \\\n",
       "count  227786.000000  227786.000000  227786.000000  227786.000000   \n",
       "mean       11.822432       0.212392       0.637735       1.275366   \n",
       "std         0.714462       1.760464       3.715819       5.821120   \n",
       "min        10.980000       0.000000       0.000000       0.000000   \n",
       "25%        11.280000       0.000000       0.000000       0.000000   \n",
       "50%        11.590000       0.000000       0.000000       0.000000   \n",
       "75%        12.240000       0.000000       0.000000       0.000000   \n",
       "max        18.500000      97.000000     161.500000     163.000000   \n",
       "\n",
       "                12hr           24hr  \n",
       "count  227786.000000  227786.000000  \n",
       "mean        2.550725       5.101611  \n",
       "std         9.058985      14.045297  \n",
       "min         0.000000       0.000000  \n",
       "25%         0.000000       0.000000  \n",
       "50%         0.000000       0.000000  \n",
       "75%         0.000000       2.500000  \n",
       "max       163.000000     209.000000  "
      ]
     },
     "execution_count": 17,
     "metadata": {},
     "output_type": "execute_result"
    }
   ],
   "source": [
    "df.describe()"
   ]
  },
  {
   "cell_type": "code",
   "execution_count": null,
   "id": "10894c31",
   "metadata": {},
   "outputs": [],
   "source": []
  }
 ],
 "metadata": {
  "kernelspec": {
   "display_name": "Python 3 (ipykernel)",
   "language": "python",
   "name": "python3"
  },
  "language_info": {
   "codemirror_mode": {
    "name": "ipython",
    "version": 3
   },
   "file_extension": ".py",
   "mimetype": "text/x-python",
   "name": "python",
   "nbconvert_exporter": "python",
   "pygments_lexer": "ipython3",
   "version": "3.9.13"
  }
 },
 "nbformat": 4,
 "nbformat_minor": 5
}
