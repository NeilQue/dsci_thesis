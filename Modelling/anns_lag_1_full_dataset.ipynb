{
 "cells": [
  {
   "cell_type": "code",
   "execution_count": 97,
   "metadata": {},
   "outputs": [],
   "source": [
    "import tensorflow as tf\n",
    "import pandas as pd\n",
    "import os\n",
    "import numpy as np\n",
    "import matplotlib.pyplot as plt\n",
    "from random import seed\n",
    "from tensorflow.keras import models\n",
    "from tensorflow.keras import layers\n",
    "from tensorflow.keras import backend as K\n",
    "tf.compat.v1.experimental.output_all_intermediates(True)"
   ]
  },
  {
   "cell_type": "code",
   "execution_count": 98,
   "metadata": {},
   "outputs": [],
   "source": [
    "tf.random.set_seed(36)"
   ]
  },
  {
   "cell_type": "markdown",
   "metadata": {},
   "source": [
    "## Dataset"
   ]
  },
  {
   "cell_type": "code",
   "execution_count": 99,
   "metadata": {},
   "outputs": [],
   "source": [
    "BASE_DIR_PATH = '../Datasets'\n",
    "DATASET_FILE = os.path.join(BASE_DIR_PATH, '2016_2017_sto_nino_and_montalban_lag_1.csv')"
   ]
  },
  {
   "cell_type": "code",
   "execution_count": 100,
   "metadata": {},
   "outputs": [
    {
     "data": {
      "text/html": [
       "<div>\n",
       "<style scoped>\n",
       "    .dataframe tbody tr th:only-of-type {\n",
       "        vertical-align: middle;\n",
       "    }\n",
       "\n",
       "    .dataframe tbody tr th {\n",
       "        vertical-align: top;\n",
       "    }\n",
       "\n",
       "    .dataframe thead th {\n",
       "        text-align: right;\n",
       "    }\n",
       "</style>\n",
       "<table border=\"1\" class=\"dataframe\">\n",
       "  <thead>\n",
       "    <tr style=\"text-align: right;\">\n",
       "      <th></th>\n",
       "      <th>Unnamed: 0</th>\n",
       "      <th>Unnamed: 0.1</th>\n",
       "      <th>datetime</th>\n",
       "      <th>month</th>\n",
       "      <th>day</th>\n",
       "      <th>hour</th>\n",
       "      <th>t</th>\n",
       "      <th>Station</th>\n",
       "      <th>x</th>\n",
       "      <th>Rainfall_Aries</th>\n",
       "      <th>...</th>\n",
       "      <th>Rainfall_Campana</th>\n",
       "      <th>Rainfall_Nangka</th>\n",
       "      <th>Rainfall_Oro</th>\n",
       "      <th>Waterlevel</th>\n",
       "      <th>Discharge</th>\n",
       "      <th>Cross_Section</th>\n",
       "      <th>Velocity</th>\n",
       "      <th>fric_coeff</th>\n",
       "      <th>slope</th>\n",
       "      <th>Prev_Waterlevel</th>\n",
       "    </tr>\n",
       "  </thead>\n",
       "  <tbody>\n",
       "    <tr>\n",
       "      <th>0</th>\n",
       "      <td>0</td>\n",
       "      <td>0</td>\n",
       "      <td>2016-01-01 00:00:00</td>\n",
       "      <td>1</td>\n",
       "      <td>1</td>\n",
       "      <td>0</td>\n",
       "      <td>0.0</td>\n",
       "      <td>Montalban</td>\n",
       "      <td>0</td>\n",
       "      <td>0</td>\n",
       "      <td>...</td>\n",
       "      <td>2</td>\n",
       "      <td>0</td>\n",
       "      <td>0</td>\n",
       "      <td>21.03</td>\n",
       "      <td>14.842428</td>\n",
       "      <td>630.90</td>\n",
       "      <td>0.023526</td>\n",
       "      <td>0.035</td>\n",
       "      <td>0.002000</td>\n",
       "      <td>NaN</td>\n",
       "    </tr>\n",
       "    <tr>\n",
       "      <th>1</th>\n",
       "      <td>1</td>\n",
       "      <td>1</td>\n",
       "      <td>2016-01-01 00:00:00</td>\n",
       "      <td>1</td>\n",
       "      <td>1</td>\n",
       "      <td>0</td>\n",
       "      <td>0.0</td>\n",
       "      <td>Sto_Nino</td>\n",
       "      <td>14420</td>\n",
       "      <td>0</td>\n",
       "      <td>...</td>\n",
       "      <td>2</td>\n",
       "      <td>0</td>\n",
       "      <td>0</td>\n",
       "      <td>12.18</td>\n",
       "      <td>21.033407</td>\n",
       "      <td>803.88</td>\n",
       "      <td>0.026165</td>\n",
       "      <td>0.033</td>\n",
       "      <td>0.000667</td>\n",
       "      <td>NaN</td>\n",
       "    </tr>\n",
       "    <tr>\n",
       "      <th>2</th>\n",
       "      <td>2</td>\n",
       "      <td>2</td>\n",
       "      <td>2016-01-01 01:00:00</td>\n",
       "      <td>1</td>\n",
       "      <td>1</td>\n",
       "      <td>1</td>\n",
       "      <td>3600.0</td>\n",
       "      <td>Montalban</td>\n",
       "      <td>0</td>\n",
       "      <td>0</td>\n",
       "      <td>...</td>\n",
       "      <td>1</td>\n",
       "      <td>1</td>\n",
       "      <td>0</td>\n",
       "      <td>21.03</td>\n",
       "      <td>14.842428</td>\n",
       "      <td>630.90</td>\n",
       "      <td>0.023526</td>\n",
       "      <td>0.035</td>\n",
       "      <td>0.002000</td>\n",
       "      <td>21.03</td>\n",
       "    </tr>\n",
       "    <tr>\n",
       "      <th>3</th>\n",
       "      <td>3</td>\n",
       "      <td>3</td>\n",
       "      <td>2016-01-01 01:00:00</td>\n",
       "      <td>1</td>\n",
       "      <td>1</td>\n",
       "      <td>1</td>\n",
       "      <td>3600.0</td>\n",
       "      <td>Sto_Nino</td>\n",
       "      <td>14420</td>\n",
       "      <td>0</td>\n",
       "      <td>...</td>\n",
       "      <td>1</td>\n",
       "      <td>1</td>\n",
       "      <td>0</td>\n",
       "      <td>12.19</td>\n",
       "      <td>21.280072</td>\n",
       "      <td>804.54</td>\n",
       "      <td>0.026450</td>\n",
       "      <td>0.033</td>\n",
       "      <td>0.000667</td>\n",
       "      <td>12.18</td>\n",
       "    </tr>\n",
       "    <tr>\n",
       "      <th>4</th>\n",
       "      <td>4</td>\n",
       "      <td>4</td>\n",
       "      <td>2016-01-01 02:00:00</td>\n",
       "      <td>1</td>\n",
       "      <td>1</td>\n",
       "      <td>2</td>\n",
       "      <td>7200.0</td>\n",
       "      <td>Montalban</td>\n",
       "      <td>0</td>\n",
       "      <td>1</td>\n",
       "      <td>...</td>\n",
       "      <td>1</td>\n",
       "      <td>0</td>\n",
       "      <td>1</td>\n",
       "      <td>21.03</td>\n",
       "      <td>14.842428</td>\n",
       "      <td>630.90</td>\n",
       "      <td>0.023526</td>\n",
       "      <td>0.035</td>\n",
       "      <td>0.002000</td>\n",
       "      <td>21.03</td>\n",
       "    </tr>\n",
       "    <tr>\n",
       "      <th>...</th>\n",
       "      <td>...</td>\n",
       "      <td>...</td>\n",
       "      <td>...</td>\n",
       "      <td>...</td>\n",
       "      <td>...</td>\n",
       "      <td>...</td>\n",
       "      <td>...</td>\n",
       "      <td>...</td>\n",
       "      <td>...</td>\n",
       "      <td>...</td>\n",
       "      <td>...</td>\n",
       "      <td>...</td>\n",
       "      <td>...</td>\n",
       "      <td>...</td>\n",
       "      <td>...</td>\n",
       "      <td>...</td>\n",
       "      <td>...</td>\n",
       "      <td>...</td>\n",
       "      <td>...</td>\n",
       "      <td>...</td>\n",
       "      <td>...</td>\n",
       "    </tr>\n",
       "    <tr>\n",
       "      <th>35035</th>\n",
       "      <td>35035</td>\n",
       "      <td>35035</td>\n",
       "      <td>2017-12-31 21:00:00</td>\n",
       "      <td>12</td>\n",
       "      <td>31</td>\n",
       "      <td>21</td>\n",
       "      <td>63147600.0</td>\n",
       "      <td>Sto_Nino</td>\n",
       "      <td>14420</td>\n",
       "      <td>0</td>\n",
       "      <td>...</td>\n",
       "      <td>0</td>\n",
       "      <td>0</td>\n",
       "      <td>0</td>\n",
       "      <td>12.44</td>\n",
       "      <td>28.244204</td>\n",
       "      <td>821.04</td>\n",
       "      <td>0.034401</td>\n",
       "      <td>0.033</td>\n",
       "      <td>0.000667</td>\n",
       "      <td>12.44</td>\n",
       "    </tr>\n",
       "    <tr>\n",
       "      <th>35036</th>\n",
       "      <td>35036</td>\n",
       "      <td>35036</td>\n",
       "      <td>2017-12-31 22:00:00</td>\n",
       "      <td>12</td>\n",
       "      <td>31</td>\n",
       "      <td>22</td>\n",
       "      <td>63151200.0</td>\n",
       "      <td>Montalban</td>\n",
       "      <td>0</td>\n",
       "      <td>0</td>\n",
       "      <td>...</td>\n",
       "      <td>0</td>\n",
       "      <td>0</td>\n",
       "      <td>0</td>\n",
       "      <td>21.18</td>\n",
       "      <td>17.224575</td>\n",
       "      <td>635.40</td>\n",
       "      <td>0.027108</td>\n",
       "      <td>0.035</td>\n",
       "      <td>0.002000</td>\n",
       "      <td>21.18</td>\n",
       "    </tr>\n",
       "    <tr>\n",
       "      <th>35037</th>\n",
       "      <td>35037</td>\n",
       "      <td>35037</td>\n",
       "      <td>2017-12-31 22:00:00</td>\n",
       "      <td>12</td>\n",
       "      <td>31</td>\n",
       "      <td>22</td>\n",
       "      <td>63151200.0</td>\n",
       "      <td>Sto_Nino</td>\n",
       "      <td>14420</td>\n",
       "      <td>0</td>\n",
       "      <td>...</td>\n",
       "      <td>0</td>\n",
       "      <td>0</td>\n",
       "      <td>0</td>\n",
       "      <td>12.44</td>\n",
       "      <td>28.244204</td>\n",
       "      <td>821.04</td>\n",
       "      <td>0.034401</td>\n",
       "      <td>0.033</td>\n",
       "      <td>0.000667</td>\n",
       "      <td>12.44</td>\n",
       "    </tr>\n",
       "    <tr>\n",
       "      <th>35038</th>\n",
       "      <td>35038</td>\n",
       "      <td>35038</td>\n",
       "      <td>2017-12-31 23:00:00</td>\n",
       "      <td>12</td>\n",
       "      <td>31</td>\n",
       "      <td>23</td>\n",
       "      <td>63154800.0</td>\n",
       "      <td>Montalban</td>\n",
       "      <td>0</td>\n",
       "      <td>0</td>\n",
       "      <td>...</td>\n",
       "      <td>0</td>\n",
       "      <td>0</td>\n",
       "      <td>0</td>\n",
       "      <td>21.18</td>\n",
       "      <td>17.224575</td>\n",
       "      <td>635.40</td>\n",
       "      <td>0.027108</td>\n",
       "      <td>0.035</td>\n",
       "      <td>0.002000</td>\n",
       "      <td>21.18</td>\n",
       "    </tr>\n",
       "    <tr>\n",
       "      <th>35039</th>\n",
       "      <td>35039</td>\n",
       "      <td>35039</td>\n",
       "      <td>2017-12-31 23:00:00</td>\n",
       "      <td>12</td>\n",
       "      <td>31</td>\n",
       "      <td>23</td>\n",
       "      <td>63154800.0</td>\n",
       "      <td>Sto_Nino</td>\n",
       "      <td>14420</td>\n",
       "      <td>0</td>\n",
       "      <td>...</td>\n",
       "      <td>0</td>\n",
       "      <td>0</td>\n",
       "      <td>0</td>\n",
       "      <td>12.44</td>\n",
       "      <td>28.244204</td>\n",
       "      <td>821.04</td>\n",
       "      <td>0.034401</td>\n",
       "      <td>0.033</td>\n",
       "      <td>0.000667</td>\n",
       "      <td>12.44</td>\n",
       "    </tr>\n",
       "  </tbody>\n",
       "</table>\n",
       "<p>35040 rows × 21 columns</p>\n",
       "</div>"
      ],
      "text/plain": [
       "       Unnamed: 0  Unnamed: 0.1             datetime  month  day  hour  \\\n",
       "0               0             0  2016-01-01 00:00:00      1    1     0   \n",
       "1               1             1  2016-01-01 00:00:00      1    1     0   \n",
       "2               2             2  2016-01-01 01:00:00      1    1     1   \n",
       "3               3             3  2016-01-01 01:00:00      1    1     1   \n",
       "4               4             4  2016-01-01 02:00:00      1    1     2   \n",
       "...           ...           ...                  ...    ...  ...   ...   \n",
       "35035       35035         35035  2017-12-31 21:00:00     12   31    21   \n",
       "35036       35036         35036  2017-12-31 22:00:00     12   31    22   \n",
       "35037       35037         35037  2017-12-31 22:00:00     12   31    22   \n",
       "35038       35038         35038  2017-12-31 23:00:00     12   31    23   \n",
       "35039       35039         35039  2017-12-31 23:00:00     12   31    23   \n",
       "\n",
       "                t    Station      x  Rainfall_Aries  ...  Rainfall_Campana  \\\n",
       "0             0.0  Montalban      0               0  ...                 2   \n",
       "1             0.0   Sto_Nino  14420               0  ...                 2   \n",
       "2          3600.0  Montalban      0               0  ...                 1   \n",
       "3          3600.0   Sto_Nino  14420               0  ...                 1   \n",
       "4          7200.0  Montalban      0               1  ...                 1   \n",
       "...           ...        ...    ...             ...  ...               ...   \n",
       "35035  63147600.0   Sto_Nino  14420               0  ...                 0   \n",
       "35036  63151200.0  Montalban      0               0  ...                 0   \n",
       "35037  63151200.0   Sto_Nino  14420               0  ...                 0   \n",
       "35038  63154800.0  Montalban      0               0  ...                 0   \n",
       "35039  63154800.0   Sto_Nino  14420               0  ...                 0   \n",
       "\n",
       "       Rainfall_Nangka  Rainfall_Oro  Waterlevel  Discharge  Cross_Section  \\\n",
       "0                    0             0       21.03  14.842428         630.90   \n",
       "1                    0             0       12.18  21.033407         803.88   \n",
       "2                    1             0       21.03  14.842428         630.90   \n",
       "3                    1             0       12.19  21.280072         804.54   \n",
       "4                    0             1       21.03  14.842428         630.90   \n",
       "...                ...           ...         ...        ...            ...   \n",
       "35035                0             0       12.44  28.244204         821.04   \n",
       "35036                0             0       21.18  17.224575         635.40   \n",
       "35037                0             0       12.44  28.244204         821.04   \n",
       "35038                0             0       21.18  17.224575         635.40   \n",
       "35039                0             0       12.44  28.244204         821.04   \n",
       "\n",
       "       Velocity  fric_coeff     slope  Prev_Waterlevel  \n",
       "0      0.023526       0.035  0.002000              NaN  \n",
       "1      0.026165       0.033  0.000667              NaN  \n",
       "2      0.023526       0.035  0.002000            21.03  \n",
       "3      0.026450       0.033  0.000667            12.18  \n",
       "4      0.023526       0.035  0.002000            21.03  \n",
       "...         ...         ...       ...              ...  \n",
       "35035  0.034401       0.033  0.000667            12.44  \n",
       "35036  0.027108       0.035  0.002000            21.18  \n",
       "35037  0.034401       0.033  0.000667            12.44  \n",
       "35038  0.027108       0.035  0.002000            21.18  \n",
       "35039  0.034401       0.033  0.000667            12.44  \n",
       "\n",
       "[35040 rows x 21 columns]"
      ]
     },
     "execution_count": 100,
     "metadata": {},
     "output_type": "execute_result"
    }
   ],
   "source": [
    "df = pd.read_csv(DATASET_FILE)\n",
    "df"
   ]
  },
  {
   "cell_type": "code",
   "execution_count": 101,
   "metadata": {},
   "outputs": [
    {
     "data": {
      "text/html": [
       "<div>\n",
       "<style scoped>\n",
       "    .dataframe tbody tr th:only-of-type {\n",
       "        vertical-align: middle;\n",
       "    }\n",
       "\n",
       "    .dataframe tbody tr th {\n",
       "        vertical-align: top;\n",
       "    }\n",
       "\n",
       "    .dataframe thead th {\n",
       "        text-align: right;\n",
       "    }\n",
       "</style>\n",
       "<table border=\"1\" class=\"dataframe\">\n",
       "  <thead>\n",
       "    <tr style=\"text-align: right;\">\n",
       "      <th></th>\n",
       "      <th>month</th>\n",
       "      <th>day</th>\n",
       "      <th>hour</th>\n",
       "      <th>Station</th>\n",
       "      <th>Rainfall_Aries</th>\n",
       "      <th>Rainfall_Boso</th>\n",
       "      <th>Rainfall_Campana</th>\n",
       "      <th>Rainfall_Nangka</th>\n",
       "      <th>Rainfall_Oro</th>\n",
       "      <th>Prev_Waterlevel</th>\n",
       "      <th>Waterlevel</th>\n",
       "    </tr>\n",
       "  </thead>\n",
       "  <tbody>\n",
       "    <tr>\n",
       "      <th>0</th>\n",
       "      <td>1</td>\n",
       "      <td>1</td>\n",
       "      <td>0</td>\n",
       "      <td>Montalban</td>\n",
       "      <td>0</td>\n",
       "      <td>1</td>\n",
       "      <td>2</td>\n",
       "      <td>0</td>\n",
       "      <td>0</td>\n",
       "      <td>NaN</td>\n",
       "      <td>21.03</td>\n",
       "    </tr>\n",
       "    <tr>\n",
       "      <th>1</th>\n",
       "      <td>1</td>\n",
       "      <td>1</td>\n",
       "      <td>0</td>\n",
       "      <td>Sto_Nino</td>\n",
       "      <td>0</td>\n",
       "      <td>1</td>\n",
       "      <td>2</td>\n",
       "      <td>0</td>\n",
       "      <td>0</td>\n",
       "      <td>NaN</td>\n",
       "      <td>12.18</td>\n",
       "    </tr>\n",
       "    <tr>\n",
       "      <th>2</th>\n",
       "      <td>1</td>\n",
       "      <td>1</td>\n",
       "      <td>1</td>\n",
       "      <td>Montalban</td>\n",
       "      <td>0</td>\n",
       "      <td>1</td>\n",
       "      <td>1</td>\n",
       "      <td>1</td>\n",
       "      <td>0</td>\n",
       "      <td>21.03</td>\n",
       "      <td>21.03</td>\n",
       "    </tr>\n",
       "    <tr>\n",
       "      <th>3</th>\n",
       "      <td>1</td>\n",
       "      <td>1</td>\n",
       "      <td>1</td>\n",
       "      <td>Sto_Nino</td>\n",
       "      <td>0</td>\n",
       "      <td>1</td>\n",
       "      <td>1</td>\n",
       "      <td>1</td>\n",
       "      <td>0</td>\n",
       "      <td>12.18</td>\n",
       "      <td>12.19</td>\n",
       "    </tr>\n",
       "    <tr>\n",
       "      <th>4</th>\n",
       "      <td>1</td>\n",
       "      <td>1</td>\n",
       "      <td>2</td>\n",
       "      <td>Montalban</td>\n",
       "      <td>1</td>\n",
       "      <td>1</td>\n",
       "      <td>1</td>\n",
       "      <td>0</td>\n",
       "      <td>1</td>\n",
       "      <td>21.03</td>\n",
       "      <td>21.03</td>\n",
       "    </tr>\n",
       "    <tr>\n",
       "      <th>...</th>\n",
       "      <td>...</td>\n",
       "      <td>...</td>\n",
       "      <td>...</td>\n",
       "      <td>...</td>\n",
       "      <td>...</td>\n",
       "      <td>...</td>\n",
       "      <td>...</td>\n",
       "      <td>...</td>\n",
       "      <td>...</td>\n",
       "      <td>...</td>\n",
       "      <td>...</td>\n",
       "    </tr>\n",
       "    <tr>\n",
       "      <th>35035</th>\n",
       "      <td>12</td>\n",
       "      <td>31</td>\n",
       "      <td>21</td>\n",
       "      <td>Sto_Nino</td>\n",
       "      <td>0</td>\n",
       "      <td>0</td>\n",
       "      <td>0</td>\n",
       "      <td>0</td>\n",
       "      <td>0</td>\n",
       "      <td>12.44</td>\n",
       "      <td>12.44</td>\n",
       "    </tr>\n",
       "    <tr>\n",
       "      <th>35036</th>\n",
       "      <td>12</td>\n",
       "      <td>31</td>\n",
       "      <td>22</td>\n",
       "      <td>Montalban</td>\n",
       "      <td>0</td>\n",
       "      <td>0</td>\n",
       "      <td>0</td>\n",
       "      <td>0</td>\n",
       "      <td>0</td>\n",
       "      <td>21.18</td>\n",
       "      <td>21.18</td>\n",
       "    </tr>\n",
       "    <tr>\n",
       "      <th>35037</th>\n",
       "      <td>12</td>\n",
       "      <td>31</td>\n",
       "      <td>22</td>\n",
       "      <td>Sto_Nino</td>\n",
       "      <td>0</td>\n",
       "      <td>0</td>\n",
       "      <td>0</td>\n",
       "      <td>0</td>\n",
       "      <td>0</td>\n",
       "      <td>12.44</td>\n",
       "      <td>12.44</td>\n",
       "    </tr>\n",
       "    <tr>\n",
       "      <th>35038</th>\n",
       "      <td>12</td>\n",
       "      <td>31</td>\n",
       "      <td>23</td>\n",
       "      <td>Montalban</td>\n",
       "      <td>0</td>\n",
       "      <td>0</td>\n",
       "      <td>0</td>\n",
       "      <td>0</td>\n",
       "      <td>0</td>\n",
       "      <td>21.18</td>\n",
       "      <td>21.18</td>\n",
       "    </tr>\n",
       "    <tr>\n",
       "      <th>35039</th>\n",
       "      <td>12</td>\n",
       "      <td>31</td>\n",
       "      <td>23</td>\n",
       "      <td>Sto_Nino</td>\n",
       "      <td>0</td>\n",
       "      <td>0</td>\n",
       "      <td>0</td>\n",
       "      <td>0</td>\n",
       "      <td>0</td>\n",
       "      <td>12.44</td>\n",
       "      <td>12.44</td>\n",
       "    </tr>\n",
       "  </tbody>\n",
       "</table>\n",
       "<p>35040 rows × 11 columns</p>\n",
       "</div>"
      ],
      "text/plain": [
       "       month  day  hour    Station  Rainfall_Aries  Rainfall_Boso  \\\n",
       "0          1    1     0  Montalban               0              1   \n",
       "1          1    1     0   Sto_Nino               0              1   \n",
       "2          1    1     1  Montalban               0              1   \n",
       "3          1    1     1   Sto_Nino               0              1   \n",
       "4          1    1     2  Montalban               1              1   \n",
       "...      ...  ...   ...        ...             ...            ...   \n",
       "35035     12   31    21   Sto_Nino               0              0   \n",
       "35036     12   31    22  Montalban               0              0   \n",
       "35037     12   31    22   Sto_Nino               0              0   \n",
       "35038     12   31    23  Montalban               0              0   \n",
       "35039     12   31    23   Sto_Nino               0              0   \n",
       "\n",
       "       Rainfall_Campana  Rainfall_Nangka  Rainfall_Oro  Prev_Waterlevel  \\\n",
       "0                     2                0             0              NaN   \n",
       "1                     2                0             0              NaN   \n",
       "2                     1                1             0            21.03   \n",
       "3                     1                1             0            12.18   \n",
       "4                     1                0             1            21.03   \n",
       "...                 ...              ...           ...              ...   \n",
       "35035                 0                0             0            12.44   \n",
       "35036                 0                0             0            21.18   \n",
       "35037                 0                0             0            12.44   \n",
       "35038                 0                0             0            21.18   \n",
       "35039                 0                0             0            12.44   \n",
       "\n",
       "       Waterlevel  \n",
       "0           21.03  \n",
       "1           12.18  \n",
       "2           21.03  \n",
       "3           12.19  \n",
       "4           21.03  \n",
       "...           ...  \n",
       "35035       12.44  \n",
       "35036       21.18  \n",
       "35037       12.44  \n",
       "35038       21.18  \n",
       "35039       12.44  \n",
       "\n",
       "[35040 rows x 11 columns]"
      ]
     },
     "execution_count": 101,
     "metadata": {},
     "output_type": "execute_result"
    }
   ],
   "source": [
    "df = df[['month', 'day', 'hour', 'Station', 'Rainfall_Aries', 'Rainfall_Boso', 'Rainfall_Campana', 'Rainfall_Nangka', 'Rainfall_Oro', 'Prev_Waterlevel', 'Waterlevel']]\n",
    "df"
   ]
  },
  {
   "cell_type": "code",
   "execution_count": 102,
   "metadata": {},
   "outputs": [
    {
     "name": "stderr",
     "output_type": "stream",
     "text": [
      "<ipython-input-102-7b57490d9416>:1: SettingWithCopyWarning: \n",
      "A value is trying to be set on a copy of a slice from a DataFrame.\n",
      "Try using .loc[row_indexer,col_indexer] = value instead\n",
      "\n",
      "See the caveats in the documentation: https://pandas.pydata.org/pandas-docs/stable/user_guide/indexing.html#returning-a-view-versus-a-copy\n",
      "  df['Station'] = [1 if x == 'Sto_Nino' else 0 for x in df['Station']]\n"
     ]
    },
    {
     "data": {
      "text/html": [
       "<div>\n",
       "<style scoped>\n",
       "    .dataframe tbody tr th:only-of-type {\n",
       "        vertical-align: middle;\n",
       "    }\n",
       "\n",
       "    .dataframe tbody tr th {\n",
       "        vertical-align: top;\n",
       "    }\n",
       "\n",
       "    .dataframe thead th {\n",
       "        text-align: right;\n",
       "    }\n",
       "</style>\n",
       "<table border=\"1\" class=\"dataframe\">\n",
       "  <thead>\n",
       "    <tr style=\"text-align: right;\">\n",
       "      <th></th>\n",
       "      <th>month</th>\n",
       "      <th>day</th>\n",
       "      <th>hour</th>\n",
       "      <th>Station</th>\n",
       "      <th>Rainfall_Aries</th>\n",
       "      <th>Rainfall_Boso</th>\n",
       "      <th>Rainfall_Campana</th>\n",
       "      <th>Rainfall_Nangka</th>\n",
       "      <th>Rainfall_Oro</th>\n",
       "      <th>Prev_Waterlevel</th>\n",
       "      <th>Waterlevel</th>\n",
       "    </tr>\n",
       "  </thead>\n",
       "  <tbody>\n",
       "    <tr>\n",
       "      <th>0</th>\n",
       "      <td>1</td>\n",
       "      <td>1</td>\n",
       "      <td>0</td>\n",
       "      <td>0</td>\n",
       "      <td>0</td>\n",
       "      <td>1</td>\n",
       "      <td>2</td>\n",
       "      <td>0</td>\n",
       "      <td>0</td>\n",
       "      <td>NaN</td>\n",
       "      <td>21.03</td>\n",
       "    </tr>\n",
       "    <tr>\n",
       "      <th>1</th>\n",
       "      <td>1</td>\n",
       "      <td>1</td>\n",
       "      <td>0</td>\n",
       "      <td>1</td>\n",
       "      <td>0</td>\n",
       "      <td>1</td>\n",
       "      <td>2</td>\n",
       "      <td>0</td>\n",
       "      <td>0</td>\n",
       "      <td>NaN</td>\n",
       "      <td>12.18</td>\n",
       "    </tr>\n",
       "    <tr>\n",
       "      <th>2</th>\n",
       "      <td>1</td>\n",
       "      <td>1</td>\n",
       "      <td>1</td>\n",
       "      <td>0</td>\n",
       "      <td>0</td>\n",
       "      <td>1</td>\n",
       "      <td>1</td>\n",
       "      <td>1</td>\n",
       "      <td>0</td>\n",
       "      <td>21.03</td>\n",
       "      <td>21.03</td>\n",
       "    </tr>\n",
       "    <tr>\n",
       "      <th>3</th>\n",
       "      <td>1</td>\n",
       "      <td>1</td>\n",
       "      <td>1</td>\n",
       "      <td>1</td>\n",
       "      <td>0</td>\n",
       "      <td>1</td>\n",
       "      <td>1</td>\n",
       "      <td>1</td>\n",
       "      <td>0</td>\n",
       "      <td>12.18</td>\n",
       "      <td>12.19</td>\n",
       "    </tr>\n",
       "    <tr>\n",
       "      <th>4</th>\n",
       "      <td>1</td>\n",
       "      <td>1</td>\n",
       "      <td>2</td>\n",
       "      <td>0</td>\n",
       "      <td>1</td>\n",
       "      <td>1</td>\n",
       "      <td>1</td>\n",
       "      <td>0</td>\n",
       "      <td>1</td>\n",
       "      <td>21.03</td>\n",
       "      <td>21.03</td>\n",
       "    </tr>\n",
       "    <tr>\n",
       "      <th>...</th>\n",
       "      <td>...</td>\n",
       "      <td>...</td>\n",
       "      <td>...</td>\n",
       "      <td>...</td>\n",
       "      <td>...</td>\n",
       "      <td>...</td>\n",
       "      <td>...</td>\n",
       "      <td>...</td>\n",
       "      <td>...</td>\n",
       "      <td>...</td>\n",
       "      <td>...</td>\n",
       "    </tr>\n",
       "    <tr>\n",
       "      <th>35035</th>\n",
       "      <td>12</td>\n",
       "      <td>31</td>\n",
       "      <td>21</td>\n",
       "      <td>1</td>\n",
       "      <td>0</td>\n",
       "      <td>0</td>\n",
       "      <td>0</td>\n",
       "      <td>0</td>\n",
       "      <td>0</td>\n",
       "      <td>12.44</td>\n",
       "      <td>12.44</td>\n",
       "    </tr>\n",
       "    <tr>\n",
       "      <th>35036</th>\n",
       "      <td>12</td>\n",
       "      <td>31</td>\n",
       "      <td>22</td>\n",
       "      <td>0</td>\n",
       "      <td>0</td>\n",
       "      <td>0</td>\n",
       "      <td>0</td>\n",
       "      <td>0</td>\n",
       "      <td>0</td>\n",
       "      <td>21.18</td>\n",
       "      <td>21.18</td>\n",
       "    </tr>\n",
       "    <tr>\n",
       "      <th>35037</th>\n",
       "      <td>12</td>\n",
       "      <td>31</td>\n",
       "      <td>22</td>\n",
       "      <td>1</td>\n",
       "      <td>0</td>\n",
       "      <td>0</td>\n",
       "      <td>0</td>\n",
       "      <td>0</td>\n",
       "      <td>0</td>\n",
       "      <td>12.44</td>\n",
       "      <td>12.44</td>\n",
       "    </tr>\n",
       "    <tr>\n",
       "      <th>35038</th>\n",
       "      <td>12</td>\n",
       "      <td>31</td>\n",
       "      <td>23</td>\n",
       "      <td>0</td>\n",
       "      <td>0</td>\n",
       "      <td>0</td>\n",
       "      <td>0</td>\n",
       "      <td>0</td>\n",
       "      <td>0</td>\n",
       "      <td>21.18</td>\n",
       "      <td>21.18</td>\n",
       "    </tr>\n",
       "    <tr>\n",
       "      <th>35039</th>\n",
       "      <td>12</td>\n",
       "      <td>31</td>\n",
       "      <td>23</td>\n",
       "      <td>1</td>\n",
       "      <td>0</td>\n",
       "      <td>0</td>\n",
       "      <td>0</td>\n",
       "      <td>0</td>\n",
       "      <td>0</td>\n",
       "      <td>12.44</td>\n",
       "      <td>12.44</td>\n",
       "    </tr>\n",
       "  </tbody>\n",
       "</table>\n",
       "<p>35040 rows × 11 columns</p>\n",
       "</div>"
      ],
      "text/plain": [
       "       month  day  hour  Station  Rainfall_Aries  Rainfall_Boso  \\\n",
       "0          1    1     0        0               0              1   \n",
       "1          1    1     0        1               0              1   \n",
       "2          1    1     1        0               0              1   \n",
       "3          1    1     1        1               0              1   \n",
       "4          1    1     2        0               1              1   \n",
       "...      ...  ...   ...      ...             ...            ...   \n",
       "35035     12   31    21        1               0              0   \n",
       "35036     12   31    22        0               0              0   \n",
       "35037     12   31    22        1               0              0   \n",
       "35038     12   31    23        0               0              0   \n",
       "35039     12   31    23        1               0              0   \n",
       "\n",
       "       Rainfall_Campana  Rainfall_Nangka  Rainfall_Oro  Prev_Waterlevel  \\\n",
       "0                     2                0             0              NaN   \n",
       "1                     2                0             0              NaN   \n",
       "2                     1                1             0            21.03   \n",
       "3                     1                1             0            12.18   \n",
       "4                     1                0             1            21.03   \n",
       "...                 ...              ...           ...              ...   \n",
       "35035                 0                0             0            12.44   \n",
       "35036                 0                0             0            21.18   \n",
       "35037                 0                0             0            12.44   \n",
       "35038                 0                0             0            21.18   \n",
       "35039                 0                0             0            12.44   \n",
       "\n",
       "       Waterlevel  \n",
       "0           21.03  \n",
       "1           12.18  \n",
       "2           21.03  \n",
       "3           12.19  \n",
       "4           21.03  \n",
       "...           ...  \n",
       "35035       12.44  \n",
       "35036       21.18  \n",
       "35037       12.44  \n",
       "35038       21.18  \n",
       "35039       12.44  \n",
       "\n",
       "[35040 rows x 11 columns]"
      ]
     },
     "execution_count": 102,
     "metadata": {},
     "output_type": "execute_result"
    }
   ],
   "source": [
    "df['Station'] = [1 if x == 'Sto_Nino' else 0 for x in df['Station']]\n",
    "df"
   ]
  },
  {
   "cell_type": "code",
   "execution_count": 103,
   "metadata": {},
   "outputs": [],
   "source": [
    "X_data = df.drop(columns='Waterlevel')\n",
    "X_data = X_data.values\n",
    "y_data = df['Waterlevel']\n",
    "y_data = y_data.values"
   ]
  },
  {
   "cell_type": "code",
   "execution_count": 104,
   "metadata": {},
   "outputs": [
    {
     "data": {
      "text/plain": [
       "array([[ 1.  ,  1.  ,  0.  , ...,  0.  ,  0.  ,   nan],\n",
       "       [ 1.  ,  1.  ,  0.  , ...,  0.  ,  0.  ,   nan],\n",
       "       [ 1.  ,  1.  ,  1.  , ...,  1.  ,  0.  , 21.03],\n",
       "       ...,\n",
       "       [12.  , 31.  , 22.  , ...,  0.  ,  0.  , 12.44],\n",
       "       [12.  , 31.  , 23.  , ...,  0.  ,  0.  , 21.18],\n",
       "       [12.  , 31.  , 23.  , ...,  0.  ,  0.  , 12.44]])"
      ]
     },
     "execution_count": 104,
     "metadata": {},
     "output_type": "execute_result"
    }
   ],
   "source": [
    "X_data"
   ]
  },
  {
   "cell_type": "code",
   "execution_count": 105,
   "metadata": {},
   "outputs": [
    {
     "data": {
      "text/plain": [
       "array([21.03, 12.18, 21.03, ..., 12.44, 21.18, 12.44])"
      ]
     },
     "execution_count": 105,
     "metadata": {},
     "output_type": "execute_result"
    }
   ],
   "source": [
    "y_data"
   ]
  },
  {
   "cell_type": "code",
   "execution_count": 106,
   "metadata": {},
   "outputs": [],
   "source": [
    "n = len(df)"
   ]
  },
  {
   "cell_type": "code",
   "execution_count": 107,
   "metadata": {},
   "outputs": [],
   "source": [
    "X_train, y_train = X_data[:int(0.5*n)], y_data[:int(0.5*n)]\n",
    "X_val, y_val = X_data[int(0.5*n):int(0.75*n)], y_data[int(0.5*n):int(0.75*n)]\n",
    "X_test, y_test = X_data[int(0.75*n):], y_data[int(0.75*n):]"
   ]
  },
  {
   "cell_type": "code",
   "execution_count": 108,
   "metadata": {},
   "outputs": [
    {
     "data": {
      "text/plain": [
       "(17520, 10)"
      ]
     },
     "execution_count": 108,
     "metadata": {},
     "output_type": "execute_result"
    }
   ],
   "source": [
    "X_train.shape"
   ]
  },
  {
   "cell_type": "code",
   "execution_count": 109,
   "metadata": {},
   "outputs": [
    {
     "data": {
      "text/plain": [
       "(17518, 10)"
      ]
     },
     "execution_count": 109,
     "metadata": {},
     "output_type": "execute_result"
    }
   ],
   "source": [
    "X_train = X_train[2:]\n",
    "y_train = y_train[2:]\n",
    "\n",
    "X_train.shape"
   ]
  },
  {
   "cell_type": "code",
   "execution_count": 110,
   "metadata": {},
   "outputs": [
    {
     "data": {
      "text/plain": [
       "array([[ 1.  ,  1.  ,  1.  , ...,  1.  ,  0.  , 21.03],\n",
       "       [ 1.  ,  1.  ,  1.  , ...,  1.  ,  0.  , 12.18],\n",
       "       [ 1.  ,  1.  ,  2.  , ...,  0.  ,  1.  , 21.03],\n",
       "       ...,\n",
       "       [12.  , 31.  , 22.  , ...,  0.  ,  0.  , 12.53],\n",
       "       [12.  , 31.  , 23.  , ...,  0.  ,  0.  , 21.31],\n",
       "       [12.  , 31.  , 23.  , ...,  0.  ,  0.  , 12.53]])"
      ]
     },
     "execution_count": 110,
     "metadata": {},
     "output_type": "execute_result"
    }
   ],
   "source": [
    "X_train"
   ]
  },
  {
   "cell_type": "code",
   "execution_count": 111,
   "metadata": {},
   "outputs": [
    {
     "data": {
      "text/plain": [
       "(8760, 10)"
      ]
     },
     "execution_count": 111,
     "metadata": {},
     "output_type": "execute_result"
    }
   ],
   "source": [
    "X_val.shape"
   ]
  },
  {
   "cell_type": "code",
   "execution_count": 112,
   "metadata": {},
   "outputs": [
    {
     "data": {
      "text/plain": [
       "(8760, 10)"
      ]
     },
     "execution_count": 112,
     "metadata": {},
     "output_type": "execute_result"
    }
   ],
   "source": [
    "X_test.shape"
   ]
  },
  {
   "cell_type": "markdown",
   "metadata": {},
   "source": [
    "## Evaluation Metrics"
   ]
  },
  {
   "cell_type": "code",
   "execution_count": 113,
   "metadata": {},
   "outputs": [],
   "source": [
    "def r_square(y_true, y_pred):\n",
    "    x = y_true\n",
    "    y = y_pred\n",
    "    mx = K.mean(x, axis=0)\n",
    "    my = K.mean(y, axis=0)\n",
    "    xm, ym = x - mx, y - my\n",
    "    r_num = K.square(K.sum(xm * ym))\n",
    "    x_square_sum = K.sum(xm * xm)\n",
    "    y_square_sum = K.sum(ym * ym)\n",
    "    r_den = (x_square_sum * y_square_sum) + K.epsilon()\n",
    "    \n",
    "    r = r_num / r_den\n",
    "    return r"
   ]
  },
  {
   "cell_type": "code",
   "execution_count": 114,
   "metadata": {},
   "outputs": [],
   "source": [
    "def NSE(y_true, y_pred):\n",
    "    '''\n",
    "    This is the Nash-Sutcliffe Efficiency Coefficient\n",
    "    '''\n",
    "    y_pred = K.flatten(y_pred)\n",
    "    y_true = K.flatten(y_true)\n",
    "\n",
    "    SS_res =  K.sum(K.square(y_true - y_pred)) \n",
    "    SS_tot = K.sum(K.square(y_true - K.mean(y_true))) \n",
    "    \n",
    "    return ( 1 - SS_res/(SS_tot + K.epsilon()) )"
   ]
  },
  {
   "cell_type": "markdown",
   "metadata": {},
   "source": [
    "## Models and Training Loops"
   ]
  },
  {
   "cell_type": "code",
   "execution_count": 115,
   "metadata": {},
   "outputs": [],
   "source": [
    "def create_train_dnn_model(X_train, y_train, X_val, y_val, max_epochs=20, patience=2):\n",
    "    # Create the model\n",
    "    model = models.Sequential([\n",
    "        layers.Dense(64, activation='relu', input_shape=(X_train.shape[1],)),\n",
    "        layers.Dense(64, activation='relu'),\n",
    "        layers.Dense(64, activation='relu'),\n",
    "        layers.Dense(1, activation='linear')\n",
    "    ])\n",
    "    \n",
    "    # Define early stopping callback\n",
    "    early_stopping = tf.keras.callbacks.EarlyStopping(\n",
    "        monitor='val_loss',\n",
    "        patience=patience,\n",
    "        mode='min',\n",
    "        restore_best_weights=True\n",
    "    )\n",
    "    \n",
    "    # Compile the model\n",
    "    model.compile(\n",
    "        optimizer='adam',\n",
    "        loss=tf.keras.losses.MeanSquaredError(),\n",
    "        metrics=[tf.keras.metrics.MeanSquaredError(), NSE, r_square]\n",
    "    )\n",
    "    \n",
    "    # Train the model\n",
    "    history = model.fit(\n",
    "        X_train, y_train,\n",
    "        validation_data=(X_val, y_val),\n",
    "        epochs=max_epochs,\n",
    "        callbacks=[early_stopping]\n",
    "    )\n",
    "    \n",
    "    return model, history"
   ]
  },
  {
   "cell_type": "code",
   "execution_count": 116,
   "metadata": {},
   "outputs": [],
   "source": [
    "def create_train_cnn_model(X_train, y_train, X_val, y_val, max_epochs=20, patience=2):\n",
    "    # Reshape input for 1D CNN\n",
    "    X_train = X_train.reshape(X_train.shape[0], X_train.shape[1], 1)\n",
    "    X_val = X_val.reshape(X_val.shape[0], X_val.shape[1], 1)\n",
    "    \n",
    "    conv_model = tf.keras.Sequential([\n",
    "        tf.keras.layers.Input(shape=(X_train.shape[1], 1)),\n",
    "        tf.keras.layers.Conv1D(filters=64, kernel_size=6, activation='relu'),\n",
    "        tf.keras.layers.MaxPooling1D(pool_size=2),\n",
    "        tf.keras.layers.Flatten(),\n",
    "        tf.keras.layers.Dense(units=64, activation='relu'),\n",
    "        tf.keras.layers.Dense(units=64, activation='relu'),\n",
    "        tf.keras.layers.Dense(units=1)\n",
    "    ])\n",
    "    \n",
    "    early_stopping = tf.keras.callbacks.EarlyStopping(\n",
    "        monitor='val_loss',\n",
    "        patience=patience,\n",
    "        mode='min',\n",
    "        restore_best_weights=True\n",
    "    )\n",
    "    \n",
    "    conv_model.compile(\n",
    "        optimizer='adam',\n",
    "        loss=tf.keras.losses.MeanSquaredError(),\n",
    "        metrics=[tf.keras.metrics.MeanSquaredError(), NSE, r_square]\n",
    "    )\n",
    "    \n",
    "    conv_history = conv_model.fit(\n",
    "        X_train, y_train,\n",
    "        validation_data=(X_val, y_val),\n",
    "        epochs=max_epochs,\n",
    "        callbacks=[early_stopping]\n",
    "    )\n",
    "    \n",
    "    return conv_model, conv_history"
   ]
  },
  {
   "cell_type": "code",
   "execution_count": 117,
   "metadata": {},
   "outputs": [],
   "source": [
    "def create_train_lstm_model(X_train, y_train, X_val, y_val, max_epochs=20, patience=2):\n",
    "    if len(X_train.shape) == 2:\n",
    "        X_train = X_train.reshape((X_train.shape[0], 1, X_train.shape[1]))\n",
    "    if len(X_val.shape) == 2:\n",
    "        X_val = X_val.reshape((X_val.shape[0], 1, X_val.shape[1]))\n",
    "            \n",
    "    lstm_model = tf.keras.models.Sequential([\n",
    "        tf.keras.layers.LSTM(64, input_shape=(X_train.shape[1], X_train.shape[2]), return_sequences=False),\n",
    "        tf.keras.layers.Flatten(),  # Add Flatten layer to handle dimension mismatch\n",
    "        tf.keras.layers.Dense(units=64, activation='relu'),\n",
    "        tf.keras.layers.Dense(units=64, activation='relu'),\n",
    "        tf.keras.layers.Dense(units=1)\n",
    "    ])\n",
    "    \n",
    "    # Define early stopping callback\n",
    "    early_stopping = tf.keras.callbacks.EarlyStopping(\n",
    "        monitor='val_loss',\n",
    "        patience=patience,\n",
    "        mode='min',\n",
    "        restore_best_weights=True\n",
    "    )\n",
    "    \n",
    "    # Compile the model\n",
    "    lstm_model.compile(\n",
    "        optimizer='adam',\n",
    "        loss=tf.keras.losses.MeanSquaredError(),\n",
    "        metrics=[tf.keras.metrics.MeanSquaredError(), NSE, r_square]\n",
    "    )\n",
    "    \n",
    "    # Train the model\n",
    "    lstm_history = lstm_model.fit(\n",
    "        X_train, y_train,\n",
    "        validation_data=(X_val, y_val),\n",
    "        epochs=max_epochs,\n",
    "        callbacks=[early_stopping]\n",
    "    )\n",
    "    \n",
    "    return lstm_model, lstm_history"
   ]
  },
  {
   "cell_type": "markdown",
   "metadata": {},
   "source": [
    "## Training"
   ]
  },
  {
   "cell_type": "code",
   "execution_count": 118,
   "metadata": {},
   "outputs": [
    {
     "name": "stdout",
     "output_type": "stream",
     "text": [
      "Epoch 1/20\n",
      "548/548 [==============================] - 2s 3ms/step - loss: 7.5697 - mean_squared_error: 7.5697 - NSE: 0.5982 - r_square: 0.9038 - val_loss: 0.0475 - val_mean_squared_error: 0.0475 - val_NSE: 0.9977 - val_r_square: 0.9981\n",
      "Epoch 2/20\n",
      "548/548 [==============================] - 1s 2ms/step - loss: 0.0910 - mean_squared_error: 0.0910 - NSE: 0.9951 - r_square: 0.9958 - val_loss: 0.0213 - val_mean_squared_error: 0.0213 - val_NSE: 0.9990 - val_r_square: 0.9992\n",
      "Epoch 3/20\n",
      "548/548 [==============================] - 1s 2ms/step - loss: 0.0786 - mean_squared_error: 0.0786 - NSE: 0.9958 - r_square: 0.9965 - val_loss: 0.0166 - val_mean_squared_error: 0.0166 - val_NSE: 0.9992 - val_r_square: 0.9993\n",
      "Epoch 4/20\n",
      "548/548 [==============================] - 1s 2ms/step - loss: 0.0762 - mean_squared_error: 0.0762 - NSE: 0.9960 - r_square: 0.9967 - val_loss: 0.0178 - val_mean_squared_error: 0.0178 - val_NSE: 0.9991 - val_r_square: 0.9992\n",
      "Epoch 5/20\n",
      "548/548 [==============================] - 1s 2ms/step - loss: 0.0791 - mean_squared_error: 0.0791 - NSE: 0.9959 - r_square: 0.9966 - val_loss: 0.0837 - val_mean_squared_error: 0.0837 - val_NSE: 0.9959 - val_r_square: 0.9987\n"
     ]
    }
   ],
   "source": [
    "dnn_model, dnn_history = create_train_dnn_model(\n",
    "    X_train=X_train,\n",
    "    y_train=y_train,\n",
    "    X_val=X_val,\n",
    "    y_val=y_val\n",
    ")"
   ]
  },
  {
   "cell_type": "code",
   "execution_count": 119,
   "metadata": {},
   "outputs": [
    {
     "name": "stdout",
     "output_type": "stream",
     "text": [
      "Epoch 1/20\n",
      "548/548 [==============================] - 2s 2ms/step - loss: 21.6320 - mean_squared_error: 21.6320 - NSE: -0.1541 - r_square: 0.5855 - val_loss: 0.9016 - val_mean_squared_error: 0.9016 - val_NSE: 0.9557 - val_r_square: 0.9691\n",
      "Epoch 2/20\n",
      "548/548 [==============================] - 1s 2ms/step - loss: 1.0886 - mean_squared_error: 1.0886 - NSE: 0.9420 - r_square: 0.9485 - val_loss: 0.7211 - val_mean_squared_error: 0.7211 - val_NSE: 0.9646 - val_r_square: 0.9777\n",
      "Epoch 3/20\n",
      "548/548 [==============================] - 1s 2ms/step - loss: 0.8242 - mean_squared_error: 0.8242 - NSE: 0.9562 - r_square: 0.9618 - val_loss: 0.4917 - val_mean_squared_error: 0.4917 - val_NSE: 0.9758 - val_r_square: 0.9838\n",
      "Epoch 4/20\n",
      "548/548 [==============================] - 1s 2ms/step - loss: 0.6341 - mean_squared_error: 0.6341 - NSE: 0.9663 - r_square: 0.9708 - val_loss: 0.3487 - val_mean_squared_error: 0.3487 - val_NSE: 0.9828 - val_r_square: 0.9894\n",
      "Epoch 5/20\n",
      "548/548 [==============================] - 1s 2ms/step - loss: 0.5719 - mean_squared_error: 0.5719 - NSE: 0.9696 - r_square: 0.9746 - val_loss: 0.5959 - val_mean_squared_error: 0.5959 - val_NSE: 0.9710 - val_r_square: 0.9826\n",
      "Epoch 6/20\n",
      "548/548 [==============================] - 1s 2ms/step - loss: 0.5876 - mean_squared_error: 0.5876 - NSE: 0.9688 - r_square: 0.9740 - val_loss: 0.4452 - val_mean_squared_error: 0.4452 - val_NSE: 0.9781 - val_r_square: 0.9934\n"
     ]
    }
   ],
   "source": [
    "cnn_model, cnn_history = create_train_cnn_model(\n",
    "    X_train=X_train,\n",
    "    y_train=y_train,\n",
    "    X_val=X_val,\n",
    "    y_val=y_val\n",
    ")"
   ]
  },
  {
   "cell_type": "code",
   "execution_count": 120,
   "metadata": {},
   "outputs": [
    {
     "name": "stdout",
     "output_type": "stream",
     "text": [
      "Epoch 1/20\n",
      "548/548 [==============================] - 4s 4ms/step - loss: 20.1949 - mean_squared_error: 20.1949 - NSE: -0.0788 - r_square: 0.8315 - val_loss: 0.1107 - val_mean_squared_error: 0.1107 - val_NSE: 0.9945 - val_r_square: 0.9972\n",
      "Epoch 2/20\n",
      "548/548 [==============================] - 1s 3ms/step - loss: 0.1455 - mean_squared_error: 0.1455 - NSE: 0.9923 - r_square: 0.9933 - val_loss: 0.1006 - val_mean_squared_error: 0.1006 - val_NSE: 0.9950 - val_r_square: 0.9984\n",
      "Epoch 3/20\n",
      "548/548 [==============================] - 2s 3ms/step - loss: 0.1073 - mean_squared_error: 0.1073 - NSE: 0.9943 - r_square: 0.9951 - val_loss: 0.0438 - val_mean_squared_error: 0.0438 - val_NSE: 0.9979 - val_r_square: 0.9989\n",
      "Epoch 4/20\n",
      "548/548 [==============================] - 2s 3ms/step - loss: 0.1076 - mean_squared_error: 0.1076 - NSE: 0.9944 - r_square: 0.9954 - val_loss: 0.0457 - val_mean_squared_error: 0.0457 - val_NSE: 0.9978 - val_r_square: 0.9992\n",
      "Epoch 5/20\n",
      "548/548 [==============================] - 2s 3ms/step - loss: 0.0939 - mean_squared_error: 0.0939 - NSE: 0.9951 - r_square: 0.9959 - val_loss: 0.0370 - val_mean_squared_error: 0.0370 - val_NSE: 0.9982 - val_r_square: 0.9993\n",
      "Epoch 6/20\n",
      "548/548 [==============================] - 2s 3ms/step - loss: 0.0890 - mean_squared_error: 0.0890 - NSE: 0.9953 - r_square: 0.9961 - val_loss: 0.0266 - val_mean_squared_error: 0.0266 - val_NSE: 0.9987 - val_r_square: 0.9993\n",
      "Epoch 7/20\n",
      "548/548 [==============================] - 2s 3ms/step - loss: 0.0894 - mean_squared_error: 0.0894 - NSE: 0.9952 - r_square: 0.9962 - val_loss: 0.0283 - val_mean_squared_error: 0.0283 - val_NSE: 0.9986 - val_r_square: 0.9993\n",
      "Epoch 8/20\n",
      "548/548 [==============================] - 1s 3ms/step - loss: 0.0849 - mean_squared_error: 0.0849 - NSE: 0.9956 - r_square: 0.9965 - val_loss: 0.0332 - val_mean_squared_error: 0.0332 - val_NSE: 0.9984 - val_r_square: 0.9992\n"
     ]
    }
   ],
   "source": [
    "# Train the model\n",
    "lstm_model, lstm_history = create_train_lstm_model(\n",
    "    X_train=X_train,\n",
    "    y_train=y_train,\n",
    "    X_val=X_val,\n",
    "    y_val=y_val\n",
    ")"
   ]
  },
  {
   "cell_type": "markdown",
   "metadata": {},
   "source": [
    "## Predictions"
   ]
  },
  {
   "cell_type": "code",
   "execution_count": 121,
   "metadata": {},
   "outputs": [
    {
     "data": {
      "text/plain": [
       "array([[ 7.  ,  2.  , 12.  , ...,  0.  ,  0.  , 21.27],\n",
       "       [ 7.  ,  2.  , 12.  , ...,  0.  ,  0.  , 11.91],\n",
       "       [ 7.  ,  2.  , 13.  , ...,  0.  ,  0.  , 21.26],\n",
       "       ...,\n",
       "       [12.  , 31.  , 22.  , ...,  0.  ,  0.  , 12.44],\n",
       "       [12.  , 31.  , 23.  , ...,  0.  ,  0.  , 21.18],\n",
       "       [12.  , 31.  , 23.  , ...,  0.  ,  0.  , 12.44]])"
      ]
     },
     "execution_count": 121,
     "metadata": {},
     "output_type": "execute_result"
    }
   ],
   "source": [
    "X_test"
   ]
  },
  {
   "cell_type": "code",
   "execution_count": 122,
   "metadata": {},
   "outputs": [
    {
     "data": {
      "text/plain": [
       "(8760, 10)"
      ]
     },
     "execution_count": 122,
     "metadata": {},
     "output_type": "execute_result"
    }
   ],
   "source": [
    "X_test.shape"
   ]
  },
  {
   "cell_type": "code",
   "execution_count": 123,
   "metadata": {},
   "outputs": [
    {
     "data": {
      "text/plain": [
       "array([[[ 7.  ,  2.  , 12.  , ...,  0.  ,  0.  , 21.27]],\n",
       "\n",
       "       [[ 7.  ,  2.  , 12.  , ...,  0.  ,  0.  , 11.91]],\n",
       "\n",
       "       [[ 7.  ,  2.  , 13.  , ...,  0.  ,  0.  , 21.26]],\n",
       "\n",
       "       ...,\n",
       "\n",
       "       [[12.  , 31.  , 22.  , ...,  0.  ,  0.  , 12.44]],\n",
       "\n",
       "       [[12.  , 31.  , 23.  , ...,  0.  ,  0.  , 21.18]],\n",
       "\n",
       "       [[12.  , 31.  , 23.  , ...,  0.  ,  0.  , 12.44]]])"
      ]
     },
     "execution_count": 123,
     "metadata": {},
     "output_type": "execute_result"
    }
   ],
   "source": [
    "X_test_lstm = X_test.reshape((X_test.shape[0], 1, X_test.shape[1]))\n",
    "X_test_lstm"
   ]
  },
  {
   "cell_type": "code",
   "execution_count": 124,
   "metadata": {},
   "outputs": [
    {
     "data": {
      "text/plain": [
       "(8760, 1, 10)"
      ]
     },
     "execution_count": 124,
     "metadata": {},
     "output_type": "execute_result"
    }
   ],
   "source": [
    "X_test_lstm.shape"
   ]
  },
  {
   "cell_type": "code",
   "execution_count": 125,
   "metadata": {},
   "outputs": [
    {
     "data": {
      "text/plain": [
       "<tf.Tensor: shape=(8760, 1), dtype=float32, numpy=\n",
       "array([[21.185211],\n",
       "       [11.96773 ],\n",
       "       [21.171818],\n",
       "       ...,\n",
       "       [12.379572],\n",
       "       [21.039078],\n",
       "       [12.357152]], dtype=float32)>"
      ]
     },
     "execution_count": 125,
     "metadata": {},
     "output_type": "execute_result"
    }
   ],
   "source": [
    "predictions = lstm_model(X_test_lstm)\n",
    "predictions"
   ]
  },
  {
   "cell_type": "code",
   "execution_count": 126,
   "metadata": {},
   "outputs": [
    {
     "data": {
      "text/plain": [
       "(8760,)"
      ]
     },
     "execution_count": 126,
     "metadata": {},
     "output_type": "execute_result"
    }
   ],
   "source": [
    "predictions = np.array(predictions).reshape(-1)\n",
    "predictions.shape"
   ]
  },
  {
   "cell_type": "code",
   "execution_count": 127,
   "metadata": {},
   "outputs": [
    {
     "data": {
      "text/plain": [
       "(array([21.26, 11.89, 21.26, ..., 12.44, 21.18, 12.44]), (8760,))"
      ]
     },
     "execution_count": 127,
     "metadata": {},
     "output_type": "execute_result"
    }
   ],
   "source": [
    "y_test, y_test.shape"
   ]
  },
  {
   "cell_type": "code",
   "execution_count": 128,
   "metadata": {},
   "outputs": [
    {
     "data": {
      "text/plain": [
       "array([11.89, 11.87, 11.85, ..., 12.44, 12.44, 12.44])"
      ]
     },
     "execution_count": 128,
     "metadata": {},
     "output_type": "execute_result"
    }
   ],
   "source": [
    "sto_nino_test = y_test[1::2]\n",
    "sto_nino_test"
   ]
  },
  {
   "cell_type": "code",
   "execution_count": 129,
   "metadata": {},
   "outputs": [
    {
     "data": {
      "text/plain": [
       "array([11.96773 , 11.963412, 11.960805, ..., 12.398548, 12.379572,\n",
       "       12.357152], dtype=float32)"
      ]
     },
     "execution_count": 129,
     "metadata": {},
     "output_type": "execute_result"
    }
   ],
   "source": [
    "sto_nino_pred = predictions[1::2]\n",
    "sto_nino_pred"
   ]
  },
  {
   "cell_type": "code",
   "execution_count": 130,
   "metadata": {},
   "outputs": [
    {
     "data": {
      "text/plain": [
       "0.8678847310750862"
      ]
     },
     "execution_count": 130,
     "metadata": {},
     "output_type": "execute_result"
    }
   ],
   "source": [
    "SS_res = np.sum(np.square(sto_nino_test - sto_nino_pred)) \n",
    "SS_tot = np.sum(np.square(sto_nino_test - np.mean(sto_nino_test))) \n",
    "\n",
    "sto_nino_nse =  1 - SS_res/SS_tot\n",
    "sto_nino_nse"
   ]
  },
  {
   "cell_type": "code",
   "execution_count": 131,
   "metadata": {},
   "outputs": [
    {
     "data": {
      "text/plain": [
       "0.04101902683531083"
      ]
     },
     "execution_count": 131,
     "metadata": {},
     "output_type": "execute_result"
    }
   ],
   "source": [
    "sto_nino_mse = np.mean(np.square(sto_nino_test-sto_nino_pred))\n",
    "sto_nino_mse"
   ]
  },
  {
   "cell_type": "code",
   "execution_count": 132,
   "metadata": {},
   "outputs": [
    {
     "data": {
      "image/png": "[encoded data removed]",
      "text/plain": [
       "<Figure size 432x288 with 1 Axes>"
      ]
     },
     "metadata": {
      "needs_background": "light"
     },
     "output_type": "display_data"
    }
   ],
   "source": [
    "plt.plot(sto_nino_test, label='Observed Values')\n",
    "plt.plot(sto_nino_pred, label='Predicted Values', alpha=0.5, linewidth=0.5)\n",
    "plt.legend()\n",
    "plt.show()"
   ]
  },
  {
   "cell_type": "code",
   "execution_count": 133,
   "metadata": {},
   "outputs": [
    {
     "data": {
      "text/plain": [
       "array([21.26, 21.26, 21.25, ..., 21.18, 21.18, 21.18])"
      ]
     },
     "execution_count": 133,
     "metadata": {},
     "output_type": "execute_result"
    }
   ],
   "source": [
    "montalban_test = y_test[::2]\n",
    "montalban_test"
   ]
  },
  {
   "cell_type": "code",
   "execution_count": 134,
   "metadata": {},
   "outputs": [
    {
     "data": {
      "text/plain": [
       "array([21.185211, 21.171818, 21.17768 , ..., 21.098604, 21.068882,\n",
       "       21.039078], dtype=float32)"
      ]
     },
     "execution_count": 134,
     "metadata": {},
     "output_type": "execute_result"
    }
   ],
   "source": [
    "montalban_pred = predictions[::2]\n",
    "montalban_pred"
   ]
  },
  {
   "cell_type": "code",
   "execution_count": 135,
   "metadata": {},
   "outputs": [
    {
     "data": {
      "text/plain": [
       "0.6674313858054621"
      ]
     },
     "execution_count": 135,
     "metadata": {},
     "output_type": "execute_result"
    }
   ],
   "source": [
    "SS_res = np.sum(np.square(montalban_test - montalban_pred)) \n",
    "SS_tot = np.sum(np.square(montalban_test - np.mean(montalban_test))) \n",
    "\n",
    "montalban_nse =  1 - SS_res/SS_tot\n",
    "montalban_nse"
   ]
  },
  {
   "cell_type": "code",
   "execution_count": 136,
   "metadata": {},
   "outputs": [
    {
     "data": {
      "text/plain": [
       "0.10112858329324129"
      ]
     },
     "execution_count": 136,
     "metadata": {},
     "output_type": "execute_result"
    }
   ],
   "source": [
    "montalban_mse = np.mean(np.square(montalban_test-montalban_pred))\n",
    "montalban_mse"
   ]
  },
  {
   "cell_type": "code",
   "execution_count": 137,
   "metadata": {},
   "outputs": [
    {
     "data": {
      "image/png": "[encoded data removed]",
      "text/plain": [
       "<Figure size 432x288 with 1 Axes>"
      ]
     },
     "metadata": {
      "needs_background": "light"
     },
     "output_type": "display_data"
    }
   ],
   "source": [
    "plt.plot(montalban_test, label='Observed Values')\n",
    "plt.plot(montalban_pred, label='Predicted Values', alpha=0.5, linewidth=0.5)\n",
    "plt.legend()\n",
    "plt.show()"
   ]
  },
  {
   "cell_type": "code",
   "execution_count": 138,
   "metadata": {},
   "outputs": [
    {
     "data": {
      "text/plain": [
       "(0.07107380506427606, 0.7676580584402741)"
      ]
     },
     "execution_count": 138,
     "metadata": {},
     "output_type": "execute_result"
    }
   ],
   "source": [
    "mse = (sto_nino_mse + montalban_mse)/2\n",
    "nse = (sto_nino_nse + montalban_nse)/2\n",
    "\n",
    "mse, nse"
   ]
  },
  {
   "cell_type": "code",
   "execution_count": 139,
   "metadata": {},
   "outputs": [],
   "source": [
    "np.savetxt('results/no_window_lag1_sto_nino.csv', sto_nino_pred, delimiter=',', fmt='%.4f')"
   ]
  },
  {
   "cell_type": "code",
   "execution_count": 140,
   "metadata": {},
   "outputs": [],
   "source": [
    "np.savetxt('results/no_window_lag1_montalban.csv', montalban_pred, delimiter=',', fmt='%.4f')"
   ]
  },
  {
   "cell_type": "code",
   "execution_count": null,
   "metadata": {},
   "outputs": [],
   "source": []
  },
  {
   "cell_type": "code",
   "execution_count": null,
   "metadata": {},
   "outputs": [],
   "source": []
  },
  {
   "cell_type": "markdown",
   "metadata": {},
   "source": [
    "## Feature Selection Sto Nino"
   ]
  },
  {
   "cell_type": "code",
   "execution_count": 40,
   "metadata": {},
   "outputs": [],
   "source": [
    "import random\n",
    "SEED = 36\n",
    "np.random.seed(SEED)\n",
    "random.seed(SEED)\n",
    "tf.random.set_seed(SEED)"
   ]
  },
  {
   "cell_type": "code",
   "execution_count": 152,
   "metadata": {},
   "outputs": [],
   "source": [
    "X_train_lstm = X_train.reshape((X_train.shape[0], 1, X_train.shape[1]))\n",
    "X_test_lstm = X_test.reshape((X_test.shape[0], 1, X_test.shape[1]))"
   ]
  },
  {
   "cell_type": "code",
   "execution_count": 169,
   "metadata": {},
   "outputs": [
    {
     "data": {
      "text/plain": [
       "(17518, 1, 10)"
      ]
     },
     "execution_count": 169,
     "metadata": {},
     "output_type": "execute_result"
    }
   ],
   "source": [
    "X_train_lstm.shape"
   ]
  },
  {
   "cell_type": "code",
   "execution_count": 153,
   "metadata": {},
   "outputs": [
    {
     "data": {
      "text/plain": [
       "(17518, 1, 10)"
      ]
     },
     "execution_count": 153,
     "metadata": {},
     "output_type": "execute_result"
    }
   ],
   "source": [
    "X_train_lstm.shape"
   ]
  },
  {
   "cell_type": "code",
   "execution_count": 154,
   "metadata": {},
   "outputs": [],
   "source": [
    "X_train_lstm_sto_nino = X_train_lstm[1::2, :, :]\n",
    "X_test_lstm_sto_nino = X_test_lstm[1::2, :, :]"
   ]
  },
  {
   "cell_type": "code",
   "execution_count": 156,
   "metadata": {},
   "outputs": [
    {
     "name": "stdout",
     "output_type": "stream",
     "text": [
      "(8759, 1, 10)\n",
      "(4380, 1, 10)\n"
     ]
    }
   ],
   "source": [
    "print(X_train_lstm_sto_nino.shape)\n",
    "print(X_test_lstm_sto_nino.shape)\n"
   ]
  },
  {
   "cell_type": "code",
   "execution_count": 170,
   "metadata": {},
   "outputs": [
    {
     "name": "stderr",
     "output_type": "stream",
     "text": [
      "ExactExplainer explainer: 1601it [13:37,  1.94it/s]                                                                    \n"
     ]
    }
   ],
   "source": [
    "import shap\n",
    "import numpy as np\n",
    "import matplotlib.pyplot as plt\n",
    "\n",
    "# For consistency with the window LSTM (get 1600 samples for train/test)\n",
    "\n",
    "train_data_sto_nino = X_train_lstm_sto_nino[:1600]\n",
    "train_data_flat_sto_nino = train_data_sto_nino.reshape(train_data_sto_nino.shape[0], -1)\n",
    "\n",
    "test_data_sto_nino = X_test_lstm_sto_nino[:1600]\n",
    "test_data_flat_sto_nino = test_data_sto_nino.reshape(test_data_sto_nino.shape[0], -1)\n",
    "\n",
    "# Prediction function that returns a single value (last time step of water level)\n",
    "def predict_last_step(X):\n",
    "    # Reshape back to 3D\n",
    "    batch_size = X.shape[0]\n",
    "    time_steps = 1\n",
    "    features = X_train_lstm.shape[-1]\n",
    "    \n",
    "    X_reshaped = X.reshape(batch_size, time_steps, features)\n",
    "    \n",
    "    # Get model predictions\n",
    "    preds = lstm_model.predict(X_reshaped, verbose=0)\n",
    "    \n",
    "    # Return the last time step prediction for water level\n",
    "    return preds[:, 0]  # Last time step, first feature (water level)\n",
    "\n",
    "# Create the explainer using training data as background\n",
    "explainer_sto_nino = shap.Explainer(predict_last_step, train_data_flat_sto_nino)  \n",
    "\n",
    "# Calculate SHAP values for all test samples\n",
    "shap_values_sto_nino = explainer_sto_nino(test_data_flat_sto_nino)  # Directly call explainer on test data\n",
    "\n",
    "# Extract the SHAP values\n",
    "shap_values_array_sto_nino = shap_values_sto_nino.values  # Get the actual SHAP values\n",
    "\n"
   ]
  },
  {
   "cell_type": "code",
   "execution_count": 166,
   "metadata": {},
   "outputs": [
    {
     "data": {
      "text/plain": [
       "(32, 10)"
      ]
     },
     "execution_count": 166,
     "metadata": {},
     "output_type": "execute_result"
    }
   ],
   "source": [
    "shap_values_array_sto_nino.shape"
   ]
  },
  {
   "cell_type": "code",
   "execution_count": 173,
   "metadata": {},
   "outputs": [
    {
     "data": {
      "text/plain": [
       "Index(['month', 'day', 'hour', 'Station', 'Rainfall_Aries', 'Rainfall_Boso',\n",
       "       'Rainfall_Campana', 'Rainfall_Nangka', 'Rainfall_Oro',\n",
       "       'Prev_Waterlevel', 'Waterlevel'],\n",
       "      dtype='object')"
      ]
     },
     "execution_count": 173,
     "metadata": {},
     "output_type": "execute_result"
    }
   ],
   "source": [
    "df.columns"
   ]
  },
  {
   "cell_type": "code",
   "execution_count": 186,
   "metadata": {},
   "outputs": [
    {
     "data": {
      "image/png": "[encoded data removed]",
      "text/plain": [
       "<Figure size 576x396 with 2 Axes>"
      ]
     },
     "metadata": {
      "needs_background": "light"
     },
     "output_type": "display_data"
    }
   ],
   "source": [
    "# Get feature names\n",
    "feature_names  = df.columns[df.columns != 'Waterlevel'].tolist()\n",
    "\n",
    "# Create the summary plot with proper feature names\n",
    "plt.figure(figsize=(12, 8))\n",
    "shap.summary_plot(shap_values_sto_nino, test_data_flat_sto_nino, feature_names=feature_names)"
   ]
  },
  {
   "cell_type": "code",
   "execution_count": 187,
   "metadata": {},
   "outputs": [
    {
     "data": {
      "text/plain": [
       "array([[ 0.02313319,  0.02232958, -0.02151509, ...,  0.        ,\n",
       "         0.        , -0.04801585],\n",
       "       [ 0.02589719,  0.02628849, -0.01453318, ...,  0.        ,\n",
       "         0.        , -0.06605977],\n",
       "       [ 0.02717182,  0.03076462, -0.00478133, ...,  0.        ,\n",
       "         0.        , -0.08419018],\n",
       "       ...,\n",
       "       [ 0.04205725, -0.04131675,  0.04824336, ...,  0.        ,\n",
       "         0.        ,  0.23228241],\n",
       "       [ 0.05496547, -0.04278583,  0.0426321 , ...,  0.        ,\n",
       "         0.        ,  0.23184265],\n",
       "       [ 0.06726171, -0.04231875,  0.03824112, ...,  0.        ,\n",
       "         0.        ,  0.23172099]])"
      ]
     },
     "execution_count": 187,
     "metadata": {},
     "output_type": "execute_result"
    }
   ],
   "source": [
    "shap_values_array_sto_nino"
   ]
  },
  {
   "cell_type": "code",
   "execution_count": 188,
   "metadata": {},
   "outputs": [
    {
     "data": {
      "text/plain": [
       "['month',\n",
       " 'day',\n",
       " 'hour',\n",
       " 'Station',\n",
       " 'Rainfall_Aries',\n",
       " 'Rainfall_Boso',\n",
       " 'Rainfall_Campana',\n",
       " 'Rainfall_Nangka',\n",
       " 'Rainfall_Oro',\n",
       " 'Prev_Waterlevel']"
      ]
     },
     "execution_count": 188,
     "metadata": {},
     "output_type": "execute_result"
    }
   ],
   "source": [
    "feature_names"
   ]
  },
  {
   "cell_type": "code",
   "execution_count": 190,
   "metadata": {},
   "outputs": [
    {
     "data": {
      "image/png": "[encoded data removed]",
      "text/plain": [
       "<Figure size 864x576 with 1 Axes>"
      ]
     },
     "metadata": {
      "needs_background": "light"
     },
     "output_type": "display_data"
    }
   ],
   "source": [
    "import numpy as np\n",
    "import matplotlib.pyplot as plt\n",
    "\n",
    "\n",
    "# Aggregate SHAP values across samples (mean absolute impact per feature)\n",
    "shap_feature_importance_sto_nino = np.mean(np.abs(shap_values_array_sto_nino), axis=0)  \n",
    "\n",
    "plt.figure(figsize=(12, 8))\n",
    "bars = plt.bar(feature_names, shap_feature_importance_sto_nino, color='skyblue')\n",
    "plt.title('Sto. Nino Water Level Feature Importance', fontsize=16)\n",
    "plt.xlabel('Features', fontsize=14)\n",
    "plt.ylabel('Average |SHAP Value|', fontsize=14)\n",
    "plt.xticks(rotation=45, ha='right', fontsize=12)\n",
    "plt.tight_layout()\n",
    "\n",
    "\n",
    "# Add grid lines for better readability\n",
    "plt.grid(axis='y', linestyle='--', alpha=0.7)\n",
    "\n",
    "plt.show()\n",
    "\n"
   ]
  },
  {
   "cell_type": "code",
   "execution_count": 191,
   "metadata": {},
   "outputs": [
    {
     "data": {
      "text/html": [
       "<div>\n",
       "<style scoped>\n",
       "    .dataframe tbody tr th:only-of-type {\n",
       "        vertical-align: middle;\n",
       "    }\n",
       "\n",
       "    .dataframe tbody tr th {\n",
       "        vertical-align: top;\n",
       "    }\n",
       "\n",
       "    .dataframe thead th {\n",
       "        text-align: right;\n",
       "    }\n",
       "</style>\n",
       "<table border=\"1\" class=\"dataframe\">\n",
       "  <thead>\n",
       "    <tr style=\"text-align: right;\">\n",
       "      <th></th>\n",
       "      <th>Feature</th>\n",
       "      <th>Importance</th>\n",
       "    </tr>\n",
       "  </thead>\n",
       "  <tbody>\n",
       "    <tr>\n",
       "      <th>0</th>\n",
       "      <td>Prev_Waterlevel</td>\n",
       "      <td>0.596768</td>\n",
       "    </tr>\n",
       "    <tr>\n",
       "      <th>1</th>\n",
       "      <td>month</td>\n",
       "      <td>0.085807</td>\n",
       "    </tr>\n",
       "    <tr>\n",
       "      <th>2</th>\n",
       "      <td>hour</td>\n",
       "      <td>0.046555</td>\n",
       "    </tr>\n",
       "    <tr>\n",
       "      <th>3</th>\n",
       "      <td>Rainfall_Oro</td>\n",
       "      <td>0.036321</td>\n",
       "    </tr>\n",
       "    <tr>\n",
       "      <th>4</th>\n",
       "      <td>day</td>\n",
       "      <td>0.035223</td>\n",
       "    </tr>\n",
       "    <tr>\n",
       "      <th>5</th>\n",
       "      <td>Rainfall_Nangka</td>\n",
       "      <td>0.025092</td>\n",
       "    </tr>\n",
       "    <tr>\n",
       "      <th>6</th>\n",
       "      <td>Rainfall_Aries</td>\n",
       "      <td>0.012132</td>\n",
       "    </tr>\n",
       "    <tr>\n",
       "      <th>7</th>\n",
       "      <td>Rainfall_Boso</td>\n",
       "      <td>0.010881</td>\n",
       "    </tr>\n",
       "    <tr>\n",
       "      <th>8</th>\n",
       "      <td>Rainfall_Campana</td>\n",
       "      <td>0.004365</td>\n",
       "    </tr>\n",
       "    <tr>\n",
       "      <th>9</th>\n",
       "      <td>Station</td>\n",
       "      <td>0.000000</td>\n",
       "    </tr>\n",
       "  </tbody>\n",
       "</table>\n",
       "</div>"
      ],
      "text/plain": [
       "            Feature  Importance\n",
       "0   Prev_Waterlevel    0.596768\n",
       "1             month    0.085807\n",
       "2              hour    0.046555\n",
       "3      Rainfall_Oro    0.036321\n",
       "4               day    0.035223\n",
       "5   Rainfall_Nangka    0.025092\n",
       "6    Rainfall_Aries    0.012132\n",
       "7     Rainfall_Boso    0.010881\n",
       "8  Rainfall_Campana    0.004365\n",
       "9           Station    0.000000"
      ]
     },
     "execution_count": 191,
     "metadata": {},
     "output_type": "execute_result"
    }
   ],
   "source": [
    "import pandas as pd\n",
    "\n",
    "# Create DataFrame with feature names and their importance values\n",
    "shap_importance_df = pd.DataFrame({\n",
    "    'Feature': feature_names,\n",
    "    'Importance': shap_feature_importance_sto_nino\n",
    "})\n",
    "\n",
    "# Sort by importance value in descending order\n",
    "shap_importance_df = shap_importance_df.sort_values('Importance', ascending=False)\n",
    "\n",
    "# Reset index for cleaner display\n",
    "shap_importance_df = shap_importance_df.reset_index(drop=True)\n",
    "\n",
    "# Format the importance values to be more readable (optional)\n",
    "shap_importance_df['Importance'] = shap_importance_df['Importance'].round(6)\n",
    "\n",
    "# Display the DataFrame\n",
    "shap_importance_df"
   ]
  },
  {
   "cell_type": "code",
   "execution_count": 193,
   "metadata": {},
   "outputs": [
    {
     "data": {
      "image/png": "[encoded data removed]",
      "text/plain": [
       "<Figure size 864x576 with 1 Axes>"
      ]
     },
     "metadata": {
      "needs_background": "light"
     },
     "output_type": "display_data"
    }
   ],
   "source": [
    "import numpy as np\n",
    "import matplotlib.pyplot as plt\n",
    "\n",
    "# Exclude 'Prev_Waterlevel' from feature names and corresponding SHAP values\n",
    "filtered_indices = [i for i, name in enumerate(feature_names) if name != 'Prev_Waterlevel']\n",
    "filtered_feature_names = [feature_names[i] for i in filtered_indices]\n",
    "filtered_shap_importance = shap_feature_importance_sto_nino[filtered_indices]\n",
    "\n",
    "# Sort by descending SHAP importance\n",
    "sorted_indices = np.argsort(filtered_shap_importance)[::-1]  # Descending order\n",
    "sorted_feature_names = [filtered_feature_names[i] for i in sorted_indices]\n",
    "sorted_shap_importance = filtered_shap_importance[sorted_indices]\n",
    "\n",
    "# Plot the sorted bar graph\n",
    "plt.figure(figsize=(12, 8))\n",
    "bars = plt.bar(sorted_feature_names, sorted_shap_importance, color='skyblue')\n",
    "plt.title('Sto. Nino Water Level Feature Importance (Without Prev_Waterlevel)', fontsize=16)\n",
    "plt.xlabel('Features', fontsize=14)\n",
    "plt.ylabel('Average |SHAP Value|', fontsize=14)\n",
    "plt.xticks(rotation=45, ha='right', fontsize=12)\n",
    "plt.tight_layout()\n",
    "\n",
    "# Add grid lines for better readability\n",
    "plt.grid(axis='y', linestyle='--', alpha=0.7)\n",
    "\n",
    "plt.show()\n",
    "\n"
   ]
  },
  {
   "cell_type": "code",
   "execution_count": 195,
   "metadata": {},
   "outputs": [
    {
     "data": {
      "text/plain": [
       "array([0.08580665, 0.04655525, 0.03632073, 0.03522255, 0.0250924 ,\n",
       "       0.01213181, 0.01088092, 0.00436487, 0.        ])"
      ]
     },
     "execution_count": 195,
     "metadata": {},
     "output_type": "execute_result"
    }
   ],
   "source": [
    "sorted_shap_importance"
   ]
  },
  {
   "cell_type": "code",
   "execution_count": 201,
   "metadata": {},
   "outputs": [
    {
     "data": {
      "image/png": "[encoded data removed]",
      "text/plain": [
       "<Figure size 864x864 with 1 Axes>"
      ]
     },
     "metadata": {},
     "output_type": "display_data"
    }
   ],
   "source": [
    "import numpy as np\n",
    "import matplotlib.pyplot as plt\n",
    "\n",
    "\n",
    "# Filter out features with zero importance\n",
    "non_zero_indices_sto_nino = [i for i, x in enumerate(sorted_shap_importance) if x > 0]\n",
    "non_zero_features_sto_nino = [sorted_feature_names[i] for i in non_zero_indices_sto_nino]\n",
    "non_zero_importance_sto_nino = [sorted_shap_importance[i] for i in non_zero_indices_sto_nino]\n",
    "\n",
    "# Normalize SHAP values to sum to 1\n",
    "normalized_shap_importance = [x / sum(non_zero_importance_sto_nino) for x in non_zero_importance_sto_nino]\n",
    "\n",
    "feature_colors = {\n",
    "    \"day\": \"blue\",\n",
    "    \"month\": \"orange\",\n",
    "    \"hour\": \"green\",\n",
    "    \"Rainfall_Oro\": \"red\",\n",
    "    \"Rainfall_Aries\": \"purple\",\n",
    "    \"Rainfall_Boso\": \"brown\",\n",
    "    \"Rainfall_Nangka\": \"pink\",\n",
    "    \"Rainfall_Campana\": \"gray\"\n",
    "}\n",
    "\n",
    "colors = [feature_colors.get(feat, \"C0\") for feat in non_zero_features_sto_nino]  # Default to 'C0' if not in the dictionary\n",
    "\n",
    "# Recreate pie chart with normalized values (zero values removed)\n",
    "plt.figure(figsize=(12, 12))\n",
    "wedges, texts, autotexts = plt.pie(\n",
    "    normalized_shap_importance,  # Use normalized values\n",
    "    labels=None,  \n",
    "    autopct='%1.1f%%',\n",
    "    startangle=90, \n",
    "    shadow=True, \n",
    "    explode=[0.1]*len(normalized_shap_importance),\n",
    "    textprops={'fontsize': 16},\n",
    "    colors=colors  # Apply the custom colors\n",
    ")\n",
    "# Enhance text visibility\n",
    "for autotext in autotexts:\n",
    "    autotext.set_color('white')\n",
    "    autotext.set_fontweight('bold')\n",
    "# Add legend\n",
    "plt.legend(\n",
    "    wedges, \n",
    "    non_zero_features_sto_nino,  # Now using filtered features list\n",
    "    title=\"Features\",\n",
    "    loc=\"center left\",\n",
    "    bbox_to_anchor=(1, 0, 0.5, 1),\n",
    "    title_fontsize=14,  # Increase legend title font size\n",
    "    prop={'size': 14}  # Increase legend text font size\n",
    ")\n",
    "plt.axis('equal')  \n",
    "plt.title('Sto. Nino Water Level Relative Feature Importance (Excluding Water Level and Station)', fontsize=16)\n",
    "plt.tight_layout()\n",
    "plt.show()"
   ]
  },
  {
   "cell_type": "code",
   "execution_count": 203,
   "metadata": {},
   "outputs": [
    {
     "data": {
      "image/png": "[encoded data removed]",
      "text/plain": [
       "<Figure size 576x468 with 3 Axes>"
      ]
     },
     "metadata": {},
     "output_type": "display_data"
    }
   ],
   "source": [
    "import shap\n",
    "\n",
    "# Select a specific test sample (e.g., first instance)\n",
    "sample_idx = 1216\n",
    "shap_single_sto_nino = shap_values_sto_nino[sample_idx]  # Extract SHAP values for one instance\n",
    "\n",
    "\n",
    "# Create SHAP waterfall plot for the chosen instance\n",
    "shap.waterfall_plot(shap.Explanation(values=shap_single_sto_nino.values,  \n",
    "                                     base_values=shap_single_sto_nino.base_values,  \n",
    "                                     data=test_data_flat_sto_nino[sample_idx],  \n",
    "                                     feature_names=feature_names))\n"
   ]
  },
  {
   "cell_type": "code",
   "execution_count": null,
   "metadata": {},
   "outputs": [],
   "source": []
  },
  {
   "cell_type": "code",
   "execution_count": null,
   "metadata": {},
   "outputs": [],
   "source": []
  },
  {
   "cell_type": "markdown",
   "metadata": {},
   "source": [
    "## Feature Selection Montalban"
   ]
  },
  {
   "cell_type": "code",
   "execution_count": 212,
   "metadata": {},
   "outputs": [],
   "source": [
    "import random\n",
    "SEED = 36\n",
    "np.random.seed(SEED)\n",
    "random.seed(SEED)\n",
    "tf.random.set_seed(SEED)"
   ]
  },
  {
   "cell_type": "code",
   "execution_count": 213,
   "metadata": {},
   "outputs": [],
   "source": [
    "X_train_lstm = X_train.reshape((X_train.shape[0], 1, X_train.shape[1]))\n",
    "X_test_lstm = X_test.reshape((X_test.shape[0], 1, X_test.shape[1]))"
   ]
  },
  {
   "cell_type": "code",
   "execution_count": 214,
   "metadata": {},
   "outputs": [
    {
     "data": {
      "text/plain": [
       "(17518, 1, 10)"
      ]
     },
     "execution_count": 214,
     "metadata": {},
     "output_type": "execute_result"
    }
   ],
   "source": [
    "X_train_lstm.shape"
   ]
  },
  {
   "cell_type": "code",
   "execution_count": 215,
   "metadata": {},
   "outputs": [
    {
     "data": {
      "text/plain": [
       "(17518, 1, 10)"
      ]
     },
     "execution_count": 215,
     "metadata": {},
     "output_type": "execute_result"
    }
   ],
   "source": [
    "X_train_lstm.shape"
   ]
  },
  {
   "cell_type": "code",
   "execution_count": 216,
   "metadata": {},
   "outputs": [],
   "source": [
    "X_train_lstm_montalban = X_train_lstm[0::2, :, :]\n",
    "X_test_lstm_montalban = X_test_lstm[0::2, :, :]"
   ]
  },
  {
   "cell_type": "code",
   "execution_count": null,
   "metadata": {},
   "outputs": [
    {
     "name": "stderr",
     "output_type": "stream",
     "text": [
      "ExactExplainer explainer:  94%|████████████████████████████████████████████████▉   | 1506/1600 [12:55<00:38,  2.43it/s]"
     ]
    }
   ],
   "source": [
    "import shap\n",
    "import numpy as np\n",
    "import matplotlib.pyplot as plt\n",
    "\n",
    "# For consistency with the window LSTM (get 1600 samples for train/test)\n",
    "\n",
    "train_data_montalban = X_train_lstm_montalban[:1600]\n",
    "train_data_flat_montalban = train_data_montalban.reshape(train_data_montalban.shape[0], -1)\n",
    "\n",
    "test_data_montalban = X_test_lstm_montalban[:1600]\n",
    "test_data_flat_montalban = test_data_montalban.reshape(test_data_montalban.shape[0], -1)\n",
    "\n",
    "# Prediction function that returns a single value (last time step of water level)\n",
    "def predict_last_step(X):\n",
    "    # Reshape back to 3D\n",
    "    batch_size = X.shape[0]\n",
    "    time_steps = 1\n",
    "    features = X_train_lstm.shape[-1]\n",
    "    \n",
    "    X_reshaped = X.reshape(batch_size, time_steps, features)\n",
    "    \n",
    "    # Get model predictions\n",
    "    preds = lstm_model.predict(X_reshaped, verbose=0)\n",
    "    \n",
    "    # Return the last time step prediction for water level\n",
    "    return preds[:, 0]  # Last time step, first feature (water level)\n",
    "\n",
    "# Create the explainer using training data as background\n",
    "explainer_montalban = shap.Explainer(predict_last_step, train_data_flat_montalban)  \n",
    "\n",
    "# Calculate SHAP values for all test samples\n",
    "shap_values_montalban = explainer_montalban(test_data_flat_montalban)  # Directly call explainer on test data\n",
    "\n",
    "# Extract the SHAP values\n",
    "shap_values_array_montalban = shap_values_montalban.values  # Get the actual SHAP values\n",
    "\n"
   ]
  },
  {
   "cell_type": "code",
   "execution_count": null,
   "metadata": {},
   "outputs": [],
   "source": [
    "shap_values_array_montalban.shape"
   ]
  },
  {
   "cell_type": "code",
   "execution_count": null,
   "metadata": {},
   "outputs": [],
   "source": [
    "df.columns"
   ]
  },
  {
   "cell_type": "code",
   "execution_count": null,
   "metadata": {},
   "outputs": [],
   "source": [
    "# Get feature names\n",
    "feature_names  = df.columns[df.columns != 'Waterlevel'].tolist()\n",
    "\n",
    "# Create the summary plot with proper feature names\n",
    "plt.figure(figsize=(12, 8))\n",
    "shap.summary_plot(shap_values_montalban, test_data_flat_montalban, feature_names=feature_names)"
   ]
  },
  {
   "cell_type": "code",
   "execution_count": null,
   "metadata": {},
   "outputs": [],
   "source": [
    "shap_values_array_montalban"
   ]
  },
  {
   "cell_type": "code",
   "execution_count": null,
   "metadata": {},
   "outputs": [],
   "source": [
    "feature_names"
   ]
  },
  {
   "cell_type": "code",
   "execution_count": null,
   "metadata": {},
   "outputs": [],
   "source": [
    "import numpy as np\n",
    "import matplotlib.pyplot as plt\n",
    "\n",
    "\n",
    "# Aggregate SHAP values across samples (mean absolute impact per feature)\n",
    "shap_feature_importance_montalban = np.mean(np.abs(shap_values_array_montalban), axis=0)  \n",
    "\n",
    "plt.figure(figsize=(12, 8))\n",
    "bars = plt.bar(feature_names, shap_feature_importance_montalban, color='skyblue')\n",
    "plt.title('Montalban Water Level Feature Importance', fontsize=16)\n",
    "plt.xlabel('Features', fontsize=14)\n",
    "plt.ylabel('Average |SHAP Value|', fontsize=14)\n",
    "plt.xticks(rotation=45, ha='right', fontsize=12)\n",
    "plt.tight_layout()\n",
    "\n",
    "\n",
    "# Add grid lines for better readability\n",
    "plt.grid(axis='y', linestyle='--', alpha=0.7)\n",
    "\n",
    "plt.show()\n",
    "\n"
   ]
  },
  {
   "cell_type": "code",
   "execution_count": null,
   "metadata": {},
   "outputs": [],
   "source": [
    "import pandas as pd\n",
    "\n",
    "# Create DataFrame with feature names and their importance values\n",
    "shap_importance_df = pd.DataFrame({\n",
    "    'Feature': feature_names,\n",
    "    'Importance': shap_feature_importance_montalban\n",
    "})\n",
    "\n",
    "# Sort by importance value in descending order\n",
    "shap_importance_df = shap_importance_df.sort_values('Importance', ascending=False)\n",
    "\n",
    "# Reset index for cleaner display\n",
    "shap_importance_df = shap_importance_df.reset_index(drop=True)\n",
    "\n",
    "# Format the importance values to be more readable (optional)\n",
    "shap_importance_df['Importance'] = shap_importance_df['Importance'].round(6)\n",
    "\n",
    "# Display the DataFrame\n",
    "shap_importance_df"
   ]
  },
  {
   "cell_type": "code",
   "execution_count": null,
   "metadata": {},
   "outputs": [],
   "source": [
    "import numpy as np\n",
    "import matplotlib.pyplot as plt\n",
    "\n",
    "# Exclude 'Prev_Waterlevel' from feature names and corresponding SHAP values\n",
    "filtered_indices_montalban = [i for i, name in enumerate(feature_names) if name != 'Prev_Waterlevel']\n",
    "filtered_feature_names_montalban = [feature_names[i] for i in filtered_indices_montalban]\n",
    "filtered_shap_importance_montalban = shap_feature_importance_montalban[filtered_indices_montalban]\n",
    "\n",
    "# Sort by descending SHAP importance\n",
    "sorted_indices_montalban = np.argsort(filtered_shap_importance_montalban)[::-1]  # Descending order\n",
    "sorted_feature_names_montalban = [filtered_feature_names_montalban[i] for i in sorted_indices_montalban]\n",
    "sorted_shap_importance_montalban = filtered_shap_importance_montalban[sorted_indices_montalban]\n",
    "\n",
    "# Plot the sorted bar graph\n",
    "plt.figure(figsize=(12, 8))\n",
    "bars = plt.bar(sorted_feature_names_montalban, sorted_shap_importance_montalban, color='skyblue')\n",
    "plt.title('Montalban Water Level Feature Importance (Without Prev_Waterlevel)', fontsize=16)\n",
    "plt.xlabel('Features', fontsize=14)\n",
    "plt.ylabel('Average |SHAP Value|', fontsize=14)\n",
    "plt.xticks(rotation=45, ha='right', fontsize=12)\n",
    "plt.tight_layout()\n",
    "\n",
    "# Add grid lines for better readability\n",
    "plt.grid(axis='y', linestyle='--', alpha=0.7)\n",
    "\n",
    "plt.show()\n",
    "\n"
   ]
  },
  {
   "cell_type": "code",
   "execution_count": null,
   "metadata": {},
   "outputs": [],
   "source": [
    "sorted_shap_importance_montalban"
   ]
  },
  {
   "cell_type": "code",
   "execution_count": null,
   "metadata": {},
   "outputs": [],
   "source": [
    "import numpy as np\n",
    "import matplotlib.pyplot as plt\n",
    "\n",
    "\n",
    "# Filter out features with zero importance\n",
    "non_zero_indices_montalban = [i for i, x in enumerate(sorted_shap_importance_montalban) if x > 0]\n",
    "non_zero_features_montalban = [sorted_feature_names[i] for i in non_zero_indices_montalban]\n",
    "non_zero_importance_montalban = [sorted_shap_importance[i] for i in non_zero_indices_montalban]\n",
    "\n",
    "# Normalize SHAP values to sum to 1\n",
    "normalized_shap_importance_montalban = [x / sum(non_zero_importance_montalban) for x in non_zero_importance_montalban]\n",
    "\n",
    "feature_colors = {\n",
    "    \"day\": \"blue\",\n",
    "    \"month\": \"orange\",\n",
    "    \"hour\": \"green\",\n",
    "    \"Rainfall_Oro\": \"red\",\n",
    "    \"Rainfall_Aries\": \"purple\",\n",
    "    \"Rainfall_Boso\": \"brown\",\n",
    "    \"Rainfall_Nangka\": \"pink\",\n",
    "    \"Rainfall_Campana\": \"gray\"\n",
    "}\n",
    "\n",
    "colors = [feature_colors.get(feat, \"C0\") for feat in non_zero_features_montalban]  # Default to 'C0' if not in the dictionary\n",
    "\n",
    "# Recreate pie chart with normalized values (zero values removed)\n",
    "plt.figure(figsize=(12, 12))\n",
    "wedges, texts, autotexts = plt.pie(\n",
    "    normalized_shap_importance_montalban,  # Use normalized values\n",
    "    labels=None,  \n",
    "    autopct='%1.1f%%',\n",
    "    startangle=90, \n",
    "    shadow=True, \n",
    "    explode=[0.1]*len(normalized_shap_importance_montalban),\n",
    "    textprops={'fontsize': 16},\n",
    "    colors=colors  # Apply the custom colors\n",
    ")\n",
    "# Enhance text visibility\n",
    "for autotext in autotexts:\n",
    "    autotext.set_color('white')\n",
    "    autotext.set_fontweight('bold')\n",
    "# Add legend\n",
    "plt.legend(\n",
    "    wedges, \n",
    "    non_zero_features_sto_nino_montalban,  # Now using filtered features list\n",
    "    title=\"Features\",\n",
    "    loc=\"center left\",\n",
    "    bbox_to_anchor=(1, 0, 0.5, 1),\n",
    "    title_fontsize=14,  # Increase legend title font size\n",
    "    prop={'size': 14}  # Increase legend text font size\n",
    ")\n",
    "plt.axis('equal')  \n",
    "plt.title('Montalban Water Level Relative Feature Importance (Excluding Water Level and Station)', fontsize=16)\n",
    "plt.tight_layout()\n",
    "plt.show()"
   ]
  },
  {
   "cell_type": "code",
   "execution_count": null,
   "metadata": {},
   "outputs": [],
   "source": [
    "import shap\n",
    "\n",
    "# Select a specific test sample (e.g., first instance)\n",
    "sample_idx = 1216\n",
    "shap_single_montalban = shap_values_montalban[sample_idx]  # Extract SHAP values for one instance\n",
    "\n",
    "\n",
    "# Create SHAP waterfall plot for the chosen instance\n",
    "shap.waterfall_plot(shap.Explanation(values=shap_single_montalban.values,  \n",
    "                                     base_values=shap_single_montalban.base_values,  \n",
    "                                     data=test_data_flat_montalban[sample_idx],  \n",
    "                                     feature_names=feature_names))\n"
   ]
  },
  {
   "cell_type": "code",
   "execution_count": null,
   "metadata": {},
   "outputs": [],
   "source": []
  },
  {
   "cell_type": "code",
   "execution_count": null,
   "metadata": {},
   "outputs": [],
   "source": []
  }
 ],
 "metadata": {
  "kernelspec": {
   "display_name": "Python 3",
   "language": "python",
   "name": "python3"
  },
  "language_info": {
   "codemirror_mode": {
    "name": "ipython",
    "version": 3
   },
   "file_extension": ".py",
   "mimetype": "text/x-python",
   "name": "python",
   "nbconvert_exporter": "python",
   "pygments_lexer": "ipython3",
   "version": "3.8.3"
  }
 },
 "nbformat": 4,
 "nbformat_minor": 5
}
