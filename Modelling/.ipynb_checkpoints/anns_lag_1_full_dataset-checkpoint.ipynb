{
 "cells": [
  {
   "cell_type": "code",
   "execution_count": 1,
   "id": "a2f21732",
   "metadata": {},
   "outputs": [],
   "source": [
    "import tensorflow as tf\n",
    "import pandas as pd\n",
    "import os\n",
    "import numpy as np\n",
    "import matplotlib.pyplot as plt\n",
    "from random import seed\n",
    "from tensorflow.keras import models\n",
    "from tensorflow.keras import layers\n",
    "from tensorflow.keras import backend as K\n",
    "tf.compat.v1.experimental.output_all_intermediates(True)"
   ]
  },
  {
   "cell_type": "code",
   "execution_count": 2,
   "id": "f689ccd1",
   "metadata": {},
   "outputs": [],
   "source": [
    "tf.random.set_seed(36)"
   ]
  },
  {
   "cell_type": "markdown",
   "id": "3a94961d",
   "metadata": {},
   "source": [
    "## Dataset"
   ]
  },
  {
   "cell_type": "code",
   "execution_count": 3,
   "id": "370d05d4",
   "metadata": {},
   "outputs": [],
   "source": [
    "BASE_DIR_PATH = '../Datasets'\n",
    "DATASET_FILE = os.path.join(BASE_DIR_PATH, '2016_2017_sto_nino_and_montalban_lag_1.csv')"
   ]
  },
  {
   "cell_type": "code",
   "execution_count": 4,
   "id": "2424b4d0",
   "metadata": {},
   "outputs": [
    {
     "data": {
      "text/html": [
       "<div>\n",
       "<style scoped>\n",
       "    .dataframe tbody tr th:only-of-type {\n",
       "        vertical-align: middle;\n",
       "    }\n",
       "\n",
       "    .dataframe tbody tr th {\n",
       "        vertical-align: top;\n",
       "    }\n",
       "\n",
       "    .dataframe thead th {\n",
       "        text-align: right;\n",
       "    }\n",
       "</style>\n",
       "<table border=\"1\" class=\"dataframe\">\n",
       "  <thead>\n",
       "    <tr style=\"text-align: right;\">\n",
       "      <th></th>\n",
       "      <th>Unnamed: 0.1</th>\n",
       "      <th>Unnamed: 0</th>\n",
       "      <th>datetime</th>\n",
       "      <th>month</th>\n",
       "      <th>day</th>\n",
       "      <th>hour</th>\n",
       "      <th>t</th>\n",
       "      <th>Station</th>\n",
       "      <th>x</th>\n",
       "      <th>Rainfall_Aries</th>\n",
       "      <th>...</th>\n",
       "      <th>Rainfall_Campana</th>\n",
       "      <th>Rainfall_Nangka</th>\n",
       "      <th>Rainfall_Oro</th>\n",
       "      <th>Waterlevel</th>\n",
       "      <th>Discharge</th>\n",
       "      <th>Cross_Section</th>\n",
       "      <th>Velocity</th>\n",
       "      <th>fric_coeff</th>\n",
       "      <th>slope</th>\n",
       "      <th>Prev_Waterlevel</th>\n",
       "    </tr>\n",
       "  </thead>\n",
       "  <tbody>\n",
       "    <tr>\n",
       "      <th>0</th>\n",
       "      <td>0</td>\n",
       "      <td>0</td>\n",
       "      <td>2016-01-01 00:00:00</td>\n",
       "      <td>1</td>\n",
       "      <td>1</td>\n",
       "      <td>0</td>\n",
       "      <td>0.0</td>\n",
       "      <td>Montalban</td>\n",
       "      <td>0</td>\n",
       "      <td>0</td>\n",
       "      <td>...</td>\n",
       "      <td>2</td>\n",
       "      <td>0</td>\n",
       "      <td>0</td>\n",
       "      <td>21.03</td>\n",
       "      <td>14.842428</td>\n",
       "      <td>630.90</td>\n",
       "      <td>0.023526</td>\n",
       "      <td>0.035</td>\n",
       "      <td>0.002000</td>\n",
       "      <td>NaN</td>\n",
       "    </tr>\n",
       "    <tr>\n",
       "      <th>1</th>\n",
       "      <td>1</td>\n",
       "      <td>1</td>\n",
       "      <td>2016-01-01 00:00:00</td>\n",
       "      <td>1</td>\n",
       "      <td>1</td>\n",
       "      <td>0</td>\n",
       "      <td>0.0</td>\n",
       "      <td>Sto_Nino</td>\n",
       "      <td>14420</td>\n",
       "      <td>0</td>\n",
       "      <td>...</td>\n",
       "      <td>2</td>\n",
       "      <td>0</td>\n",
       "      <td>0</td>\n",
       "      <td>12.18</td>\n",
       "      <td>21.033407</td>\n",
       "      <td>803.88</td>\n",
       "      <td>0.026165</td>\n",
       "      <td>0.033</td>\n",
       "      <td>0.000667</td>\n",
       "      <td>NaN</td>\n",
       "    </tr>\n",
       "    <tr>\n",
       "      <th>2</th>\n",
       "      <td>2</td>\n",
       "      <td>2</td>\n",
       "      <td>2016-01-01 01:00:00</td>\n",
       "      <td>1</td>\n",
       "      <td>1</td>\n",
       "      <td>1</td>\n",
       "      <td>3600.0</td>\n",
       "      <td>Montalban</td>\n",
       "      <td>0</td>\n",
       "      <td>0</td>\n",
       "      <td>...</td>\n",
       "      <td>1</td>\n",
       "      <td>1</td>\n",
       "      <td>0</td>\n",
       "      <td>21.03</td>\n",
       "      <td>14.842428</td>\n",
       "      <td>630.90</td>\n",
       "      <td>0.023526</td>\n",
       "      <td>0.035</td>\n",
       "      <td>0.002000</td>\n",
       "      <td>21.03</td>\n",
       "    </tr>\n",
       "    <tr>\n",
       "      <th>3</th>\n",
       "      <td>3</td>\n",
       "      <td>3</td>\n",
       "      <td>2016-01-01 01:00:00</td>\n",
       "      <td>1</td>\n",
       "      <td>1</td>\n",
       "      <td>1</td>\n",
       "      <td>3600.0</td>\n",
       "      <td>Sto_Nino</td>\n",
       "      <td>14420</td>\n",
       "      <td>0</td>\n",
       "      <td>...</td>\n",
       "      <td>1</td>\n",
       "      <td>1</td>\n",
       "      <td>0</td>\n",
       "      <td>12.19</td>\n",
       "      <td>21.280072</td>\n",
       "      <td>804.54</td>\n",
       "      <td>0.026450</td>\n",
       "      <td>0.033</td>\n",
       "      <td>0.000667</td>\n",
       "      <td>12.18</td>\n",
       "    </tr>\n",
       "    <tr>\n",
       "      <th>4</th>\n",
       "      <td>4</td>\n",
       "      <td>4</td>\n",
       "      <td>2016-01-01 02:00:00</td>\n",
       "      <td>1</td>\n",
       "      <td>1</td>\n",
       "      <td>2</td>\n",
       "      <td>7200.0</td>\n",
       "      <td>Montalban</td>\n",
       "      <td>0</td>\n",
       "      <td>1</td>\n",
       "      <td>...</td>\n",
       "      <td>1</td>\n",
       "      <td>0</td>\n",
       "      <td>1</td>\n",
       "      <td>21.03</td>\n",
       "      <td>14.842428</td>\n",
       "      <td>630.90</td>\n",
       "      <td>0.023526</td>\n",
       "      <td>0.035</td>\n",
       "      <td>0.002000</td>\n",
       "      <td>21.03</td>\n",
       "    </tr>\n",
       "    <tr>\n",
       "      <th>...</th>\n",
       "      <td>...</td>\n",
       "      <td>...</td>\n",
       "      <td>...</td>\n",
       "      <td>...</td>\n",
       "      <td>...</td>\n",
       "      <td>...</td>\n",
       "      <td>...</td>\n",
       "      <td>...</td>\n",
       "      <td>...</td>\n",
       "      <td>...</td>\n",
       "      <td>...</td>\n",
       "      <td>...</td>\n",
       "      <td>...</td>\n",
       "      <td>...</td>\n",
       "      <td>...</td>\n",
       "      <td>...</td>\n",
       "      <td>...</td>\n",
       "      <td>...</td>\n",
       "      <td>...</td>\n",
       "      <td>...</td>\n",
       "      <td>...</td>\n",
       "    </tr>\n",
       "    <tr>\n",
       "      <th>35035</th>\n",
       "      <td>35035</td>\n",
       "      <td>35035</td>\n",
       "      <td>2017-12-31 21:00:00</td>\n",
       "      <td>12</td>\n",
       "      <td>31</td>\n",
       "      <td>21</td>\n",
       "      <td>63147600.0</td>\n",
       "      <td>Sto_Nino</td>\n",
       "      <td>14420</td>\n",
       "      <td>0</td>\n",
       "      <td>...</td>\n",
       "      <td>0</td>\n",
       "      <td>0</td>\n",
       "      <td>0</td>\n",
       "      <td>12.44</td>\n",
       "      <td>28.244204</td>\n",
       "      <td>821.04</td>\n",
       "      <td>0.034401</td>\n",
       "      <td>0.033</td>\n",
       "      <td>0.000667</td>\n",
       "      <td>12.44</td>\n",
       "    </tr>\n",
       "    <tr>\n",
       "      <th>35036</th>\n",
       "      <td>35036</td>\n",
       "      <td>35036</td>\n",
       "      <td>2017-12-31 22:00:00</td>\n",
       "      <td>12</td>\n",
       "      <td>31</td>\n",
       "      <td>22</td>\n",
       "      <td>63151200.0</td>\n",
       "      <td>Montalban</td>\n",
       "      <td>0</td>\n",
       "      <td>0</td>\n",
       "      <td>...</td>\n",
       "      <td>0</td>\n",
       "      <td>0</td>\n",
       "      <td>0</td>\n",
       "      <td>21.18</td>\n",
       "      <td>17.224575</td>\n",
       "      <td>635.40</td>\n",
       "      <td>0.027108</td>\n",
       "      <td>0.035</td>\n",
       "      <td>0.002000</td>\n",
       "      <td>21.18</td>\n",
       "    </tr>\n",
       "    <tr>\n",
       "      <th>35037</th>\n",
       "      <td>35037</td>\n",
       "      <td>35037</td>\n",
       "      <td>2017-12-31 22:00:00</td>\n",
       "      <td>12</td>\n",
       "      <td>31</td>\n",
       "      <td>22</td>\n",
       "      <td>63151200.0</td>\n",
       "      <td>Sto_Nino</td>\n",
       "      <td>14420</td>\n",
       "      <td>0</td>\n",
       "      <td>...</td>\n",
       "      <td>0</td>\n",
       "      <td>0</td>\n",
       "      <td>0</td>\n",
       "      <td>12.44</td>\n",
       "      <td>28.244204</td>\n",
       "      <td>821.04</td>\n",
       "      <td>0.034401</td>\n",
       "      <td>0.033</td>\n",
       "      <td>0.000667</td>\n",
       "      <td>12.44</td>\n",
       "    </tr>\n",
       "    <tr>\n",
       "      <th>35038</th>\n",
       "      <td>35038</td>\n",
       "      <td>35038</td>\n",
       "      <td>2017-12-31 23:00:00</td>\n",
       "      <td>12</td>\n",
       "      <td>31</td>\n",
       "      <td>23</td>\n",
       "      <td>63154800.0</td>\n",
       "      <td>Montalban</td>\n",
       "      <td>0</td>\n",
       "      <td>0</td>\n",
       "      <td>...</td>\n",
       "      <td>0</td>\n",
       "      <td>0</td>\n",
       "      <td>0</td>\n",
       "      <td>21.18</td>\n",
       "      <td>17.224575</td>\n",
       "      <td>635.40</td>\n",
       "      <td>0.027108</td>\n",
       "      <td>0.035</td>\n",
       "      <td>0.002000</td>\n",
       "      <td>21.18</td>\n",
       "    </tr>\n",
       "    <tr>\n",
       "      <th>35039</th>\n",
       "      <td>35039</td>\n",
       "      <td>35039</td>\n",
       "      <td>2017-12-31 23:00:00</td>\n",
       "      <td>12</td>\n",
       "      <td>31</td>\n",
       "      <td>23</td>\n",
       "      <td>63154800.0</td>\n",
       "      <td>Sto_Nino</td>\n",
       "      <td>14420</td>\n",
       "      <td>0</td>\n",
       "      <td>...</td>\n",
       "      <td>0</td>\n",
       "      <td>0</td>\n",
       "      <td>0</td>\n",
       "      <td>12.44</td>\n",
       "      <td>28.244204</td>\n",
       "      <td>821.04</td>\n",
       "      <td>0.034401</td>\n",
       "      <td>0.033</td>\n",
       "      <td>0.000667</td>\n",
       "      <td>12.44</td>\n",
       "    </tr>\n",
       "  </tbody>\n",
       "</table>\n",
       "<p>35040 rows × 21 columns</p>\n",
       "</div>"
      ],
      "text/plain": [
       "       Unnamed: 0.1  Unnamed: 0             datetime  month  day  hour  \\\n",
       "0                 0           0  2016-01-01 00:00:00      1    1     0   \n",
       "1                 1           1  2016-01-01 00:00:00      1    1     0   \n",
       "2                 2           2  2016-01-01 01:00:00      1    1     1   \n",
       "3                 3           3  2016-01-01 01:00:00      1    1     1   \n",
       "4                 4           4  2016-01-01 02:00:00      1    1     2   \n",
       "...             ...         ...                  ...    ...  ...   ...   \n",
       "35035         35035       35035  2017-12-31 21:00:00     12   31    21   \n",
       "35036         35036       35036  2017-12-31 22:00:00     12   31    22   \n",
       "35037         35037       35037  2017-12-31 22:00:00     12   31    22   \n",
       "35038         35038       35038  2017-12-31 23:00:00     12   31    23   \n",
       "35039         35039       35039  2017-12-31 23:00:00     12   31    23   \n",
       "\n",
       "                t    Station      x  Rainfall_Aries  ...  Rainfall_Campana  \\\n",
       "0             0.0  Montalban      0               0  ...                 2   \n",
       "1             0.0   Sto_Nino  14420               0  ...                 2   \n",
       "2          3600.0  Montalban      0               0  ...                 1   \n",
       "3          3600.0   Sto_Nino  14420               0  ...                 1   \n",
       "4          7200.0  Montalban      0               1  ...                 1   \n",
       "...           ...        ...    ...             ...  ...               ...   \n",
       "35035  63147600.0   Sto_Nino  14420               0  ...                 0   \n",
       "35036  63151200.0  Montalban      0               0  ...                 0   \n",
       "35037  63151200.0   Sto_Nino  14420               0  ...                 0   \n",
       "35038  63154800.0  Montalban      0               0  ...                 0   \n",
       "35039  63154800.0   Sto_Nino  14420               0  ...                 0   \n",
       "\n",
       "       Rainfall_Nangka  Rainfall_Oro  Waterlevel  Discharge  Cross_Section  \\\n",
       "0                    0             0       21.03  14.842428         630.90   \n",
       "1                    0             0       12.18  21.033407         803.88   \n",
       "2                    1             0       21.03  14.842428         630.90   \n",
       "3                    1             0       12.19  21.280072         804.54   \n",
       "4                    0             1       21.03  14.842428         630.90   \n",
       "...                ...           ...         ...        ...            ...   \n",
       "35035                0             0       12.44  28.244204         821.04   \n",
       "35036                0             0       21.18  17.224575         635.40   \n",
       "35037                0             0       12.44  28.244204         821.04   \n",
       "35038                0             0       21.18  17.224575         635.40   \n",
       "35039                0             0       12.44  28.244204         821.04   \n",
       "\n",
       "       Velocity  fric_coeff     slope  Prev_Waterlevel  \n",
       "0      0.023526       0.035  0.002000              NaN  \n",
       "1      0.026165       0.033  0.000667              NaN  \n",
       "2      0.023526       0.035  0.002000            21.03  \n",
       "3      0.026450       0.033  0.000667            12.18  \n",
       "4      0.023526       0.035  0.002000            21.03  \n",
       "...         ...         ...       ...              ...  \n",
       "35035  0.034401       0.033  0.000667            12.44  \n",
       "35036  0.027108       0.035  0.002000            21.18  \n",
       "35037  0.034401       0.033  0.000667            12.44  \n",
       "35038  0.027108       0.035  0.002000            21.18  \n",
       "35039  0.034401       0.033  0.000667            12.44  \n",
       "\n",
       "[35040 rows x 21 columns]"
      ]
     },
     "execution_count": 4,
     "metadata": {},
     "output_type": "execute_result"
    }
   ],
   "source": [
    "df = pd.read_csv(DATASET_FILE)\n",
    "df"
   ]
  },
  {
   "cell_type": "code",
   "execution_count": 5,
   "id": "7b484a83",
   "metadata": {},
   "outputs": [
    {
     "data": {
      "text/html": [
       "<div>\n",
       "<style scoped>\n",
       "    .dataframe tbody tr th:only-of-type {\n",
       "        vertical-align: middle;\n",
       "    }\n",
       "\n",
       "    .dataframe tbody tr th {\n",
       "        vertical-align: top;\n",
       "    }\n",
       "\n",
       "    .dataframe thead th {\n",
       "        text-align: right;\n",
       "    }\n",
       "</style>\n",
       "<table border=\"1\" class=\"dataframe\">\n",
       "  <thead>\n",
       "    <tr style=\"text-align: right;\">\n",
       "      <th></th>\n",
       "      <th>month</th>\n",
       "      <th>day</th>\n",
       "      <th>hour</th>\n",
       "      <th>Station</th>\n",
       "      <th>Rainfall_Aries</th>\n",
       "      <th>Rainfall_Boso</th>\n",
       "      <th>Rainfall_Campana</th>\n",
       "      <th>Rainfall_Nangka</th>\n",
       "      <th>Rainfall_Oro</th>\n",
       "      <th>Prev_Waterlevel</th>\n",
       "      <th>Waterlevel</th>\n",
       "    </tr>\n",
       "  </thead>\n",
       "  <tbody>\n",
       "    <tr>\n",
       "      <th>0</th>\n",
       "      <td>1</td>\n",
       "      <td>1</td>\n",
       "      <td>0</td>\n",
       "      <td>Montalban</td>\n",
       "      <td>0</td>\n",
       "      <td>1</td>\n",
       "      <td>2</td>\n",
       "      <td>0</td>\n",
       "      <td>0</td>\n",
       "      <td>NaN</td>\n",
       "      <td>21.03</td>\n",
       "    </tr>\n",
       "    <tr>\n",
       "      <th>1</th>\n",
       "      <td>1</td>\n",
       "      <td>1</td>\n",
       "      <td>0</td>\n",
       "      <td>Sto_Nino</td>\n",
       "      <td>0</td>\n",
       "      <td>1</td>\n",
       "      <td>2</td>\n",
       "      <td>0</td>\n",
       "      <td>0</td>\n",
       "      <td>NaN</td>\n",
       "      <td>12.18</td>\n",
       "    </tr>\n",
       "    <tr>\n",
       "      <th>2</th>\n",
       "      <td>1</td>\n",
       "      <td>1</td>\n",
       "      <td>1</td>\n",
       "      <td>Montalban</td>\n",
       "      <td>0</td>\n",
       "      <td>1</td>\n",
       "      <td>1</td>\n",
       "      <td>1</td>\n",
       "      <td>0</td>\n",
       "      <td>21.03</td>\n",
       "      <td>21.03</td>\n",
       "    </tr>\n",
       "    <tr>\n",
       "      <th>3</th>\n",
       "      <td>1</td>\n",
       "      <td>1</td>\n",
       "      <td>1</td>\n",
       "      <td>Sto_Nino</td>\n",
       "      <td>0</td>\n",
       "      <td>1</td>\n",
       "      <td>1</td>\n",
       "      <td>1</td>\n",
       "      <td>0</td>\n",
       "      <td>12.18</td>\n",
       "      <td>12.19</td>\n",
       "    </tr>\n",
       "    <tr>\n",
       "      <th>4</th>\n",
       "      <td>1</td>\n",
       "      <td>1</td>\n",
       "      <td>2</td>\n",
       "      <td>Montalban</td>\n",
       "      <td>1</td>\n",
       "      <td>1</td>\n",
       "      <td>1</td>\n",
       "      <td>0</td>\n",
       "      <td>1</td>\n",
       "      <td>21.03</td>\n",
       "      <td>21.03</td>\n",
       "    </tr>\n",
       "    <tr>\n",
       "      <th>...</th>\n",
       "      <td>...</td>\n",
       "      <td>...</td>\n",
       "      <td>...</td>\n",
       "      <td>...</td>\n",
       "      <td>...</td>\n",
       "      <td>...</td>\n",
       "      <td>...</td>\n",
       "      <td>...</td>\n",
       "      <td>...</td>\n",
       "      <td>...</td>\n",
       "      <td>...</td>\n",
       "    </tr>\n",
       "    <tr>\n",
       "      <th>35035</th>\n",
       "      <td>12</td>\n",
       "      <td>31</td>\n",
       "      <td>21</td>\n",
       "      <td>Sto_Nino</td>\n",
       "      <td>0</td>\n",
       "      <td>0</td>\n",
       "      <td>0</td>\n",
       "      <td>0</td>\n",
       "      <td>0</td>\n",
       "      <td>12.44</td>\n",
       "      <td>12.44</td>\n",
       "    </tr>\n",
       "    <tr>\n",
       "      <th>35036</th>\n",
       "      <td>12</td>\n",
       "      <td>31</td>\n",
       "      <td>22</td>\n",
       "      <td>Montalban</td>\n",
       "      <td>0</td>\n",
       "      <td>0</td>\n",
       "      <td>0</td>\n",
       "      <td>0</td>\n",
       "      <td>0</td>\n",
       "      <td>21.18</td>\n",
       "      <td>21.18</td>\n",
       "    </tr>\n",
       "    <tr>\n",
       "      <th>35037</th>\n",
       "      <td>12</td>\n",
       "      <td>31</td>\n",
       "      <td>22</td>\n",
       "      <td>Sto_Nino</td>\n",
       "      <td>0</td>\n",
       "      <td>0</td>\n",
       "      <td>0</td>\n",
       "      <td>0</td>\n",
       "      <td>0</td>\n",
       "      <td>12.44</td>\n",
       "      <td>12.44</td>\n",
       "    </tr>\n",
       "    <tr>\n",
       "      <th>35038</th>\n",
       "      <td>12</td>\n",
       "      <td>31</td>\n",
       "      <td>23</td>\n",
       "      <td>Montalban</td>\n",
       "      <td>0</td>\n",
       "      <td>0</td>\n",
       "      <td>0</td>\n",
       "      <td>0</td>\n",
       "      <td>0</td>\n",
       "      <td>21.18</td>\n",
       "      <td>21.18</td>\n",
       "    </tr>\n",
       "    <tr>\n",
       "      <th>35039</th>\n",
       "      <td>12</td>\n",
       "      <td>31</td>\n",
       "      <td>23</td>\n",
       "      <td>Sto_Nino</td>\n",
       "      <td>0</td>\n",
       "      <td>0</td>\n",
       "      <td>0</td>\n",
       "      <td>0</td>\n",
       "      <td>0</td>\n",
       "      <td>12.44</td>\n",
       "      <td>12.44</td>\n",
       "    </tr>\n",
       "  </tbody>\n",
       "</table>\n",
       "<p>35040 rows × 11 columns</p>\n",
       "</div>"
      ],
      "text/plain": [
       "       month  day  hour    Station  Rainfall_Aries  Rainfall_Boso  \\\n",
       "0          1    1     0  Montalban               0              1   \n",
       "1          1    1     0   Sto_Nino               0              1   \n",
       "2          1    1     1  Montalban               0              1   \n",
       "3          1    1     1   Sto_Nino               0              1   \n",
       "4          1    1     2  Montalban               1              1   \n",
       "...      ...  ...   ...        ...             ...            ...   \n",
       "35035     12   31    21   Sto_Nino               0              0   \n",
       "35036     12   31    22  Montalban               0              0   \n",
       "35037     12   31    22   Sto_Nino               0              0   \n",
       "35038     12   31    23  Montalban               0              0   \n",
       "35039     12   31    23   Sto_Nino               0              0   \n",
       "\n",
       "       Rainfall_Campana  Rainfall_Nangka  Rainfall_Oro  Prev_Waterlevel  \\\n",
       "0                     2                0             0              NaN   \n",
       "1                     2                0             0              NaN   \n",
       "2                     1                1             0            21.03   \n",
       "3                     1                1             0            12.18   \n",
       "4                     1                0             1            21.03   \n",
       "...                 ...              ...           ...              ...   \n",
       "35035                 0                0             0            12.44   \n",
       "35036                 0                0             0            21.18   \n",
       "35037                 0                0             0            12.44   \n",
       "35038                 0                0             0            21.18   \n",
       "35039                 0                0             0            12.44   \n",
       "\n",
       "       Waterlevel  \n",
       "0           21.03  \n",
       "1           12.18  \n",
       "2           21.03  \n",
       "3           12.19  \n",
       "4           21.03  \n",
       "...           ...  \n",
       "35035       12.44  \n",
       "35036       21.18  \n",
       "35037       12.44  \n",
       "35038       21.18  \n",
       "35039       12.44  \n",
       "\n",
       "[35040 rows x 11 columns]"
      ]
     },
     "execution_count": 5,
     "metadata": {},
     "output_type": "execute_result"
    }
   ],
   "source": [
    "df = df[['month', 'day', 'hour', 'Station', 'Rainfall_Aries', 'Rainfall_Boso', 'Rainfall_Campana', 'Rainfall_Nangka', 'Rainfall_Oro', 'Prev_Waterlevel', 'Waterlevel']]\n",
    "df"
   ]
  },
  {
   "cell_type": "code",
   "execution_count": 6,
   "id": "677125a9",
   "metadata": {},
   "outputs": [
    {
     "data": {
      "text/html": [
       "<div>\n",
       "<style scoped>\n",
       "    .dataframe tbody tr th:only-of-type {\n",
       "        vertical-align: middle;\n",
       "    }\n",
       "\n",
       "    .dataframe tbody tr th {\n",
       "        vertical-align: top;\n",
       "    }\n",
       "\n",
       "    .dataframe thead th {\n",
       "        text-align: right;\n",
       "    }\n",
       "</style>\n",
       "<table border=\"1\" class=\"dataframe\">\n",
       "  <thead>\n",
       "    <tr style=\"text-align: right;\">\n",
       "      <th></th>\n",
       "      <th>month</th>\n",
       "      <th>day</th>\n",
       "      <th>hour</th>\n",
       "      <th>Rainfall_Aries</th>\n",
       "      <th>Rainfall_Boso</th>\n",
       "      <th>Rainfall_Campana</th>\n",
       "      <th>Rainfall_Nangka</th>\n",
       "      <th>Rainfall_Oro</th>\n",
       "      <th>Prev_Waterlevel</th>\n",
       "      <th>Waterlevel</th>\n",
       "      <th>Station_Montalban</th>\n",
       "      <th>Station_Sto_Nino</th>\n",
       "    </tr>\n",
       "  </thead>\n",
       "  <tbody>\n",
       "    <tr>\n",
       "      <th>0</th>\n",
       "      <td>1</td>\n",
       "      <td>1</td>\n",
       "      <td>0</td>\n",
       "      <td>0</td>\n",
       "      <td>1</td>\n",
       "      <td>2</td>\n",
       "      <td>0</td>\n",
       "      <td>0</td>\n",
       "      <td>NaN</td>\n",
       "      <td>21.03</td>\n",
       "      <td>1</td>\n",
       "      <td>0</td>\n",
       "    </tr>\n",
       "    <tr>\n",
       "      <th>1</th>\n",
       "      <td>1</td>\n",
       "      <td>1</td>\n",
       "      <td>0</td>\n",
       "      <td>0</td>\n",
       "      <td>1</td>\n",
       "      <td>2</td>\n",
       "      <td>0</td>\n",
       "      <td>0</td>\n",
       "      <td>NaN</td>\n",
       "      <td>12.18</td>\n",
       "      <td>0</td>\n",
       "      <td>1</td>\n",
       "    </tr>\n",
       "    <tr>\n",
       "      <th>2</th>\n",
       "      <td>1</td>\n",
       "      <td>1</td>\n",
       "      <td>1</td>\n",
       "      <td>0</td>\n",
       "      <td>1</td>\n",
       "      <td>1</td>\n",
       "      <td>1</td>\n",
       "      <td>0</td>\n",
       "      <td>21.03</td>\n",
       "      <td>21.03</td>\n",
       "      <td>1</td>\n",
       "      <td>0</td>\n",
       "    </tr>\n",
       "    <tr>\n",
       "      <th>3</th>\n",
       "      <td>1</td>\n",
       "      <td>1</td>\n",
       "      <td>1</td>\n",
       "      <td>0</td>\n",
       "      <td>1</td>\n",
       "      <td>1</td>\n",
       "      <td>1</td>\n",
       "      <td>0</td>\n",
       "      <td>12.18</td>\n",
       "      <td>12.19</td>\n",
       "      <td>0</td>\n",
       "      <td>1</td>\n",
       "    </tr>\n",
       "    <tr>\n",
       "      <th>4</th>\n",
       "      <td>1</td>\n",
       "      <td>1</td>\n",
       "      <td>2</td>\n",
       "      <td>1</td>\n",
       "      <td>1</td>\n",
       "      <td>1</td>\n",
       "      <td>0</td>\n",
       "      <td>1</td>\n",
       "      <td>21.03</td>\n",
       "      <td>21.03</td>\n",
       "      <td>1</td>\n",
       "      <td>0</td>\n",
       "    </tr>\n",
       "    <tr>\n",
       "      <th>...</th>\n",
       "      <td>...</td>\n",
       "      <td>...</td>\n",
       "      <td>...</td>\n",
       "      <td>...</td>\n",
       "      <td>...</td>\n",
       "      <td>...</td>\n",
       "      <td>...</td>\n",
       "      <td>...</td>\n",
       "      <td>...</td>\n",
       "      <td>...</td>\n",
       "      <td>...</td>\n",
       "      <td>...</td>\n",
       "    </tr>\n",
       "    <tr>\n",
       "      <th>35035</th>\n",
       "      <td>12</td>\n",
       "      <td>31</td>\n",
       "      <td>21</td>\n",
       "      <td>0</td>\n",
       "      <td>0</td>\n",
       "      <td>0</td>\n",
       "      <td>0</td>\n",
       "      <td>0</td>\n",
       "      <td>12.44</td>\n",
       "      <td>12.44</td>\n",
       "      <td>0</td>\n",
       "      <td>1</td>\n",
       "    </tr>\n",
       "    <tr>\n",
       "      <th>35036</th>\n",
       "      <td>12</td>\n",
       "      <td>31</td>\n",
       "      <td>22</td>\n",
       "      <td>0</td>\n",
       "      <td>0</td>\n",
       "      <td>0</td>\n",
       "      <td>0</td>\n",
       "      <td>0</td>\n",
       "      <td>21.18</td>\n",
       "      <td>21.18</td>\n",
       "      <td>1</td>\n",
       "      <td>0</td>\n",
       "    </tr>\n",
       "    <tr>\n",
       "      <th>35037</th>\n",
       "      <td>12</td>\n",
       "      <td>31</td>\n",
       "      <td>22</td>\n",
       "      <td>0</td>\n",
       "      <td>0</td>\n",
       "      <td>0</td>\n",
       "      <td>0</td>\n",
       "      <td>0</td>\n",
       "      <td>12.44</td>\n",
       "      <td>12.44</td>\n",
       "      <td>0</td>\n",
       "      <td>1</td>\n",
       "    </tr>\n",
       "    <tr>\n",
       "      <th>35038</th>\n",
       "      <td>12</td>\n",
       "      <td>31</td>\n",
       "      <td>23</td>\n",
       "      <td>0</td>\n",
       "      <td>0</td>\n",
       "      <td>0</td>\n",
       "      <td>0</td>\n",
       "      <td>0</td>\n",
       "      <td>21.18</td>\n",
       "      <td>21.18</td>\n",
       "      <td>1</td>\n",
       "      <td>0</td>\n",
       "    </tr>\n",
       "    <tr>\n",
       "      <th>35039</th>\n",
       "      <td>12</td>\n",
       "      <td>31</td>\n",
       "      <td>23</td>\n",
       "      <td>0</td>\n",
       "      <td>0</td>\n",
       "      <td>0</td>\n",
       "      <td>0</td>\n",
       "      <td>0</td>\n",
       "      <td>12.44</td>\n",
       "      <td>12.44</td>\n",
       "      <td>0</td>\n",
       "      <td>1</td>\n",
       "    </tr>\n",
       "  </tbody>\n",
       "</table>\n",
       "<p>35040 rows × 12 columns</p>\n",
       "</div>"
      ],
      "text/plain": [
       "       month  day  hour  Rainfall_Aries  Rainfall_Boso  Rainfall_Campana  \\\n",
       "0          1    1     0               0              1                 2   \n",
       "1          1    1     0               0              1                 2   \n",
       "2          1    1     1               0              1                 1   \n",
       "3          1    1     1               0              1                 1   \n",
       "4          1    1     2               1              1                 1   \n",
       "...      ...  ...   ...             ...            ...               ...   \n",
       "35035     12   31    21               0              0                 0   \n",
       "35036     12   31    22               0              0                 0   \n",
       "35037     12   31    22               0              0                 0   \n",
       "35038     12   31    23               0              0                 0   \n",
       "35039     12   31    23               0              0                 0   \n",
       "\n",
       "       Rainfall_Nangka  Rainfall_Oro  Prev_Waterlevel  Waterlevel  \\\n",
       "0                    0             0              NaN       21.03   \n",
       "1                    0             0              NaN       12.18   \n",
       "2                    1             0            21.03       21.03   \n",
       "3                    1             0            12.18       12.19   \n",
       "4                    0             1            21.03       21.03   \n",
       "...                ...           ...              ...         ...   \n",
       "35035                0             0            12.44       12.44   \n",
       "35036                0             0            21.18       21.18   \n",
       "35037                0             0            12.44       12.44   \n",
       "35038                0             0            21.18       21.18   \n",
       "35039                0             0            12.44       12.44   \n",
       "\n",
       "       Station_Montalban  Station_Sto_Nino  \n",
       "0                      1                 0  \n",
       "1                      0                 1  \n",
       "2                      1                 0  \n",
       "3                      0                 1  \n",
       "4                      1                 0  \n",
       "...                  ...               ...  \n",
       "35035                  0                 1  \n",
       "35036                  1                 0  \n",
       "35037                  0                 1  \n",
       "35038                  1                 0  \n",
       "35039                  0                 1  \n",
       "\n",
       "[35040 rows x 12 columns]"
      ]
     },
     "execution_count": 6,
     "metadata": {},
     "output_type": "execute_result"
    }
   ],
   "source": [
    "df = pd.get_dummies(df)\n",
    "df"
   ]
  },
  {
   "cell_type": "code",
   "execution_count": 7,
   "id": "6fb5d81b",
   "metadata": {},
   "outputs": [],
   "source": [
    "X_data = df.drop(columns='Waterlevel')\n",
    "X_data = X_data.values\n",
    "y_data = df['Waterlevel']\n",
    "y_data = y_data.values"
   ]
  },
  {
   "cell_type": "code",
   "execution_count": 8,
   "id": "b49f386a",
   "metadata": {},
   "outputs": [
    {
     "data": {
      "text/plain": [
       "array([[ 1.  ,  1.  ,  0.  , ...,   nan,  1.  ,  0.  ],\n",
       "       [ 1.  ,  1.  ,  0.  , ...,   nan,  0.  ,  1.  ],\n",
       "       [ 1.  ,  1.  ,  1.  , ..., 21.03,  1.  ,  0.  ],\n",
       "       ...,\n",
       "       [12.  , 31.  , 22.  , ..., 12.44,  0.  ,  1.  ],\n",
       "       [12.  , 31.  , 23.  , ..., 21.18,  1.  ,  0.  ],\n",
       "       [12.  , 31.  , 23.  , ..., 12.44,  0.  ,  1.  ]])"
      ]
     },
     "execution_count": 8,
     "metadata": {},
     "output_type": "execute_result"
    }
   ],
   "source": [
    "X_data"
   ]
  },
  {
   "cell_type": "code",
   "execution_count": 9,
   "id": "dc60a436",
   "metadata": {},
   "outputs": [
    {
     "data": {
      "text/plain": [
       "array([21.03, 12.18, 21.03, ..., 12.44, 21.18, 12.44])"
      ]
     },
     "execution_count": 9,
     "metadata": {},
     "output_type": "execute_result"
    }
   ],
   "source": [
    "y_data"
   ]
  },
  {
   "cell_type": "code",
   "execution_count": 10,
   "id": "a1cc0ee3",
   "metadata": {},
   "outputs": [],
   "source": [
    "n = len(df)"
   ]
  },
  {
   "cell_type": "code",
   "execution_count": 11,
   "id": "8d61323e",
   "metadata": {},
   "outputs": [],
   "source": [
    "X_train, y_train = X_data[:int(0.5*n)], y_data[:int(0.5*n)]\n",
    "X_val, y_val = X_data[int(0.5*n):int(0.75*n)], y_data[int(0.5*n):int(0.75*n)]\n",
    "X_test, y_test = X_data[int(0.75*n):], y_data[int(0.75*n):]"
   ]
  },
  {
   "cell_type": "code",
   "execution_count": 12,
   "id": "cd27673a",
   "metadata": {},
   "outputs": [
    {
     "data": {
      "text/plain": [
       "(17520, 11)"
      ]
     },
     "execution_count": 12,
     "metadata": {},
     "output_type": "execute_result"
    }
   ],
   "source": [
    "X_train.shape"
   ]
  },
  {
   "cell_type": "code",
   "execution_count": 13,
   "id": "23421e2e",
   "metadata": {},
   "outputs": [
    {
     "data": {
      "text/plain": [
       "(17518, 11)"
      ]
     },
     "execution_count": 13,
     "metadata": {},
     "output_type": "execute_result"
    }
   ],
   "source": [
    "X_train = X_train[2:]\n",
    "y_train = y_train[2:]\n",
    "\n",
    "X_train.shape"
   ]
  },
  {
   "cell_type": "code",
   "execution_count": 14,
   "id": "995ec662",
   "metadata": {},
   "outputs": [
    {
     "data": {
      "text/plain": [
       "array([[ 1.  ,  1.  ,  1.  , ..., 21.03,  1.  ,  0.  ],\n",
       "       [ 1.  ,  1.  ,  1.  , ..., 12.18,  0.  ,  1.  ],\n",
       "       [ 1.  ,  1.  ,  2.  , ..., 21.03,  1.  ,  0.  ],\n",
       "       ...,\n",
       "       [12.  , 31.  , 22.  , ..., 12.53,  0.  ,  1.  ],\n",
       "       [12.  , 31.  , 23.  , ..., 21.31,  1.  ,  0.  ],\n",
       "       [12.  , 31.  , 23.  , ..., 12.53,  0.  ,  1.  ]])"
      ]
     },
     "execution_count": 14,
     "metadata": {},
     "output_type": "execute_result"
    }
   ],
   "source": [
    "X_train"
   ]
  },
  {
   "cell_type": "code",
   "execution_count": 15,
   "id": "986c90f7",
   "metadata": {},
   "outputs": [
    {
     "data": {
      "text/plain": [
       "(8760, 11)"
      ]
     },
     "execution_count": 15,
     "metadata": {},
     "output_type": "execute_result"
    }
   ],
   "source": [
    "X_val.shape"
   ]
  },
  {
   "cell_type": "code",
   "execution_count": 16,
   "id": "bc6c0f95",
   "metadata": {},
   "outputs": [
    {
     "data": {
      "text/plain": [
       "(8760, 11)"
      ]
     },
     "execution_count": 16,
     "metadata": {},
     "output_type": "execute_result"
    }
   ],
   "source": [
    "X_test.shape"
   ]
  },
  {
   "cell_type": "markdown",
   "id": "be832072",
   "metadata": {},
   "source": [
    "## Evaluation Metrics"
   ]
  },
  {
   "cell_type": "code",
   "execution_count": 17,
   "id": "f8774b2d",
   "metadata": {},
   "outputs": [],
   "source": [
    "def r_square(y_true, y_pred):\n",
    "    x = y_true\n",
    "    y = y_pred\n",
    "    mx = K.mean(x, axis=0)\n",
    "    my = K.mean(y, axis=0)\n",
    "    xm, ym = x - mx, y - my\n",
    "    r_num = K.square(K.sum(xm * ym))\n",
    "    x_square_sum = K.sum(xm * xm)\n",
    "    y_square_sum = K.sum(ym * ym)\n",
    "    r_den = (x_square_sum * y_square_sum) + K.epsilon()\n",
    "    \n",
    "    r = r_num / r_den\n",
    "    return r"
   ]
  },
  {
   "cell_type": "code",
   "execution_count": 18,
   "id": "6ab12271",
   "metadata": {},
   "outputs": [],
   "source": [
    "def NSE(y_true, y_pred):\n",
    "    '''\n",
    "    This is the Nash-Sutcliffe Efficiency Coefficient\n",
    "    '''\n",
    "    y_pred = K.flatten(y_pred)\n",
    "    y_true = K.flatten(y_true)\n",
    "\n",
    "    SS_res =  K.sum(K.square(y_true - y_pred)) \n",
    "    SS_tot = K.sum(K.square(y_true - K.mean(y_true))) \n",
    "    \n",
    "    return ( 1 - SS_res/(SS_tot + K.epsilon()) )"
   ]
  },
  {
   "cell_type": "markdown",
   "id": "2eebd0b4",
   "metadata": {},
   "source": [
    "## Models and Training Loops"
   ]
  },
  {
   "cell_type": "code",
   "execution_count": 19,
   "id": "12ba6be0",
   "metadata": {},
   "outputs": [],
   "source": [
    "def create_train_dnn_model(X_train, y_train, X_val, y_val, max_epochs=20, patience=2):\n",
    "    # Create the model\n",
    "    model = models.Sequential([\n",
    "        layers.Dense(64, activation='relu', input_shape=(X_train.shape[1],)),\n",
    "        layers.Dense(64, activation='relu'),\n",
    "        layers.Dense(64, activation='relu'),\n",
    "        layers.Dense(1, activation='linear')\n",
    "    ])\n",
    "    \n",
    "    # Define early stopping callback\n",
    "    early_stopping = tf.keras.callbacks.EarlyStopping(\n",
    "        monitor='val_loss',\n",
    "        patience=patience,\n",
    "        mode='min',\n",
    "        restore_best_weights=True\n",
    "    )\n",
    "    \n",
    "    # Compile the model\n",
    "    model.compile(\n",
    "        optimizer='adam',\n",
    "        loss=tf.keras.losses.MeanSquaredError(),\n",
    "        metrics=[tf.keras.metrics.MeanSquaredError(), NSE, r_square]\n",
    "    )\n",
    "    \n",
    "    # Train the model\n",
    "    history = model.fit(\n",
    "        X_train, y_train,\n",
    "        validation_data=(X_val, y_val),\n",
    "        epochs=max_epochs,\n",
    "        callbacks=[early_stopping]\n",
    "    )\n",
    "    \n",
    "    return model, history"
   ]
  },
  {
   "cell_type": "code",
   "execution_count": 20,
   "id": "547e617a",
   "metadata": {},
   "outputs": [],
   "source": [
    "def create_train_cnn_model(X_train, y_train, X_val, y_val, max_epochs=20, patience=2):\n",
    "    # Reshape input for 1D CNN\n",
    "    X_train = X_train.reshape(X_train.shape[0], X_train.shape[1], 1)\n",
    "    X_val = X_val.reshape(X_val.shape[0], X_val.shape[1], 1)\n",
    "    \n",
    "    conv_model = tf.keras.Sequential([\n",
    "        tf.keras.layers.Input(shape=(X_train.shape[1], 1)),\n",
    "        tf.keras.layers.Conv1D(filters=64, kernel_size=6, activation='relu'),\n",
    "        tf.keras.layers.MaxPooling1D(pool_size=2),\n",
    "        tf.keras.layers.Flatten(),\n",
    "        tf.keras.layers.Dense(units=64, activation='relu'),\n",
    "        tf.keras.layers.Dense(units=64, activation='relu'),\n",
    "        tf.keras.layers.Dense(units=1)\n",
    "    ])\n",
    "    \n",
    "    early_stopping = tf.keras.callbacks.EarlyStopping(\n",
    "        monitor='val_loss',\n",
    "        patience=patience,\n",
    "        mode='min',\n",
    "        restore_best_weights=True\n",
    "    )\n",
    "    \n",
    "    conv_model.compile(\n",
    "        optimizer='adam',\n",
    "        loss=tf.keras.losses.MeanSquaredError(),\n",
    "        metrics=[tf.keras.metrics.MeanSquaredError(), NSE, r_square]\n",
    "    )\n",
    "    \n",
    "    conv_history = conv_model.fit(\n",
    "        X_train, y_train,\n",
    "        validation_data=(X_val, y_val),\n",
    "        epochs=max_epochs,\n",
    "        callbacks=[early_stopping]\n",
    "    )\n",
    "    \n",
    "    return conv_model, conv_history"
   ]
  },
  {
   "cell_type": "code",
   "execution_count": 21,
   "id": "9723b52a",
   "metadata": {},
   "outputs": [],
   "source": [
    "def create_train_lstm_model(X_train, y_train, X_val, y_val, max_epochs=20, patience=2):\n",
    "    if len(X_train.shape) == 2:\n",
    "        X_train = X_train.reshape((X_train.shape[0], 1, X_train.shape[1]))\n",
    "    if len(X_val.shape) == 2:\n",
    "        X_val = X_val.reshape((X_val.shape[0], 1, X_val.shape[1]))\n",
    "            \n",
    "    lstm_model = tf.keras.models.Sequential([\n",
    "        tf.keras.layers.LSTM(64, input_shape=(X_train.shape[1], X_train.shape[2]), return_sequences=True),\n",
    "        tf.keras.layers.Flatten(),  # Add Flatten layer to handle dimension mismatch\n",
    "        tf.keras.layers.Dense(units=64, activation='relu'),\n",
    "        tf.keras.layers.Dense(units=64, activation='relu'),\n",
    "        tf.keras.layers.Dense(units=1)\n",
    "    ])\n",
    "    \n",
    "    # Define early stopping callback\n",
    "    early_stopping = tf.keras.callbacks.EarlyStopping(\n",
    "        monitor='val_loss',\n",
    "        patience=patience,\n",
    "        mode='min',\n",
    "        restore_best_weights=True\n",
    "    )\n",
    "    \n",
    "    # Compile the model\n",
    "    lstm_model.compile(\n",
    "        optimizer='adam',\n",
    "        loss=tf.keras.losses.MeanSquaredError(),\n",
    "        metrics=[tf.keras.metrics.MeanSquaredError(), NSE, r_square]\n",
    "    )\n",
    "    \n",
    "    # Train the model\n",
    "    lstm_history = lstm_model.fit(\n",
    "        X_train, y_train,\n",
    "        validation_data=(X_val, y_val),\n",
    "        epochs=max_epochs,\n",
    "        callbacks=[early_stopping]\n",
    "    )\n",
    "    \n",
    "    return lstm_model, lstm_history"
   ]
  },
  {
   "cell_type": "markdown",
   "id": "11a81259",
   "metadata": {},
   "source": [
    "## Training"
   ]
  },
  {
   "cell_type": "code",
   "execution_count": 22,
   "id": "2eae6209",
   "metadata": {},
   "outputs": [
    {
     "name": "stdout",
     "output_type": "stream",
     "text": [
      "Epoch 1/20\n",
      "548/548 [==============================] - 5s 6ms/step - loss: 5.9097 - mean_squared_error: 5.9097 - NSE: 0.6867 - r_square: 0.9417 - val_loss: 0.0597 - val_mean_squared_error: 0.0597 - val_NSE: 0.9971 - val_r_square: 0.9979\n",
      "Epoch 2/20\n",
      "548/548 [==============================] - 4s 7ms/step - loss: 0.1041 - mean_squared_error: 0.1041 - NSE: 0.9944 - r_square: 0.9952 - val_loss: 0.0333 - val_mean_squared_error: 0.0333 - val_NSE: 0.9984 - val_r_square: 0.9987\n",
      "Epoch 3/20\n",
      "548/548 [==============================] - 3s 6ms/step - loss: 0.0881 - mean_squared_error: 0.0881 - NSE: 0.9953 - r_square: 0.9961 - val_loss: 0.0305 - val_mean_squared_error: 0.0305 - val_NSE: 0.9985 - val_r_square: 0.9989\n",
      "Epoch 4/20\n",
      "548/548 [==============================] - 4s 8ms/step - loss: 0.1012 - mean_squared_error: 0.1012 - NSE: 0.9947 - r_square: 0.9957 - val_loss: 0.0223 - val_mean_squared_error: 0.0223 - val_NSE: 0.9989 - val_r_square: 0.9991\n",
      "Epoch 5/20\n",
      "548/548 [==============================] - 5s 10ms/step - loss: 0.0774 - mean_squared_error: 0.0774 - NSE: 0.9959 - r_square: 0.9966 - val_loss: 0.0760 - val_mean_squared_error: 0.0760 - val_NSE: 0.9963 - val_r_square: 0.9994\n",
      "Epoch 6/20\n",
      "548/548 [==============================] - 4s 7ms/step - loss: 0.0774 - mean_squared_error: 0.0774 - NSE: 0.9959 - r_square: 0.9968 - val_loss: 0.0156 - val_mean_squared_error: 0.0156 - val_NSE: 0.9992 - val_r_square: 0.9995\n",
      "Epoch 7/20\n",
      "548/548 [==============================] - 4s 8ms/step - loss: 0.0871 - mean_squared_error: 0.0871 - NSE: 0.9953 - r_square: 0.9966 - val_loss: 0.0099 - val_mean_squared_error: 0.0099 - val_NSE: 0.9995 - val_r_square: 0.9996\n",
      "Epoch 8/20\n",
      "548/548 [==============================] - 5s 10ms/step - loss: 0.0731 - mean_squared_error: 0.0731 - NSE: 0.9962 - r_square: 0.9970 - val_loss: 0.0216 - val_mean_squared_error: 0.0216 - val_NSE: 0.9989 - val_r_square: 0.9994\n",
      "Epoch 9/20\n",
      "548/548 [==============================] - 7s 12ms/step - loss: 0.0843 - mean_squared_error: 0.0843 - NSE: 0.9955 - r_square: 0.9964 - val_loss: 0.0116 - val_mean_squared_error: 0.0116 - val_NSE: 0.9994 - val_r_square: 0.9995\n"
     ]
    }
   ],
   "source": [
    "dnn_model, dnn_history = create_train_dnn_model(\n",
    "    X_train=X_train,\n",
    "    y_train=y_train,\n",
    "    X_val=X_val,\n",
    "    y_val=y_val\n",
    ")"
   ]
  },
  {
   "cell_type": "code",
   "execution_count": 23,
   "id": "b563a5c1",
   "metadata": {},
   "outputs": [
    {
     "name": "stdout",
     "output_type": "stream",
     "text": [
      "Epoch 1/20\n",
      "548/548 [==============================] - 10s 10ms/step - loss: 5.7541 - mean_squared_error: 5.7541 - NSE: 0.6943 - r_square: 0.9276 - val_loss: 0.0425 - val_mean_squared_error: 0.0425 - val_NSE: 0.9980 - val_r_square: 0.9983\n",
      "Epoch 2/20\n",
      "548/548 [==============================] - 8s 14ms/step - loss: 0.0974 - mean_squared_error: 0.0974 - NSE: 0.9948 - r_square: 0.9954 - val_loss: 0.0306 - val_mean_squared_error: 0.0306 - val_NSE: 0.9985 - val_r_square: 0.9993\n",
      "Epoch 3/20\n",
      "548/548 [==============================] - 7s 12ms/step - loss: 0.0842 - mean_squared_error: 0.0842 - NSE: 0.9955 - r_square: 0.9962 - val_loss: 0.0104 - val_mean_squared_error: 0.0104 - val_NSE: 0.9995 - val_r_square: 0.9996\n",
      "Epoch 4/20\n",
      "548/548 [==============================] - 5s 10ms/step - loss: 0.0809 - mean_squared_error: 0.0809 - NSE: 0.9958 - r_square: 0.9965 - val_loss: 0.0134 - val_mean_squared_error: 0.0134 - val_NSE: 0.9993 - val_r_square: 0.9994\n",
      "Epoch 5/20\n",
      "548/548 [==============================] - 5s 9ms/step - loss: 0.0870 - mean_squared_error: 0.0870 - NSE: 0.9955 - r_square: 0.9962 - val_loss: 0.1250 - val_mean_squared_error: 0.1250 - val_NSE: 0.9939 - val_r_square: 0.9987\n"
     ]
    }
   ],
   "source": [
    "cnn_model, cnn_history = create_train_cnn_model(\n",
    "    X_train=X_train,\n",
    "    y_train=y_train,\n",
    "    X_val=X_val,\n",
    "    y_val=y_val\n",
    ")"
   ]
  },
  {
   "cell_type": "code",
   "execution_count": 24,
   "id": "d33ce17f",
   "metadata": {},
   "outputs": [
    {
     "name": "stdout",
     "output_type": "stream",
     "text": [
      "Epoch 1/20\n",
      "548/548 [==============================] - 16s 11ms/step - loss: 17.9640 - mean_squared_error: 17.9640 - NSE: 0.0419 - r_square: 0.8368 - val_loss: 0.1267 - val_mean_squared_error: 0.1267 - val_NSE: 0.9936 - val_r_square: 0.9975\n",
      "Epoch 2/20\n",
      "548/548 [==============================] - 5s 10ms/step - loss: 0.1517 - mean_squared_error: 0.1517 - NSE: 0.9920 - r_square: 0.9929 - val_loss: 0.1265 - val_mean_squared_error: 0.1265 - val_NSE: 0.9937 - val_r_square: 0.9983\n",
      "Epoch 3/20\n",
      "548/548 [==============================] - 6s 11ms/step - loss: 0.1160 - mean_squared_error: 0.1160 - NSE: 0.9939 - r_square: 0.9947 - val_loss: 0.0618 - val_mean_squared_error: 0.0618 - val_NSE: 0.9970 - val_r_square: 0.9985\n",
      "Epoch 4/20\n",
      "548/548 [==============================] - 6s 10ms/step - loss: 0.1138 - mean_squared_error: 0.1138 - NSE: 0.9940 - r_square: 0.9949 - val_loss: 0.0584 - val_mean_squared_error: 0.0584 - val_NSE: 0.9971 - val_r_square: 0.9986\n",
      "Epoch 5/20\n",
      "548/548 [==============================] - 5s 10ms/step - loss: 0.0989 - mean_squared_error: 0.0989 - NSE: 0.9948 - r_square: 0.9956 - val_loss: 0.0440 - val_mean_squared_error: 0.0440 - val_NSE: 0.9979 - val_r_square: 0.9988\n",
      "Epoch 6/20\n",
      "548/548 [==============================] - 6s 10ms/step - loss: 0.0977 - mean_squared_error: 0.0977 - NSE: 0.9948 - r_square: 0.9959 - val_loss: 0.0340 - val_mean_squared_error: 0.0340 - val_NSE: 0.9983 - val_r_square: 0.9989\n",
      "Epoch 7/20\n",
      "548/548 [==============================] - 5s 10ms/step - loss: 0.0869 - mean_squared_error: 0.0869 - NSE: 0.9954 - r_square: 0.9962 - val_loss: 0.0358 - val_mean_squared_error: 0.0358 - val_NSE: 0.9983 - val_r_square: 0.9991\n",
      "Epoch 8/20\n",
      "548/548 [==============================] - 6s 10ms/step - loss: 0.0871 - mean_squared_error: 0.0871 - NSE: 0.9955 - r_square: 0.9965 - val_loss: 0.0360 - val_mean_squared_error: 0.0360 - val_NSE: 0.9982 - val_r_square: 0.9990\n"
     ]
    }
   ],
   "source": [
    "# Train the model\n",
    "lstm_model, lstm_history = create_train_lstm_model(\n",
    "    X_train=X_train,\n",
    "    y_train=y_train,\n",
    "    X_val=X_val,\n",
    "    y_val=y_val\n",
    ")"
   ]
  },
  {
   "cell_type": "markdown",
   "id": "f1dae3b2",
   "metadata": {},
   "source": [
    "## Predictions"
   ]
  },
  {
   "cell_type": "code",
   "execution_count": 25,
   "id": "500bd0c5",
   "metadata": {},
   "outputs": [
    {
     "data": {
      "text/plain": [
       "array([[ 7.  ,  2.  , 12.  , ..., 21.27,  1.  ,  0.  ],\n",
       "       [ 7.  ,  2.  , 12.  , ..., 11.91,  0.  ,  1.  ],\n",
       "       [ 7.  ,  2.  , 13.  , ..., 21.26,  1.  ,  0.  ],\n",
       "       ...,\n",
       "       [12.  , 31.  , 22.  , ..., 12.44,  0.  ,  1.  ],\n",
       "       [12.  , 31.  , 23.  , ..., 21.18,  1.  ,  0.  ],\n",
       "       [12.  , 31.  , 23.  , ..., 12.44,  0.  ,  1.  ]])"
      ]
     },
     "execution_count": 25,
     "metadata": {},
     "output_type": "execute_result"
    }
   ],
   "source": [
    "X_test"
   ]
  },
  {
   "cell_type": "code",
   "execution_count": 26,
   "id": "0b00ed2c",
   "metadata": {},
   "outputs": [
    {
     "data": {
      "text/plain": [
       "(8760, 11)"
      ]
     },
     "execution_count": 26,
     "metadata": {},
     "output_type": "execute_result"
    }
   ],
   "source": [
    "X_test.shape"
   ]
  },
  {
   "cell_type": "code",
   "execution_count": 27,
   "id": "a4ec2a6e",
   "metadata": {},
   "outputs": [
    {
     "data": {
      "text/plain": [
       "array([[[ 7.  ,  2.  , 12.  , ..., 21.27,  1.  ,  0.  ]],\n",
       "\n",
       "       [[ 7.  ,  2.  , 12.  , ..., 11.91,  0.  ,  1.  ]],\n",
       "\n",
       "       [[ 7.  ,  2.  , 13.  , ..., 21.26,  1.  ,  0.  ]],\n",
       "\n",
       "       ...,\n",
       "\n",
       "       [[12.  , 31.  , 22.  , ..., 12.44,  0.  ,  1.  ]],\n",
       "\n",
       "       [[12.  , 31.  , 23.  , ..., 21.18,  1.  ,  0.  ]],\n",
       "\n",
       "       [[12.  , 31.  , 23.  , ..., 12.44,  0.  ,  1.  ]]])"
      ]
     },
     "execution_count": 27,
     "metadata": {},
     "output_type": "execute_result"
    }
   ],
   "source": [
    "X_test_lstm = X_test.reshape((X_test.shape[0], 1, X_test.shape[1]))\n",
    "X_test_lstm"
   ]
  },
  {
   "cell_type": "code",
   "execution_count": 28,
   "id": "e3f66d94",
   "metadata": {},
   "outputs": [
    {
     "data": {
      "text/plain": [
       "(8760, 1, 11)"
      ]
     },
     "execution_count": 28,
     "metadata": {},
     "output_type": "execute_result"
    }
   ],
   "source": [
    "X_test_lstm.shape"
   ]
  },
  {
   "cell_type": "code",
   "execution_count": 29,
   "id": "8a390de8",
   "metadata": {},
   "outputs": [
    {
     "data": {
      "text/plain": [
       "<tf.Tensor: shape=(8760, 1), dtype=float32, numpy=\n",
       "array([[21.178875],\n",
       "       [11.925777],\n",
       "       [21.18138 ],\n",
       "       ...,\n",
       "       [12.373778],\n",
       "       [21.204393],\n",
       "       [12.366587]], dtype=float32)>"
      ]
     },
     "execution_count": 29,
     "metadata": {},
     "output_type": "execute_result"
    }
   ],
   "source": [
    "predictions = lstm_model(X_test_lstm)\n",
    "predictions"
   ]
  },
  {
   "cell_type": "code",
   "execution_count": 30,
   "id": "d6e11211",
   "metadata": {},
   "outputs": [
    {
     "data": {
      "text/plain": [
       "(8760,)"
      ]
     },
     "execution_count": 30,
     "metadata": {},
     "output_type": "execute_result"
    }
   ],
   "source": [
    "predictions = np.array(predictions).reshape(-1)\n",
    "predictions.shape"
   ]
  },
  {
   "cell_type": "code",
   "execution_count": 31,
   "id": "91759d63",
   "metadata": {},
   "outputs": [
    {
     "data": {
      "text/plain": [
       "(array([21.26, 11.89, 21.26, ..., 12.44, 21.18, 12.44]), (8760,))"
      ]
     },
     "execution_count": 31,
     "metadata": {},
     "output_type": "execute_result"
    }
   ],
   "source": [
    "y_test, y_test.shape"
   ]
  },
  {
   "cell_type": "code",
   "execution_count": 32,
   "id": "c8dd7746",
   "metadata": {},
   "outputs": [
    {
     "data": {
      "text/plain": [
       "array([11.89, 11.87, 11.85, ..., 12.44, 12.44, 12.44])"
      ]
     },
     "execution_count": 32,
     "metadata": {},
     "output_type": "execute_result"
    }
   ],
   "source": [
    "sto_nino_test = y_test[1::2]\n",
    "sto_nino_test"
   ]
  },
  {
   "cell_type": "code",
   "execution_count": 33,
   "id": "adcf40d9",
   "metadata": {},
   "outputs": [
    {
     "data": {
      "text/plain": [
       "array([11.925777, 11.904332, 11.912008, ..., 12.384869, 12.373778,\n",
       "       12.366587], dtype=float32)"
      ]
     },
     "execution_count": 33,
     "metadata": {},
     "output_type": "execute_result"
    }
   ],
   "source": [
    "sto_nino_pred = predictions[1::2]\n",
    "sto_nino_pred"
   ]
  },
  {
   "cell_type": "code",
   "execution_count": 34,
   "id": "8a21f977",
   "metadata": {},
   "outputs": [
    {
     "data": {
      "text/plain": [
       "0.8934890357368762"
      ]
     },
     "execution_count": 34,
     "metadata": {},
     "output_type": "execute_result"
    }
   ],
   "source": [
    "SS_res = np.sum(np.square(sto_nino_test - sto_nino_pred)) \n",
    "SS_tot = np.sum(np.square(sto_nino_test - np.mean(sto_nino_test))) \n",
    "\n",
    "sto_nino_nse =  1 - SS_res/SS_tot\n",
    "sto_nino_nse"
   ]
  },
  {
   "cell_type": "code",
   "execution_count": 35,
   "id": "c93fafe5",
   "metadata": {},
   "outputs": [
    {
     "data": {
      "text/plain": [
       "0.03306942594081966"
      ]
     },
     "execution_count": 35,
     "metadata": {},
     "output_type": "execute_result"
    }
   ],
   "source": [
    "sto_nino_mse = np.mean(np.square(sto_nino_test-sto_nino_pred))\n",
    "sto_nino_mse"
   ]
  },
  {
   "cell_type": "code",
   "execution_count": 36,
   "id": "1f9e77ac",
   "metadata": {},
   "outputs": [
    {
     "data": {
      "image/png": "[encoded data removed]",
      "text/plain": [
       "<Figure size 640x480 with 1 Axes>"
      ]
     },
     "metadata": {},
     "output_type": "display_data"
    }
   ],
   "source": [
    "plt.plot(sto_nino_test, label='Observed Values')\n",
    "plt.plot(sto_nino_pred, label='Predicted Values', alpha=0.5, linewidth=0.5)\n",
    "plt.legend()\n",
    "plt.show()"
   ]
  },
  {
   "cell_type": "code",
   "execution_count": 37,
   "id": "9d48069f",
   "metadata": {},
   "outputs": [
    {
     "data": {
      "text/plain": [
       "array([21.26, 21.26, 21.25, ..., 21.18, 21.18, 21.18])"
      ]
     },
     "execution_count": 37,
     "metadata": {},
     "output_type": "execute_result"
    }
   ],
   "source": [
    "montalban_test = y_test[::2]\n",
    "montalban_test"
   ]
  },
  {
   "cell_type": "code",
   "execution_count": 38,
   "id": "928c7f16",
   "metadata": {},
   "outputs": [
    {
     "data": {
      "text/plain": [
       "array([21.178875, 21.18138 , 21.19168 , ..., 21.253447, 21.233398,\n",
       "       21.204393], dtype=float32)"
      ]
     },
     "execution_count": 38,
     "metadata": {},
     "output_type": "execute_result"
    }
   ],
   "source": [
    "montalban_pred = predictions[::2]\n",
    "montalban_pred"
   ]
  },
  {
   "cell_type": "code",
   "execution_count": 39,
   "id": "307158a8",
   "metadata": {},
   "outputs": [
    {
     "data": {
      "text/plain": [
       "0.5329959532687177"
      ]
     },
     "execution_count": 39,
     "metadata": {},
     "output_type": "execute_result"
    }
   ],
   "source": [
    "SS_res = np.sum(np.square(montalban_test - montalban_pred)) \n",
    "SS_tot = np.sum(np.square(montalban_test - np.mean(montalban_test))) \n",
    "\n",
    "montalban_nse =  1 - SS_res/SS_tot\n",
    "montalban_nse"
   ]
  },
  {
   "cell_type": "code",
   "execution_count": 40,
   "id": "10a42a47",
   "metadata": {},
   "outputs": [
    {
     "data": {
      "text/plain": [
       "0.14200816199245808"
      ]
     },
     "execution_count": 40,
     "metadata": {},
     "output_type": "execute_result"
    }
   ],
   "source": [
    "montalban_mse = np.mean(np.square(montalban_test-montalban_pred))\n",
    "montalban_mse"
   ]
  },
  {
   "cell_type": "code",
   "execution_count": 41,
   "id": "dce789b3",
   "metadata": {},
   "outputs": [
    {
     "data": {
      "image/png": "[encoded data removed]",
      "text/plain": [
       "<Figure size 640x480 with 1 Axes>"
      ]
     },
     "metadata": {},
     "output_type": "display_data"
    }
   ],
   "source": [
    "plt.plot(montalban_test, label='Observed Values')\n",
    "plt.plot(montalban_pred, label='Predicted Values', alpha=0.5, linewidth=0.5)\n",
    "plt.legend()\n",
    "plt.show()"
   ]
  },
  {
   "cell_type": "code",
   "execution_count": 42,
   "id": "e056f867",
   "metadata": {},
   "outputs": [
    {
     "data": {
      "text/plain": [
       "(0.08753879396663887, 0.713242494502797)"
      ]
     },
     "execution_count": 42,
     "metadata": {},
     "output_type": "execute_result"
    }
   ],
   "source": [
    "mse = (sto_nino_mse + montalban_mse)/2\n",
    "nse = (sto_nino_nse + montalban_nse)/2\n",
    "\n",
    "mse, nse"
   ]
  },
  {
   "cell_type": "code",
   "execution_count": 43,
   "id": "89100443",
   "metadata": {},
   "outputs": [],
   "source": [
    "np.savetxt('results/no_window_lag1_sto_nino.csv', sto_nino_pred, delimiter=',', fmt='%.4f')"
   ]
  },
  {
   "cell_type": "code",
   "execution_count": 44,
   "id": "2554f73e",
   "metadata": {},
   "outputs": [],
   "source": [
    "np.savetxt('results/no_window_lag1_montalban.csv', montalban_pred, delimiter=',', fmt='%.4f')"
   ]
  },
  {
   "cell_type": "code",
   "execution_count": null,
   "id": "2bef23fe",
   "metadata": {},
   "outputs": [],
   "source": []
  }
 ],
 "metadata": {
  "kernelspec": {
   "display_name": "Python 3 (ipykernel)",
   "language": "python",
   "name": "python3"
  },
  "language_info": {
   "codemirror_mode": {
    "name": "ipython",
    "version": 3
   },
   "file_extension": ".py",
   "mimetype": "text/x-python",
   "name": "python",
   "nbconvert_exporter": "python",
   "pygments_lexer": "ipython3",
   "version": "3.9.13"
  }
 },
 "nbformat": 4,
 "nbformat_minor": 5
}
