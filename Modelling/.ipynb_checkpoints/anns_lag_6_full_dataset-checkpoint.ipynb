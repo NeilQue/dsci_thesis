{
 "cells": [
  {
   "cell_type": "code",
   "execution_count": 1,
   "id": "a2f21732",
   "metadata": {},
   "outputs": [],
   "source": [
    "import tensorflow as tf\n",
    "import pandas as pd\n",
    "import os\n",
    "import numpy as np\n",
    "import matplotlib.pyplot as plt\n",
    "from random import seed\n",
    "from tensorflow.keras import models\n",
    "from tensorflow.keras import layers\n",
    "from tensorflow.keras import backend as K\n",
    "tf.compat.v1.experimental.output_all_intermediates(True)"
   ]
  },
  {
   "cell_type": "code",
   "execution_count": 2,
   "id": "f689ccd1",
   "metadata": {},
   "outputs": [],
   "source": [
    "tf.random.set_seed(36)"
   ]
  },
  {
   "cell_type": "markdown",
   "id": "3a94961d",
   "metadata": {},
   "source": [
    "## Dataset"
   ]
  },
  {
   "cell_type": "code",
   "execution_count": 3,
   "id": "370d05d4",
   "metadata": {},
   "outputs": [],
   "source": [
    "BASE_DIR_PATH = '../Datasets'\n",
    "DATASET_FILE = os.path.join(BASE_DIR_PATH, '2016_2017_sto_nino_and_montalban_lag_6.csv')"
   ]
  },
  {
   "cell_type": "code",
   "execution_count": 4,
   "id": "2424b4d0",
   "metadata": {},
   "outputs": [
    {
     "data": {
      "text/html": [
       "<div>\n",
       "<style scoped>\n",
       "    .dataframe tbody tr th:only-of-type {\n",
       "        vertical-align: middle;\n",
       "    }\n",
       "\n",
       "    .dataframe tbody tr th {\n",
       "        vertical-align: top;\n",
       "    }\n",
       "\n",
       "    .dataframe thead th {\n",
       "        text-align: right;\n",
       "    }\n",
       "</style>\n",
       "<table border=\"1\" class=\"dataframe\">\n",
       "  <thead>\n",
       "    <tr style=\"text-align: right;\">\n",
       "      <th></th>\n",
       "      <th>Unnamed: 0</th>\n",
       "      <th>month</th>\n",
       "      <th>day</th>\n",
       "      <th>hour</th>\n",
       "      <th>Station</th>\n",
       "      <th>Rainfall_Aries</th>\n",
       "      <th>Rainfall_Boso</th>\n",
       "      <th>Rainfall_Campana</th>\n",
       "      <th>Rainfall_Nangka</th>\n",
       "      <th>Rainfall_Oro</th>\n",
       "      <th>Waterlevel</th>\n",
       "      <th>Waterlevel_t-1</th>\n",
       "      <th>Waterlevel_t-2</th>\n",
       "      <th>Waterlevel_t-3</th>\n",
       "      <th>Waterlevel_t-4</th>\n",
       "      <th>Waterlevel_t-5</th>\n",
       "      <th>Waterlevel_t-6</th>\n",
       "    </tr>\n",
       "  </thead>\n",
       "  <tbody>\n",
       "    <tr>\n",
       "      <th>0</th>\n",
       "      <td>0</td>\n",
       "      <td>1</td>\n",
       "      <td>1</td>\n",
       "      <td>0</td>\n",
       "      <td>Montalban</td>\n",
       "      <td>0</td>\n",
       "      <td>1</td>\n",
       "      <td>2</td>\n",
       "      <td>0</td>\n",
       "      <td>0</td>\n",
       "      <td>21.03</td>\n",
       "      <td>NaN</td>\n",
       "      <td>NaN</td>\n",
       "      <td>NaN</td>\n",
       "      <td>NaN</td>\n",
       "      <td>NaN</td>\n",
       "      <td>NaN</td>\n",
       "    </tr>\n",
       "    <tr>\n",
       "      <th>1</th>\n",
       "      <td>1</td>\n",
       "      <td>1</td>\n",
       "      <td>1</td>\n",
       "      <td>0</td>\n",
       "      <td>Sto_Nino</td>\n",
       "      <td>0</td>\n",
       "      <td>1</td>\n",
       "      <td>2</td>\n",
       "      <td>0</td>\n",
       "      <td>0</td>\n",
       "      <td>12.18</td>\n",
       "      <td>NaN</td>\n",
       "      <td>NaN</td>\n",
       "      <td>NaN</td>\n",
       "      <td>NaN</td>\n",
       "      <td>NaN</td>\n",
       "      <td>NaN</td>\n",
       "    </tr>\n",
       "    <tr>\n",
       "      <th>2</th>\n",
       "      <td>2</td>\n",
       "      <td>1</td>\n",
       "      <td>1</td>\n",
       "      <td>1</td>\n",
       "      <td>Montalban</td>\n",
       "      <td>0</td>\n",
       "      <td>1</td>\n",
       "      <td>1</td>\n",
       "      <td>1</td>\n",
       "      <td>0</td>\n",
       "      <td>21.03</td>\n",
       "      <td>21.03</td>\n",
       "      <td>NaN</td>\n",
       "      <td>NaN</td>\n",
       "      <td>NaN</td>\n",
       "      <td>NaN</td>\n",
       "      <td>NaN</td>\n",
       "    </tr>\n",
       "    <tr>\n",
       "      <th>3</th>\n",
       "      <td>3</td>\n",
       "      <td>1</td>\n",
       "      <td>1</td>\n",
       "      <td>1</td>\n",
       "      <td>Sto_Nino</td>\n",
       "      <td>0</td>\n",
       "      <td>1</td>\n",
       "      <td>1</td>\n",
       "      <td>1</td>\n",
       "      <td>0</td>\n",
       "      <td>12.19</td>\n",
       "      <td>12.18</td>\n",
       "      <td>NaN</td>\n",
       "      <td>NaN</td>\n",
       "      <td>NaN</td>\n",
       "      <td>NaN</td>\n",
       "      <td>NaN</td>\n",
       "    </tr>\n",
       "    <tr>\n",
       "      <th>4</th>\n",
       "      <td>4</td>\n",
       "      <td>1</td>\n",
       "      <td>1</td>\n",
       "      <td>2</td>\n",
       "      <td>Montalban</td>\n",
       "      <td>1</td>\n",
       "      <td>1</td>\n",
       "      <td>1</td>\n",
       "      <td>0</td>\n",
       "      <td>1</td>\n",
       "      <td>21.03</td>\n",
       "      <td>21.03</td>\n",
       "      <td>21.03</td>\n",
       "      <td>NaN</td>\n",
       "      <td>NaN</td>\n",
       "      <td>NaN</td>\n",
       "      <td>NaN</td>\n",
       "    </tr>\n",
       "    <tr>\n",
       "      <th>...</th>\n",
       "      <td>...</td>\n",
       "      <td>...</td>\n",
       "      <td>...</td>\n",
       "      <td>...</td>\n",
       "      <td>...</td>\n",
       "      <td>...</td>\n",
       "      <td>...</td>\n",
       "      <td>...</td>\n",
       "      <td>...</td>\n",
       "      <td>...</td>\n",
       "      <td>...</td>\n",
       "      <td>...</td>\n",
       "      <td>...</td>\n",
       "      <td>...</td>\n",
       "      <td>...</td>\n",
       "      <td>...</td>\n",
       "      <td>...</td>\n",
       "    </tr>\n",
       "    <tr>\n",
       "      <th>35035</th>\n",
       "      <td>35035</td>\n",
       "      <td>12</td>\n",
       "      <td>31</td>\n",
       "      <td>21</td>\n",
       "      <td>Sto_Nino</td>\n",
       "      <td>0</td>\n",
       "      <td>0</td>\n",
       "      <td>0</td>\n",
       "      <td>0</td>\n",
       "      <td>0</td>\n",
       "      <td>12.44</td>\n",
       "      <td>12.44</td>\n",
       "      <td>12.44</td>\n",
       "      <td>12.44</td>\n",
       "      <td>12.44</td>\n",
       "      <td>12.44</td>\n",
       "      <td>12.44</td>\n",
       "    </tr>\n",
       "    <tr>\n",
       "      <th>35036</th>\n",
       "      <td>35036</td>\n",
       "      <td>12</td>\n",
       "      <td>31</td>\n",
       "      <td>22</td>\n",
       "      <td>Montalban</td>\n",
       "      <td>0</td>\n",
       "      <td>0</td>\n",
       "      <td>0</td>\n",
       "      <td>0</td>\n",
       "      <td>0</td>\n",
       "      <td>21.18</td>\n",
       "      <td>21.18</td>\n",
       "      <td>21.18</td>\n",
       "      <td>21.18</td>\n",
       "      <td>21.18</td>\n",
       "      <td>21.18</td>\n",
       "      <td>21.18</td>\n",
       "    </tr>\n",
       "    <tr>\n",
       "      <th>35037</th>\n",
       "      <td>35037</td>\n",
       "      <td>12</td>\n",
       "      <td>31</td>\n",
       "      <td>22</td>\n",
       "      <td>Sto_Nino</td>\n",
       "      <td>0</td>\n",
       "      <td>0</td>\n",
       "      <td>0</td>\n",
       "      <td>0</td>\n",
       "      <td>0</td>\n",
       "      <td>12.44</td>\n",
       "      <td>12.44</td>\n",
       "      <td>12.44</td>\n",
       "      <td>12.44</td>\n",
       "      <td>12.44</td>\n",
       "      <td>12.44</td>\n",
       "      <td>12.44</td>\n",
       "    </tr>\n",
       "    <tr>\n",
       "      <th>35038</th>\n",
       "      <td>35038</td>\n",
       "      <td>12</td>\n",
       "      <td>31</td>\n",
       "      <td>23</td>\n",
       "      <td>Montalban</td>\n",
       "      <td>0</td>\n",
       "      <td>0</td>\n",
       "      <td>0</td>\n",
       "      <td>0</td>\n",
       "      <td>0</td>\n",
       "      <td>21.18</td>\n",
       "      <td>21.18</td>\n",
       "      <td>21.18</td>\n",
       "      <td>21.18</td>\n",
       "      <td>21.18</td>\n",
       "      <td>21.18</td>\n",
       "      <td>21.18</td>\n",
       "    </tr>\n",
       "    <tr>\n",
       "      <th>35039</th>\n",
       "      <td>35039</td>\n",
       "      <td>12</td>\n",
       "      <td>31</td>\n",
       "      <td>23</td>\n",
       "      <td>Sto_Nino</td>\n",
       "      <td>0</td>\n",
       "      <td>0</td>\n",
       "      <td>0</td>\n",
       "      <td>0</td>\n",
       "      <td>0</td>\n",
       "      <td>12.44</td>\n",
       "      <td>12.44</td>\n",
       "      <td>12.44</td>\n",
       "      <td>12.44</td>\n",
       "      <td>12.44</td>\n",
       "      <td>12.44</td>\n",
       "      <td>12.44</td>\n",
       "    </tr>\n",
       "  </tbody>\n",
       "</table>\n",
       "<p>35040 rows × 17 columns</p>\n",
       "</div>"
      ],
      "text/plain": [
       "       Unnamed: 0  month  day  hour    Station  Rainfall_Aries  Rainfall_Boso  \\\n",
       "0               0      1    1     0  Montalban               0              1   \n",
       "1               1      1    1     0   Sto_Nino               0              1   \n",
       "2               2      1    1     1  Montalban               0              1   \n",
       "3               3      1    1     1   Sto_Nino               0              1   \n",
       "4               4      1    1     2  Montalban               1              1   \n",
       "...           ...    ...  ...   ...        ...             ...            ...   \n",
       "35035       35035     12   31    21   Sto_Nino               0              0   \n",
       "35036       35036     12   31    22  Montalban               0              0   \n",
       "35037       35037     12   31    22   Sto_Nino               0              0   \n",
       "35038       35038     12   31    23  Montalban               0              0   \n",
       "35039       35039     12   31    23   Sto_Nino               0              0   \n",
       "\n",
       "       Rainfall_Campana  Rainfall_Nangka  Rainfall_Oro  Waterlevel  \\\n",
       "0                     2                0             0       21.03   \n",
       "1                     2                0             0       12.18   \n",
       "2                     1                1             0       21.03   \n",
       "3                     1                1             0       12.19   \n",
       "4                     1                0             1       21.03   \n",
       "...                 ...              ...           ...         ...   \n",
       "35035                 0                0             0       12.44   \n",
       "35036                 0                0             0       21.18   \n",
       "35037                 0                0             0       12.44   \n",
       "35038                 0                0             0       21.18   \n",
       "35039                 0                0             0       12.44   \n",
       "\n",
       "       Waterlevel_t-1  Waterlevel_t-2  Waterlevel_t-3  Waterlevel_t-4  \\\n",
       "0                 NaN             NaN             NaN             NaN   \n",
       "1                 NaN             NaN             NaN             NaN   \n",
       "2               21.03             NaN             NaN             NaN   \n",
       "3               12.18             NaN             NaN             NaN   \n",
       "4               21.03           21.03             NaN             NaN   \n",
       "...               ...             ...             ...             ...   \n",
       "35035           12.44           12.44           12.44           12.44   \n",
       "35036           21.18           21.18           21.18           21.18   \n",
       "35037           12.44           12.44           12.44           12.44   \n",
       "35038           21.18           21.18           21.18           21.18   \n",
       "35039           12.44           12.44           12.44           12.44   \n",
       "\n",
       "       Waterlevel_t-5  Waterlevel_t-6  \n",
       "0                 NaN             NaN  \n",
       "1                 NaN             NaN  \n",
       "2                 NaN             NaN  \n",
       "3                 NaN             NaN  \n",
       "4                 NaN             NaN  \n",
       "...               ...             ...  \n",
       "35035           12.44           12.44  \n",
       "35036           21.18           21.18  \n",
       "35037           12.44           12.44  \n",
       "35038           21.18           21.18  \n",
       "35039           12.44           12.44  \n",
       "\n",
       "[35040 rows x 17 columns]"
      ]
     },
     "execution_count": 4,
     "metadata": {},
     "output_type": "execute_result"
    }
   ],
   "source": [
    "df = pd.read_csv(DATASET_FILE)\n",
    "df"
   ]
  },
  {
   "cell_type": "code",
   "execution_count": 5,
   "id": "677125a9",
   "metadata": {},
   "outputs": [
    {
     "data": {
      "text/html": [
       "<div>\n",
       "<style scoped>\n",
       "    .dataframe tbody tr th:only-of-type {\n",
       "        vertical-align: middle;\n",
       "    }\n",
       "\n",
       "    .dataframe tbody tr th {\n",
       "        vertical-align: top;\n",
       "    }\n",
       "\n",
       "    .dataframe thead th {\n",
       "        text-align: right;\n",
       "    }\n",
       "</style>\n",
       "<table border=\"1\" class=\"dataframe\">\n",
       "  <thead>\n",
       "    <tr style=\"text-align: right;\">\n",
       "      <th></th>\n",
       "      <th>Unnamed: 0</th>\n",
       "      <th>month</th>\n",
       "      <th>day</th>\n",
       "      <th>hour</th>\n",
       "      <th>Rainfall_Aries</th>\n",
       "      <th>Rainfall_Boso</th>\n",
       "      <th>Rainfall_Campana</th>\n",
       "      <th>Rainfall_Nangka</th>\n",
       "      <th>Rainfall_Oro</th>\n",
       "      <th>Waterlevel</th>\n",
       "      <th>Waterlevel_t-1</th>\n",
       "      <th>Waterlevel_t-2</th>\n",
       "      <th>Waterlevel_t-3</th>\n",
       "      <th>Waterlevel_t-4</th>\n",
       "      <th>Waterlevel_t-5</th>\n",
       "      <th>Waterlevel_t-6</th>\n",
       "      <th>Station_Montalban</th>\n",
       "      <th>Station_Sto_Nino</th>\n",
       "    </tr>\n",
       "  </thead>\n",
       "  <tbody>\n",
       "    <tr>\n",
       "      <th>0</th>\n",
       "      <td>0</td>\n",
       "      <td>1</td>\n",
       "      <td>1</td>\n",
       "      <td>0</td>\n",
       "      <td>0</td>\n",
       "      <td>1</td>\n",
       "      <td>2</td>\n",
       "      <td>0</td>\n",
       "      <td>0</td>\n",
       "      <td>21.03</td>\n",
       "      <td>NaN</td>\n",
       "      <td>NaN</td>\n",
       "      <td>NaN</td>\n",
       "      <td>NaN</td>\n",
       "      <td>NaN</td>\n",
       "      <td>NaN</td>\n",
       "      <td>1</td>\n",
       "      <td>0</td>\n",
       "    </tr>\n",
       "    <tr>\n",
       "      <th>1</th>\n",
       "      <td>1</td>\n",
       "      <td>1</td>\n",
       "      <td>1</td>\n",
       "      <td>0</td>\n",
       "      <td>0</td>\n",
       "      <td>1</td>\n",
       "      <td>2</td>\n",
       "      <td>0</td>\n",
       "      <td>0</td>\n",
       "      <td>12.18</td>\n",
       "      <td>NaN</td>\n",
       "      <td>NaN</td>\n",
       "      <td>NaN</td>\n",
       "      <td>NaN</td>\n",
       "      <td>NaN</td>\n",
       "      <td>NaN</td>\n",
       "      <td>0</td>\n",
       "      <td>1</td>\n",
       "    </tr>\n",
       "    <tr>\n",
       "      <th>2</th>\n",
       "      <td>2</td>\n",
       "      <td>1</td>\n",
       "      <td>1</td>\n",
       "      <td>1</td>\n",
       "      <td>0</td>\n",
       "      <td>1</td>\n",
       "      <td>1</td>\n",
       "      <td>1</td>\n",
       "      <td>0</td>\n",
       "      <td>21.03</td>\n",
       "      <td>21.03</td>\n",
       "      <td>NaN</td>\n",
       "      <td>NaN</td>\n",
       "      <td>NaN</td>\n",
       "      <td>NaN</td>\n",
       "      <td>NaN</td>\n",
       "      <td>1</td>\n",
       "      <td>0</td>\n",
       "    </tr>\n",
       "    <tr>\n",
       "      <th>3</th>\n",
       "      <td>3</td>\n",
       "      <td>1</td>\n",
       "      <td>1</td>\n",
       "      <td>1</td>\n",
       "      <td>0</td>\n",
       "      <td>1</td>\n",
       "      <td>1</td>\n",
       "      <td>1</td>\n",
       "      <td>0</td>\n",
       "      <td>12.19</td>\n",
       "      <td>12.18</td>\n",
       "      <td>NaN</td>\n",
       "      <td>NaN</td>\n",
       "      <td>NaN</td>\n",
       "      <td>NaN</td>\n",
       "      <td>NaN</td>\n",
       "      <td>0</td>\n",
       "      <td>1</td>\n",
       "    </tr>\n",
       "    <tr>\n",
       "      <th>4</th>\n",
       "      <td>4</td>\n",
       "      <td>1</td>\n",
       "      <td>1</td>\n",
       "      <td>2</td>\n",
       "      <td>1</td>\n",
       "      <td>1</td>\n",
       "      <td>1</td>\n",
       "      <td>0</td>\n",
       "      <td>1</td>\n",
       "      <td>21.03</td>\n",
       "      <td>21.03</td>\n",
       "      <td>21.03</td>\n",
       "      <td>NaN</td>\n",
       "      <td>NaN</td>\n",
       "      <td>NaN</td>\n",
       "      <td>NaN</td>\n",
       "      <td>1</td>\n",
       "      <td>0</td>\n",
       "    </tr>\n",
       "    <tr>\n",
       "      <th>...</th>\n",
       "      <td>...</td>\n",
       "      <td>...</td>\n",
       "      <td>...</td>\n",
       "      <td>...</td>\n",
       "      <td>...</td>\n",
       "      <td>...</td>\n",
       "      <td>...</td>\n",
       "      <td>...</td>\n",
       "      <td>...</td>\n",
       "      <td>...</td>\n",
       "      <td>...</td>\n",
       "      <td>...</td>\n",
       "      <td>...</td>\n",
       "      <td>...</td>\n",
       "      <td>...</td>\n",
       "      <td>...</td>\n",
       "      <td>...</td>\n",
       "      <td>...</td>\n",
       "    </tr>\n",
       "    <tr>\n",
       "      <th>35035</th>\n",
       "      <td>35035</td>\n",
       "      <td>12</td>\n",
       "      <td>31</td>\n",
       "      <td>21</td>\n",
       "      <td>0</td>\n",
       "      <td>0</td>\n",
       "      <td>0</td>\n",
       "      <td>0</td>\n",
       "      <td>0</td>\n",
       "      <td>12.44</td>\n",
       "      <td>12.44</td>\n",
       "      <td>12.44</td>\n",
       "      <td>12.44</td>\n",
       "      <td>12.44</td>\n",
       "      <td>12.44</td>\n",
       "      <td>12.44</td>\n",
       "      <td>0</td>\n",
       "      <td>1</td>\n",
       "    </tr>\n",
       "    <tr>\n",
       "      <th>35036</th>\n",
       "      <td>35036</td>\n",
       "      <td>12</td>\n",
       "      <td>31</td>\n",
       "      <td>22</td>\n",
       "      <td>0</td>\n",
       "      <td>0</td>\n",
       "      <td>0</td>\n",
       "      <td>0</td>\n",
       "      <td>0</td>\n",
       "      <td>21.18</td>\n",
       "      <td>21.18</td>\n",
       "      <td>21.18</td>\n",
       "      <td>21.18</td>\n",
       "      <td>21.18</td>\n",
       "      <td>21.18</td>\n",
       "      <td>21.18</td>\n",
       "      <td>1</td>\n",
       "      <td>0</td>\n",
       "    </tr>\n",
       "    <tr>\n",
       "      <th>35037</th>\n",
       "      <td>35037</td>\n",
       "      <td>12</td>\n",
       "      <td>31</td>\n",
       "      <td>22</td>\n",
       "      <td>0</td>\n",
       "      <td>0</td>\n",
       "      <td>0</td>\n",
       "      <td>0</td>\n",
       "      <td>0</td>\n",
       "      <td>12.44</td>\n",
       "      <td>12.44</td>\n",
       "      <td>12.44</td>\n",
       "      <td>12.44</td>\n",
       "      <td>12.44</td>\n",
       "      <td>12.44</td>\n",
       "      <td>12.44</td>\n",
       "      <td>0</td>\n",
       "      <td>1</td>\n",
       "    </tr>\n",
       "    <tr>\n",
       "      <th>35038</th>\n",
       "      <td>35038</td>\n",
       "      <td>12</td>\n",
       "      <td>31</td>\n",
       "      <td>23</td>\n",
       "      <td>0</td>\n",
       "      <td>0</td>\n",
       "      <td>0</td>\n",
       "      <td>0</td>\n",
       "      <td>0</td>\n",
       "      <td>21.18</td>\n",
       "      <td>21.18</td>\n",
       "      <td>21.18</td>\n",
       "      <td>21.18</td>\n",
       "      <td>21.18</td>\n",
       "      <td>21.18</td>\n",
       "      <td>21.18</td>\n",
       "      <td>1</td>\n",
       "      <td>0</td>\n",
       "    </tr>\n",
       "    <tr>\n",
       "      <th>35039</th>\n",
       "      <td>35039</td>\n",
       "      <td>12</td>\n",
       "      <td>31</td>\n",
       "      <td>23</td>\n",
       "      <td>0</td>\n",
       "      <td>0</td>\n",
       "      <td>0</td>\n",
       "      <td>0</td>\n",
       "      <td>0</td>\n",
       "      <td>12.44</td>\n",
       "      <td>12.44</td>\n",
       "      <td>12.44</td>\n",
       "      <td>12.44</td>\n",
       "      <td>12.44</td>\n",
       "      <td>12.44</td>\n",
       "      <td>12.44</td>\n",
       "      <td>0</td>\n",
       "      <td>1</td>\n",
       "    </tr>\n",
       "  </tbody>\n",
       "</table>\n",
       "<p>35040 rows × 18 columns</p>\n",
       "</div>"
      ],
      "text/plain": [
       "       Unnamed: 0  month  day  hour  Rainfall_Aries  Rainfall_Boso  \\\n",
       "0               0      1    1     0               0              1   \n",
       "1               1      1    1     0               0              1   \n",
       "2               2      1    1     1               0              1   \n",
       "3               3      1    1     1               0              1   \n",
       "4               4      1    1     2               1              1   \n",
       "...           ...    ...  ...   ...             ...            ...   \n",
       "35035       35035     12   31    21               0              0   \n",
       "35036       35036     12   31    22               0              0   \n",
       "35037       35037     12   31    22               0              0   \n",
       "35038       35038     12   31    23               0              0   \n",
       "35039       35039     12   31    23               0              0   \n",
       "\n",
       "       Rainfall_Campana  Rainfall_Nangka  Rainfall_Oro  Waterlevel  \\\n",
       "0                     2                0             0       21.03   \n",
       "1                     2                0             0       12.18   \n",
       "2                     1                1             0       21.03   \n",
       "3                     1                1             0       12.19   \n",
       "4                     1                0             1       21.03   \n",
       "...                 ...              ...           ...         ...   \n",
       "35035                 0                0             0       12.44   \n",
       "35036                 0                0             0       21.18   \n",
       "35037                 0                0             0       12.44   \n",
       "35038                 0                0             0       21.18   \n",
       "35039                 0                0             0       12.44   \n",
       "\n",
       "       Waterlevel_t-1  Waterlevel_t-2  Waterlevel_t-3  Waterlevel_t-4  \\\n",
       "0                 NaN             NaN             NaN             NaN   \n",
       "1                 NaN             NaN             NaN             NaN   \n",
       "2               21.03             NaN             NaN             NaN   \n",
       "3               12.18             NaN             NaN             NaN   \n",
       "4               21.03           21.03             NaN             NaN   \n",
       "...               ...             ...             ...             ...   \n",
       "35035           12.44           12.44           12.44           12.44   \n",
       "35036           21.18           21.18           21.18           21.18   \n",
       "35037           12.44           12.44           12.44           12.44   \n",
       "35038           21.18           21.18           21.18           21.18   \n",
       "35039           12.44           12.44           12.44           12.44   \n",
       "\n",
       "       Waterlevel_t-5  Waterlevel_t-6  Station_Montalban  Station_Sto_Nino  \n",
       "0                 NaN             NaN                  1                 0  \n",
       "1                 NaN             NaN                  0                 1  \n",
       "2                 NaN             NaN                  1                 0  \n",
       "3                 NaN             NaN                  0                 1  \n",
       "4                 NaN             NaN                  1                 0  \n",
       "...               ...             ...                ...               ...  \n",
       "35035           12.44           12.44                  0                 1  \n",
       "35036           21.18           21.18                  1                 0  \n",
       "35037           12.44           12.44                  0                 1  \n",
       "35038           21.18           21.18                  1                 0  \n",
       "35039           12.44           12.44                  0                 1  \n",
       "\n",
       "[35040 rows x 18 columns]"
      ]
     },
     "execution_count": 5,
     "metadata": {},
     "output_type": "execute_result"
    }
   ],
   "source": [
    "df = pd.get_dummies(df)\n",
    "df"
   ]
  },
  {
   "cell_type": "code",
   "execution_count": 6,
   "id": "6fb5d81b",
   "metadata": {},
   "outputs": [],
   "source": [
    "X_data = df.drop(columns=['Unnamed: 0', 'Waterlevel'])\n",
    "X_data = X_data.values\n",
    "y_data = df['Waterlevel']\n",
    "y_data = y_data.values"
   ]
  },
  {
   "cell_type": "code",
   "execution_count": 7,
   "id": "4b66d6f6",
   "metadata": {},
   "outputs": [],
   "source": [
    "np.set_printoptions(suppress=True)"
   ]
  },
  {
   "cell_type": "code",
   "execution_count": 8,
   "id": "b49f386a",
   "metadata": {},
   "outputs": [
    {
     "data": {
      "text/plain": [
       "array([[ 1.  ,  1.  ,  0.  , ...,   nan,  1.  ,  0.  ],\n",
       "       [ 1.  ,  1.  ,  0.  , ...,   nan,  0.  ,  1.  ],\n",
       "       [ 1.  ,  1.  ,  1.  , ...,   nan,  1.  ,  0.  ],\n",
       "       ...,\n",
       "       [12.  , 31.  , 22.  , ..., 12.44,  0.  ,  1.  ],\n",
       "       [12.  , 31.  , 23.  , ..., 21.18,  1.  ,  0.  ],\n",
       "       [12.  , 31.  , 23.  , ..., 12.44,  0.  ,  1.  ]])"
      ]
     },
     "execution_count": 8,
     "metadata": {},
     "output_type": "execute_result"
    }
   ],
   "source": [
    "X_data"
   ]
  },
  {
   "cell_type": "code",
   "execution_count": 9,
   "id": "dc60a436",
   "metadata": {},
   "outputs": [
    {
     "data": {
      "text/plain": [
       "array([21.03, 12.18, 21.03, ..., 12.44, 21.18, 12.44])"
      ]
     },
     "execution_count": 9,
     "metadata": {},
     "output_type": "execute_result"
    }
   ],
   "source": [
    "y_data"
   ]
  },
  {
   "cell_type": "code",
   "execution_count": 10,
   "id": "a1cc0ee3",
   "metadata": {},
   "outputs": [],
   "source": [
    "n = len(df)"
   ]
  },
  {
   "cell_type": "code",
   "execution_count": 11,
   "id": "8d61323e",
   "metadata": {},
   "outputs": [],
   "source": [
    "X_train, y_train = X_data[:int(0.5*n)], y_data[:int(0.5*n)]\n",
    "X_val, y_val = X_data[int(0.5*n):int(0.75*n)], y_data[int(0.5*n):int(0.75*n)]\n",
    "X_test, y_test = X_data[int(0.75*n):], y_data[int(0.75*n):]"
   ]
  },
  {
   "cell_type": "code",
   "execution_count": 12,
   "id": "cd27673a",
   "metadata": {},
   "outputs": [
    {
     "data": {
      "text/plain": [
       "(17520, 16)"
      ]
     },
     "execution_count": 12,
     "metadata": {},
     "output_type": "execute_result"
    }
   ],
   "source": [
    "X_train.shape"
   ]
  },
  {
   "cell_type": "code",
   "execution_count": 13,
   "id": "0afd0355",
   "metadata": {},
   "outputs": [
    {
     "data": {
      "text/plain": [
       "array([[ 1.  ,  1.  ,  6.  , ..., 21.03,  1.  ,  0.  ],\n",
       "       [ 1.  ,  1.  ,  6.  , ..., 12.18,  0.  ,  1.  ],\n",
       "       [ 1.  ,  1.  ,  7.  , ..., 21.03,  1.  ,  0.  ],\n",
       "       ...,\n",
       "       [12.  , 31.  , 22.  , ..., 12.53,  0.  ,  1.  ],\n",
       "       [12.  , 31.  , 23.  , ..., 21.21,  1.  ,  0.  ],\n",
       "       [12.  , 31.  , 23.  , ..., 12.53,  0.  ,  1.  ]])"
      ]
     },
     "execution_count": 13,
     "metadata": {},
     "output_type": "execute_result"
    }
   ],
   "source": [
    "X_train = X_train[~np.isnan(X_train).any(axis=1)]\n",
    "X_train"
   ]
  },
  {
   "cell_type": "code",
   "execution_count": 14,
   "id": "0502a076",
   "metadata": {},
   "outputs": [
    {
     "data": {
      "text/plain": [
       "(17508, 16)"
      ]
     },
     "execution_count": 14,
     "metadata": {},
     "output_type": "execute_result"
    }
   ],
   "source": [
    "X_train.shape"
   ]
  },
  {
   "cell_type": "code",
   "execution_count": 15,
   "id": "ab22dfa1",
   "metadata": {},
   "outputs": [
    {
     "data": {
      "text/plain": [
       "(17508,)"
      ]
     },
     "execution_count": 15,
     "metadata": {},
     "output_type": "execute_result"
    }
   ],
   "source": [
    "y_train = y_train[12:]\n",
    "y_train.shape"
   ]
  },
  {
   "cell_type": "code",
   "execution_count": 16,
   "id": "986c90f7",
   "metadata": {},
   "outputs": [
    {
     "data": {
      "text/plain": [
       "(8760, 16)"
      ]
     },
     "execution_count": 16,
     "metadata": {},
     "output_type": "execute_result"
    }
   ],
   "source": [
    "X_val.shape"
   ]
  },
  {
   "cell_type": "code",
   "execution_count": 17,
   "id": "bc6c0f95",
   "metadata": {},
   "outputs": [
    {
     "data": {
      "text/plain": [
       "(8760, 16)"
      ]
     },
     "execution_count": 17,
     "metadata": {},
     "output_type": "execute_result"
    }
   ],
   "source": [
    "X_test.shape"
   ]
  },
  {
   "cell_type": "markdown",
   "id": "be832072",
   "metadata": {},
   "source": [
    "## Evaluation Metrics"
   ]
  },
  {
   "cell_type": "code",
   "execution_count": 18,
   "id": "f8774b2d",
   "metadata": {},
   "outputs": [],
   "source": [
    "def r_square(y_true, y_pred):\n",
    "    x = y_true\n",
    "    y = y_pred\n",
    "    mx = K.mean(x, axis=0)\n",
    "    my = K.mean(y, axis=0)\n",
    "    xm, ym = x - mx, y - my\n",
    "    r_num = K.square(K.sum(xm * ym))\n",
    "    x_square_sum = K.sum(xm * xm)\n",
    "    y_square_sum = K.sum(ym * ym)\n",
    "    r_den = (x_square_sum * y_square_sum) + K.epsilon()\n",
    "    \n",
    "    r = r_num / r_den\n",
    "    return r"
   ]
  },
  {
   "cell_type": "code",
   "execution_count": 19,
   "id": "6ab12271",
   "metadata": {},
   "outputs": [],
   "source": [
    "def NSE(y_true, y_pred):\n",
    "    '''\n",
    "    This is the Nash-Sutcliffe Efficiency Coefficient\n",
    "    '''\n",
    "    y_pred = K.flatten(y_pred)\n",
    "    y_true = K.flatten(y_true)\n",
    "\n",
    "    SS_res =  K.sum(K.square(y_true - y_pred)) \n",
    "    SS_tot = K.sum(K.square(y_true - K.mean(y_true))) \n",
    "    \n",
    "    return ( 1 - SS_res/(SS_tot + K.epsilon()) )"
   ]
  },
  {
   "cell_type": "markdown",
   "id": "2eebd0b4",
   "metadata": {},
   "source": [
    "## Models and Training Loops"
   ]
  },
  {
   "cell_type": "code",
   "execution_count": 20,
   "id": "12ba6be0",
   "metadata": {},
   "outputs": [],
   "source": [
    "def create_train_dnn_model(X_train, y_train, X_val, y_val, max_epochs=20, patience=2):\n",
    "    # Create the model\n",
    "    model = models.Sequential([\n",
    "        layers.Dense(64, activation='relu', input_shape=(X_train.shape[1],)),\n",
    "        layers.Dense(64, activation='relu'),\n",
    "        layers.Dense(64, activation='relu'),\n",
    "        layers.Dense(1, activation='linear')\n",
    "    ])\n",
    "    \n",
    "    # Define early stopping callback\n",
    "    early_stopping = tf.keras.callbacks.EarlyStopping(\n",
    "        monitor='val_loss',\n",
    "        patience=patience,\n",
    "        mode='min',\n",
    "        restore_best_weights=True\n",
    "    )\n",
    "    \n",
    "    # Compile the model\n",
    "    model.compile(\n",
    "        optimizer='adam',\n",
    "        loss=tf.keras.losses.MeanSquaredError(),\n",
    "        metrics=[tf.keras.metrics.MeanSquaredError(), NSE, r_square]\n",
    "    )\n",
    "    \n",
    "    # Train the model\n",
    "    history = model.fit(\n",
    "        X_train, y_train,\n",
    "        validation_data=(X_val, y_val),\n",
    "        epochs=max_epochs,\n",
    "        callbacks=[early_stopping]\n",
    "    )\n",
    "    \n",
    "    return model, history"
   ]
  },
  {
   "cell_type": "code",
   "execution_count": 21,
   "id": "547e617a",
   "metadata": {},
   "outputs": [],
   "source": [
    "def create_train_cnn_model(X_train, y_train, X_val, y_val, max_epochs=20, patience=2):\n",
    "    # Reshape input for 1D CNN\n",
    "    X_train = X_train.reshape(X_train.shape[0], X_train.shape[1], 1)\n",
    "    X_val = X_val.reshape(X_val.shape[0], X_val.shape[1], 1)\n",
    "    \n",
    "    conv_model = tf.keras.Sequential([\n",
    "        tf.keras.layers.Input(shape=(X_train.shape[1], 1)),\n",
    "        tf.keras.layers.Conv1D(filters=64, kernel_size=6, activation='relu'),\n",
    "        tf.keras.layers.MaxPooling1D(pool_size=2),\n",
    "        tf.keras.layers.Flatten(),\n",
    "        tf.keras.layers.Dense(units=64, activation='relu'),\n",
    "        tf.keras.layers.Dense(units=64, activation='relu'),\n",
    "        tf.keras.layers.Dense(units=1)\n",
    "    ])\n",
    "    \n",
    "    early_stopping = tf.keras.callbacks.EarlyStopping(\n",
    "        monitor='val_loss',\n",
    "        patience=patience,\n",
    "        mode='min',\n",
    "        restore_best_weights=True\n",
    "    )\n",
    "    \n",
    "    conv_model.compile(\n",
    "        optimizer='adam',\n",
    "        loss=tf.keras.losses.MeanSquaredError(),\n",
    "        metrics=[tf.keras.metrics.MeanSquaredError(), NSE, r_square]\n",
    "    )\n",
    "    \n",
    "    conv_history = conv_model.fit(\n",
    "        X_train, y_train,\n",
    "        validation_data=(X_val, y_val),\n",
    "        epochs=max_epochs,\n",
    "        callbacks=[early_stopping]\n",
    "    )\n",
    "    \n",
    "    return conv_model, conv_history"
   ]
  },
  {
   "cell_type": "code",
   "execution_count": 22,
   "id": "9723b52a",
   "metadata": {},
   "outputs": [],
   "source": [
    "def create_train_lstm_model(X_train, y_train, X_val, y_val, max_epochs=20, patience=2):\n",
    "    if len(X_train.shape) == 2:\n",
    "        X_train = X_train.reshape((X_train.shape[0], 1, X_train.shape[1]))\n",
    "    if len(X_val.shape) == 2:\n",
    "        X_val = X_val.reshape((X_val.shape[0], 1, X_val.shape[1]))\n",
    "            \n",
    "    lstm_model = tf.keras.models.Sequential([\n",
    "        tf.keras.layers.LSTM(64, input_shape=(X_train.shape[1], X_train.shape[2]), return_sequences=True),\n",
    "        tf.keras.layers.Flatten(),  # Add Flatten layer to handle dimension mismatch\n",
    "        tf.keras.layers.Dense(units=64, activation='relu'),\n",
    "        tf.keras.layers.Dense(units=64, activation='relu'),\n",
    "        tf.keras.layers.Dense(units=1)\n",
    "    ])\n",
    "    \n",
    "    # Define early stopping callback\n",
    "    early_stopping = tf.keras.callbacks.EarlyStopping(\n",
    "        monitor='val_loss',\n",
    "        patience=patience,\n",
    "        mode='min',\n",
    "        restore_best_weights=True\n",
    "    )\n",
    "    \n",
    "    # Compile the model\n",
    "    lstm_model.compile(\n",
    "        optimizer='adam',\n",
    "        loss=tf.keras.losses.MeanSquaredError(),\n",
    "        metrics=[tf.keras.metrics.MeanSquaredError(), NSE, r_square]\n",
    "    )\n",
    "    \n",
    "    # Train the model\n",
    "    lstm_history = lstm_model.fit(\n",
    "        X_train, y_train,\n",
    "        validation_data=(X_val, y_val),\n",
    "        epochs=max_epochs,\n",
    "        callbacks=[early_stopping]\n",
    "    )\n",
    "    \n",
    "    return lstm_model, lstm_history"
   ]
  },
  {
   "cell_type": "markdown",
   "id": "11a81259",
   "metadata": {},
   "source": [
    "## Training"
   ]
  },
  {
   "cell_type": "code",
   "execution_count": 23,
   "id": "2eae6209",
   "metadata": {},
   "outputs": [
    {
     "name": "stdout",
     "output_type": "stream",
     "text": [
      "Epoch 1/20\n",
      "548/548 [==============================] - 13s 12ms/step - loss: 2.8924 - mean_squared_error: 2.8924 - NSE: 0.8470 - r_square: 0.9822 - val_loss: 0.0158 - val_mean_squared_error: 0.0158 - val_NSE: 0.9992 - val_r_square: 0.9994\n",
      "Epoch 2/20\n",
      "548/548 [==============================] - 5s 9ms/step - loss: 0.0646 - mean_squared_error: 0.0646 - NSE: 0.9966 - r_square: 0.9970 - val_loss: 0.0179 - val_mean_squared_error: 0.0179 - val_NSE: 0.9991 - val_r_square: 0.9995\n",
      "Epoch 3/20\n",
      "548/548 [==============================] - 4s 8ms/step - loss: 0.0594 - mean_squared_error: 0.0594 - NSE: 0.9969 - r_square: 0.9974 - val_loss: 0.0104 - val_mean_squared_error: 0.0104 - val_NSE: 0.9995 - val_r_square: 0.9996\n",
      "Epoch 4/20\n",
      "548/548 [==============================] - 5s 8ms/step - loss: 0.0639 - mean_squared_error: 0.0639 - NSE: 0.9966 - r_square: 0.9974 - val_loss: 0.0113 - val_mean_squared_error: 0.0113 - val_NSE: 0.9994 - val_r_square: 0.9996\n",
      "Epoch 5/20\n",
      "548/548 [==============================] - 6s 10ms/step - loss: 0.0594 - mean_squared_error: 0.0594 - NSE: 0.9969 - r_square: 0.9974 - val_loss: 0.0110 - val_mean_squared_error: 0.0110 - val_NSE: 0.9995 - val_r_square: 0.9996\n"
     ]
    }
   ],
   "source": [
    "dnn_model, dnn_history = create_train_dnn_model(\n",
    "    X_train=X_train,\n",
    "    y_train=y_train,\n",
    "    X_val=X_val,\n",
    "    y_val=y_val\n",
    ")"
   ]
  },
  {
   "cell_type": "code",
   "execution_count": 24,
   "id": "b563a5c1",
   "metadata": {},
   "outputs": [
    {
     "name": "stdout",
     "output_type": "stream",
     "text": [
      "Epoch 1/20\n",
      "548/548 [==============================] - 9s 10ms/step - loss: 3.4225 - mean_squared_error: 3.4225 - NSE: 0.8193 - r_square: 0.9905 - val_loss: 0.0112 - val_mean_squared_error: 0.0112 - val_NSE: 0.9994 - val_r_square: 0.9996\n",
      "Epoch 2/20\n",
      "548/548 [==============================] - 5s 9ms/step - loss: 0.0587 - mean_squared_error: 0.0587 - NSE: 0.9969 - r_square: 0.9976 - val_loss: 0.0296 - val_mean_squared_error: 0.0296 - val_NSE: 0.9986 - val_r_square: 0.9997\n",
      "Epoch 3/20\n",
      "548/548 [==============================] - 5s 9ms/step - loss: 0.0559 - mean_squared_error: 0.0559 - NSE: 0.9971 - r_square: 0.9977 - val_loss: 0.0070 - val_mean_squared_error: 0.0070 - val_NSE: 0.9997 - val_r_square: 0.9997\n",
      "Epoch 4/20\n",
      "548/548 [==============================] - 5s 9ms/step - loss: 0.0584 - mean_squared_error: 0.0584 - NSE: 0.9969 - r_square: 0.9978 - val_loss: 0.0186 - val_mean_squared_error: 0.0186 - val_NSE: 0.9991 - val_r_square: 0.9993\n",
      "Epoch 5/20\n",
      "548/548 [==============================] - 5s 9ms/step - loss: 0.0593 - mean_squared_error: 0.0593 - NSE: 0.9969 - r_square: 0.9977 - val_loss: 0.0229 - val_mean_squared_error: 0.0229 - val_NSE: 0.9989 - val_r_square: 0.9997\n"
     ]
    }
   ],
   "source": [
    "cnn_model, cnn_history = create_train_cnn_model(\n",
    "    X_train=X_train,\n",
    "    y_train=y_train,\n",
    "    X_val=X_val,\n",
    "    y_val=y_val\n",
    ")"
   ]
  },
  {
   "cell_type": "code",
   "execution_count": 25,
   "id": "d33ce17f",
   "metadata": {},
   "outputs": [
    {
     "name": "stdout",
     "output_type": "stream",
     "text": [
      "Epoch 1/20\n",
      "548/548 [==============================] - 14s 14ms/step - loss: 20.3365 - mean_squared_error: 20.3365 - NSE: -0.0873 - r_square: 0.8565 - val_loss: 0.0908 - val_mean_squared_error: 0.0908 - val_NSE: 0.9954 - val_r_square: 0.9983\n",
      "Epoch 2/20\n",
      "548/548 [==============================] - 8s 14ms/step - loss: 0.1580 - mean_squared_error: 0.1580 - NSE: 0.9917 - r_square: 0.9931 - val_loss: 0.0707 - val_mean_squared_error: 0.0707 - val_NSE: 0.9964 - val_r_square: 0.9989\n",
      "Epoch 3/20\n",
      "548/548 [==============================] - 10s 19ms/step - loss: 0.1383 - mean_squared_error: 0.1383 - NSE: 0.9927 - r_square: 0.9942 - val_loss: 0.0519 - val_mean_squared_error: 0.0519 - val_NSE: 0.9974 - val_r_square: 0.9990\n",
      "Epoch 4/20\n",
      "548/548 [==============================] - 5s 9ms/step - loss: 0.1208 - mean_squared_error: 0.1208 - NSE: 0.9936 - r_square: 0.9948 - val_loss: 0.1002 - val_mean_squared_error: 0.1002 - val_NSE: 0.9951 - val_r_square: 0.9992\n",
      "Epoch 5/20\n",
      "548/548 [==============================] - 5s 10ms/step - loss: 0.1134 - mean_squared_error: 0.1134 - NSE: 0.9941 - r_square: 0.9954 - val_loss: 0.0556 - val_mean_squared_error: 0.0556 - val_NSE: 0.9973 - val_r_square: 0.9992\n"
     ]
    }
   ],
   "source": [
    "# Train the model\n",
    "lstm_model, lstm_history = create_train_lstm_model(\n",
    "    X_train=X_train,\n",
    "    y_train=y_train,\n",
    "    X_val=X_val,\n",
    "    y_val=y_val\n",
    ")"
   ]
  },
  {
   "cell_type": "markdown",
   "id": "f1dae3b2",
   "metadata": {},
   "source": [
    "## Predictions"
   ]
  },
  {
   "cell_type": "code",
   "execution_count": 26,
   "id": "500bd0c5",
   "metadata": {},
   "outputs": [
    {
     "data": {
      "text/plain": [
       "array([[ 7.  ,  2.  , 12.  , ..., 21.29,  1.  ,  0.  ],\n",
       "       [ 7.  ,  2.  , 12.  , ..., 11.92,  0.  ,  1.  ],\n",
       "       [ 7.  ,  2.  , 13.  , ..., 21.29,  1.  ,  0.  ],\n",
       "       ...,\n",
       "       [12.  , 31.  , 22.  , ..., 12.44,  0.  ,  1.  ],\n",
       "       [12.  , 31.  , 23.  , ..., 21.18,  1.  ,  0.  ],\n",
       "       [12.  , 31.  , 23.  , ..., 12.44,  0.  ,  1.  ]])"
      ]
     },
     "execution_count": 26,
     "metadata": {},
     "output_type": "execute_result"
    }
   ],
   "source": [
    "X_test"
   ]
  },
  {
   "cell_type": "code",
   "execution_count": 27,
   "id": "0b00ed2c",
   "metadata": {},
   "outputs": [
    {
     "data": {
      "text/plain": [
       "(8760, 16)"
      ]
     },
     "execution_count": 27,
     "metadata": {},
     "output_type": "execute_result"
    }
   ],
   "source": [
    "X_test.shape"
   ]
  },
  {
   "cell_type": "code",
   "execution_count": 28,
   "id": "a4ec2a6e",
   "metadata": {},
   "outputs": [
    {
     "data": {
      "text/plain": [
       "array([[[ 7.  ,  2.  , 12.  , ..., 21.29,  1.  ,  0.  ]],\n",
       "\n",
       "       [[ 7.  ,  2.  , 12.  , ..., 11.92,  0.  ,  1.  ]],\n",
       "\n",
       "       [[ 7.  ,  2.  , 13.  , ..., 21.29,  1.  ,  0.  ]],\n",
       "\n",
       "       ...,\n",
       "\n",
       "       [[12.  , 31.  , 22.  , ..., 12.44,  0.  ,  1.  ]],\n",
       "\n",
       "       [[12.  , 31.  , 23.  , ..., 21.18,  1.  ,  0.  ]],\n",
       "\n",
       "       [[12.  , 31.  , 23.  , ..., 12.44,  0.  ,  1.  ]]])"
      ]
     },
     "execution_count": 28,
     "metadata": {},
     "output_type": "execute_result"
    }
   ],
   "source": [
    "X_test_lstm = X_test.reshape((X_test.shape[0], 1, X_test.shape[1]))\n",
    "X_test_lstm"
   ]
  },
  {
   "cell_type": "code",
   "execution_count": 29,
   "id": "e3f66d94",
   "metadata": {},
   "outputs": [
    {
     "data": {
      "text/plain": [
       "(8760, 1, 16)"
      ]
     },
     "execution_count": 29,
     "metadata": {},
     "output_type": "execute_result"
    }
   ],
   "source": [
    "X_test_lstm.shape"
   ]
  },
  {
   "cell_type": "code",
   "execution_count": 30,
   "id": "8a390de8",
   "metadata": {},
   "outputs": [
    {
     "data": {
      "text/plain": [
       "<tf.Tensor: shape=(8760, 1), dtype=float32, numpy=\n",
       "array([[21.13167 ],\n",
       "       [11.895599],\n",
       "       [21.146538],\n",
       "       ...,\n",
       "       [12.400999],\n",
       "       [21.07584 ],\n",
       "       [12.380995]], dtype=float32)>"
      ]
     },
     "execution_count": 30,
     "metadata": {},
     "output_type": "execute_result"
    }
   ],
   "source": [
    "predictions = lstm_model(X_test_lstm)\n",
    "predictions"
   ]
  },
  {
   "cell_type": "code",
   "execution_count": 31,
   "id": "d6e11211",
   "metadata": {},
   "outputs": [
    {
     "data": {
      "text/plain": [
       "(8760,)"
      ]
     },
     "execution_count": 31,
     "metadata": {},
     "output_type": "execute_result"
    }
   ],
   "source": [
    "predictions = np.array(predictions).reshape(-1)\n",
    "predictions.shape"
   ]
  },
  {
   "cell_type": "code",
   "execution_count": 32,
   "id": "91759d63",
   "metadata": {},
   "outputs": [
    {
     "data": {
      "text/plain": [
       "(array([21.26, 11.89, 21.26, ..., 12.44, 21.18, 12.44]), (8760,))"
      ]
     },
     "execution_count": 32,
     "metadata": {},
     "output_type": "execute_result"
    }
   ],
   "source": [
    "y_test, y_test.shape"
   ]
  },
  {
   "cell_type": "code",
   "execution_count": 33,
   "id": "c8dd7746",
   "metadata": {},
   "outputs": [
    {
     "data": {
      "text/plain": [
       "array([11.89, 11.87, 11.85, ..., 12.44, 12.44, 12.44])"
      ]
     },
     "execution_count": 33,
     "metadata": {},
     "output_type": "execute_result"
    }
   ],
   "source": [
    "sto_nino_test = y_test[1::2]\n",
    "sto_nino_test"
   ]
  },
  {
   "cell_type": "code",
   "execution_count": 34,
   "id": "adcf40d9",
   "metadata": {},
   "outputs": [
    {
     "data": {
      "text/plain": [
       "array([11.895599, 11.904021, 11.902581, ..., 12.418304, 12.400999,\n",
       "       12.380995], dtype=float32)"
      ]
     },
     "execution_count": 34,
     "metadata": {},
     "output_type": "execute_result"
    }
   ],
   "source": [
    "sto_nino_pred = predictions[1::2]\n",
    "sto_nino_pred"
   ]
  },
  {
   "cell_type": "code",
   "execution_count": 35,
   "id": "8a21f977",
   "metadata": {},
   "outputs": [
    {
     "data": {
      "text/plain": [
       "0.8288135866067381"
      ]
     },
     "execution_count": 35,
     "metadata": {},
     "output_type": "execute_result"
    }
   ],
   "source": [
    "SS_res = np.sum(np.square(sto_nino_test - sto_nino_pred)) \n",
    "SS_tot = np.sum(np.square(sto_nino_test - np.mean(sto_nino_test))) \n",
    "\n",
    "sto_nino_nse =  1 - SS_res/SS_tot\n",
    "sto_nino_nse"
   ]
  },
  {
   "cell_type": "code",
   "execution_count": 36,
   "id": "c93fafe5",
   "metadata": {},
   "outputs": [
    {
     "data": {
      "text/plain": [
       "0.05314979973139697"
      ]
     },
     "execution_count": 36,
     "metadata": {},
     "output_type": "execute_result"
    }
   ],
   "source": [
    "sto_nino_mse = np.mean(np.square(sto_nino_test-sto_nino_pred))\n",
    "sto_nino_mse"
   ]
  },
  {
   "cell_type": "code",
   "execution_count": 37,
   "id": "1f9e77ac",
   "metadata": {},
   "outputs": [
    {
     "data": {
      "image/png": "[encoded data removed]",
      "text/plain": [
       "<Figure size 640x480 with 1 Axes>"
      ]
     },
     "metadata": {},
     "output_type": "display_data"
    }
   ],
   "source": [
    "plt.plot(sto_nino_test, label='Observed Values')\n",
    "plt.plot(sto_nino_pred, label='Predicted Values', alpha=0.5, linewidth=0.5)\n",
    "plt.legend()\n",
    "plt.show()"
   ]
  },
  {
   "cell_type": "code",
   "execution_count": 38,
   "id": "9d48069f",
   "metadata": {},
   "outputs": [
    {
     "data": {
      "text/plain": [
       "array([21.26, 21.26, 21.25, ..., 21.18, 21.18, 21.18])"
      ]
     },
     "execution_count": 38,
     "metadata": {},
     "output_type": "execute_result"
    }
   ],
   "source": [
    "montalban_test = y_test[::2]\n",
    "montalban_test"
   ]
  },
  {
   "cell_type": "code",
   "execution_count": 39,
   "id": "928c7f16",
   "metadata": {},
   "outputs": [
    {
     "data": {
      "text/plain": [
       "array([21.13167 , 21.146538, 21.16218 , ..., 21.187841, 21.136316,\n",
       "       21.07584 ], dtype=float32)"
      ]
     },
     "execution_count": 39,
     "metadata": {},
     "output_type": "execute_result"
    }
   ],
   "source": [
    "montalban_pred = predictions[::2]\n",
    "montalban_pred"
   ]
  },
  {
   "cell_type": "code",
   "execution_count": 40,
   "id": "307158a8",
   "metadata": {},
   "outputs": [
    {
     "data": {
      "text/plain": [
       "0.4385138810533139"
      ]
     },
     "execution_count": 40,
     "metadata": {},
     "output_type": "execute_result"
    }
   ],
   "source": [
    "SS_res = np.sum(np.square(montalban_test - montalban_pred)) \n",
    "SS_tot = np.sum(np.square(montalban_test - np.mean(montalban_test))) \n",
    "\n",
    "montalban_nse =  1 - SS_res/SS_tot\n",
    "montalban_nse"
   ]
  },
  {
   "cell_type": "code",
   "execution_count": 41,
   "id": "10a42a47",
   "metadata": {},
   "outputs": [
    {
     "data": {
      "text/plain": [
       "0.1707385884426352"
      ]
     },
     "execution_count": 41,
     "metadata": {},
     "output_type": "execute_result"
    }
   ],
   "source": [
    "montalban_mse = np.mean(np.square(montalban_test-montalban_pred))\n",
    "montalban_mse"
   ]
  },
  {
   "cell_type": "code",
   "execution_count": 42,
   "id": "dce789b3",
   "metadata": {},
   "outputs": [
    {
     "data": {
      "image/png": "[encoded data removed]",
      "text/plain": [
       "<Figure size 640x480 with 1 Axes>"
      ]
     },
     "metadata": {},
     "output_type": "display_data"
    }
   ],
   "source": [
    "plt.plot(montalban_test, label='Observed Values')\n",
    "plt.plot(montalban_pred, label='Predicted Values', alpha=0.5, linewidth=0.5)\n",
    "plt.legend()\n",
    "plt.show()"
   ]
  },
  {
   "cell_type": "code",
   "execution_count": 43,
   "id": "e056f867",
   "metadata": {},
   "outputs": [
    {
     "data": {
      "text/plain": [
       "(0.11194419408701609, 0.6336637338300259)"
      ]
     },
     "execution_count": 43,
     "metadata": {},
     "output_type": "execute_result"
    }
   ],
   "source": [
    "mse = (sto_nino_mse + montalban_mse)/2\n",
    "nse = (sto_nino_nse + montalban_nse)/2\n",
    "\n",
    "mse, nse"
   ]
  },
  {
   "cell_type": "code",
   "execution_count": 44,
   "id": "89100443",
   "metadata": {},
   "outputs": [],
   "source": [
    "np.savetxt('results/no_window_lag6_sto_nino.csv', sto_nino_pred, delimiter=',', fmt='%.4f')"
   ]
  },
  {
   "cell_type": "code",
   "execution_count": 45,
   "id": "26e70ae1",
   "metadata": {},
   "outputs": [],
   "source": [
    "np.savetxt('results/no_window_lag6_montalban.csv', montalban_pred, delimiter=',', fmt='%.4f')"
   ]
  },
  {
   "cell_type": "code",
   "execution_count": null,
   "id": "f1994c9d",
   "metadata": {},
   "outputs": [],
   "source": []
  }
 ],
 "metadata": {
  "kernelspec": {
   "display_name": "Python 3 (ipykernel)",
   "language": "python",
   "name": "python3"
  },
  "language_info": {
   "codemirror_mode": {
    "name": "ipython",
    "version": 3
   },
   "file_extension": ".py",
   "mimetype": "text/x-python",
   "name": "python",
   "nbconvert_exporter": "python",
   "pygments_lexer": "ipython3",
   "version": "3.9.13"
  }
 },
 "nbformat": 4,
 "nbformat_minor": 5
}
