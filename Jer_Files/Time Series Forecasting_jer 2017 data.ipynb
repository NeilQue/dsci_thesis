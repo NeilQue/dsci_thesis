{
 "cells": [
  {
   "cell_type": "markdown",
   "metadata": {},
   "source": [
    "# 2017 Data"
   ]
  },
  {
   "cell_type": "code",
   "execution_count": 1,
   "metadata": {},
   "outputs": [],
   "source": [
    "import os\n",
    "import datetime\n",
    "from random import seed\n",
    "import IPython\n",
    "import IPython.display\n",
    "import matplotlib as mpl\n",
    "import matplotlib.pyplot as plt\n",
    "import numpy as np\n",
    "import pandas as pd\n",
    "import seaborn as sns\n",
    "import tensorflow as tf\n",
    "from tensorflow.keras import backend as K\n",
    "from tensorflow.keras import models\n",
    "from tensorflow.keras import layers"
   ]
  },
  {
   "cell_type": "code",
   "execution_count": 2,
   "metadata": {},
   "outputs": [],
   "source": [
    "seed(36)"
   ]
  },
  {
   "cell_type": "code",
   "execution_count": 3,
   "metadata": {},
   "outputs": [
    {
     "data": {
      "text/html": [
       "<div>\n",
       "<style scoped>\n",
       "    .dataframe tbody tr th:only-of-type {\n",
       "        vertical-align: middle;\n",
       "    }\n",
       "\n",
       "    .dataframe tbody tr th {\n",
       "        vertical-align: top;\n",
       "    }\n",
       "\n",
       "    .dataframe thead th {\n",
       "        text-align: right;\n",
       "    }\n",
       "</style>\n",
       "<table border=\"1\" class=\"dataframe\">\n",
       "  <thead>\n",
       "    <tr style=\"text-align: right;\">\n",
       "      <th></th>\n",
       "      <th>Unnamed: 0</th>\n",
       "      <th>index</th>\n",
       "      <th>Rainfall_Aries</th>\n",
       "      <th>Rainfall_Boso</th>\n",
       "      <th>Rainfall_Campana</th>\n",
       "      <th>Rainfall_Nangka</th>\n",
       "      <th>Rainfall_Oro</th>\n",
       "      <th>Waterlevel_Sto_Nino</th>\n",
       "      <th>Waterlevel_Montalban</th>\n",
       "      <th>Discharge_Sto_Nino</th>\n",
       "      <th>Discharge_San_Jose</th>\n",
       "      <th>Cross_Section_Sto_Nino</th>\n",
       "      <th>Cross_Section_Montalban</th>\n",
       "      <th>Velocity_Sto_Nino</th>\n",
       "      <th>Velocity_Montalban</th>\n",
       "      <th>datetime</th>\n",
       "      <th>t</th>\n",
       "      <th>x</th>\n",
       "    </tr>\n",
       "  </thead>\n",
       "  <tbody>\n",
       "    <tr>\n",
       "      <th>0</th>\n",
       "      <td>0</td>\n",
       "      <td>0</td>\n",
       "      <td>0</td>\n",
       "      <td>1</td>\n",
       "      <td>1</td>\n",
       "      <td>0</td>\n",
       "      <td>0</td>\n",
       "      <td>12.53</td>\n",
       "      <td>21.39</td>\n",
       "      <td>22695.465738</td>\n",
       "      <td>25325.458412</td>\n",
       "      <td>826.98</td>\n",
       "      <td>641.7</td>\n",
       "      <td>27.443790</td>\n",
       "      <td>39.466197</td>\n",
       "      <td>2017-01-01 00:00:00</td>\n",
       "      <td>0.0</td>\n",
       "      <td>14420</td>\n",
       "    </tr>\n",
       "    <tr>\n",
       "      <th>1</th>\n",
       "      <td>1</td>\n",
       "      <td>365</td>\n",
       "      <td>0</td>\n",
       "      <td>0</td>\n",
       "      <td>0</td>\n",
       "      <td>1</td>\n",
       "      <td>0</td>\n",
       "      <td>12.53</td>\n",
       "      <td>21.39</td>\n",
       "      <td>22695.465738</td>\n",
       "      <td>25325.458412</td>\n",
       "      <td>826.98</td>\n",
       "      <td>641.7</td>\n",
       "      <td>27.443790</td>\n",
       "      <td>39.466197</td>\n",
       "      <td>2017-01-01 01:00:00</td>\n",
       "      <td>3600.0</td>\n",
       "      <td>14420</td>\n",
       "    </tr>\n",
       "    <tr>\n",
       "      <th>2</th>\n",
       "      <td>2</td>\n",
       "      <td>730</td>\n",
       "      <td>0</td>\n",
       "      <td>0</td>\n",
       "      <td>0</td>\n",
       "      <td>0</td>\n",
       "      <td>0</td>\n",
       "      <td>12.53</td>\n",
       "      <td>21.39</td>\n",
       "      <td>22695.465738</td>\n",
       "      <td>25325.458412</td>\n",
       "      <td>826.98</td>\n",
       "      <td>641.7</td>\n",
       "      <td>27.443790</td>\n",
       "      <td>39.466197</td>\n",
       "      <td>2017-01-01 02:00:00</td>\n",
       "      <td>7200.0</td>\n",
       "      <td>14420</td>\n",
       "    </tr>\n",
       "    <tr>\n",
       "      <th>3</th>\n",
       "      <td>3</td>\n",
       "      <td>1095</td>\n",
       "      <td>0</td>\n",
       "      <td>0</td>\n",
       "      <td>1</td>\n",
       "      <td>1</td>\n",
       "      <td>0</td>\n",
       "      <td>12.53</td>\n",
       "      <td>21.39</td>\n",
       "      <td>22695.465738</td>\n",
       "      <td>25325.458412</td>\n",
       "      <td>826.98</td>\n",
       "      <td>641.7</td>\n",
       "      <td>27.443790</td>\n",
       "      <td>39.466197</td>\n",
       "      <td>2017-01-01 03:00:00</td>\n",
       "      <td>10800.0</td>\n",
       "      <td>14420</td>\n",
       "    </tr>\n",
       "    <tr>\n",
       "      <th>4</th>\n",
       "      <td>4</td>\n",
       "      <td>1460</td>\n",
       "      <td>0</td>\n",
       "      <td>0</td>\n",
       "      <td>0</td>\n",
       "      <td>0</td>\n",
       "      <td>0</td>\n",
       "      <td>12.53</td>\n",
       "      <td>21.39</td>\n",
       "      <td>22695.465738</td>\n",
       "      <td>25325.458412</td>\n",
       "      <td>826.98</td>\n",
       "      <td>641.7</td>\n",
       "      <td>27.443790</td>\n",
       "      <td>39.466197</td>\n",
       "      <td>2017-01-01 04:00:00</td>\n",
       "      <td>14400.0</td>\n",
       "      <td>14420</td>\n",
       "    </tr>\n",
       "    <tr>\n",
       "      <th>...</th>\n",
       "      <td>...</td>\n",
       "      <td>...</td>\n",
       "      <td>...</td>\n",
       "      <td>...</td>\n",
       "      <td>...</td>\n",
       "      <td>...</td>\n",
       "      <td>...</td>\n",
       "      <td>...</td>\n",
       "      <td>...</td>\n",
       "      <td>...</td>\n",
       "      <td>...</td>\n",
       "      <td>...</td>\n",
       "      <td>...</td>\n",
       "      <td>...</td>\n",
       "      <td>...</td>\n",
       "      <td>...</td>\n",
       "      <td>...</td>\n",
       "      <td>...</td>\n",
       "    </tr>\n",
       "    <tr>\n",
       "      <th>8755</th>\n",
       "      <td>8755</td>\n",
       "      <td>7299</td>\n",
       "      <td>0</td>\n",
       "      <td>0</td>\n",
       "      <td>0</td>\n",
       "      <td>0</td>\n",
       "      <td>0</td>\n",
       "      <td>12.44</td>\n",
       "      <td>21.18</td>\n",
       "      <td>18796.031116</td>\n",
       "      <td>7089.803959</td>\n",
       "      <td>821.04</td>\n",
       "      <td>635.4</td>\n",
       "      <td>22.892954</td>\n",
       "      <td>11.158017</td>\n",
       "      <td>2017-12-31 19:00:00</td>\n",
       "      <td>31518000.0</td>\n",
       "      <td>14420</td>\n",
       "    </tr>\n",
       "    <tr>\n",
       "      <th>8756</th>\n",
       "      <td>8756</td>\n",
       "      <td>7664</td>\n",
       "      <td>0</td>\n",
       "      <td>0</td>\n",
       "      <td>0</td>\n",
       "      <td>0</td>\n",
       "      <td>0</td>\n",
       "      <td>12.44</td>\n",
       "      <td>21.18</td>\n",
       "      <td>18796.031116</td>\n",
       "      <td>7089.803959</td>\n",
       "      <td>821.04</td>\n",
       "      <td>635.4</td>\n",
       "      <td>22.892954</td>\n",
       "      <td>11.158017</td>\n",
       "      <td>2017-12-31 20:00:00</td>\n",
       "      <td>31521600.0</td>\n",
       "      <td>14420</td>\n",
       "    </tr>\n",
       "    <tr>\n",
       "      <th>8757</th>\n",
       "      <td>8757</td>\n",
       "      <td>8029</td>\n",
       "      <td>0</td>\n",
       "      <td>0</td>\n",
       "      <td>0</td>\n",
       "      <td>0</td>\n",
       "      <td>0</td>\n",
       "      <td>12.44</td>\n",
       "      <td>21.18</td>\n",
       "      <td>18796.031116</td>\n",
       "      <td>7089.803959</td>\n",
       "      <td>821.04</td>\n",
       "      <td>635.4</td>\n",
       "      <td>22.892954</td>\n",
       "      <td>11.158017</td>\n",
       "      <td>2017-12-31 21:00:00</td>\n",
       "      <td>31525200.0</td>\n",
       "      <td>14420</td>\n",
       "    </tr>\n",
       "    <tr>\n",
       "      <th>8758</th>\n",
       "      <td>8758</td>\n",
       "      <td>8394</td>\n",
       "      <td>0</td>\n",
       "      <td>0</td>\n",
       "      <td>0</td>\n",
       "      <td>0</td>\n",
       "      <td>0</td>\n",
       "      <td>12.44</td>\n",
       "      <td>21.18</td>\n",
       "      <td>18796.031116</td>\n",
       "      <td>7089.803959</td>\n",
       "      <td>821.04</td>\n",
       "      <td>635.4</td>\n",
       "      <td>22.892954</td>\n",
       "      <td>11.158017</td>\n",
       "      <td>2017-12-31 22:00:00</td>\n",
       "      <td>31528800.0</td>\n",
       "      <td>14420</td>\n",
       "    </tr>\n",
       "    <tr>\n",
       "      <th>8759</th>\n",
       "      <td>8759</td>\n",
       "      <td>8759</td>\n",
       "      <td>0</td>\n",
       "      <td>0</td>\n",
       "      <td>0</td>\n",
       "      <td>0</td>\n",
       "      <td>0</td>\n",
       "      <td>12.44</td>\n",
       "      <td>21.18</td>\n",
       "      <td>18796.031116</td>\n",
       "      <td>7089.803959</td>\n",
       "      <td>821.04</td>\n",
       "      <td>635.4</td>\n",
       "      <td>22.892954</td>\n",
       "      <td>11.158017</td>\n",
       "      <td>2017-12-31 23:00:00</td>\n",
       "      <td>31532400.0</td>\n",
       "      <td>14420</td>\n",
       "    </tr>\n",
       "  </tbody>\n",
       "</table>\n",
       "<p>8760 rows × 18 columns</p>\n",
       "</div>"
      ],
      "text/plain": [
       "      Unnamed: 0  index  Rainfall_Aries  Rainfall_Boso  Rainfall_Campana  \\\n",
       "0              0      0               0              1                 1   \n",
       "1              1    365               0              0                 0   \n",
       "2              2    730               0              0                 0   \n",
       "3              3   1095               0              0                 1   \n",
       "4              4   1460               0              0                 0   \n",
       "...          ...    ...             ...            ...               ...   \n",
       "8755        8755   7299               0              0                 0   \n",
       "8756        8756   7664               0              0                 0   \n",
       "8757        8757   8029               0              0                 0   \n",
       "8758        8758   8394               0              0                 0   \n",
       "8759        8759   8759               0              0                 0   \n",
       "\n",
       "      Rainfall_Nangka  Rainfall_Oro  Waterlevel_Sto_Nino  \\\n",
       "0                   0             0                12.53   \n",
       "1                   1             0                12.53   \n",
       "2                   0             0                12.53   \n",
       "3                   1             0                12.53   \n",
       "4                   0             0                12.53   \n",
       "...               ...           ...                  ...   \n",
       "8755                0             0                12.44   \n",
       "8756                0             0                12.44   \n",
       "8757                0             0                12.44   \n",
       "8758                0             0                12.44   \n",
       "8759                0             0                12.44   \n",
       "\n",
       "      Waterlevel_Montalban  Discharge_Sto_Nino  Discharge_San_Jose  \\\n",
       "0                    21.39        22695.465738        25325.458412   \n",
       "1                    21.39        22695.465738        25325.458412   \n",
       "2                    21.39        22695.465738        25325.458412   \n",
       "3                    21.39        22695.465738        25325.458412   \n",
       "4                    21.39        22695.465738        25325.458412   \n",
       "...                    ...                 ...                 ...   \n",
       "8755                 21.18        18796.031116         7089.803959   \n",
       "8756                 21.18        18796.031116         7089.803959   \n",
       "8757                 21.18        18796.031116         7089.803959   \n",
       "8758                 21.18        18796.031116         7089.803959   \n",
       "8759                 21.18        18796.031116         7089.803959   \n",
       "\n",
       "      Cross_Section_Sto_Nino  Cross_Section_Montalban  Velocity_Sto_Nino  \\\n",
       "0                     826.98                    641.7          27.443790   \n",
       "1                     826.98                    641.7          27.443790   \n",
       "2                     826.98                    641.7          27.443790   \n",
       "3                     826.98                    641.7          27.443790   \n",
       "4                     826.98                    641.7          27.443790   \n",
       "...                      ...                      ...                ...   \n",
       "8755                  821.04                    635.4          22.892954   \n",
       "8756                  821.04                    635.4          22.892954   \n",
       "8757                  821.04                    635.4          22.892954   \n",
       "8758                  821.04                    635.4          22.892954   \n",
       "8759                  821.04                    635.4          22.892954   \n",
       "\n",
       "      Velocity_Montalban             datetime           t      x  \n",
       "0              39.466197  2017-01-01 00:00:00         0.0  14420  \n",
       "1              39.466197  2017-01-01 01:00:00      3600.0  14420  \n",
       "2              39.466197  2017-01-01 02:00:00      7200.0  14420  \n",
       "3              39.466197  2017-01-01 03:00:00     10800.0  14420  \n",
       "4              39.466197  2017-01-01 04:00:00     14400.0  14420  \n",
       "...                  ...                  ...         ...    ...  \n",
       "8755           11.158017  2017-12-31 19:00:00  31518000.0  14420  \n",
       "8756           11.158017  2017-12-31 20:00:00  31521600.0  14420  \n",
       "8757           11.158017  2017-12-31 21:00:00  31525200.0  14420  \n",
       "8758           11.158017  2017-12-31 22:00:00  31528800.0  14420  \n",
       "8759           11.158017  2017-12-31 23:00:00  31532400.0  14420  \n",
       "\n",
       "[8760 rows x 18 columns]"
      ]
     },
     "execution_count": 3,
     "metadata": {},
     "output_type": "execute_result"
    }
   ],
   "source": [
    "df = pd.read_csv(\"compiled_data_jer_edit 2017.csv\")\n",
    "df"
   ]
  },
  {
   "cell_type": "code",
   "execution_count": 4,
   "metadata": {},
   "outputs": [],
   "source": [
    "df['datetime'] = pd.to_datetime(df['datetime'], infer_datetime_format=True)\n"
   ]
  },
  {
   "cell_type": "code",
   "execution_count": 5,
   "metadata": {},
   "outputs": [
    {
     "data": {
      "text/plain": [
       "7884   2017-11-25 12:00:00\n",
       "7885   2017-11-25 13:00:00\n",
       "7886   2017-11-25 14:00:00\n",
       "7887   2017-11-25 15:00:00\n",
       "7888   2017-11-25 16:00:00\n",
       "               ...        \n",
       "8755   2017-12-31 19:00:00\n",
       "8756   2017-12-31 20:00:00\n",
       "8757   2017-12-31 21:00:00\n",
       "8758   2017-12-31 22:00:00\n",
       "8759   2017-12-31 23:00:00\n",
       "Name: datetime, Length: 876, dtype: datetime64[ns]"
      ]
     },
     "execution_count": 5,
     "metadata": {},
     "output_type": "execute_result"
    }
   ],
   "source": [
    "n = len(df)\n",
    "test = df[int(n*0.9):]\n",
    "test_dates = test['datetime']\n",
    "test_dates"
   ]
  },
  {
   "cell_type": "code",
   "execution_count": 6,
   "metadata": {},
   "outputs": [
    {
     "data": {
      "text/html": [
       "<div>\n",
       "<style scoped>\n",
       "    .dataframe tbody tr th:only-of-type {\n",
       "        vertical-align: middle;\n",
       "    }\n",
       "\n",
       "    .dataframe tbody tr th {\n",
       "        vertical-align: top;\n",
       "    }\n",
       "\n",
       "    .dataframe thead th {\n",
       "        text-align: right;\n",
       "    }\n",
       "</style>\n",
       "<table border=\"1\" class=\"dataframe\">\n",
       "  <thead>\n",
       "    <tr style=\"text-align: right;\">\n",
       "      <th></th>\n",
       "      <th>Waterlevel_Sto_Nino</th>\n",
       "      <th>Rainfall_Aries</th>\n",
       "      <th>Rainfall_Boso</th>\n",
       "      <th>Rainfall_Campana</th>\n",
       "      <th>Rainfall_Nangka</th>\n",
       "      <th>Rainfall_Oro</th>\n",
       "    </tr>\n",
       "  </thead>\n",
       "  <tbody>\n",
       "    <tr>\n",
       "      <th>0</th>\n",
       "      <td>12.53</td>\n",
       "      <td>0</td>\n",
       "      <td>1</td>\n",
       "      <td>1</td>\n",
       "      <td>0</td>\n",
       "      <td>0</td>\n",
       "    </tr>\n",
       "    <tr>\n",
       "      <th>1</th>\n",
       "      <td>12.53</td>\n",
       "      <td>0</td>\n",
       "      <td>0</td>\n",
       "      <td>0</td>\n",
       "      <td>1</td>\n",
       "      <td>0</td>\n",
       "    </tr>\n",
       "    <tr>\n",
       "      <th>2</th>\n",
       "      <td>12.53</td>\n",
       "      <td>0</td>\n",
       "      <td>0</td>\n",
       "      <td>0</td>\n",
       "      <td>0</td>\n",
       "      <td>0</td>\n",
       "    </tr>\n",
       "    <tr>\n",
       "      <th>3</th>\n",
       "      <td>12.53</td>\n",
       "      <td>0</td>\n",
       "      <td>0</td>\n",
       "      <td>1</td>\n",
       "      <td>1</td>\n",
       "      <td>0</td>\n",
       "    </tr>\n",
       "    <tr>\n",
       "      <th>4</th>\n",
       "      <td>12.53</td>\n",
       "      <td>0</td>\n",
       "      <td>0</td>\n",
       "      <td>0</td>\n",
       "      <td>0</td>\n",
       "      <td>0</td>\n",
       "    </tr>\n",
       "    <tr>\n",
       "      <th>...</th>\n",
       "      <td>...</td>\n",
       "      <td>...</td>\n",
       "      <td>...</td>\n",
       "      <td>...</td>\n",
       "      <td>...</td>\n",
       "      <td>...</td>\n",
       "    </tr>\n",
       "    <tr>\n",
       "      <th>8755</th>\n",
       "      <td>12.44</td>\n",
       "      <td>0</td>\n",
       "      <td>0</td>\n",
       "      <td>0</td>\n",
       "      <td>0</td>\n",
       "      <td>0</td>\n",
       "    </tr>\n",
       "    <tr>\n",
       "      <th>8756</th>\n",
       "      <td>12.44</td>\n",
       "      <td>0</td>\n",
       "      <td>0</td>\n",
       "      <td>0</td>\n",
       "      <td>0</td>\n",
       "      <td>0</td>\n",
       "    </tr>\n",
       "    <tr>\n",
       "      <th>8757</th>\n",
       "      <td>12.44</td>\n",
       "      <td>0</td>\n",
       "      <td>0</td>\n",
       "      <td>0</td>\n",
       "      <td>0</td>\n",
       "      <td>0</td>\n",
       "    </tr>\n",
       "    <tr>\n",
       "      <th>8758</th>\n",
       "      <td>12.44</td>\n",
       "      <td>0</td>\n",
       "      <td>0</td>\n",
       "      <td>0</td>\n",
       "      <td>0</td>\n",
       "      <td>0</td>\n",
       "    </tr>\n",
       "    <tr>\n",
       "      <th>8759</th>\n",
       "      <td>12.44</td>\n",
       "      <td>0</td>\n",
       "      <td>0</td>\n",
       "      <td>0</td>\n",
       "      <td>0</td>\n",
       "      <td>0</td>\n",
       "    </tr>\n",
       "  </tbody>\n",
       "</table>\n",
       "<p>8760 rows × 6 columns</p>\n",
       "</div>"
      ],
      "text/plain": [
       "      Waterlevel_Sto_Nino  Rainfall_Aries  Rainfall_Boso  Rainfall_Campana  \\\n",
       "0                   12.53               0              1                 1   \n",
       "1                   12.53               0              0                 0   \n",
       "2                   12.53               0              0                 0   \n",
       "3                   12.53               0              0                 1   \n",
       "4                   12.53               0              0                 0   \n",
       "...                   ...             ...            ...               ...   \n",
       "8755                12.44               0              0                 0   \n",
       "8756                12.44               0              0                 0   \n",
       "8757                12.44               0              0                 0   \n",
       "8758                12.44               0              0                 0   \n",
       "8759                12.44               0              0                 0   \n",
       "\n",
       "      Rainfall_Nangka  Rainfall_Oro  \n",
       "0                   0             0  \n",
       "1                   1             0  \n",
       "2                   0             0  \n",
       "3                   1             0  \n",
       "4                   0             0  \n",
       "...               ...           ...  \n",
       "8755                0             0  \n",
       "8756                0             0  \n",
       "8757                0             0  \n",
       "8758                0             0  \n",
       "8759                0             0  \n",
       "\n",
       "[8760 rows x 6 columns]"
      ]
     },
     "execution_count": 6,
     "metadata": {},
     "output_type": "execute_result"
    }
   ],
   "source": [
    "df = df[['Waterlevel_Sto_Nino', 'Rainfall_Aries', 'Rainfall_Boso', 'Rainfall_Campana', 'Rainfall_Nangka', 'Rainfall_Oro']]\n",
    "df"
   ]
  },
  {
   "cell_type": "code",
   "execution_count": 7,
   "metadata": {},
   "outputs": [
    {
     "name": "stdout",
     "output_type": "stream",
     "text": [
      "<class 'pandas.core.frame.DataFrame'>\n",
      "RangeIndex: 8760 entries, 0 to 8759\n",
      "Data columns (total 6 columns):\n",
      " #   Column               Non-Null Count  Dtype  \n",
      "---  ------               --------------  -----  \n",
      " 0   Waterlevel_Sto_Nino  8760 non-null   float64\n",
      " 1   Rainfall_Aries       8760 non-null   int64  \n",
      " 2   Rainfall_Boso        8760 non-null   int64  \n",
      " 3   Rainfall_Campana     8760 non-null   int64  \n",
      " 4   Rainfall_Nangka      8760 non-null   int64  \n",
      " 5   Rainfall_Oro         8760 non-null   int64  \n",
      "dtypes: float64(1), int64(5)\n",
      "memory usage: 410.8 KB\n"
     ]
    }
   ],
   "source": [
    "df.info()"
   ]
  },
  {
   "cell_type": "code",
   "execution_count": 8,
   "metadata": {},
   "outputs": [
    {
     "data": {
      "text/html": [
       "<div>\n",
       "<style scoped>\n",
       "    .dataframe tbody tr th:only-of-type {\n",
       "        vertical-align: middle;\n",
       "    }\n",
       "\n",
       "    .dataframe tbody tr th {\n",
       "        vertical-align: top;\n",
       "    }\n",
       "\n",
       "    .dataframe thead th {\n",
       "        text-align: right;\n",
       "    }\n",
       "</style>\n",
       "<table border=\"1\" class=\"dataframe\">\n",
       "  <thead>\n",
       "    <tr style=\"text-align: right;\">\n",
       "      <th></th>\n",
       "      <th>count</th>\n",
       "      <th>mean</th>\n",
       "      <th>std</th>\n",
       "      <th>min</th>\n",
       "      <th>25%</th>\n",
       "      <th>50%</th>\n",
       "      <th>75%</th>\n",
       "      <th>max</th>\n",
       "    </tr>\n",
       "  </thead>\n",
       "  <tbody>\n",
       "    <tr>\n",
       "      <th>Waterlevel_Sto_Nino</th>\n",
       "      <td>8760.0</td>\n",
       "      <td>12.295843</td>\n",
       "      <td>0.554816</td>\n",
       "      <td>11.46</td>\n",
       "      <td>11.82</td>\n",
       "      <td>12.255</td>\n",
       "      <td>12.53</td>\n",
       "      <td>16.04</td>\n",
       "    </tr>\n",
       "    <tr>\n",
       "      <th>Rainfall_Aries</th>\n",
       "      <td>8760.0</td>\n",
       "      <td>0.264840</td>\n",
       "      <td>1.906885</td>\n",
       "      <td>0.00</td>\n",
       "      <td>0.00</td>\n",
       "      <td>0.000</td>\n",
       "      <td>0.00</td>\n",
       "      <td>63.00</td>\n",
       "    </tr>\n",
       "    <tr>\n",
       "      <th>Rainfall_Boso</th>\n",
       "      <td>8760.0</td>\n",
       "      <td>0.256507</td>\n",
       "      <td>1.910506</td>\n",
       "      <td>0.00</td>\n",
       "      <td>0.00</td>\n",
       "      <td>0.000</td>\n",
       "      <td>0.00</td>\n",
       "      <td>50.00</td>\n",
       "    </tr>\n",
       "    <tr>\n",
       "      <th>Rainfall_Campana</th>\n",
       "      <td>8760.0</td>\n",
       "      <td>0.247717</td>\n",
       "      <td>1.706801</td>\n",
       "      <td>0.00</td>\n",
       "      <td>0.00</td>\n",
       "      <td>0.000</td>\n",
       "      <td>0.00</td>\n",
       "      <td>50.00</td>\n",
       "    </tr>\n",
       "    <tr>\n",
       "      <th>Rainfall_Nangka</th>\n",
       "      <td>8760.0</td>\n",
       "      <td>0.307763</td>\n",
       "      <td>2.310577</td>\n",
       "      <td>0.00</td>\n",
       "      <td>0.00</td>\n",
       "      <td>0.000</td>\n",
       "      <td>0.00</td>\n",
       "      <td>62.00</td>\n",
       "    </tr>\n",
       "    <tr>\n",
       "      <th>Rainfall_Oro</th>\n",
       "      <td>8760.0</td>\n",
       "      <td>0.311073</td>\n",
       "      <td>2.526745</td>\n",
       "      <td>0.00</td>\n",
       "      <td>0.00</td>\n",
       "      <td>0.000</td>\n",
       "      <td>0.00</td>\n",
       "      <td>129.00</td>\n",
       "    </tr>\n",
       "  </tbody>\n",
       "</table>\n",
       "</div>"
      ],
      "text/plain": [
       "                      count       mean       std    min    25%     50%    75%  \\\n",
       "Waterlevel_Sto_Nino  8760.0  12.295843  0.554816  11.46  11.82  12.255  12.53   \n",
       "Rainfall_Aries       8760.0   0.264840  1.906885   0.00   0.00   0.000   0.00   \n",
       "Rainfall_Boso        8760.0   0.256507  1.910506   0.00   0.00   0.000   0.00   \n",
       "Rainfall_Campana     8760.0   0.247717  1.706801   0.00   0.00   0.000   0.00   \n",
       "Rainfall_Nangka      8760.0   0.307763  2.310577   0.00   0.00   0.000   0.00   \n",
       "Rainfall_Oro         8760.0   0.311073  2.526745   0.00   0.00   0.000   0.00   \n",
       "\n",
       "                        max  \n",
       "Waterlevel_Sto_Nino   16.04  \n",
       "Rainfall_Aries        63.00  \n",
       "Rainfall_Boso         50.00  \n",
       "Rainfall_Campana      50.00  \n",
       "Rainfall_Nangka       62.00  \n",
       "Rainfall_Oro         129.00  "
      ]
     },
     "execution_count": 8,
     "metadata": {},
     "output_type": "execute_result"
    }
   ],
   "source": [
    "df.describe().transpose()"
   ]
  },
  {
   "cell_type": "code",
   "execution_count": 9,
   "metadata": {},
   "outputs": [
    {
     "data": {
      "text/plain": [
       "6"
      ]
     },
     "execution_count": 9,
     "metadata": {},
     "output_type": "execute_result"
    }
   ],
   "source": [
    "n = len(df)\n",
    "train_df = df[0:int(n*0.7)]\n",
    "val_df = df[int(n*0.7):int(n*0.9)]\n",
    "test_df = df[int(n*0.9):]\n",
    "\n",
    "num_features = df.shape[1]\n",
    "num_features"
   ]
  },
  {
   "cell_type": "code",
   "execution_count": 10,
   "metadata": {},
   "outputs": [],
   "source": [
    "class WindowGenerator():\n",
    "    def __init__(self, input_width, label_width, shift, train_df=train_df, val_df=val_df, test_df=test_df, label_columns=None):\n",
    "        # Store the raw data.\n",
    "        self.train_df = train_df\n",
    "        self.val_df = val_df\n",
    "        self.test_df = test_df\n",
    "\n",
    "        # Work out the label column indices.\n",
    "        self.label_columns = label_columns\n",
    "        if label_columns is not None:\n",
    "            self.label_columns_indices = {name: i for i, name in\n",
    "                                        enumerate(label_columns)}\n",
    "        self.column_indices = {name: i for i, name in\n",
    "                               enumerate(train_df.columns)}\n",
    "\n",
    "        # Work out the window parameters.\n",
    "        self.input_width = input_width\n",
    "        self.label_width = label_width\n",
    "        self.shift = shift\n",
    "\n",
    "        self.total_window_size = input_width + shift\n",
    "\n",
    "        self.input_slice = slice(0, input_width)\n",
    "        self.input_indices = np.arange(self.total_window_size)[self.input_slice]\n",
    "\n",
    "        self.label_start = self.total_window_size - self.label_width\n",
    "        self.labels_slice = slice(self.label_start, None)\n",
    "        self.label_indices = np.arange(self.total_window_size)[self.labels_slice]\n",
    "\n",
    "    def __repr__(self):\n",
    "        return '\\n'.join([\n",
    "            f'Total window size: {self.total_window_size}',\n",
    "            f'Input indices: {self.input_indices}',\n",
    "            f'Label indices: {self.label_indices}',\n",
    "            f'Label column name(s): {self.label_columns}'])\n",
    "    \n",
    "    def split_window(self, features):\n",
    "        inputs = features[:, self.input_slice, :]\n",
    "        labels = features[:, self.labels_slice, :]\n",
    "        if self.label_columns is not None:\n",
    "            labels = tf.stack(\n",
    "                [labels[:, :, self.column_indices[name]] for name in self.label_columns],\n",
    "                axis=-1)\n",
    "\n",
    "        # Slicing doesn't preserve static shape information, so set the shapes\n",
    "        # manually. This way the `tf.data.Datasets` are easier to inspect.\n",
    "        inputs.set_shape([None, self.input_width, None])\n",
    "        labels.set_shape([None, self.label_width, None])\n",
    "\n",
    "        return inputs, labels\n",
    "    \n",
    "    def make_dataset(self, data):\n",
    "        data = np.array(data, dtype=np.float32)\n",
    "        ds = tf.keras.utils.timeseries_dataset_from_array(\n",
    "          data=data,\n",
    "          targets=None,\n",
    "          sequence_length=self.total_window_size,\n",
    "          sequence_stride=1,\n",
    "          shuffle=True,\n",
    "          batch_size=32,)\n",
    "\n",
    "        ds = ds.map(self.split_window)\n",
    "\n",
    "        return ds\n",
    "    \n",
    "    # properties to access them as tf datasets\n",
    "    @property\n",
    "    def train(self):\n",
    "        return self.make_dataset(self.train_df)\n",
    "\n",
    "    @property\n",
    "    def val(self):\n",
    "        return self.make_dataset(self.val_df)\n",
    "\n",
    "    @property\n",
    "    def test(self):\n",
    "        return self.make_dataset(self.test_df)\n",
    "\n",
    "    @property\n",
    "    def example(self):\n",
    "        \"\"\"Get and cache an example batch of `inputs, labels` for plotting.\"\"\"\n",
    "        result = getattr(self, '_example', None)\n",
    "        if result is None:\n",
    "            # No example batch was found, so get one from the `.train` dataset\n",
    "            result = next(iter(self.train))\n",
    "            # And cache it for next time\n",
    "            self._example = result\n",
    "        return result\n",
    "\n",
    "    def plot(self, model=None, plot_col='Waterlevel_Sto_Nino', max_subplots=3):\n",
    "        inputs, labels = self.example\n",
    "        plt.figure(figsize=(12, 8))\n",
    "        plot_col_index = self.column_indices[plot_col]\n",
    "        max_n = min(max_subplots, len(inputs))\n",
    "        for n in range(max_n):\n",
    "            plt.subplot(max_n, 1, n+1)\n",
    "            plt.ylabel(f'{plot_col}')\n",
    "            plt.plot(self.input_indices, inputs[n, :, plot_col_index],\n",
    "                     label='Inputs', marker='.', zorder=-10)\n",
    "\n",
    "            if self.label_columns:\n",
    "                label_col_index = self.label_columns_indices.get(plot_col, None)\n",
    "            else:\n",
    "                label_col_index = plot_col_index\n",
    "\n",
    "            if label_col_index is None:\n",
    "                continue\n",
    "\n",
    "            plt.scatter(self.label_indices, labels[n, :, label_col_index],\n",
    "                        edgecolors='k', label='Labels', c='#2ca02c', s=64)\n",
    "            if model is not None:\n",
    "                predictions = model(inputs)\n",
    "                plt.scatter(self.label_indices, predictions[n, :, label_col_index],\n",
    "                          marker='X', edgecolors='k', label='Predictions',\n",
    "                          c='#ff7f0e', s=64)\n",
    "\n",
    "            if n == 0:\n",
    "                plt.legend()\n",
    "\n",
    "        plt.xlabel('Time [h]')\n"
   ]
  },
  {
   "cell_type": "code",
   "execution_count": 11,
   "metadata": {},
   "outputs": [
    {
     "data": {
      "text/plain": [
       "Total window size: 7\n",
       "Input indices: [0 1 2 3 4 5]\n",
       "Label indices: [1 2 3 4 5 6]\n",
       "Label column name(s): ['Waterlevel_Sto_Nino']"
      ]
     },
     "execution_count": 11,
     "metadata": {},
     "output_type": "execute_result"
    }
   ],
   "source": [
    "wide_window = WindowGenerator(input_width = 6, label_width = 6, shift = 1, label_columns = ['Waterlevel_Sto_Nino'])\n",
    "wide_window\n"
   ]
  },
  {
   "cell_type": "code",
   "execution_count": 12,
   "metadata": {},
   "outputs": [
    {
     "name": "stdout",
     "output_type": "stream",
     "text": [
      "Input shape: (32, 6, 6)\n",
      "Output shape: (32, 6, 1)\n"
     ]
    }
   ],
   "source": [
    "# Dense Neural Network\n",
    "dense = tf.keras.Sequential([\n",
    "    tf.keras.layers.Dense(units=64, activation='relu'),\n",
    "    tf.keras.layers.Dense(units=64, activation='relu'),\n",
    "    tf.keras.layers.Dense(units=64, activation='relu'),\n",
    "    tf.keras.layers.Dense(units=1)\n",
    "])\n",
    "print('Input shape:', wide_window.example[0].shape)\n",
    "print('Output shape:', dense(wide_window.example[0]).shape)"
   ]
  },
  {
   "cell_type": "code",
   "execution_count": 13,
   "metadata": {},
   "outputs": [],
   "source": [
    "def r_square(y_true, y_pred):\n",
    "    x = y_true\n",
    "    y = y_pred\n",
    "    mx = K.mean(x, axis=0)\n",
    "    my = K.mean(y, axis=0)\n",
    "    xm, ym = x - mx, y - my\n",
    "    r_num = K.square(K.sum(xm * ym))\n",
    "    x_square_sum = K.sum(xm * xm)\n",
    "    y_square_sum = K.sum(ym * ym)\n",
    "    r_den = (x_square_sum * y_square_sum) + K.epsilon()\n",
    "    \n",
    "    r = r_num / r_den\n",
    "    return r\n",
    "def NSE(y_true, y_pred):\n",
    "    '''\n",
    "    This is the Nash-Sutcliffe Efficiency Coefficient\n",
    "    '''\n",
    "    y_pred = K.flatten(y_pred)\n",
    "    y_true = K.flatten(y_true)\n",
    "\n",
    "    \n",
    "    SS_res =  K.sum(K.square(y_true - y_pred)) \n",
    "    SS_tot = K.sum(K.square(y_true - K.mean(y_true))) \n",
    "    \n",
    "    return ( 1 - SS_res/(SS_tot + K.epsilon()) )"
   ]
  },
  {
   "cell_type": "code",
   "execution_count": 14,
   "metadata": {},
   "outputs": [],
   "source": [
    "MAX_EPOCHS = 20\n",
    "\n",
    "def compile_and_fit(model, window, patience=2):\n",
    "    early_stopping = tf.keras.callbacks.EarlyStopping(monitor='val_loss',\n",
    "                                                    patience=patience,\n",
    "                                                    mode='min')\n",
    "\n",
    "    model.compile(loss=tf.keras.losses.MeanSquaredError(),\n",
    "                optimizer=tf.keras.optimizers.Adam(),\n",
    "                metrics=[tf.keras.metrics.MeanSquaredError(), r_square, NSE])\n",
    "\n",
    "    history = model.fit(window.train, epochs=MAX_EPOCHS,\n",
    "                      validation_data=window.val,\n",
    "                      callbacks=[early_stopping])\n",
    "    return history"
   ]
  },
  {
   "cell_type": "code",
   "execution_count": 15,
   "metadata": {},
   "outputs": [
    {
     "name": "stdout",
     "output_type": "stream",
     "text": [
      "Epoch 1/20\n",
      "192/192 [==============================] - 2s 3ms/step - loss: 8.9234 - mean_squared_error: 8.9234 - r_square: 0.6869 - NSE: -44.0179 - val_loss: 0.0169 - val_mean_squared_error: 0.0169 - val_r_square: 0.8856 - val_NSE: 0.8576\n",
      "Epoch 2/20\n",
      "192/192 [==============================] - 0s 2ms/step - loss: 0.0136 - mean_squared_error: 0.0136 - r_square: 0.9561 - NSE: 0.9494 - val_loss: 0.0112 - val_mean_squared_error: 0.0112 - val_r_square: 0.9209 - val_NSE: 0.9072\n",
      "Epoch 3/20\n",
      "192/192 [==============================] - 0s 2ms/step - loss: 0.0061 - mean_squared_error: 0.0061 - r_square: 0.9765 - NSE: 0.9746 - val_loss: 0.0110 - val_mean_squared_error: 0.0110 - val_r_square: 0.9306 - val_NSE: 0.9148\n",
      "Epoch 4/20\n",
      "192/192 [==============================] - 0s 2ms/step - loss: 0.0050 - mean_squared_error: 0.0050 - r_square: 0.9797 - NSE: 0.9777 - val_loss: 0.0119 - val_mean_squared_error: 0.0119 - val_r_square: 0.9176 - val_NSE: 0.8926\n",
      "Epoch 5/20\n",
      "192/192 [==============================] - 0s 2ms/step - loss: 0.0045 - mean_squared_error: 0.0045 - r_square: 0.9834 - NSE: 0.9817 - val_loss: 0.0110 - val_mean_squared_error: 0.0110 - val_r_square: 0.9274 - val_NSE: 0.9077\n",
      "55/55 [==============================] - 0s 1ms/step - loss: 0.0110 - mean_squared_error: 0.0110 - r_square: 0.9305 - NSE: 0.9127\n"
     ]
    }
   ],
   "source": [
    "val_performance = {}\n",
    "performance = {}\n",
    "dense_history = compile_and_fit(dense, wide_window)\n",
    "val_performance['Dense'] = dense.evaluate(wide_window.val, return_dict=True)\n",
    "performance['Dense'] = dense.evaluate(wide_window.test, verbose=0, return_dict=True)\n",
    "\n",
    "\n"
   ]
  },
  {
   "cell_type": "code",
   "execution_count": 16,
   "metadata": {},
   "outputs": [
    {
     "data": {
      "text/plain": [
       "{'Dense': {'loss': 0.01099435519427061,\n",
       "  'mean_squared_error': 0.010994351468980312,\n",
       "  'r_square': 0.9305403232574463,\n",
       "  'NSE': 0.9127164483070374}}"
      ]
     },
     "execution_count": 16,
     "metadata": {},
     "output_type": "execute_result"
    }
   ],
   "source": [
    "val_performance"
   ]
  },
  {
   "cell_type": "code",
   "execution_count": 17,
   "metadata": {},
   "outputs": [
    {
     "name": "stdout",
     "output_type": "stream",
     "text": [
      "28/28 [==============================] - 0s 864us/step\n"
     ]
    },
    {
     "data": {
      "image/png": "[encoded data removed]",
      "text/plain": [
       "<Figure size 432x288 with 1 Axes>"
      ]
     },
     "metadata": {
      "needs_background": "light"
     },
     "output_type": "display_data"
    }
   ],
   "source": [
    "dense_predictions = dense.predict(test_df)\n",
    "actual = test_df['Waterlevel_Sto_Nino']\n",
    "from matplotlib import pyplot as plt\n",
    "import matplotlib.dates as mdates  # Import the dates module\n",
    "\n",
    "plt.plot(test_dates, dense_predictions, c = \"blue\", label = \"predictions\")\n",
    "plt.plot(test_dates, actual, c = \"red\", label = \"actual\")\n",
    "plt.title('Predictions vs Actual Values (DNN Test Set)')\n",
    "plt.ylabel('Water Level Sto Nino')\n",
    "plt.xlabel('Datetime')\n",
    "\n",
    "plt.gca().xaxis.set_major_locator(mdates.WeekdayLocator(byweekday=mdates.MONDAY))  # Show ticks on Mondays\n",
    "plt.gca().xaxis.set_major_formatter(mdates.DateFormatter('%Y-%m-%d'))  # Format the dates as YYYY-MM-DD\n",
    "plt.gcf().autofmt_xdate()  # Rotate and align the x-axis labels\n",
    "plt.legend()\n",
    "plt.show()"
   ]
  },
  {
   "cell_type": "code",
   "execution_count": 18,
   "metadata": {},
   "outputs": [
    {
     "data": {
      "text/plain": [
       "{'loss': [8.923351287841797,\n",
       "  0.013599193654954433,\n",
       "  0.006085890345275402,\n",
       "  0.005004154518246651,\n",
       "  0.004488030448555946],\n",
       " 'mean_squared_error': [8.923352241516113,\n",
       "  0.01359918899834156,\n",
       "  0.006085890345275402,\n",
       "  0.005004154983907938,\n",
       "  0.004488029051572084],\n",
       " 'r_square': [0.6868798136711121,\n",
       "  0.9561272263526917,\n",
       "  0.9765353202819824,\n",
       "  0.9797011017799377,\n",
       "  0.9833641052246094],\n",
       " 'NSE': [-44.01790237426758,\n",
       "  0.9493595957756042,\n",
       "  0.9745876789093018,\n",
       "  0.9777321815490723,\n",
       "  0.9817410111427307],\n",
       " 'val_loss': [0.01693112775683403,\n",
       "  0.01123382430523634,\n",
       "  0.010964066721498966,\n",
       "  0.011902139522135258,\n",
       "  0.010994353331625462],\n",
       " 'val_mean_squared_error': [0.01693112589418888,\n",
       "  0.011233825236558914,\n",
       "  0.010964065790176392,\n",
       "  0.011902139522135258,\n",
       "  0.010994354262948036],\n",
       " 'val_r_square': [0.8856205344200134,\n",
       "  0.9209163188934326,\n",
       "  0.9305729269981384,\n",
       "  0.9176004528999329,\n",
       "  0.9273825883865356],\n",
       " 'val_NSE': [0.8576127290725708,\n",
       "  0.907195508480072,\n",
       "  0.9147656559944153,\n",
       "  0.892565906047821,\n",
       "  0.90765380859375]}"
      ]
     },
     "execution_count": 18,
     "metadata": {},
     "output_type": "execute_result"
    }
   ],
   "source": [
    "dense_history.history"
   ]
  },
  {
   "cell_type": "code",
   "execution_count": 19,
   "metadata": {},
   "outputs": [
    {
     "data": {
      "text/plain": [
       "{'Dense': {'loss': 0.01099435519427061,\n",
       "  'mean_squared_error': 0.010994351468980312,\n",
       "  'r_square': 0.9305403232574463,\n",
       "  'NSE': 0.9127164483070374}}"
      ]
     },
     "execution_count": 19,
     "metadata": {},
     "output_type": "execute_result"
    }
   ],
   "source": [
    "val_performance"
   ]
  },
  {
   "cell_type": "code",
   "execution_count": 20,
   "metadata": {},
   "outputs": [
    {
     "data": {
      "image/png": "[encoded data removed]",
      "text/plain": [
       "<Figure size 432x288 with 1 Axes>"
      ]
     },
     "metadata": {
      "needs_background": "light"
     },
     "output_type": "display_data"
    }
   ],
   "source": [
    "import keras\n",
    "from matplotlib import pyplot as plt\n",
    "plt.plot(dense_history.history['NSE'])\n",
    "plt.plot(dense_history.history['val_NSE'])\n",
    "plt.title('DNN Model NSE')\n",
    "plt.ylabel('NSE')\n",
    "plt.xlabel('epoch')\n",
    "plt.legend(['train', 'val'], loc='upper left')\n",
    "plt.show()"
   ]
  },
  {
   "cell_type": "code",
   "execution_count": 21,
   "metadata": {},
   "outputs": [
    {
     "data": {
      "text/plain": [
       "{'Dense': {'loss': 0.01099435519427061,\n",
       "  'mean_squared_error': 0.010994351468980312,\n",
       "  'r_square': 0.9305403232574463,\n",
       "  'NSE': 0.9127164483070374}}"
      ]
     },
     "execution_count": 21,
     "metadata": {},
     "output_type": "execute_result"
    }
   ],
   "source": [
    "val_performance"
   ]
  },
  {
   "cell_type": "code",
   "execution_count": 22,
   "metadata": {},
   "outputs": [
    {
     "name": "stdout",
     "output_type": "stream",
     "text": [
      "Conv model on `conv_window`\n",
      "Input shape: (32, 6, 6)\n",
      "Output shape: (32, 1, 1)\n",
      "Model: \"sequential_1\"\n",
      "_________________________________________________________________\n",
      " Layer (type)                Output Shape              Param #   \n",
      "=================================================================\n",
      " conv1d (Conv1D)             (32, 1, 64)               2368      \n",
      "                                                                 \n",
      " dense_4 (Dense)             (32, 1, 64)               4160      \n",
      "                                                                 \n",
      " dense_5 (Dense)             (32, 1, 64)               4160      \n",
      "                                                                 \n",
      " dense_6 (Dense)             (32, 1, 1)                65        \n",
      "                                                                 \n",
      "=================================================================\n",
      "Total params: 10753 (42.00 KB)\n",
      "Trainable params: 10753 (42.00 KB)\n",
      "Non-trainable params: 0 (0.00 Byte)\n",
      "_________________________________________________________________\n"
     ]
    }
   ],
   "source": [
    "# Convolution Neural Network (CNN)\n",
    "CONV_WIDTH = 6\n",
    "\n",
    "conv_window = WindowGenerator(\n",
    "    input_width=CONV_WIDTH,\n",
    "    label_width=1,\n",
    "    shift=1,\n",
    "    label_columns=['Waterlevel_Sto_Nino'])\n",
    "\n",
    "conv_model = tf.keras.Sequential([\n",
    "    tf.keras.layers.Conv1D(filters=64,\n",
    "                           kernel_size=(CONV_WIDTH,),\n",
    "                           activation='relu'),\n",
    "    tf.keras.layers.Dense(units=64, activation='relu'),\n",
    "    tf.keras.layers.Dense(units=64, activation='relu'),\n",
    "    tf.keras.layers.Dense(units=1),\n",
    "])\n",
    "\n",
    "print(\"Conv model on `conv_window`\")\n",
    "print('Input shape:', conv_window.example[0].shape)\n",
    "print('Output shape:', conv_model(conv_window.example[0]).shape)\n",
    "conv_model.summary()\n",
    "\n"
   ]
  },
  {
   "cell_type": "code",
   "execution_count": 23,
   "metadata": {},
   "outputs": [
    {
     "data": {
      "text/plain": [
       "Total window size: 7\n",
       "Input indices: [0 1 2 3 4 5]\n",
       "Label indices: [6]\n",
       "Label column name(s): ['Waterlevel_Sto_Nino']"
      ]
     },
     "execution_count": 23,
     "metadata": {},
     "output_type": "execute_result"
    }
   ],
   "source": [
    "conv_window"
   ]
  },
  {
   "cell_type": "code",
   "execution_count": 31,
   "metadata": {},
   "outputs": [
    {
     "name": "stdout",
     "output_type": "stream",
     "text": [
      "Epoch 1/20\n",
      "192/192 [==============================] - 1s 3ms/step - loss: 0.0370 - mean_squared_error: 0.0370 - r_square: 0.9417 - NSE: 0.8260 - val_loss: 0.0270 - val_mean_squared_error: 0.0270 - val_r_square: 0.8825 - val_NSE: 0.7856\n",
      "Epoch 2/20\n",
      "192/192 [==============================] - 0s 2ms/step - loss: 0.0246 - mean_squared_error: 0.0246 - r_square: 0.9377 - NSE: 0.8801 - val_loss: 0.0210 - val_mean_squared_error: 0.0210 - val_r_square: 0.8955 - val_NSE: 0.8325\n",
      "Epoch 3/20\n",
      "192/192 [==============================] - 0s 2ms/step - loss: 0.0270 - mean_squared_error: 0.0270 - r_square: 0.9423 - NSE: 0.8814 - val_loss: 0.0419 - val_mean_squared_error: 0.0419 - val_r_square: 0.8207 - val_NSE: 0.6026\n",
      "Epoch 4/20\n",
      "192/192 [==============================] - 0s 2ms/step - loss: 0.0198 - mean_squared_error: 0.0198 - r_square: 0.9505 - NSE: 0.9158 - val_loss: 0.0211 - val_mean_squared_error: 0.0211 - val_r_square: 0.9136 - val_NSE: 0.8117\n",
      "55/55 [==============================] - 0s 1ms/step - loss: 0.0211 - mean_squared_error: 0.0211 - r_square: 0.9092 - NSE: 0.7990\n"
     ]
    }
   ],
   "source": [
    "conv_history = compile_and_fit(conv_model, conv_window)\n",
    "\n",
    "val_performance['Conv'] = conv_model.evaluate(conv_window.val, return_dict=True)\n",
    "performance['Conv'] = conv_model.evaluate(conv_window.test, verbose=0, return_dict=True)"
   ]
  },
  {
   "cell_type": "code",
   "execution_count": 32,
   "metadata": {},
   "outputs": [
    {
     "data": {
      "text/plain": [
       "{'Dense': {'loss': 0.0033799351658672094,\n",
       "  'mean_squared_error': 0.0033799349330365658,\n",
       "  'r_square': 0.9583664536476135,\n",
       "  'NSE': 0.8094621300697327},\n",
       " 'Conv': {'loss': 0.012341306544840336,\n",
       "  'mean_squared_error': 0.012341306544840336,\n",
       "  'r_square': 0.9332770705223083,\n",
       "  'NSE': 0.2943846583366394}}"
      ]
     },
     "execution_count": 32,
     "metadata": {},
     "output_type": "execute_result"
    }
   ],
   "source": [
    "performance"
   ]
  },
  {
   "cell_type": "code",
   "execution_count": 33,
   "metadata": {},
   "outputs": [
    {
     "name": "stdout",
     "output_type": "stream",
     "text": [
      "1/1 [==============================] - 0s 103ms/step\n"
     ]
    }
   ],
   "source": [
    "prediction_data = test_df.values.reshape(1, -1, CONV_WIDTH)  # Add batch dimension of 1\n",
    "conv_predictions = conv_model.predict(prediction_data)\n",
    "actual = test_df['Waterlevel_Sto_Nino']"
   ]
  },
  {
   "cell_type": "code",
   "execution_count": 34,
   "metadata": {},
   "outputs": [],
   "source": [
    "# reshape the conv_predictions array\n",
    "# delete the first 5 values of the actual and test_dates arrays (corresponding to t = 0 to 4)\n",
    "\n",
    "conv_predictions = conv_predictions.reshape(871)\n",
    "actual = actual[5:]\n",
    "test_dates_cnn = test_dates[5:]\n"
   ]
  },
  {
   "cell_type": "code",
   "execution_count": 35,
   "metadata": {},
   "outputs": [
    {
     "data": {
      "image/png": "[encoded data removed]",
      "text/plain": [
       "<Figure size 432x288 with 1 Axes>"
      ]
     },
     "metadata": {
      "needs_background": "light"
     },
     "output_type": "display_data"
    }
   ],
   "source": [
    "from matplotlib import pyplot as plt\n",
    "import matplotlib.dates as mdates  # Import the dates module\n",
    "\n",
    "plt.plot(test_dates_cnn, conv_predictions, c = \"blue\", label = \"predictions\")\n",
    "plt.plot(test_dates_cnn, actual, c = \"red\", label = \"actual\")\n",
    "plt.title('Predictions vs Actual Values (CNN Test Set)')\n",
    "plt.ylabel('Water Level Sto Nino')\n",
    "plt.xlabel('Datetime')\n",
    "\n",
    "plt.gca().xaxis.set_major_locator(mdates.WeekdayLocator(byweekday=mdates.MONDAY))  # Show ticks on Mondays\n",
    "plt.gca().xaxis.set_major_formatter(mdates.DateFormatter('%Y-%m-%d'))  # Format the dates as YYYY-MM-DD\n",
    "plt.gcf().autofmt_xdate()  # Rotate and align the x-axis labels\n",
    "plt.legend()\n",
    "plt.show()"
   ]
  },
  {
   "cell_type": "code",
   "execution_count": 36,
   "metadata": {},
   "outputs": [
    {
     "data": {
      "image/png": "[encoded data removed]",
      "text/plain": [
       "<Figure size 432x288 with 1 Axes>"
      ]
     },
     "metadata": {
      "needs_background": "light"
     },
     "output_type": "display_data"
    }
   ],
   "source": [
    "import keras\n",
    "from matplotlib import pyplot as plt\n",
    "plt.plot(conv_history.history['NSE'])\n",
    "plt.plot(conv_history.history['val_NSE'])\n",
    "plt.title('CNN Model NSE')\n",
    "plt.ylabel('NSE')\n",
    "plt.xlabel('epoch')\n",
    "plt.legend(['train', 'val'], loc='upper left')\n",
    "plt.show()"
   ]
  },
  {
   "cell_type": "code",
   "execution_count": 37,
   "metadata": {},
   "outputs": [
    {
     "name": "stdout",
     "output_type": "stream",
     "text": [
      "Input shape: (32, 6, 6)\n",
      "Output shape: (32, 6, 1)\n"
     ]
    }
   ],
   "source": [
    "# LSTM / RNN\n",
    "\n",
    "lstm_model = tf.keras.models.Sequential([\n",
    "    tf.keras.layers.LSTM(64, return_sequences=True),\n",
    "    tf.keras.layers.Dense(units=64, activation='relu'),\n",
    "    tf.keras.layers.Dense(units=64, activation='relu'),\n",
    "    tf.keras.layers.Dense(units=1)\n",
    "])\n",
    "print('Input shape:', wide_window.example[0].shape)\n",
    "print('Output shape:', lstm_model(wide_window.example[0]).shape)"
   ]
  },
  {
   "cell_type": "code",
   "execution_count": 41,
   "metadata": {},
   "outputs": [
    {
     "name": "stdout",
     "output_type": "stream",
     "text": [
      "Epoch 1/20\n",
      "192/192 [==============================] - 3s 8ms/step - loss: 0.0332 - mean_squared_error: 0.0332 - r_square: 0.9823 - NSE: 0.8612 - val_loss: 0.0115 - val_mean_squared_error: 0.0115 - val_r_square: 0.9238 - val_NSE: 0.9088\n",
      "Epoch 2/20\n",
      "192/192 [==============================] - 1s 5ms/step - loss: 0.0043 - mean_squared_error: 0.0043 - r_square: 0.9859 - NSE: 0.9836 - val_loss: 0.0116 - val_mean_squared_error: 0.0116 - val_r_square: 0.9227 - val_NSE: 0.9086\n",
      "Epoch 3/20\n",
      "192/192 [==============================] - 1s 5ms/step - loss: 0.0046 - mean_squared_error: 0.0046 - r_square: 0.9856 - NSE: 0.9822 - val_loss: 0.0100 - val_mean_squared_error: 0.0100 - val_r_square: 0.9315 - val_NSE: 0.9175\n",
      "Epoch 4/20\n",
      "192/192 [==============================] - 1s 5ms/step - loss: 0.0047 - mean_squared_error: 0.0047 - r_square: 0.9843 - NSE: 0.9802 - val_loss: 0.0110 - val_mean_squared_error: 0.0110 - val_r_square: 0.9165 - val_NSE: 0.9075\n",
      "Epoch 5/20\n",
      "192/192 [==============================] - 1s 5ms/step - loss: 0.0050 - mean_squared_error: 0.0050 - r_square: 0.9848 - NSE: 0.9791 - val_loss: 0.0093 - val_mean_squared_error: 0.0093 - val_r_square: 0.9359 - val_NSE: 0.9295\n",
      "Epoch 6/20\n",
      "192/192 [==============================] - 1s 5ms/step - loss: 0.0061 - mean_squared_error: 0.0061 - r_square: 0.9842 - NSE: 0.9743 - val_loss: 0.0080 - val_mean_squared_error: 0.0080 - val_r_square: 0.9380 - val_NSE: 0.9318\n",
      "Epoch 7/20\n",
      "192/192 [==============================] - 1s 5ms/step - loss: 0.0040 - mean_squared_error: 0.0040 - r_square: 0.9877 - NSE: 0.9841 - val_loss: 0.0090 - val_mean_squared_error: 0.0090 - val_r_square: 0.9357 - val_NSE: 0.9290\n",
      "Epoch 8/20\n",
      "192/192 [==============================] - 1s 5ms/step - loss: 0.0047 - mean_squared_error: 0.0047 - r_square: 0.9869 - NSE: 0.9820 - val_loss: 0.0087 - val_mean_squared_error: 0.0087 - val_r_square: 0.9402 - val_NSE: 0.9297\n",
      "55/55 [==============================] - 0s 2ms/step - loss: 0.0087 - mean_squared_error: 0.0087 - r_square: 0.9408 - NSE: 0.9309\n"
     ]
    }
   ],
   "source": [
    "lstm_history = compile_and_fit(lstm_model, wide_window)\n",
    "\n",
    "val_performance['LSTM'] = lstm_model.evaluate(wide_window.val, return_dict=True)\n",
    "performance['LSTM'] = lstm_model.evaluate(wide_window.test, verbose=0, return_dict=True)"
   ]
  },
  {
   "cell_type": "code",
   "execution_count": 42,
   "metadata": {},
   "outputs": [
    {
     "name": "stdout",
     "output_type": "stream",
     "text": [
      "WARNING:tensorflow:5 out of the last 32 calls to <function Model.make_predict_function.<locals>.predict_function at 0x000002000B752C10> triggered tf.function retracing. Tracing is expensive and the excessive number of tracings could be due to (1) creating @tf.function repeatedly in a loop, (2) passing tensors with different shapes, (3) passing Python objects instead of tensors. For (1), please define your @tf.function outside of the loop. For (2), @tf.function has reduce_retracing=True option that can avoid unnecessary retracing. For (3), please refer to https://www.tensorflow.org/guide/function#controlling_retracing and https://www.tensorflow.org/api_docs/python/tf/function for  more details.\n",
      "1/1 [==============================] - 0s 400ms/step\n"
     ]
    }
   ],
   "source": [
    "prediction_data = test_df.values.reshape(1, -1, 6)  # Add batch dimension of 1\n",
    "lstm_predictions = lstm_model.predict(prediction_data)\n",
    "actual = test_df['Waterlevel_Sto_Nino']"
   ]
  },
  {
   "cell_type": "code",
   "execution_count": 47,
   "metadata": {},
   "outputs": [
    {
     "name": "stdout",
     "output_type": "stream",
     "text": [
      "(876,)\n",
      "(876,)\n",
      "(876,)\n"
     ]
    }
   ],
   "source": [
    "print(lstm_predictions.shape)\n",
    "lstm_predictions = lstm_predictions.reshape(876)\n",
    "print(actual.shape)\n",
    "print(lstm_predictions.shape)\n"
   ]
  },
  {
   "cell_type": "code",
   "execution_count": 48,
   "metadata": {},
   "outputs": [
    {
     "data": {
      "image/png": "[encoded data removed]",
      "text/plain": [
       "<Figure size 432x288 with 1 Axes>"
      ]
     },
     "metadata": {
      "needs_background": "light"
     },
     "output_type": "display_data"
    }
   ],
   "source": [
    "from matplotlib import pyplot as plt\n",
    "import matplotlib.dates as mdates  # Import the dates module\n",
    "\n",
    "plt.plot(test_dates, lstm_predictions, c = \"blue\", label = \"predictions\")\n",
    "plt.plot(test_dates, actual, c = \"red\", label = \"actual\")\n",
    "plt.title('Predictions vs Actual Values (LSTM Test Set)')\n",
    "plt.ylabel('Water Level Sto Nino')\n",
    "plt.xlabel('Datetime')\n",
    "\n",
    "plt.gca().xaxis.set_major_locator(mdates.WeekdayLocator(byweekday=mdates.MONDAY))  # Show ticks on Mondays\n",
    "plt.gca().xaxis.set_major_formatter(mdates.DateFormatter('%Y-%m-%d'))  # Format the dates as YYYY-MM-DD\n",
    "plt.gcf().autofmt_xdate()  # Rotate and align the x-axis labels\n",
    "plt.legend()\n",
    "plt.show()"
   ]
  },
  {
   "cell_type": "code",
   "execution_count": 49,
   "metadata": {},
   "outputs": [
    {
     "data": {
      "text/plain": [
       "{'Dense': {'loss': 0.0033799351658672094,\n",
       "  'mean_squared_error': 0.0033799349330365658,\n",
       "  'r_square': 0.9583664536476135,\n",
       "  'NSE': 0.8094621300697327},\n",
       " 'Conv': {'loss': 0.012341306544840336,\n",
       "  'mean_squared_error': 0.012341306544840336,\n",
       "  'r_square': 0.9332770705223083,\n",
       "  'NSE': 0.2943846583366394},\n",
       " 'LSTM': {'loss': 0.0013348710490390658,\n",
       "  'mean_squared_error': 0.0013348706997931004,\n",
       "  'r_square': 0.9645887613296509,\n",
       "  'NSE': 0.9279705882072449}}"
      ]
     },
     "execution_count": 49,
     "metadata": {},
     "output_type": "execute_result"
    }
   ],
   "source": [
    "performance"
   ]
  },
  {
   "cell_type": "code",
   "execution_count": 57,
   "metadata": {},
   "outputs": [
    {
     "data": {
      "image/png": "[encoded data removed]",
      "text/plain": [
       "<Figure size 432x288 with 1 Axes>"
      ]
     },
     "metadata": {
      "needs_background": "light"
     },
     "output_type": "display_data"
    }
   ],
   "source": [
    "x = np.arange(len(performance))\n",
    "width = 0.3\n",
    "metric_name = 'NSE'\n",
    "val_nse = [v[metric_name] for v in val_performance.values()]\n",
    "test_nse = [v[metric_name] for v in performance.values()]\n",
    "for i, v in enumerate(val_nse):\n",
    "    plt.text(x[i] - 0.17, v - 0.05, str(round(v,2)), ha='center')  # Validation labels\n",
    "for i, v in enumerate(test_nse):\n",
    "    plt.text(x[i] + 0.17, v - 0.05, str(round(v,2)), ha='center')  # Test labels\n",
    "plt.ylabel('Nash Sutcliffe Efficiency')\n",
    "plt.bar(x - 0.17, val_nse, width, label='Validation')\n",
    "plt.bar(x + 0.17, test_nse, width, label='Test')\n",
    "plt.xticks(ticks=x, labels=performance.keys())\n",
    "plt.legend()\n",
    "plt.show()"
   ]
  },
  {
   "cell_type": "code",
   "execution_count": 55,
   "metadata": {},
   "outputs": [
    {
     "name": "stdout",
     "output_type": "stream",
     "text": [
      "Dense       : 0.8095\n",
      "Conv        : 0.2944\n",
      "LSTM        : 0.9280\n"
     ]
    }
   ],
   "source": [
    "# NSE values of the testing set\n",
    "\n",
    "for name, value in performance.items():\n",
    "    print(f'{name:12s}: {value[metric_name]:0.4f}')"
   ]
  },
  {
   "cell_type": "markdown",
   "metadata": {},
   "source": [
    "## Multi-step models\n",
    "- Uses the past 12 hours of data to predict the water level 6 hours into the future"
   ]
  },
  {
   "cell_type": "code",
   "execution_count": 33,
   "metadata": {},
   "outputs": [
    {
     "data": {
      "text/plain": [
       "Total window size: 18\n",
       "Input indices: [ 0  1  2  3  4  5  6  7  8  9 10 11]\n",
       "Label indices: [12 13 14 15 16 17]\n",
       "Label column name(s): None"
      ]
     },
     "execution_count": 33,
     "metadata": {},
     "output_type": "execute_result"
    }
   ],
   "source": [
    "OUT_STEPS = 6\n",
    "multi_window = WindowGenerator(input_width=12,\n",
    "                               label_width=OUT_STEPS,\n",
    "                               shift=OUT_STEPS)\n",
    "\n",
    "multi_window"
   ]
  },
  {
   "cell_type": "code",
   "execution_count": 34,
   "metadata": {},
   "outputs": [],
   "source": [
    "multi_val_performance = {}\n",
    "multi_performance = {}"
   ]
  },
  {
   "cell_type": "code",
   "execution_count": 38,
   "metadata": {},
   "outputs": [
    {
     "name": "stdout",
     "output_type": "stream",
     "text": [
      "55/55 [==============================] - 0s 1ms/step - loss: 3.6164 - mean_squared_error: 3.6164 - r_square: 0.0739 - NSE: 0.8654\n"
     ]
    }
   ],
   "source": [
    "# Single Shot Model: The model makes the entire prediction in one step\n",
    "\n",
    "multi_dense_model = tf.keras.Sequential([\n",
    "    # Take the last time step.\n",
    "    # Shape [batch, time, features] => [batch, 1, features]\n",
    "    tf.keras.layers.Lambda(lambda x: x[:, -1:, :]),\n",
    "    # Shape => [batch, 1, dense_units]\n",
    "    tf.keras.layers.Dense(64, activation='relu'),\n",
    "    tf.keras.layers.Dense(64, activation='relu'),\n",
    "\n",
    "    # Shape => [batch, out_steps*features]\n",
    "    tf.keras.layers.Dense(OUT_STEPS*num_features,\n",
    "                          kernel_initializer=tf.initializers.zeros()),\n",
    "    # Shape => [batch, out_steps, features]\n",
    "    tf.keras.layers.Reshape([OUT_STEPS, num_features])\n",
    "])\n",
    "\n",
    "history = compile_and_fit(multi_dense_model, multi_window)\n",
    "\n",
    "IPython.display.clear_output()\n",
    "multi_val_performance['Dense'] = multi_dense_model.evaluate(multi_window.val, return_dict=True)\n",
    "multi_performance['Dense'] = multi_dense_model.evaluate(multi_window.test, verbose=0, return_dict=True)\n"
   ]
  },
  {
   "cell_type": "code",
   "execution_count": 36,
   "metadata": {},
   "outputs": [
    {
     "data": {
      "text/plain": [
       "{'Dense': {'loss': 0.5330066084861755,\n",
       "  'mean_squared_error': 0.5330066084861755,\n",
       "  'r_square': 0.06871860474348068,\n",
       "  'NSE': 0.9760781526565552}}"
      ]
     },
     "execution_count": 36,
     "metadata": {},
     "output_type": "execute_result"
    }
   ],
   "source": [
    "multi_performance"
   ]
  },
  {
   "cell_type": "code",
   "execution_count": 39,
   "metadata": {},
   "outputs": [
    {
     "name": "stdout",
     "output_type": "stream",
     "text": [
      "Epoch 1/20\n",
      "192/192 [==============================] - 2s 3ms/step - loss: 6.6974 - mean_squared_error: 6.6974 - r_square: 0.0313 - NSE: 0.7298 - val_loss: 3.8030 - val_mean_squared_error: 3.8030 - val_r_square: 0.0186 - val_NSE: 0.8563\n",
      "Epoch 2/20\n",
      "192/192 [==============================] - 0s 2ms/step - loss: 4.0675 - mean_squared_error: 4.0675 - r_square: 0.0741 - NSE: 0.8460 - val_loss: 3.6908 - val_mean_squared_error: 3.6908 - val_r_square: 0.0532 - val_NSE: 0.8611\n",
      "Epoch 3/20\n",
      "192/192 [==============================] - 0s 2ms/step - loss: 3.9979 - mean_squared_error: 3.9979 - r_square: 0.0734 - NSE: 0.8475 - val_loss: 3.7017 - val_mean_squared_error: 3.7017 - val_r_square: 0.0632 - val_NSE: 0.8605\n",
      "Epoch 4/20\n",
      "192/192 [==============================] - 0s 2ms/step - loss: 3.9757 - mean_squared_error: 3.9757 - r_square: 0.0910 - NSE: 0.8493 - val_loss: 3.6888 - val_mean_squared_error: 3.6888 - val_r_square: 0.0659 - val_NSE: 0.8670\n",
      "Epoch 5/20\n",
      "192/192 [==============================] - 0s 2ms/step - loss: 3.9491 - mean_squared_error: 3.9491 - r_square: 0.0928 - NSE: 0.8522 - val_loss: 3.7002 - val_mean_squared_error: 3.7002 - val_r_square: 0.0612 - val_NSE: 0.8536\n",
      "Epoch 6/20\n",
      "192/192 [==============================] - 0s 2ms/step - loss: 3.9259 - mean_squared_error: 3.9259 - r_square: 0.0945 - NSE: 0.8526 - val_loss: 3.6851 - val_mean_squared_error: 3.6851 - val_r_square: 0.0623 - val_NSE: 0.8583\n",
      "Epoch 7/20\n",
      "192/192 [==============================] - 0s 2ms/step - loss: 3.9074 - mean_squared_error: 3.9074 - r_square: 0.0941 - NSE: 0.8529 - val_loss: 3.7244 - val_mean_squared_error: 3.7244 - val_r_square: 0.0581 - val_NSE: 0.8581\n",
      "Epoch 8/20\n",
      "192/192 [==============================] - 0s 2ms/step - loss: 3.8729 - mean_squared_error: 3.8729 - r_square: 0.1040 - NSE: 0.8518 - val_loss: 3.7185 - val_mean_squared_error: 3.7185 - val_r_square: 0.0722 - val_NSE: 0.8614\n",
      "55/55 [==============================] - 0s 1ms/step - loss: 3.7185 - mean_squared_error: 3.7185 - r_square: 0.0593 - NSE: 0.8615\n"
     ]
    }
   ],
   "source": [
    "CONV_WIDTH = 12\n",
    "multi_conv_model = tf.keras.Sequential([\n",
    "    # Shape [batch, time, features] => [batch, CONV_WIDTH, features]\n",
    "    tf.keras.layers.Lambda(lambda x: x[:, -CONV_WIDTH:, :]),\n",
    "    # Shape => [batch, 1, conv_units]\n",
    "    tf.keras.layers.Conv1D(64, activation='relu', kernel_size=(CONV_WIDTH)),\n",
    "    tf.keras.layers.Dense(units=64, activation='relu'),\n",
    "    tf.keras.layers.Dense(units=64, activation='relu'),\n",
    "    # Shape => [batch, 1,  out_steps*features]\n",
    "    tf.keras.layers.Dense(OUT_STEPS*num_features,\n",
    "                          kernel_initializer=tf.initializers.zeros()),\n",
    "    # Shape => [batch, out_steps, features]\n",
    "    tf.keras.layers.Reshape([OUT_STEPS, num_features])\n",
    "])\n",
    "\n",
    "history = compile_and_fit(multi_conv_model, multi_window)\n",
    "\n",
    "multi_val_performance['Conv'] = multi_conv_model.evaluate(multi_window.val, return_dict=True)\n",
    "multi_performance['Conv'] = multi_conv_model.evaluate(multi_window.test, verbose=0, return_dict=True)"
   ]
  },
  {
   "cell_type": "code",
   "execution_count": 42,
   "metadata": {},
   "outputs": [
    {
     "name": "stdout",
     "output_type": "stream",
     "text": [
      "55/55 [==============================] - 0s 3ms/step - loss: 3.6590 - mean_squared_error: 3.6590 - r_square: 0.0628 - NSE: 0.8617\n"
     ]
    }
   ],
   "source": [
    "multi_lstm_model = tf.keras.Sequential([\n",
    "    # Shape [batch, time, features] => [batch, lstm_units].\n",
    "    # Adding more `lstm_units` just overfits more quickly.\n",
    "    tf.keras.layers.LSTM(64, return_sequences=False),\n",
    "    tf.keras.layers.Dense(units=64, activation='relu'),\n",
    "    tf.keras.layers.Dense(units=64, activation='relu'),\n",
    "    # Shape => [batch, out_steps*features].\n",
    "    tf.keras.layers.Dense(OUT_STEPS*num_features,\n",
    "                          kernel_initializer=tf.initializers.zeros()),\n",
    "    # Shape => [batch, out_steps, features].\n",
    "    tf.keras.layers.Reshape([OUT_STEPS, num_features])\n",
    "])\n",
    "\n",
    "history = compile_and_fit(multi_lstm_model, multi_window)\n",
    "\n",
    "IPython.display.clear_output()\n",
    "\n",
    "multi_val_performance['LSTM'] = multi_lstm_model.evaluate(multi_window.val, return_dict=True)\n",
    "multi_performance['LSTM'] = multi_lstm_model.evaluate(multi_window.test, verbose=0, return_dict=True)"
   ]
  },
  {
   "cell_type": "code",
   "execution_count": 43,
   "metadata": {},
   "outputs": [],
   "source": [
    "# Autoregressive model : decomposes the prediction into individual time steps, you use the output for the next prediction\n",
    "# Autoregressive LSTM/RNN\n",
    "\n",
    "class FeedBack(tf.keras.Model):\n",
    "    def __init__(self, units, out_steps):\n",
    "        super().__init__()\n",
    "        self.out_steps = out_steps\n",
    "        self.units = units\n",
    "        self.lstm_cell = tf.keras.layers.LSTMCell(units)\n",
    "        # Also wrap the LSTMCell in an RNN to simplify the `warmup` method.\n",
    "        self.lstm_rnn = tf.keras.layers.RNN(self.lstm_cell, return_state=True)\n",
    "        self.dense = tf.keras.layers.Dense(num_features)\n",
    "\n",
    "    def warmup(self, inputs):\n",
    "        # inputs.shape => (batch, time, features)\n",
    "        # x.shape => (batch, lstm_units)\n",
    "        x, *state = self.lstm_rnn(inputs)\n",
    "\n",
    "        # predictions.shape => (batch, features)\n",
    "        prediction = self.dense(x)\n",
    "        return prediction, state\n",
    "    \n",
    "    \n",
    "    def call(self, inputs, training=None):\n",
    "        # Use a TensorArray to capture dynamically unrolled outputs.\n",
    "        predictions = []\n",
    "        # Initialize the LSTM state.\n",
    "        prediction, state = self.warmup(inputs)\n",
    "\n",
    "        # Insert the first prediction.\n",
    "        predictions.append(prediction)\n",
    "\n",
    "        # Run the rest of the prediction steps.\n",
    "        for n in range(1, self.out_steps):\n",
    "            # Use the last prediction as input.\n",
    "            x = prediction\n",
    "            # Execute one lstm step.\n",
    "            x, state = self.lstm_cell(x, states=state,\n",
    "                                      training=training)\n",
    "            # Convert the lstm output to a prediction.\n",
    "            prediction = self.dense(x)\n",
    "            # Add the prediction to the output.\n",
    "            predictions.append(prediction)\n",
    "\n",
    "        # predictions.shape => (time, batch, features)\n",
    "        predictions = tf.stack(predictions)\n",
    "        # predictions.shape => (batch, time, features)\n",
    "        predictions = tf.transpose(predictions, [1, 0, 2])\n",
    "        return predictions\n",
    "\n",
    "\n"
   ]
  },
  {
   "cell_type": "code",
   "execution_count": 44,
   "metadata": {},
   "outputs": [
    {
     "data": {
      "text/plain": [
       "TensorShape([32, 6])"
      ]
     },
     "execution_count": 44,
     "metadata": {},
     "output_type": "execute_result"
    }
   ],
   "source": [
    "feedback_model = FeedBack(units=32, out_steps=OUT_STEPS)\n",
    "prediction, state = feedback_model.warmup(multi_window.example[0])\n",
    "prediction.shape"
   ]
  },
  {
   "cell_type": "code",
   "execution_count": 45,
   "metadata": {},
   "outputs": [
    {
     "name": "stdout",
     "output_type": "stream",
     "text": [
      "Output shape (batch, time, features):  (32, 6, 6)\n"
     ]
    }
   ],
   "source": [
    "print('Output shape (batch, time, features): ', feedback_model(multi_window.example[0]).shape)\n"
   ]
  },
  {
   "cell_type": "code",
   "execution_count": 51,
   "metadata": {},
   "outputs": [
    {
     "name": "stdout",
     "output_type": "stream",
     "text": [
      "55/55 [==============================] - 0s 3ms/step - loss: 3.6872 - mean_squared_error: 3.6872 - r_square: 0.0529 - NSE: 0.8641\n"
     ]
    }
   ],
   "source": [
    "history = compile_and_fit(feedback_model, multi_window)\n",
    "\n",
    "IPython.display.clear_output()\n",
    "\n",
    "multi_val_performance['AR LSTM'] = feedback_model.evaluate(multi_window.val, return_dict=True)\n",
    "multi_performance['AR LSTM'] = feedback_model.evaluate(multi_window.test, verbose=0, return_dict=True)"
   ]
  },
  {
   "cell_type": "code",
   "execution_count": 52,
   "metadata": {},
   "outputs": [
    {
     "data": {
      "text/plain": [
       "{'Dense': {'loss': 0.5161378979682922,\n",
       "  'mean_squared_error': 0.516137957572937,\n",
       "  'r_square': 0.08056371659040451,\n",
       "  'NSE': 0.9765105247497559},\n",
       " 'Conv': {'loss': 0.5868991613388062,\n",
       "  'mean_squared_error': 0.5868992209434509,\n",
       "  'r_square': 0.07956663519144058,\n",
       "  'NSE': 0.9733442664146423},\n",
       " 'LSTM': {'loss': 0.5173656940460205,\n",
       "  'mean_squared_error': 0.517365574836731,\n",
       "  'r_square': 0.07903914898633957,\n",
       "  'NSE': 0.9767223596572876},\n",
       " 'AR LSTM': {'loss': 0.5470481514930725,\n",
       "  'mean_squared_error': 0.547048032283783,\n",
       "  'r_square': 0.050167541950941086,\n",
       "  'NSE': 0.9753919243812561}}"
      ]
     },
     "execution_count": 52,
     "metadata": {},
     "output_type": "execute_result"
    }
   ],
   "source": [
    "multi_performance"
   ]
  },
  {
   "cell_type": "code",
   "execution_count": 53,
   "metadata": {},
   "outputs": [
    {
     "data": {
      "text/plain": [
       "{'Dense': {'loss': 0.001486348919570446,\n",
       "  'mean_squared_error': 0.0014863490359857678,\n",
       "  'r_square': 0.9537897109985352,\n",
       "  'NSE': 0.9155651330947876},\n",
       " 'Conv': {'loss': 0.005385903641581535,\n",
       "  'mean_squared_error': 0.005385903641581535,\n",
       "  'r_square': 0.8253272771835327,\n",
       "  'NSE': 0.714411199092865},\n",
       " 'LSTM': {'loss': 0.0025644025299698114,\n",
       "  'mean_squared_error': 0.002564402762800455,\n",
       "  'r_square': 0.9623740315437317,\n",
       "  'NSE': 0.8525720238685608}}"
      ]
     },
     "execution_count": 53,
     "metadata": {},
     "output_type": "execute_result"
    }
   ],
   "source": [
    "performance"
   ]
  },
  {
   "cell_type": "code",
   "execution_count": null,
   "metadata": {},
   "outputs": [],
   "source": []
  }
 ],
 "metadata": {
  "kernelspec": {
   "display_name": "Python 3",
   "language": "python",
   "name": "python3"
  },
  "language_info": {
   "codemirror_mode": {
    "name": "ipython",
    "version": 3
   },
   "file_extension": ".py",
   "mimetype": "text/x-python",
   "name": "python",
   "nbconvert_exporter": "python",
   "pygments_lexer": "ipython3",
   "version": "3.8.3"
  }
 },
 "nbformat": 4,
 "nbformat_minor": 4
}
