{
 "cells": [
  {
   "cell_type": "markdown",
   "metadata": {},
   "source": [
    "## Causality between Rainfall and Water Level\n",
    "\n",
    "\n",
    "Granger causality is a statistical hypothesis test to determine whether one time series can predict another. \n",
    "Essentially, it assesses whether past values of one variable contain useful information for predicting future values of another variable. <br>\n",
    "\n",
    "\n",
    "Since we have multiple predictor variables, we would test for multivariate Granger Causality. We would make use of VAR (Vector Autoregressive) models.\n",
    "\n",
    "Hypothesis Test:\n",
    "\n",
    "H_0: None of the rainfall time series Granger-cause the water level time series. <br>\n",
    "H_A: At least one of the rainfall time series Granger-causes the water level time series. \n",
    "\n",
    "Python statsmodels package: https://www.statsmodels.org/stable/vector_ar.html\n",
    "\n",
    "Sample Paper (Multivariate Granger Causality): https://www.ncbi.nlm.nih.gov/pmc/articles/PMC3971884/\n",
    "\n",
    "Multivariate Granger-Causality: https://www.statsmodels.org/dev/generated/statsmodels.tsa.vector_ar.var_model.VARResults.test_causality.html"
   ]
  },
  {
   "cell_type": "code",
   "execution_count": 36,
   "metadata": {},
   "outputs": [],
   "source": [
    "import pandas as pd\n",
    "# 2021-2022 hourly data\n",
    "df = pd.read_csv(\"2021-2022 data.csv\")"
   ]
  },
  {
   "cell_type": "code",
   "execution_count": 37,
   "metadata": {},
   "outputs": [
    {
     "data": {
      "text/html": [
       "<div>\n",
       "<style scoped>\n",
       "    .dataframe tbody tr th:only-of-type {\n",
       "        vertical-align: middle;\n",
       "    }\n",
       "\n",
       "    .dataframe tbody tr th {\n",
       "        vertical-align: top;\n",
       "    }\n",
       "\n",
       "    .dataframe thead th {\n",
       "        text-align: right;\n",
       "    }\n",
       "</style>\n",
       "<table border=\"1\" class=\"dataframe\">\n",
       "  <thead>\n",
       "    <tr style=\"text-align: right;\">\n",
       "      <th></th>\n",
       "      <th>Unnamed: 0</th>\n",
       "      <th>Rainfall_Aries</th>\n",
       "      <th>Rainfall_Boso</th>\n",
       "      <th>Rainfall_Campana</th>\n",
       "      <th>Rainfall_Nangka</th>\n",
       "      <th>Rainfall_Oro</th>\n",
       "      <th>Waterlevel_Sto_Nino</th>\n",
       "      <th>datetime</th>\n",
       "    </tr>\n",
       "  </thead>\n",
       "  <tbody>\n",
       "    <tr>\n",
       "      <th>0</th>\n",
       "      <td>0</td>\n",
       "      <td>0.0</td>\n",
       "      <td>0.0</td>\n",
       "      <td>0.0</td>\n",
       "      <td>0.0</td>\n",
       "      <td>0.0</td>\n",
       "      <td>12.72</td>\n",
       "      <td>2021-01-01 00:00:00</td>\n",
       "    </tr>\n",
       "    <tr>\n",
       "      <th>1</th>\n",
       "      <td>1</td>\n",
       "      <td>0.0</td>\n",
       "      <td>0.0</td>\n",
       "      <td>0.0</td>\n",
       "      <td>0.0</td>\n",
       "      <td>0.0</td>\n",
       "      <td>12.71</td>\n",
       "      <td>2021-01-01 01:00:00</td>\n",
       "    </tr>\n",
       "    <tr>\n",
       "      <th>2</th>\n",
       "      <td>2</td>\n",
       "      <td>0.0</td>\n",
       "      <td>0.0</td>\n",
       "      <td>0.0</td>\n",
       "      <td>0.0</td>\n",
       "      <td>0.0</td>\n",
       "      <td>12.73</td>\n",
       "      <td>2021-01-01 02:00:00</td>\n",
       "    </tr>\n",
       "    <tr>\n",
       "      <th>3</th>\n",
       "      <td>3</td>\n",
       "      <td>0.0</td>\n",
       "      <td>0.0</td>\n",
       "      <td>0.0</td>\n",
       "      <td>0.0</td>\n",
       "      <td>0.0</td>\n",
       "      <td>12.70</td>\n",
       "      <td>2021-01-01 03:00:00</td>\n",
       "    </tr>\n",
       "    <tr>\n",
       "      <th>4</th>\n",
       "      <td>4</td>\n",
       "      <td>0.0</td>\n",
       "      <td>0.0</td>\n",
       "      <td>0.0</td>\n",
       "      <td>0.0</td>\n",
       "      <td>0.0</td>\n",
       "      <td>12.68</td>\n",
       "      <td>2021-01-01 04:00:00</td>\n",
       "    </tr>\n",
       "  </tbody>\n",
       "</table>\n",
       "</div>"
      ],
      "text/plain": [
       "   Unnamed: 0  Rainfall_Aries  Rainfall_Boso  Rainfall_Campana  \\\n",
       "0           0             0.0            0.0               0.0   \n",
       "1           1             0.0            0.0               0.0   \n",
       "2           2             0.0            0.0               0.0   \n",
       "3           3             0.0            0.0               0.0   \n",
       "4           4             0.0            0.0               0.0   \n",
       "\n",
       "   Rainfall_Nangka  Rainfall_Oro  Waterlevel_Sto_Nino             datetime  \n",
       "0              0.0           0.0                12.72  2021-01-01 00:00:00  \n",
       "1              0.0           0.0                12.71  2021-01-01 01:00:00  \n",
       "2              0.0           0.0                12.73  2021-01-01 02:00:00  \n",
       "3              0.0           0.0                12.70  2021-01-01 03:00:00  \n",
       "4              0.0           0.0                12.68  2021-01-01 04:00:00  "
      ]
     },
     "execution_count": 37,
     "metadata": {},
     "output_type": "execute_result"
    }
   ],
   "source": [
    "df.head()"
   ]
  },
  {
   "cell_type": "code",
   "execution_count": 38,
   "metadata": {},
   "outputs": [],
   "source": [
    "df[\"datetime\"] = pd.to_datetime(df[\"datetime\"])"
   ]
  },
  {
   "cell_type": "code",
   "execution_count": 39,
   "metadata": {},
   "outputs": [
    {
     "name": "stdout",
     "output_type": "stream",
     "text": [
      "<class 'pandas.core.frame.DataFrame'>\n",
      "RangeIndex: 17520 entries, 0 to 17519\n",
      "Data columns (total 8 columns):\n",
      " #   Column               Non-Null Count  Dtype         \n",
      "---  ------               --------------  -----         \n",
      " 0   Unnamed: 0           17520 non-null  int64         \n",
      " 1   Rainfall_Aries       17520 non-null  float64       \n",
      " 2   Rainfall_Boso        17520 non-null  float64       \n",
      " 3   Rainfall_Campana     17520 non-null  float64       \n",
      " 4   Rainfall_Nangka      17520 non-null  float64       \n",
      " 5   Rainfall_Oro         17520 non-null  float64       \n",
      " 6   Waterlevel_Sto_Nino  17520 non-null  float64       \n",
      " 7   datetime             17520 non-null  datetime64[ns]\n",
      "dtypes: datetime64[ns](1), float64(6), int64(1)\n",
      "memory usage: 1.1 MB\n"
     ]
    }
   ],
   "source": [
    "df.info()"
   ]
  },
  {
   "cell_type": "code",
   "execution_count": 40,
   "metadata": {},
   "outputs": [
    {
     "data": {
      "image/png": "[encoded data removed]",
      "text/plain": [
       "<Figure size 864x432 with 1 Axes>"
      ]
     },
     "metadata": {
      "needs_background": "light"
     },
     "output_type": "display_data"
    }
   ],
   "source": [
    "import matplotlib.pyplot as plt\n",
    "plt.figure(figsize=(12,6))\n",
    "waterlevel = plt.plot(df[\"datetime\"], df[\"Waterlevel_Sto_Nino\"])"
   ]
  },
  {
   "cell_type": "code",
   "execution_count": 41,
   "metadata": {},
   "outputs": [
    {
     "data": {
      "text/plain": [
       "2.686314987400812e-12"
      ]
     },
     "execution_count": 41,
     "metadata": {},
     "output_type": "execute_result"
    }
   ],
   "source": [
    "#Check for Stationarity and Autocorrelation\n",
    "\n",
    "from statsmodels.tsa.stattools import adfuller\n",
    "from statsmodels.stats.diagnostic import acorr_ljungbox\n",
    "adfuller(df[\"Waterlevel_Sto_Nino\"])[1]\n",
    "# Since p val is less than 0.05, the time series is stationary. "
   ]
  },
  {
   "cell_type": "code",
   "execution_count": 42,
   "metadata": {},
   "outputs": [
    {
     "data": {
      "text/html": [
       "<div>\n",
       "<style scoped>\n",
       "    .dataframe tbody tr th:only-of-type {\n",
       "        vertical-align: middle;\n",
       "    }\n",
       "\n",
       "    .dataframe tbody tr th {\n",
       "        vertical-align: top;\n",
       "    }\n",
       "\n",
       "    .dataframe thead th {\n",
       "        text-align: right;\n",
       "    }\n",
       "</style>\n",
       "<table border=\"1\" class=\"dataframe\">\n",
       "  <thead>\n",
       "    <tr style=\"text-align: right;\">\n",
       "      <th></th>\n",
       "      <th>lb_stat</th>\n",
       "      <th>lb_pvalue</th>\n",
       "    </tr>\n",
       "  </thead>\n",
       "  <tbody>\n",
       "    <tr>\n",
       "      <th>1</th>\n",
       "      <td>16944.681526</td>\n",
       "      <td>0.0</td>\n",
       "    </tr>\n",
       "    <tr>\n",
       "      <th>2</th>\n",
       "      <td>33394.643429</td>\n",
       "      <td>0.0</td>\n",
       "    </tr>\n",
       "    <tr>\n",
       "      <th>3</th>\n",
       "      <td>49303.937322</td>\n",
       "      <td>0.0</td>\n",
       "    </tr>\n",
       "    <tr>\n",
       "      <th>4</th>\n",
       "      <td>64652.074889</td>\n",
       "      <td>0.0</td>\n",
       "    </tr>\n",
       "    <tr>\n",
       "      <th>5</th>\n",
       "      <td>79450.299309</td>\n",
       "      <td>0.0</td>\n",
       "    </tr>\n",
       "    <tr>\n",
       "      <th>6</th>\n",
       "      <td>93725.968868</td>\n",
       "      <td>0.0</td>\n",
       "    </tr>\n",
       "    <tr>\n",
       "      <th>7</th>\n",
       "      <td>107489.859388</td>\n",
       "      <td>0.0</td>\n",
       "    </tr>\n",
       "    <tr>\n",
       "      <th>8</th>\n",
       "      <td>120765.494799</td>\n",
       "      <td>0.0</td>\n",
       "    </tr>\n",
       "    <tr>\n",
       "      <th>9</th>\n",
       "      <td>133589.440195</td>\n",
       "      <td>0.0</td>\n",
       "    </tr>\n",
       "    <tr>\n",
       "      <th>10</th>\n",
       "      <td>145999.570578</td>\n",
       "      <td>0.0</td>\n",
       "    </tr>\n",
       "  </tbody>\n",
       "</table>\n",
       "</div>"
      ],
      "text/plain": [
       "          lb_stat  lb_pvalue\n",
       "1    16944.681526        0.0\n",
       "2    33394.643429        0.0\n",
       "3    49303.937322        0.0\n",
       "4    64652.074889        0.0\n",
       "5    79450.299309        0.0\n",
       "6    93725.968868        0.0\n",
       "7   107489.859388        0.0\n",
       "8   120765.494799        0.0\n",
       "9   133589.440195        0.0\n",
       "10  145999.570578        0.0"
      ]
     },
     "execution_count": 42,
     "metadata": {},
     "output_type": "execute_result"
    }
   ],
   "source": [
    "from statsmodels.stats.diagnostic import acorr_ljungbox\n",
    "\n",
    "acorr_ljungbox(df[\"Waterlevel_Sto_Nino\"])\n",
    "\n",
    "# Since all the p-values from lags 1-10 are less than 0.05, we conclude that the time series is autocorrelated. "
   ]
  },
  {
   "cell_type": "code",
   "execution_count": 51,
   "metadata": {},
   "outputs": [
    {
     "name": "stdout",
     "output_type": "stream",
     "text": [
      "4.729826525980123e-30\n",
      "3.8125727783297586e-30\n",
      "0.0\n",
      "2.850563523992032e-30\n",
      "0.0\n"
     ]
    }
   ],
   "source": [
    "print(adfuller(df[\"Rainfall_Aries\"])[1])\n",
    "print(adfuller(df[\"Rainfall_Boso\"])[1])\n",
    "print(adfuller(df[\"Rainfall_Campana\"])[1])\n",
    "print(adfuller(df[\"Rainfall_Nangka\"])[1])\n",
    "print(adfuller(df[\"Rainfall_Oro\"])[1])\n",
    "\n",
    "# All of the rainfall time series are stationary. "
   ]
  },
  {
   "cell_type": "markdown",
   "metadata": {},
   "source": [
    "## Pairwise Granger Causality Tests\n",
    "- Each rainfall station in isolation Granger-causes the water level in Sto. Nino when considering lags of periods one to ten."
   ]
  },
  {
   "cell_type": "code",
   "execution_count": null,
   "metadata": {},
   "outputs": [],
   "source": [
    "from statsmodels.tsa.stattools import grangercausalitytests\n",
    "from statsmodels.tsa.api import VAR\n",
    "\n",
    "print(\"Aries Causes Sto Nino?\")\n",
    "grangercausalitytests(df[[\"Waterlevel_Sto_Nino\", \"Rainfall_Aries\"]], 10)"
   ]
  },
  {
   "cell_type": "code",
   "execution_count": null,
   "metadata": {},
   "outputs": [],
   "source": [
    "print(\"Boso-Boso Causes Sto Nino?\")\n",
    "grangercausalitytests(df[[\"Waterlevel_Sto_Nino\", \"Rainfall_Boso\"]], 10)"
   ]
  },
  {
   "cell_type": "code",
   "execution_count": null,
   "metadata": {},
   "outputs": [],
   "source": [
    "print(\"Campana Causes Sto Nino?\")\n",
    "grangercausalitytests(df[[\"Waterlevel_Sto_Nino\", \"Rainfall_Campana\"]], 10)"
   ]
  },
  {
   "cell_type": "code",
   "execution_count": null,
   "metadata": {},
   "outputs": [],
   "source": [
    "print(\"Mt.Nangka Causes Sto Nino?\")\n",
    "grangercausalitytests(df[[\"Waterlevel_Sto_Nino\", \"Rainfall_Nangka\"]], 10)"
   ]
  },
  {
   "cell_type": "code",
   "execution_count": null,
   "metadata": {},
   "outputs": [],
   "source": [
    "print(\"Mt.Oro Causes Sto Nino?\")\n",
    "grangercausalitytests(df[[\"Waterlevel_Sto_Nino\", \"Rainfall_Oro\"]], 10)"
   ]
  },
  {
   "cell_type": "markdown",
   "metadata": {},
   "source": [
    "## Multivariate Granger Causality Tests"
   ]
  },
  {
   "cell_type": "code",
   "execution_count": 58,
   "metadata": {},
   "outputs": [],
   "source": [
    "# Create a VAR model\n",
    "\n",
    "model = VAR(df[[\"Waterlevel_Sto_Nino\",\"Rainfall_Aries\", \"Rainfall_Boso\", \"Rainfall_Campana\", \"Rainfall_Nangka\", \"Rainfall_Oro\"]])"
   ]
  },
  {
   "cell_type": "code",
   "execution_count": 59,
   "metadata": {},
   "outputs": [
    {
     "data": {
      "text/plain": [
       "  Summary of Regression Results   \n",
       "==================================\n",
       "Model:                         VAR\n",
       "Method:                        OLS\n",
       "Date:           Wed, 04, Sep, 2024\n",
       "Time:                     17:05:08\n",
       "--------------------------------------------------------------------\n",
       "No. of Equations:         6.00000    BIC:                  -0.450391\n",
       "Nobs:                     17518.0    HQIC:                 -0.473599\n",
       "Log likelihood:          -144816.    FPE:                   0.615702\n",
       "AIC:                    -0.484992    Det(Omega_mle):        0.612968\n",
       "--------------------------------------------------------------------\n",
       "Results for equation Waterlevel_Sto_Nino\n",
       "=========================================================================================\n",
       "                            coefficient       std. error           t-stat            prob\n",
       "-----------------------------------------------------------------------------------------\n",
       "const                          0.309148         0.016491           18.747           0.000\n",
       "L1.Waterlevel_Sto_Nino         0.851477         0.007639          111.468           0.000\n",
       "L1.Rainfall_Aries              0.006129         0.000779            7.862           0.000\n",
       "L1.Rainfall_Boso               0.003940         0.000752            5.240           0.000\n",
       "L1.Rainfall_Campana            0.000084         0.000664            0.127           0.899\n",
       "L1.Rainfall_Nangka             0.007126         0.000675           10.551           0.000\n",
       "L1.Rainfall_Oro                0.005334         0.000504           10.576           0.000\n",
       "L2.Waterlevel_Sto_Nino         0.122328         0.007551           16.201           0.000\n",
       "L2.Rainfall_Aries              0.002678         0.000780            3.432           0.001\n",
       "L2.Rainfall_Boso               0.001727         0.000748            2.309           0.021\n",
       "L2.Rainfall_Campana            0.000706         0.000673            1.050           0.294\n",
       "L2.Rainfall_Nangka            -0.002720         0.000667           -4.078           0.000\n",
       "L2.Rainfall_Oro                0.003179         0.000505            6.294           0.000\n",
       "=========================================================================================\n",
       "\n",
       "Results for equation Rainfall_Aries\n",
       "=========================================================================================\n",
       "                            coefficient       std. error           t-stat            prob\n",
       "-----------------------------------------------------------------------------------------\n",
       "const                         -1.624465         0.210536           -7.716           0.000\n",
       "L1.Waterlevel_Sto_Nino         0.166158         0.097524            1.704           0.088\n",
       "L1.Rainfall_Aries              0.082263         0.009952            8.266           0.000\n",
       "L1.Rainfall_Boso               0.145469         0.009600           15.153           0.000\n",
       "L1.Rainfall_Campana            0.131922         0.008477           15.563           0.000\n",
       "L1.Rainfall_Nangka             0.111919         0.008623           12.979           0.000\n",
       "L1.Rainfall_Oro                0.019969         0.006439            3.101           0.002\n",
       "L2.Waterlevel_Sto_Nino        -0.022473         0.096397           -0.233           0.816\n",
       "L2.Rainfall_Aries              0.020235         0.009962            2.031           0.042\n",
       "L2.Rainfall_Boso              -0.001513         0.009548           -0.158           0.874\n",
       "L2.Rainfall_Campana           -0.017677         0.008587           -2.059           0.040\n",
       "L2.Rainfall_Nangka            -0.027191         0.008515           -3.193           0.001\n",
       "L2.Rainfall_Oro               -0.007432         0.006449           -1.152           0.249\n",
       "=========================================================================================\n",
       "\n",
       "Results for equation Rainfall_Boso\n",
       "=========================================================================================\n",
       "                            coefficient       std. error           t-stat            prob\n",
       "-----------------------------------------------------------------------------------------\n",
       "const                         -1.350906         0.204562           -6.604           0.000\n",
       "L1.Waterlevel_Sto_Nino         0.038822         0.094757            0.410           0.682\n",
       "L1.Rainfall_Aries              0.087096         0.009669            9.007           0.000\n",
       "L1.Rainfall_Boso               0.218511         0.009327           23.427           0.000\n",
       "L1.Rainfall_Campana            0.176157         0.008236           21.388           0.000\n",
       "L1.Rainfall_Nangka             0.032248         0.008378            3.849           0.000\n",
       "L1.Rainfall_Oro                0.033267         0.006256            5.317           0.000\n",
       "L2.Waterlevel_Sto_Nino         0.081615         0.093662            0.871           0.384\n",
       "L2.Rainfall_Aries              0.065988         0.009680            6.817           0.000\n",
       "L2.Rainfall_Boso              -0.052585         0.009277           -5.668           0.000\n",
       "L2.Rainfall_Campana            0.020332         0.008344            2.437           0.015\n",
       "L2.Rainfall_Nangka            -0.021486         0.008273           -2.597           0.009\n",
       "L2.Rainfall_Oro               -0.008475         0.006266           -1.353           0.176\n",
       "=========================================================================================\n",
       "\n",
       "Results for equation Rainfall_Campana\n",
       "=========================================================================================\n",
       "                            coefficient       std. error           t-stat            prob\n",
       "-----------------------------------------------------------------------------------------\n",
       "const                         -1.133941         0.214463           -5.287           0.000\n",
       "L1.Waterlevel_Sto_Nino         0.027030         0.099343            0.272           0.786\n",
       "L1.Rainfall_Aries              0.019989         0.010137            1.972           0.049\n",
       "L1.Rainfall_Boso               0.062788         0.009779            6.421           0.000\n",
       "L1.Rainfall_Campana            0.320974         0.008635           37.172           0.000\n",
       "L1.Rainfall_Nangka             0.055377         0.008784            6.305           0.000\n",
       "L1.Rainfall_Oro                0.036853         0.006559            5.619           0.000\n",
       "L2.Waterlevel_Sto_Nino         0.077001         0.098195            0.784           0.433\n",
       "L2.Rainfall_Aries              0.054867         0.010148            5.407           0.000\n",
       "L2.Rainfall_Boso              -0.022833         0.009727           -2.348           0.019\n",
       "L2.Rainfall_Campana            0.013754         0.008748            1.572           0.116\n",
       "L2.Rainfall_Nangka            -0.010468         0.008673           -1.207           0.227\n",
       "L2.Rainfall_Oro               -0.000360         0.006569           -0.055           0.956\n",
       "=========================================================================================\n",
       "\n",
       "Results for equation Rainfall_Nangka\n",
       "=========================================================================================\n",
       "                            coefficient       std. error           t-stat            prob\n",
       "-----------------------------------------------------------------------------------------\n",
       "const                         -1.096763         0.227105           -4.829           0.000\n",
       "L1.Waterlevel_Sto_Nino         0.455769         0.105200            4.332           0.000\n",
       "L1.Rainfall_Aries              0.023796         0.010735            2.217           0.027\n",
       "L1.Rainfall_Boso               0.123623         0.010355           11.938           0.000\n",
       "L1.Rainfall_Campana            0.081151         0.009144            8.875           0.000\n",
       "L1.Rainfall_Nangka             0.223698         0.009301           24.050           0.000\n",
       "L1.Rainfall_Oro                0.078405         0.006946           11.288           0.000\n",
       "L2.Waterlevel_Sto_Nino        -0.356245         0.103984           -3.426           0.001\n",
       "L2.Rainfall_Aries              0.011308         0.010746            1.052           0.293\n",
       "L2.Rainfall_Boso              -0.000735         0.010300           -0.071           0.943\n",
       "L2.Rainfall_Campana            0.010093         0.009263            1.090           0.276\n",
       "L2.Rainfall_Nangka            -0.034731         0.009185           -3.781           0.000\n",
       "L2.Rainfall_Oro               -0.009790         0.006956           -1.407           0.159\n",
       "=========================================================================================\n",
       "\n",
       "Results for equation Rainfall_Oro\n",
       "=========================================================================================\n",
       "                            coefficient       std. error           t-stat            prob\n",
       "-----------------------------------------------------------------------------------------\n",
       "const                         -1.349613         0.259928           -5.192           0.000\n",
       "L1.Waterlevel_Sto_Nino         0.177876         0.120404            1.477           0.140\n",
       "L1.Rainfall_Aries              0.026016         0.012286            2.117           0.034\n",
       "L1.Rainfall_Boso               0.110282         0.011852            9.305           0.000\n",
       "L1.Rainfall_Campana            0.124048         0.010466           11.853           0.000\n",
       "L1.Rainfall_Nangka             0.043586         0.010646            4.094           0.000\n",
       "L1.Rainfall_Oro                0.232756         0.007950           29.279           0.000\n",
       "L2.Waterlevel_Sto_Nino        -0.054952         0.119013           -0.462           0.644\n",
       "L2.Rainfall_Aries              0.015647         0.012299            1.272           0.203\n",
       "L2.Rainfall_Boso              -0.056706         0.011789           -4.810           0.000\n",
       "L2.Rainfall_Campana            0.049086         0.010602            4.630           0.000\n",
       "L2.Rainfall_Nangka            -0.017789         0.010512           -1.692           0.091\n",
       "L2.Rainfall_Oro               -0.003312         0.007962           -0.416           0.677\n",
       "=========================================================================================\n",
       "\n",
       "Correlation matrix of residuals\n",
       "                       Waterlevel_Sto_Nino  Rainfall_Aries  Rainfall_Boso  Rainfall_Campana  Rainfall_Nangka  Rainfall_Oro\n",
       "Waterlevel_Sto_Nino               1.000000        0.138986       0.092786          0.050479         0.195414      0.059466\n",
       "Rainfall_Aries                    0.138986        1.000000       0.454226          0.262256         0.557790      0.258128\n",
       "Rainfall_Boso                     0.092786        0.454226       1.000000          0.476799         0.247629      0.170471\n",
       "Rainfall_Campana                  0.050479        0.262256       0.476799          1.000000         0.162046      0.156435\n",
       "Rainfall_Nangka                   0.195414        0.557790       0.247629          0.162046         1.000000      0.268420\n",
       "Rainfall_Oro                      0.059466        0.258128       0.170471          0.156435         0.268420      1.000000\n",
       "\n"
      ]
     },
     "execution_count": 59,
     "metadata": {},
     "output_type": "execute_result"
    }
   ],
   "source": [
    "# Lag Order Selection\n",
    "# For parsimony, we only consider lags up to 10. \n",
    "results = model.fit(maxlags = 10, ic = 'bic')\n",
    "# VAR(2) was selected.\n",
    "results.summary()"
   ]
  },
  {
   "cell_type": "code",
   "execution_count": 61,
   "metadata": {},
   "outputs": [],
   "source": [
    "granger = results.test_causality('Waterlevel_Sto_Nino', ['Rainfall_Aries', 'Rainfall_Boso', 'Rainfall_Campana', 'Rainfall_Nangka', 'Rainfall_Oro'], kind='f')"
   ]
  },
  {
   "cell_type": "code",
   "execution_count": 65,
   "metadata": {},
   "outputs": [
    {
     "data": {
      "text/html": [
       "<table class=\"simpletable\">\n",
       "<caption>Granger causality F-test. H_0: ['Rainfall_Aries', 'Rainfall_Boso', 'Rainfall_Campana', 'Rainfall_Nangka', 'Rainfall_Oro'] do not Granger-cause Waterlevel_Sto_Nino. Conclusion: reject H_0 at 5% significance level.</caption>\n",
       "<tr>\n",
       "  <th>Test statistic</th> <th>Critical value</th> <th>p-value</th>      <th>df</th>     \n",
       "</tr>\n",
       "<tr>\n",
       "       <td>135.7</td>          <td>1.831</td>      <td>0.000</td>  <td>(10, 105030)</td>\n",
       "</tr>\n",
       "</table>"
      ],
      "text/latex": [
       "\\begin{center}\n",
       "\\begin{tabular}{cccc}\n",
       "\\toprule\n",
       "\\textbf{Test statistic} & \\textbf{Critical value} & \\textbf{p-value} & \\textbf{df}   \\\\\n",
       "\\midrule\n",
       "         135.7          &          1.831          &      0.000       & (10, 105030)  \\\\\n",
       "\\bottomrule\n",
       "\\end{tabular}\n",
       "%\\caption{Granger causality F-test. H_0: ['Rainfall_Aries', 'Rainfall_Boso', 'Rainfall_Campana', 'Rainfall_Nangka', 'Rainfall_Oro'] do not Granger-cause Waterlevel_Sto_Nino. Conclusion: reject H_0 at 5% significance level.}\n",
       "\\end{center}"
      ],
      "text/plain": [
       "<class 'statsmodels.iolib.table.SimpleTable'>"
      ]
     },
     "execution_count": 65,
     "metadata": {},
     "output_type": "execute_result"
    }
   ],
   "source": [
    "granger.summary()"
   ]
  },
  {
   "cell_type": "markdown",
   "metadata": {},
   "source": [
    "Conclusion: The five rainfall stations Granger-cause the water level at Sto. Nino."
   ]
  },
  {
   "cell_type": "code",
   "execution_count": null,
   "metadata": {},
   "outputs": [],
   "source": []
  }
 ],
 "metadata": {
  "kernelspec": {
   "display_name": "Python 3",
   "language": "python",
   "name": "python3"
  },
  "language_info": {
   "codemirror_mode": {
    "name": "ipython",
    "version": 3
   },
   "file_extension": ".py",
   "mimetype": "text/x-python",
   "name": "python",
   "nbconvert_exporter": "python",
   "pygments_lexer": "ipython3",
   "version": "3.8.3"
  }
 },
 "nbformat": 4,
 "nbformat_minor": 4
}
