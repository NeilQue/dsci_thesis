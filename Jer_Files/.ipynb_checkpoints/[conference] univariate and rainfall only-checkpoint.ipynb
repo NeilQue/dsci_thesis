{
 "cells": [
  {
   "cell_type": "code",
   "execution_count": 62,
   "metadata": {},
   "outputs": [],
   "source": [
    "import tensorflow as tf\n",
    "import pandas as pd\n",
    "import os\n",
    "import numpy as np\n",
    "import datetime as dt\n",
    "from random import seed\n",
    "from tensorflow.keras import models\n",
    "from tensorflow.keras import layers\n",
    "from tensorflow.keras import backend as K\n",
    "tf.compat.v1.experimental.output_all_intermediates(True)"
   ]
  },
  {
   "cell_type": "code",
   "execution_count": 63,
   "metadata": {},
   "outputs": [
    {
     "name": "stdout",
     "output_type": "stream",
     "text": [
      "c:\\users\\jeremy tan\\appdata\\local\\programs\\python\\python38\\python.exe\n"
     ]
    }
   ],
   "source": [
    "import sys\n",
    "print(sys.executable)"
   ]
  },
  {
   "cell_type": "markdown",
   "metadata": {},
   "source": [
    "## 1. Using only rainfall and water level inputs"
   ]
  },
  {
   "cell_type": "code",
   "execution_count": 64,
   "metadata": {},
   "outputs": [],
   "source": [
    "seed(36)"
   ]
  },
  {
   "cell_type": "code",
   "execution_count": 65,
   "metadata": {},
   "outputs": [
    {
     "data": {
      "text/html": [
       "<div>\n",
       "<style scoped>\n",
       "    .dataframe tbody tr th:only-of-type {\n",
       "        vertical-align: middle;\n",
       "    }\n",
       "\n",
       "    .dataframe tbody tr th {\n",
       "        vertical-align: top;\n",
       "    }\n",
       "\n",
       "    .dataframe thead th {\n",
       "        text-align: right;\n",
       "    }\n",
       "</style>\n",
       "<table border=\"1\" class=\"dataframe\">\n",
       "  <thead>\n",
       "    <tr style=\"text-align: right;\">\n",
       "      <th></th>\n",
       "      <th>Unnamed: 0</th>\n",
       "      <th>index</th>\n",
       "      <th>Rainfall_Aries</th>\n",
       "      <th>Rainfall_Boso</th>\n",
       "      <th>Rainfall_Campana</th>\n",
       "      <th>Rainfall_Nangka</th>\n",
       "      <th>Rainfall_Oro</th>\n",
       "      <th>Waterlevel_Sto_Nino</th>\n",
       "      <th>Waterlevel_Montalban</th>\n",
       "      <th>Discharge_Sto_Nino</th>\n",
       "      <th>Discharge_San_Jose</th>\n",
       "      <th>Cross_Section_Sto_Nino</th>\n",
       "      <th>Cross_Section_Montalban</th>\n",
       "      <th>Velocity_Sto_Nino</th>\n",
       "      <th>Velocity_Montalban</th>\n",
       "      <th>datetime</th>\n",
       "      <th>t</th>\n",
       "      <th>x</th>\n",
       "    </tr>\n",
       "  </thead>\n",
       "  <tbody>\n",
       "    <tr>\n",
       "      <th>0</th>\n",
       "      <td>0</td>\n",
       "      <td>0</td>\n",
       "      <td>0</td>\n",
       "      <td>1</td>\n",
       "      <td>2</td>\n",
       "      <td>0</td>\n",
       "      <td>0</td>\n",
       "      <td>12.18</td>\n",
       "      <td>21.03</td>\n",
       "      <td>21.033407</td>\n",
       "      <td>14.842428</td>\n",
       "      <td>803.88</td>\n",
       "      <td>630.9</td>\n",
       "      <td>0.026165</td>\n",
       "      <td>0.023526</td>\n",
       "      <td>2016-01-01 00:00:00</td>\n",
       "      <td>0.0</td>\n",
       "      <td>14420</td>\n",
       "    </tr>\n",
       "    <tr>\n",
       "      <th>1</th>\n",
       "      <td>1</td>\n",
       "      <td>1</td>\n",
       "      <td>0</td>\n",
       "      <td>1</td>\n",
       "      <td>1</td>\n",
       "      <td>1</td>\n",
       "      <td>0</td>\n",
       "      <td>12.19</td>\n",
       "      <td>21.03</td>\n",
       "      <td>21.280072</td>\n",
       "      <td>14.842428</td>\n",
       "      <td>804.54</td>\n",
       "      <td>630.9</td>\n",
       "      <td>0.026450</td>\n",
       "      <td>0.023526</td>\n",
       "      <td>2016-01-01 01:00:00</td>\n",
       "      <td>3600.0</td>\n",
       "      <td>14420</td>\n",
       "    </tr>\n",
       "    <tr>\n",
       "      <th>2</th>\n",
       "      <td>2</td>\n",
       "      <td>2</td>\n",
       "      <td>1</td>\n",
       "      <td>1</td>\n",
       "      <td>1</td>\n",
       "      <td>0</td>\n",
       "      <td>1</td>\n",
       "      <td>12.19</td>\n",
       "      <td>21.03</td>\n",
       "      <td>21.280072</td>\n",
       "      <td>14.842428</td>\n",
       "      <td>804.54</td>\n",
       "      <td>630.9</td>\n",
       "      <td>0.026450</td>\n",
       "      <td>0.023526</td>\n",
       "      <td>2016-01-01 02:00:00</td>\n",
       "      <td>7200.0</td>\n",
       "      <td>14420</td>\n",
       "    </tr>\n",
       "    <tr>\n",
       "      <th>3</th>\n",
       "      <td>3</td>\n",
       "      <td>3</td>\n",
       "      <td>0</td>\n",
       "      <td>0</td>\n",
       "      <td>0</td>\n",
       "      <td>1</td>\n",
       "      <td>0</td>\n",
       "      <td>12.20</td>\n",
       "      <td>21.03</td>\n",
       "      <td>21.529056</td>\n",
       "      <td>14.842428</td>\n",
       "      <td>805.20</td>\n",
       "      <td>630.9</td>\n",
       "      <td>0.026738</td>\n",
       "      <td>0.023526</td>\n",
       "      <td>2016-01-01 03:00:00</td>\n",
       "      <td>10800.0</td>\n",
       "      <td>14420</td>\n",
       "    </tr>\n",
       "    <tr>\n",
       "      <th>4</th>\n",
       "      <td>4</td>\n",
       "      <td>4</td>\n",
       "      <td>1</td>\n",
       "      <td>1</td>\n",
       "      <td>1</td>\n",
       "      <td>0</td>\n",
       "      <td>0</td>\n",
       "      <td>12.20</td>\n",
       "      <td>21.03</td>\n",
       "      <td>21.529056</td>\n",
       "      <td>14.842428</td>\n",
       "      <td>805.20</td>\n",
       "      <td>630.9</td>\n",
       "      <td>0.026738</td>\n",
       "      <td>0.023526</td>\n",
       "      <td>2016-01-01 04:00:00</td>\n",
       "      <td>14400.0</td>\n",
       "      <td>14420</td>\n",
       "    </tr>\n",
       "    <tr>\n",
       "      <th>5</th>\n",
       "      <td>5</td>\n",
       "      <td>5</td>\n",
       "      <td>0</td>\n",
       "      <td>0</td>\n",
       "      <td>1</td>\n",
       "      <td>0</td>\n",
       "      <td>0</td>\n",
       "      <td>12.20</td>\n",
       "      <td>21.03</td>\n",
       "      <td>21.529056</td>\n",
       "      <td>14.842428</td>\n",
       "      <td>805.20</td>\n",
       "      <td>630.9</td>\n",
       "      <td>0.026738</td>\n",
       "      <td>0.023526</td>\n",
       "      <td>2016-01-01 05:00:00</td>\n",
       "      <td>18000.0</td>\n",
       "      <td>14420</td>\n",
       "    </tr>\n",
       "    <tr>\n",
       "      <th>6</th>\n",
       "      <td>6</td>\n",
       "      <td>6</td>\n",
       "      <td>0</td>\n",
       "      <td>1</td>\n",
       "      <td>1</td>\n",
       "      <td>0</td>\n",
       "      <td>0</td>\n",
       "      <td>12.21</td>\n",
       "      <td>21.03</td>\n",
       "      <td>21.780375</td>\n",
       "      <td>14.842428</td>\n",
       "      <td>805.86</td>\n",
       "      <td>630.9</td>\n",
       "      <td>0.027027</td>\n",
       "      <td>0.023526</td>\n",
       "      <td>2016-01-01 06:00:00</td>\n",
       "      <td>21600.0</td>\n",
       "      <td>14420</td>\n",
       "    </tr>\n",
       "    <tr>\n",
       "      <th>7</th>\n",
       "      <td>7</td>\n",
       "      <td>7</td>\n",
       "      <td>0</td>\n",
       "      <td>0</td>\n",
       "      <td>0</td>\n",
       "      <td>0</td>\n",
       "      <td>0</td>\n",
       "      <td>12.21</td>\n",
       "      <td>21.03</td>\n",
       "      <td>21.780375</td>\n",
       "      <td>14.842428</td>\n",
       "      <td>805.86</td>\n",
       "      <td>630.9</td>\n",
       "      <td>0.027027</td>\n",
       "      <td>0.023526</td>\n",
       "      <td>2016-01-01 07:00:00</td>\n",
       "      <td>25200.0</td>\n",
       "      <td>14420</td>\n",
       "    </tr>\n",
       "    <tr>\n",
       "      <th>8</th>\n",
       "      <td>8</td>\n",
       "      <td>8</td>\n",
       "      <td>1</td>\n",
       "      <td>0</td>\n",
       "      <td>1</td>\n",
       "      <td>0</td>\n",
       "      <td>0</td>\n",
       "      <td>12.21</td>\n",
       "      <td>21.03</td>\n",
       "      <td>21.780375</td>\n",
       "      <td>14.842428</td>\n",
       "      <td>805.86</td>\n",
       "      <td>630.9</td>\n",
       "      <td>0.027027</td>\n",
       "      <td>0.023526</td>\n",
       "      <td>2016-01-01 08:00:00</td>\n",
       "      <td>28800.0</td>\n",
       "      <td>14420</td>\n",
       "    </tr>\n",
       "    <tr>\n",
       "      <th>9</th>\n",
       "      <td>9</td>\n",
       "      <td>9</td>\n",
       "      <td>0</td>\n",
       "      <td>0</td>\n",
       "      <td>0</td>\n",
       "      <td>0</td>\n",
       "      <td>0</td>\n",
       "      <td>12.21</td>\n",
       "      <td>21.03</td>\n",
       "      <td>21.780375</td>\n",
       "      <td>14.842428</td>\n",
       "      <td>805.86</td>\n",
       "      <td>630.9</td>\n",
       "      <td>0.027027</td>\n",
       "      <td>0.023526</td>\n",
       "      <td>2016-01-01 09:00:00</td>\n",
       "      <td>32400.0</td>\n",
       "      <td>14420</td>\n",
       "    </tr>\n",
       "  </tbody>\n",
       "</table>\n",
       "</div>"
      ],
      "text/plain": [
       "   Unnamed: 0  index  Rainfall_Aries  Rainfall_Boso  Rainfall_Campana  \\\n",
       "0           0      0               0              1                 2   \n",
       "1           1      1               0              1                 1   \n",
       "2           2      2               1              1                 1   \n",
       "3           3      3               0              0                 0   \n",
       "4           4      4               1              1                 1   \n",
       "5           5      5               0              0                 1   \n",
       "6           6      6               0              1                 1   \n",
       "7           7      7               0              0                 0   \n",
       "8           8      8               1              0                 1   \n",
       "9           9      9               0              0                 0   \n",
       "\n",
       "   Rainfall_Nangka  Rainfall_Oro  Waterlevel_Sto_Nino  Waterlevel_Montalban  \\\n",
       "0                0             0                12.18                 21.03   \n",
       "1                1             0                12.19                 21.03   \n",
       "2                0             1                12.19                 21.03   \n",
       "3                1             0                12.20                 21.03   \n",
       "4                0             0                12.20                 21.03   \n",
       "5                0             0                12.20                 21.03   \n",
       "6                0             0                12.21                 21.03   \n",
       "7                0             0                12.21                 21.03   \n",
       "8                0             0                12.21                 21.03   \n",
       "9                0             0                12.21                 21.03   \n",
       "\n",
       "   Discharge_Sto_Nino  Discharge_San_Jose  Cross_Section_Sto_Nino  \\\n",
       "0           21.033407           14.842428                  803.88   \n",
       "1           21.280072           14.842428                  804.54   \n",
       "2           21.280072           14.842428                  804.54   \n",
       "3           21.529056           14.842428                  805.20   \n",
       "4           21.529056           14.842428                  805.20   \n",
       "5           21.529056           14.842428                  805.20   \n",
       "6           21.780375           14.842428                  805.86   \n",
       "7           21.780375           14.842428                  805.86   \n",
       "8           21.780375           14.842428                  805.86   \n",
       "9           21.780375           14.842428                  805.86   \n",
       "\n",
       "   Cross_Section_Montalban  Velocity_Sto_Nino  Velocity_Montalban  \\\n",
       "0                    630.9           0.026165            0.023526   \n",
       "1                    630.9           0.026450            0.023526   \n",
       "2                    630.9           0.026450            0.023526   \n",
       "3                    630.9           0.026738            0.023526   \n",
       "4                    630.9           0.026738            0.023526   \n",
       "5                    630.9           0.026738            0.023526   \n",
       "6                    630.9           0.027027            0.023526   \n",
       "7                    630.9           0.027027            0.023526   \n",
       "8                    630.9           0.027027            0.023526   \n",
       "9                    630.9           0.027027            0.023526   \n",
       "\n",
       "              datetime        t      x  \n",
       "0  2016-01-01 00:00:00      0.0  14420  \n",
       "1  2016-01-01 01:00:00   3600.0  14420  \n",
       "2  2016-01-01 02:00:00   7200.0  14420  \n",
       "3  2016-01-01 03:00:00  10800.0  14420  \n",
       "4  2016-01-01 04:00:00  14400.0  14420  \n",
       "5  2016-01-01 05:00:00  18000.0  14420  \n",
       "6  2016-01-01 06:00:00  21600.0  14420  \n",
       "7  2016-01-01 07:00:00  25200.0  14420  \n",
       "8  2016-01-01 08:00:00  28800.0  14420  \n",
       "9  2016-01-01 09:00:00  32400.0  14420  "
      ]
     },
     "execution_count": 65,
     "metadata": {},
     "output_type": "execute_result"
    }
   ],
   "source": [
    "df = pd.read_csv(\"compiled_data_2016_2017.csv\")\n",
    "df.head(10)"
   ]
  },
  {
   "cell_type": "code",
   "execution_count": 66,
   "metadata": {},
   "outputs": [],
   "source": [
    "n = len(df)"
   ]
  },
  {
   "cell_type": "code",
   "execution_count": 67,
   "metadata": {},
   "outputs": [
    {
     "data": {
      "text/plain": [
       "13140    2017-07-02 12:00:00\n",
       "13141    2017-07-02 13:00:00\n",
       "13142    2017-07-02 14:00:00\n",
       "13143    2017-07-02 15:00:00\n",
       "13144    2017-07-02 16:00:00\n",
       "                ...         \n",
       "17515    2017-12-31 19:00:00\n",
       "17516    2017-12-31 20:00:00\n",
       "17517    2017-12-31 21:00:00\n",
       "17518    2017-12-31 22:00:00\n",
       "17519    2017-12-31 23:00:00\n",
       "Name: datetime, Length: 4380, dtype: object"
      ]
     },
     "execution_count": 67,
     "metadata": {},
     "output_type": "execute_result"
    }
   ],
   "source": [
    "test = df[int(n*0.75):]\n",
    "test_dates = test['datetime']\n",
    "test_dates"
   ]
  },
  {
   "cell_type": "code",
   "execution_count": 68,
   "metadata": {},
   "outputs": [],
   "source": [
    "test_dates = pd.to_datetime(test_dates)\n"
   ]
  },
  {
   "cell_type": "code",
   "execution_count": 69,
   "metadata": {},
   "outputs": [
    {
     "data": {
      "text/html": [
       "<div>\n",
       "<style scoped>\n",
       "    .dataframe tbody tr th:only-of-type {\n",
       "        vertical-align: middle;\n",
       "    }\n",
       "\n",
       "    .dataframe tbody tr th {\n",
       "        vertical-align: top;\n",
       "    }\n",
       "\n",
       "    .dataframe thead th {\n",
       "        text-align: right;\n",
       "    }\n",
       "</style>\n",
       "<table border=\"1\" class=\"dataframe\">\n",
       "  <thead>\n",
       "    <tr style=\"text-align: right;\">\n",
       "      <th></th>\n",
       "      <th>Rainfall_Aries</th>\n",
       "      <th>Rainfall_Boso</th>\n",
       "      <th>Rainfall_Campana</th>\n",
       "      <th>Rainfall_Nangka</th>\n",
       "      <th>Rainfall_Oro</th>\n",
       "      <th>Waterlevel_Sto_Nino</th>\n",
       "    </tr>\n",
       "  </thead>\n",
       "  <tbody>\n",
       "    <tr>\n",
       "      <th>0</th>\n",
       "      <td>0</td>\n",
       "      <td>1</td>\n",
       "      <td>2</td>\n",
       "      <td>0</td>\n",
       "      <td>0</td>\n",
       "      <td>12.18</td>\n",
       "    </tr>\n",
       "    <tr>\n",
       "      <th>1</th>\n",
       "      <td>0</td>\n",
       "      <td>1</td>\n",
       "      <td>1</td>\n",
       "      <td>1</td>\n",
       "      <td>0</td>\n",
       "      <td>12.19</td>\n",
       "    </tr>\n",
       "    <tr>\n",
       "      <th>2</th>\n",
       "      <td>1</td>\n",
       "      <td>1</td>\n",
       "      <td>1</td>\n",
       "      <td>0</td>\n",
       "      <td>1</td>\n",
       "      <td>12.19</td>\n",
       "    </tr>\n",
       "    <tr>\n",
       "      <th>3</th>\n",
       "      <td>0</td>\n",
       "      <td>0</td>\n",
       "      <td>0</td>\n",
       "      <td>1</td>\n",
       "      <td>0</td>\n",
       "      <td>12.20</td>\n",
       "    </tr>\n",
       "    <tr>\n",
       "      <th>4</th>\n",
       "      <td>1</td>\n",
       "      <td>1</td>\n",
       "      <td>1</td>\n",
       "      <td>0</td>\n",
       "      <td>0</td>\n",
       "      <td>12.20</td>\n",
       "    </tr>\n",
       "    <tr>\n",
       "      <th>5</th>\n",
       "      <td>0</td>\n",
       "      <td>0</td>\n",
       "      <td>1</td>\n",
       "      <td>0</td>\n",
       "      <td>0</td>\n",
       "      <td>12.20</td>\n",
       "    </tr>\n",
       "    <tr>\n",
       "      <th>6</th>\n",
       "      <td>0</td>\n",
       "      <td>1</td>\n",
       "      <td>1</td>\n",
       "      <td>0</td>\n",
       "      <td>0</td>\n",
       "      <td>12.21</td>\n",
       "    </tr>\n",
       "    <tr>\n",
       "      <th>7</th>\n",
       "      <td>0</td>\n",
       "      <td>0</td>\n",
       "      <td>0</td>\n",
       "      <td>0</td>\n",
       "      <td>0</td>\n",
       "      <td>12.21</td>\n",
       "    </tr>\n",
       "    <tr>\n",
       "      <th>8</th>\n",
       "      <td>1</td>\n",
       "      <td>0</td>\n",
       "      <td>1</td>\n",
       "      <td>0</td>\n",
       "      <td>0</td>\n",
       "      <td>12.21</td>\n",
       "    </tr>\n",
       "    <tr>\n",
       "      <th>9</th>\n",
       "      <td>0</td>\n",
       "      <td>0</td>\n",
       "      <td>0</td>\n",
       "      <td>0</td>\n",
       "      <td>0</td>\n",
       "      <td>12.21</td>\n",
       "    </tr>\n",
       "  </tbody>\n",
       "</table>\n",
       "</div>"
      ],
      "text/plain": [
       "   Rainfall_Aries  Rainfall_Boso  Rainfall_Campana  Rainfall_Nangka  \\\n",
       "0               0              1                 2                0   \n",
       "1               0              1                 1                1   \n",
       "2               1              1                 1                0   \n",
       "3               0              0                 0                1   \n",
       "4               1              1                 1                0   \n",
       "5               0              0                 1                0   \n",
       "6               0              1                 1                0   \n",
       "7               0              0                 0                0   \n",
       "8               1              0                 1                0   \n",
       "9               0              0                 0                0   \n",
       "\n",
       "   Rainfall_Oro  Waterlevel_Sto_Nino  \n",
       "0             0                12.18  \n",
       "1             0                12.19  \n",
       "2             1                12.19  \n",
       "3             0                12.20  \n",
       "4             0                12.20  \n",
       "5             0                12.20  \n",
       "6             0                12.21  \n",
       "7             0                12.21  \n",
       "8             0                12.21  \n",
       "9             0                12.21  "
      ]
     },
     "execution_count": 69,
     "metadata": {},
     "output_type": "execute_result"
    }
   ],
   "source": [
    "df_1 = df[['Rainfall_Aries', 'Rainfall_Boso', 'Rainfall_Campana', 'Rainfall_Nangka', 'Rainfall_Oro', 'Waterlevel_Sto_Nino']]\n",
    "df_1.head(10)"
   ]
  },
  {
   "cell_type": "code",
   "execution_count": 70,
   "metadata": {},
   "outputs": [],
   "source": [
    "# Splitting for time series: split into 50-25-25\n",
    "n = len(df_1)\n",
    "train_df = df_1[0:int(n*0.5)]\n",
    "val_df = df_1[int(n*0.5):int(n*0.75)]\n",
    "test_df = df_1[int(n*0.75):]"
   ]
  },
  {
   "cell_type": "code",
   "execution_count": 71,
   "metadata": {},
   "outputs": [],
   "source": [
    "class WindowGenerator():\n",
    "    def __init__(self, input_width, label_width, shift, train_df=train_df, val_df=val_df, test_df=test_df, label_columns=None):\n",
    "        # Store the raw data.\n",
    "        self.train_df = train_df\n",
    "        self.val_df = val_df\n",
    "        self.test_df = test_df\n",
    "\n",
    "        # Work out the label column indices.\n",
    "        self.label_columns = label_columns\n",
    "        if label_columns is not None:\n",
    "            self.label_columns_indices = {name: i for i, name in enumerate(label_columns)}\n",
    "        self.column_indices = {name: i for i, name in enumerate(train_df.columns)}\n",
    "\n",
    "        # Work out the window parameters.\n",
    "        self.input_width = input_width\n",
    "        self.label_width = label_width\n",
    "        self.shift = shift\n",
    "\n",
    "        self.total_window_size = input_width + shift\n",
    "\n",
    "        self.input_slice = slice(0, input_width)\n",
    "        self.input_indices = np.arange(self.total_window_size)[self.input_slice]\n",
    "\n",
    "        self.label_start = self.total_window_size - self.label_width\n",
    "        self.labels_slice = slice(self.label_start, None)\n",
    "        self.label_indices = np.arange(self.total_window_size)[self.labels_slice]\n",
    "\n",
    "    def __repr__(self):\n",
    "        return '\\n'.join([\n",
    "            f'Total window size: {self.total_window_size}',\n",
    "            f'Input indices: {self.input_indices}',\n",
    "            f'Label indices: {self.label_indices}',\n",
    "            f'Label column name(s): {self.label_columns}'])\n",
    "\n",
    "    def split_window(self, features):\n",
    "        inputs = features[:, self.input_slice, :]\n",
    "        labels = features[:, self.labels_slice, :]\n",
    "        if self.label_columns is not None:\n",
    "            labels = tf.stack([labels[:, :, self.column_indices[name]] for name in self.label_columns], axis=-1)\n",
    "\n",
    "        # Slicing doesn't preserve static shape information, so set the shapes\n",
    "        # manually. This way the `tf.data.Datasets` are easier to inspect.\n",
    "        inputs.set_shape([None, self.input_width, None])\n",
    "        labels.set_shape([None, self.label_width, None])\n",
    "\n",
    "        return inputs, labels\n",
    "    \n",
    "    # Creating tf datasets for more convenient use and integration into model in the future\n",
    "    def make_dataset(self, data):\n",
    "        data = np.array(data, dtype=np.float32)\n",
    "        ds = tf.keras.utils.timeseries_dataset_from_array(\n",
    "            data=data,\n",
    "            targets=None,\n",
    "            sequence_length=self.total_window_size,\n",
    "            sequence_stride=1,\n",
    "            shuffle=True,\n",
    "            batch_size=32,)\n",
    "\n",
    "        ds = ds.map(self.split_window)\n",
    "\n",
    "        return ds\n",
    "    \n",
    "    # properties to access them as tf datasets\n",
    "    @property\n",
    "    def train(self):\n",
    "        return self.make_dataset(self.train_df)\n",
    "\n",
    "    @property\n",
    "    def val(self):\n",
    "        return self.make_dataset(self.val_df)\n",
    "\n",
    "    @property\n",
    "    def test(self):\n",
    "        return self.make_dataset(self.test_df)\n",
    "\n",
    "    @property\n",
    "    def example(self):\n",
    "        \"\"\"Get and cache an example batch of `inputs, labels` for plotting.\"\"\"\n",
    "        result = getattr(self, '_example', None)\n",
    "        if result is None:\n",
    "            # No example batch was found, so get one from the `.train` dataset\n",
    "            result = next(iter(self.train))\n",
    "            # And cache it for next time\n",
    "            self._example = result\n",
    "        return result"
   ]
  },
  {
   "cell_type": "code",
   "execution_count": 72,
   "metadata": {},
   "outputs": [
    {
     "data": {
      "text/plain": [
       "Total window size: 7\n",
       "Input indices: [0 1 2 3 4 5]\n",
       "Label indices: [1 2 3 4 5 6]\n",
       "Label column name(s): ['Waterlevel_Sto_Nino']"
      ]
     },
     "execution_count": 72,
     "metadata": {},
     "output_type": "execute_result"
    }
   ],
   "source": [
    "# The wide window uses independent hours of data as input to predict the water level of the next hour\n",
    "# Here, the prediction is done on 6 hours\n",
    "# This is used for Dense and Recurrent Neural Networks\n",
    "wide_window = WindowGenerator(\n",
    "        input_width=6, label_width=6, shift=1,\n",
    "        label_columns=['Waterlevel_Sto_Nino']\n",
    "    )\n",
    "\n",
    "wide_window"
   ]
  },
  {
   "cell_type": "code",
   "execution_count": 73,
   "metadata": {},
   "outputs": [
    {
     "data": {
      "text/plain": [
       "Total window size: 7\n",
       "Input indices: [0 1 2 3 4 5]\n",
       "Label indices: [6]\n",
       "Label column name(s): ['Waterlevel_Sto_Nino']"
      ]
     },
     "execution_count": 73,
     "metadata": {},
     "output_type": "execute_result"
    }
   ],
   "source": [
    "# The conv window is used for the Convolutional Neural Netwrok\n",
    "# 6 consecutive hours of data are used together to make predictions one hour into the future\n",
    "CONV_WIDTH = 6\n",
    "conv_window = WindowGenerator(\n",
    "        input_width=CONV_WIDTH,\n",
    "        label_width=1,\n",
    "        shift=1,\n",
    "        label_columns=['Waterlevel_Sto_Nino']\n",
    "    )\n",
    "\n",
    "conv_window"
   ]
  },
  {
   "cell_type": "code",
   "execution_count": 74,
   "metadata": {},
   "outputs": [],
   "source": [
    "def r_square(y_true, y_pred):\n",
    "    x = y_true\n",
    "    y = y_pred\n",
    "    mx = K.mean(x, axis=0)\n",
    "    my = K.mean(y, axis=0)\n",
    "    xm, ym = x - mx, y - my\n",
    "    r_num = K.square(K.sum(xm * ym))\n",
    "    x_square_sum = K.sum(xm * xm)\n",
    "    y_square_sum = K.sum(ym * ym)\n",
    "    r_den = (x_square_sum * y_square_sum) + K.epsilon()\n",
    "    \n",
    "    r = r_num / r_den\n",
    "    return r"
   ]
  },
  {
   "cell_type": "code",
   "execution_count": 75,
   "metadata": {},
   "outputs": [],
   "source": [
    "def NSE(y_true, y_pred):\n",
    "    '''\n",
    "    This is the Nash-Sutcliffe Efficiency Coefficient\n",
    "    '''\n",
    "    y_pred = K.flatten(y_pred)\n",
    "    y_true = K.flatten(y_true)\n",
    "\n",
    "    \n",
    "    SS_res =  K.sum(K.square(y_true - y_pred)) \n",
    "    SS_tot = K.sum(K.square(y_true - K.mean(y_true))) \n",
    "    \n",
    "    return ( 1 - SS_res/(SS_tot + K.epsilon()) )"
   ]
  },
  {
   "cell_type": "code",
   "execution_count": 76,
   "metadata": {},
   "outputs": [],
   "source": [
    "# For easy compiling and fitting of different models\n",
    "MAX_EPOCHS = 20\n",
    "\n",
    "def compile_and_fit(model, window, patience=2):\n",
    "    early_stopping = tf.keras.callbacks.EarlyStopping(monitor='val_loss', patience=patience, mode='min')\n",
    "\n",
    "    model.compile(\n",
    "        loss=tf.keras.losses.MeanSquaredError(), \n",
    "        optimizer='adam', \n",
    "        metrics=[tf.keras.metrics.MeanSquaredError(), NSE, r_square]\n",
    "    )\n",
    "\n",
    "    history = model.fit(\n",
    "        window.train, \n",
    "        epochs=MAX_EPOCHS,\n",
    "        validation_data=window.val,\n",
    "        callbacks=[early_stopping]\n",
    "    )\n",
    "\n",
    "    return history"
   ]
  },
  {
   "cell_type": "code",
   "execution_count": 77,
   "metadata": {},
   "outputs": [],
   "source": [
    "# Dense Neural Network\n",
    "dense = tf.keras.Sequential([\n",
    "    tf.keras.layers.Dense(units=64, activation='relu'),\n",
    "    tf.keras.layers.Dense(units=64, activation='relu'),\n",
    "    tf.keras.layers.Dense(units=64, activation='relu'),\n",
    "    tf.keras.layers.Dense(units=1)\n",
    "])\n",
    "\n",
    "# Convolution Neural Network\n",
    "conv_model = tf.keras.Sequential([\n",
    "    tf.keras.layers.Conv1D(filters=64, kernel_size=(CONV_WIDTH,), activation='relu'),\n",
    "    tf.keras.layers.Dense(units=64, activation='relu'),\n",
    "    tf.keras.layers.Dense(units=64, activation='relu'),\n",
    "    tf.keras.layers.Dense(units=1),\n",
    "])\n",
    "\n",
    "# LSTM\n",
    "lstm_model = tf.keras.models.Sequential([\n",
    "    tf.keras.layers.LSTM(64, return_sequences=True),\n",
    "    tf.keras.layers.Dense(units=64, activation='relu'),\n",
    "    tf.keras.layers.Dense(units=64, activation='relu'),\n",
    "    tf.keras.layers.Dense(units=1)\n",
    "])"
   ]
  },
  {
   "cell_type": "code",
   "execution_count": 78,
   "metadata": {},
   "outputs": [
    {
     "name": "stdout",
     "output_type": "stream",
     "text": [
      "Epoch 1/20\n",
      "274/274 [==============================] - 3s 4ms/step - loss: 7.0758 - mean_squared_error: 7.0758 - NSE: -20.1621 - r_square: 0.7751 - val_loss: 0.0138 - val_mean_squared_error: 0.0138 - val_NSE: 0.8009 - val_r_square: 0.8939\n",
      "Epoch 2/20\n",
      "274/274 [==============================] - 1s 3ms/step - loss: 0.0091 - mean_squared_error: 0.0091 - NSE: 0.9775 - r_square: 0.9794 - val_loss: 0.0082 - val_mean_squared_error: 0.0082 - val_NSE: 0.8818 - val_r_square: 0.9150\n",
      "Epoch 3/20\n",
      "274/274 [==============================] - 1s 3ms/step - loss: 0.0059 - mean_squared_error: 0.0059 - NSE: 0.9851 - r_square: 0.9863 - val_loss: 0.0071 - val_mean_squared_error: 0.0071 - val_NSE: 0.9053 - val_r_square: 0.9263\n",
      "Epoch 4/20\n",
      "274/274 [==============================] - 1s 4ms/step - loss: 0.0050 - mean_squared_error: 0.0050 - NSE: 0.9874 - r_square: 0.9885 - val_loss: 0.0074 - val_mean_squared_error: 0.0074 - val_NSE: 0.8866 - val_r_square: 0.9230\n",
      "Epoch 5/20\n",
      "274/274 [==============================] - 2s 5ms/step - loss: 0.0042 - mean_squared_error: 0.0042 - NSE: 0.9894 - r_square: 0.9904 - val_loss: 0.0078 - val_mean_squared_error: 0.0078 - val_NSE: 0.8906 - val_r_square: 0.9243\n"
     ]
    }
   ],
   "source": [
    "dense_history = compile_and_fit(dense, wide_window)"
   ]
  },
  {
   "cell_type": "code",
   "execution_count": 79,
   "metadata": {},
   "outputs": [
    {
     "data": {
      "text/plain": [
       "{'loss': [7.075839519500732,\n",
       "  0.009099283255636692,\n",
       "  0.005941034760326147,\n",
       "  0.004963879007846117,\n",
       "  0.004182977136224508],\n",
       " 'mean_squared_error': [7.075839042663574,\n",
       "  0.009099280461668968,\n",
       "  0.005941037554293871,\n",
       "  0.004963877610862255,\n",
       "  0.004182977136224508],\n",
       " 'NSE': [-20.162128448486328,\n",
       "  0.977531909942627,\n",
       "  0.9850764870643616,\n",
       "  0.9873629212379456,\n",
       "  0.9894334673881531],\n",
       " 'r_square': [0.7750736474990845,\n",
       "  0.9793811440467834,\n",
       "  0.9862712025642395,\n",
       "  0.9884688258171082,\n",
       "  0.9904481172561646],\n",
       " 'val_loss': [0.013789212331175804,\n",
       "  0.008189341053366661,\n",
       "  0.00706422608345747,\n",
       "  0.0074405912309885025,\n",
       "  0.007807707414031029],\n",
       " 'val_mean_squared_error': [0.013789215125143528,\n",
       "  0.00818934477865696,\n",
       "  0.007064225152134895,\n",
       "  0.007440593093633652,\n",
       "  0.0078077069483697414],\n",
       " 'val_NSE': [0.8008937835693359,\n",
       "  0.8817651867866516,\n",
       "  0.9053013324737549,\n",
       "  0.8865664005279541,\n",
       "  0.8905667066574097],\n",
       " 'val_r_square': [0.8938618302345276,\n",
       "  0.9149612784385681,\n",
       "  0.9262531995773315,\n",
       "  0.9230435490608215,\n",
       "  0.9243226051330566]}"
      ]
     },
     "execution_count": 79,
     "metadata": {},
     "output_type": "execute_result"
    }
   ],
   "source": [
    "dense_history.history"
   ]
  },
  {
   "cell_type": "code",
   "execution_count": 80,
   "metadata": {},
   "outputs": [
    {
     "name": "stdout",
     "output_type": "stream",
     "text": [
      "Epoch 1/20\n",
      "274/274 [==============================] - 2s 3ms/step - loss: 7.1202 - mean_squared_error: 7.1202 - NSE: -18.7020 - r_square: 0.7826 - val_loss: 0.0225 - val_mean_squared_error: 0.0225 - val_NSE: 0.6389 - val_r_square: 0.8127\n",
      "Epoch 2/20\n",
      "274/274 [==============================] - 1s 2ms/step - loss: 0.0397 - mean_squared_error: 0.0397 - NSE: 0.9065 - r_square: 0.9321 - val_loss: 0.0169 - val_mean_squared_error: 0.0169 - val_NSE: 0.7501 - val_r_square: 0.8519\n",
      "Epoch 3/20\n",
      "274/274 [==============================] - 1s 2ms/step - loss: 0.0233 - mean_squared_error: 0.0233 - NSE: 0.9410 - r_square: 0.9548 - val_loss: 0.0135 - val_mean_squared_error: 0.0135 - val_NSE: 0.8009 - val_r_square: 0.8639\n",
      "Epoch 4/20\n",
      "274/274 [==============================] - 1s 2ms/step - loss: 0.0191 - mean_squared_error: 0.0191 - NSE: 0.9488 - r_square: 0.9616 - val_loss: 0.0127 - val_mean_squared_error: 0.0127 - val_NSE: 0.8061 - val_r_square: 0.8833\n",
      "Epoch 5/20\n",
      "274/274 [==============================] - 1s 3ms/step - loss: 0.0162 - mean_squared_error: 0.0162 - NSE: 0.9592 - r_square: 0.9672 - val_loss: 0.0107 - val_mean_squared_error: 0.0107 - val_NSE: 0.8341 - val_r_square: 0.8788\n",
      "Epoch 6/20\n",
      "274/274 [==============================] - 1s 3ms/step - loss: 0.0186 - mean_squared_error: 0.0186 - NSE: 0.9543 - r_square: 0.9661 - val_loss: 0.0173 - val_mean_squared_error: 0.0173 - val_NSE: 0.7033 - val_r_square: 0.8730\n",
      "Epoch 7/20\n",
      "274/274 [==============================] - 1s 3ms/step - loss: 0.0191 - mean_squared_error: 0.0191 - NSE: 0.9518 - r_square: 0.9652 - val_loss: 0.0158 - val_mean_squared_error: 0.0158 - val_NSE: 0.7603 - val_r_square: 0.8884\n"
     ]
    }
   ],
   "source": [
    "conv_history = compile_and_fit(conv_model, conv_window)"
   ]
  },
  {
   "cell_type": "code",
   "execution_count": 81,
   "metadata": {},
   "outputs": [
    {
     "name": "stdout",
     "output_type": "stream",
     "text": [
      "Epoch 1/20\n",
      "274/274 [==============================] - 5s 9ms/step - loss: 11.4011 - mean_squared_error: 11.4011 - NSE: -28.8702 - r_square: 0.3624 - val_loss: 0.0993 - val_mean_squared_error: 0.0993 - val_NSE: -0.5444 - val_r_square: 0.3183\n",
      "Epoch 2/20\n",
      "274/274 [==============================] - 2s 6ms/step - loss: 0.1366 - mean_squared_error: 0.1366 - NSE: 0.6746 - r_square: 0.7957 - val_loss: 0.0449 - val_mean_squared_error: 0.0449 - val_NSE: 0.2252 - val_r_square: 0.6705\n",
      "Epoch 3/20\n",
      "274/274 [==============================] - 2s 7ms/step - loss: 0.0514 - mean_squared_error: 0.0514 - NSE: 0.8798 - r_square: 0.9156 - val_loss: 0.0310 - val_mean_squared_error: 0.0310 - val_NSE: 0.5131 - val_r_square: 0.7818\n",
      "Epoch 4/20\n",
      "274/274 [==============================] - 2s 6ms/step - loss: 0.0297 - mean_squared_error: 0.0297 - NSE: 0.9307 - r_square: 0.9415 - val_loss: 0.0212 - val_mean_squared_error: 0.0212 - val_NSE: 0.6505 - val_r_square: 0.8370\n",
      "Epoch 5/20\n",
      "274/274 [==============================] - 2s 6ms/step - loss: 0.0217 - mean_squared_error: 0.0217 - NSE: 0.9491 - r_square: 0.9565 - val_loss: 0.0147 - val_mean_squared_error: 0.0147 - val_NSE: 0.7772 - val_r_square: 0.8806\n",
      "Epoch 6/20\n",
      "274/274 [==============================] - 2s 6ms/step - loss: 0.0167 - mean_squared_error: 0.0167 - NSE: 0.9607 - r_square: 0.9661 - val_loss: 0.0128 - val_mean_squared_error: 0.0128 - val_NSE: 0.8058 - val_r_square: 0.8790\n",
      "Epoch 7/20\n",
      "274/274 [==============================] - 2s 7ms/step - loss: 0.0125 - mean_squared_error: 0.0125 - NSE: 0.9708 - r_square: 0.9742 - val_loss: 0.0088 - val_mean_squared_error: 0.0088 - val_NSE: 0.8643 - val_r_square: 0.9200\n",
      "Epoch 8/20\n",
      "274/274 [==============================] - 2s 6ms/step - loss: 0.0102 - mean_squared_error: 0.0102 - NSE: 0.9758 - r_square: 0.9792 - val_loss: 0.0086 - val_mean_squared_error: 0.0086 - val_NSE: 0.8719 - val_r_square: 0.9152\n",
      "Epoch 9/20\n",
      "274/274 [==============================] - 2s 7ms/step - loss: 0.0077 - mean_squared_error: 0.0077 - NSE: 0.9820 - r_square: 0.9849 - val_loss: 0.0080 - val_mean_squared_error: 0.0080 - val_NSE: 0.8684 - val_r_square: 0.9163\n",
      "Epoch 10/20\n",
      "274/274 [==============================] - 2s 7ms/step - loss: 0.0078 - mean_squared_error: 0.0078 - NSE: 0.9813 - r_square: 0.9848 - val_loss: 0.0075 - val_mean_squared_error: 0.0075 - val_NSE: 0.8891 - val_r_square: 0.9238\n",
      "Epoch 11/20\n",
      "274/274 [==============================] - 2s 7ms/step - loss: 0.0063 - mean_squared_error: 0.0063 - NSE: 0.9850 - r_square: 0.9882 - val_loss: 0.0058 - val_mean_squared_error: 0.0058 - val_NSE: 0.9111 - val_r_square: 0.9450\n",
      "Epoch 12/20\n",
      "274/274 [==============================] - 2s 7ms/step - loss: 0.0055 - mean_squared_error: 0.0055 - NSE: 0.9865 - r_square: 0.9889 - val_loss: 0.0052 - val_mean_squared_error: 0.0052 - val_NSE: 0.9167 - val_r_square: 0.9386\n",
      "Epoch 13/20\n",
      "274/274 [==============================] - 2s 7ms/step - loss: 0.0051 - mean_squared_error: 0.0051 - NSE: 0.9870 - r_square: 0.9899 - val_loss: 0.0054 - val_mean_squared_error: 0.0054 - val_NSE: 0.9219 - val_r_square: 0.9480\n",
      "Epoch 14/20\n",
      "274/274 [==============================] - 2s 7ms/step - loss: 0.0054 - mean_squared_error: 0.0054 - NSE: 0.9865 - r_square: 0.9897 - val_loss: 0.0049 - val_mean_squared_error: 0.0049 - val_NSE: 0.9259 - val_r_square: 0.9420\n",
      "Epoch 15/20\n",
      "274/274 [==============================] - 2s 7ms/step - loss: 0.0050 - mean_squared_error: 0.0050 - NSE: 0.9874 - r_square: 0.9901 - val_loss: 0.0050 - val_mean_squared_error: 0.0050 - val_NSE: 0.9288 - val_r_square: 0.9453\n",
      "Epoch 16/20\n",
      "274/274 [==============================] - 2s 7ms/step - loss: 0.0051 - mean_squared_error: 0.0051 - NSE: 0.9872 - r_square: 0.9908 - val_loss: 0.0060 - val_mean_squared_error: 0.0060 - val_NSE: 0.9051 - val_r_square: 0.9405\n"
     ]
    }
   ],
   "source": [
    "lstm_history = compile_and_fit(lstm_model, wide_window)"
   ]
  },
  {
   "cell_type": "code",
   "execution_count": 82,
   "metadata": {},
   "outputs": [],
   "source": [
    "val_performance = {}\n",
    "performance = {}"
   ]
  },
  {
   "cell_type": "code",
   "execution_count": 83,
   "metadata": {},
   "outputs": [
    {
     "name": "stdout",
     "output_type": "stream",
     "text": [
      "137/137 [==============================] - 0s 2ms/step - loss: 0.0078 - mean_squared_error: 0.0078 - NSE: 0.8851 - r_square: 0.9218\n"
     ]
    }
   ],
   "source": [
    "val_performance['Dense'] = dense.evaluate(wide_window.val)"
   ]
  },
  {
   "cell_type": "code",
   "execution_count": 84,
   "metadata": {},
   "outputs": [],
   "source": [
    "performance['Dense'] = dense.evaluate(wide_window.test, verbose=0)"
   ]
  },
  {
   "cell_type": "code",
   "execution_count": 85,
   "metadata": {},
   "outputs": [
    {
     "name": "stdout",
     "output_type": "stream",
     "text": [
      "137/137 [==============================] - 0s 2ms/step - loss: 0.0158 - mean_squared_error: 0.0158 - NSE: 0.7521 - r_square: 0.8873\n"
     ]
    }
   ],
   "source": [
    "val_performance['Conv'] = conv_model.evaluate(conv_window.val)"
   ]
  },
  {
   "cell_type": "code",
   "execution_count": 86,
   "metadata": {},
   "outputs": [],
   "source": [
    "performance['Conv'] = conv_model.evaluate(conv_window.test, verbose=0)"
   ]
  },
  {
   "cell_type": "code",
   "execution_count": 87,
   "metadata": {},
   "outputs": [
    {
     "name": "stdout",
     "output_type": "stream",
     "text": [
      "137/137 [==============================] - 0s 3ms/step - loss: 0.0060 - mean_squared_error: 0.0060 - NSE: 0.9101 - r_square: 0.9430\n"
     ]
    }
   ],
   "source": [
    "val_performance['LSTM'] = lstm_model.evaluate(wide_window.val)"
   ]
  },
  {
   "cell_type": "code",
   "execution_count": 88,
   "metadata": {},
   "outputs": [],
   "source": [
    "performance['LSTM'] = lstm_model.evaluate(wide_window.test, verbose=0)"
   ]
  },
  {
   "cell_type": "code",
   "execution_count": 89,
   "metadata": {},
   "outputs": [
    {
     "data": {
      "text/plain": [
       "{'Dense': [0.007807707414031029,\n",
       "  0.0078077069483697414,\n",
       "  0.8851449489593506,\n",
       "  0.9217793345451355],\n",
       " 'Conv': [0.01583210378885269,\n",
       "  0.01583210378885269,\n",
       "  0.7521134614944458,\n",
       "  0.8872930407524109],\n",
       " 'LSTM': [0.006043333560228348,\n",
       "  0.006043332628905773,\n",
       "  0.9101168513298035,\n",
       "  0.9429716467857361]}"
      ]
     },
     "execution_count": 89,
     "metadata": {},
     "output_type": "execute_result"
    }
   ],
   "source": [
    "val_performance"
   ]
  },
  {
   "cell_type": "code",
   "execution_count": 90,
   "metadata": {},
   "outputs": [
    {
     "data": {
      "text/plain": [
       "{'Dense': [0.03779764845967293,\n",
       "  0.037797652184963226,\n",
       "  0.7710567116737366,\n",
       "  0.9307469725608826],\n",
       " 'Conv': [0.0766657218337059,\n",
       "  0.0766657218337059,\n",
       "  0.6313242316246033,\n",
       "  0.884834349155426],\n",
       " 'LSTM': [0.009754135273396969,\n",
       "  0.009754139930009842,\n",
       "  0.9616332650184631,\n",
       "  0.9688259363174438]}"
      ]
     },
     "execution_count": 90,
     "metadata": {},
     "output_type": "execute_result"
    }
   ],
   "source": [
    "performance"
   ]
  },
  {
   "cell_type": "code",
   "execution_count": 91,
   "metadata": {},
   "outputs": [],
   "source": [
    "import pandas as pd\n",
    "\n",
    "\n",
    "\n",
    "df_perf = pd.DataFrame.from_dict(performance, orient='index', columns=['Loss', 'MSE', 'NSE', 'R^2'])"
   ]
  },
  {
   "cell_type": "code",
   "execution_count": 92,
   "metadata": {},
   "outputs": [
    {
     "data": {
      "text/html": [
       "<div>\n",
       "<style scoped>\n",
       "    .dataframe tbody tr th:only-of-type {\n",
       "        vertical-align: middle;\n",
       "    }\n",
       "\n",
       "    .dataframe tbody tr th {\n",
       "        vertical-align: top;\n",
       "    }\n",
       "\n",
       "    .dataframe thead th {\n",
       "        text-align: right;\n",
       "    }\n",
       "</style>\n",
       "<table border=\"1\" class=\"dataframe\">\n",
       "  <thead>\n",
       "    <tr style=\"text-align: right;\">\n",
       "      <th></th>\n",
       "      <th>Loss</th>\n",
       "      <th>MSE</th>\n",
       "      <th>NSE</th>\n",
       "      <th>R^2</th>\n",
       "    </tr>\n",
       "  </thead>\n",
       "  <tbody>\n",
       "    <tr>\n",
       "      <th>Dense</th>\n",
       "      <td>0.037798</td>\n",
       "      <td>0.037798</td>\n",
       "      <td>0.771057</td>\n",
       "      <td>0.930747</td>\n",
       "    </tr>\n",
       "    <tr>\n",
       "      <th>Conv</th>\n",
       "      <td>0.076666</td>\n",
       "      <td>0.076666</td>\n",
       "      <td>0.631324</td>\n",
       "      <td>0.884834</td>\n",
       "    </tr>\n",
       "    <tr>\n",
       "      <th>LSTM</th>\n",
       "      <td>0.009754</td>\n",
       "      <td>0.009754</td>\n",
       "      <td>0.961633</td>\n",
       "      <td>0.968826</td>\n",
       "    </tr>\n",
       "  </tbody>\n",
       "</table>\n",
       "</div>"
      ],
      "text/plain": [
       "           Loss       MSE       NSE       R^2\n",
       "Dense  0.037798  0.037798  0.771057  0.930747\n",
       "Conv   0.076666  0.076666  0.631324  0.884834\n",
       "LSTM   0.009754  0.009754  0.961633  0.968826"
      ]
     },
     "execution_count": 92,
     "metadata": {},
     "output_type": "execute_result"
    }
   ],
   "source": [
    "df_perf"
   ]
  },
  {
   "cell_type": "code",
   "execution_count": 93,
   "metadata": {},
   "outputs": [
    {
     "name": "stdout",
     "output_type": "stream",
     "text": [
      "1/1 [==============================] - 1s 1s/step\n"
     ]
    }
   ],
   "source": [
    "prediction_data = test_df.values.reshape(1, -1, 6)  # Add batch dimension of 1\n",
    "lstm_predictions_multi_ann_rainfall_only = lstm_model.predict(prediction_data)\n",
    "actual = test_df['Waterlevel_Sto_Nino']\n",
    "lstm_predictions_multi_ann_rainfall_only = lstm_predictions_multi_ann_rainfall_only.reshape(4380)"
   ]
  },
  {
   "cell_type": "code",
   "execution_count": 94,
   "metadata": {},
   "outputs": [],
   "source": [
    "actual_test = test_df['Waterlevel_Sto_Nino']"
   ]
  },
  {
   "cell_type": "code",
   "execution_count": 95,
   "metadata": {},
   "outputs": [
    {
     "data": {
      "text/plain": [
       "13140   2017-07-02 12:00:00\n",
       "13141   2017-07-02 13:00:00\n",
       "13142   2017-07-02 14:00:00\n",
       "13143   2017-07-02 15:00:00\n",
       "13144   2017-07-02 16:00:00\n",
       "                ...        \n",
       "17515   2017-12-31 19:00:00\n",
       "17516   2017-12-31 20:00:00\n",
       "17517   2017-12-31 21:00:00\n",
       "17518   2017-12-31 22:00:00\n",
       "17519   2017-12-31 23:00:00\n",
       "Name: datetime, Length: 4380, dtype: datetime64[ns]"
      ]
     },
     "execution_count": 95,
     "metadata": {},
     "output_type": "execute_result"
    }
   ],
   "source": [
    "test_dates"
   ]
  },
  {
   "cell_type": "markdown",
   "metadata": {},
   "source": [
    "## 2. Univariate Time series ANN - Using only water level \n"
   ]
  },
  {
   "cell_type": "code",
   "execution_count": 96,
   "metadata": {},
   "outputs": [],
   "source": [
    "import tensorflow as tf\n",
    "import numpy as np\n",
    "\n",
    "class WindowGenerator():\n",
    "    def __init__(self, input_width, label_width, shift, train_df=train_df, val_df=val_df, test_df=test_df):\n",
    "        # Store the raw data - select only the Sto Nino water level column\n",
    "        self.train_df = train_df[['Waterlevel_Sto_Nino']].values\n",
    "        self.val_df = val_df[['Waterlevel_Sto_Nino']].values\n",
    "        self.test_df = test_df[['Waterlevel_Sto_Nino']].values\n",
    "\n",
    "        # Work out the window parameters\n",
    "        self.input_width = input_width\n",
    "        self.label_width = label_width\n",
    "        self.shift = shift\n",
    "        self.total_window_size = input_width + shift\n",
    "\n",
    "        # Input and label slices\n",
    "        self.input_slice = slice(0, input_width)\n",
    "        self.input_indices = np.arange(self.total_window_size)[self.input_slice]\n",
    "        self.label_start = self.total_window_size - self.label_width\n",
    "        self.labels_slice = slice(self.label_start, None)\n",
    "        self.label_indices = np.arange(self.total_window_size)[self.labels_slice]\n",
    "\n",
    "    def __repr__(self):\n",
    "        return '\\n'.join([\n",
    "            f'Total window size: {self.total_window_size}',\n",
    "            f'Input indices: {self.input_indices}',\n",
    "            f'Label indices: {self.label_indices}'])\n",
    "\n",
    "    def split_window(self, features):\n",
    "        # Features shape is (batch, time_steps, 1)\n",
    "        inputs = features[:, self.input_slice, :]\n",
    "        labels = features[:, self.labels_slice, :]\n",
    "        \n",
    "        # Set shapes explicitly\n",
    "        inputs.set_shape([None, self.input_width, 1])\n",
    "        labels.set_shape([None, self.label_width, 1])\n",
    "        \n",
    "        return inputs, labels\n",
    "    \n",
    "    def make_dataset(self, data):\n",
    "        # Ensure data is float32 and has correct shape (samples, 1)\n",
    "        data = np.array(data, dtype=np.float32)\n",
    "        if len(data.shape) == 1:\n",
    "            data = data.reshape(-1, 1)\n",
    "            \n",
    "        ds = tf.keras.utils.timeseries_dataset_from_array(\n",
    "            data=data,\n",
    "            targets=None,\n",
    "            sequence_length=self.total_window_size,\n",
    "            sequence_stride=1,\n",
    "            shuffle=True,\n",
    "            batch_size=32,)\n",
    "        \n",
    "        ds = ds.map(self.split_window)\n",
    "        return ds\n",
    "    \n",
    "    @property\n",
    "    def train(self):\n",
    "        return self.make_dataset(self.train_df)\n",
    "    \n",
    "    @property\n",
    "    def val(self):\n",
    "        return self.make_dataset(self.val_df)\n",
    "    \n",
    "    @property\n",
    "    def test(self):\n",
    "        return self.make_dataset(self.test_df)\n",
    "    \n",
    "    @property\n",
    "    def example(self):\n",
    "        \"\"\"Get and cache an example batch of `inputs, labels` for plotting.\"\"\"\n",
    "        result = getattr(self, '_example', None)\n",
    "        if result is None:\n",
    "            result = next(iter(self.train))\n",
    "            self._example = result\n",
    "        return result"
   ]
  },
  {
   "cell_type": "code",
   "execution_count": 97,
   "metadata": {},
   "outputs": [
    {
     "data": {
      "text/plain": [
       "Total window size: 7\n",
       "Input indices: [0 1 2 3 4 5]\n",
       "Label indices: [1 2 3 4 5 6]"
      ]
     },
     "execution_count": 97,
     "metadata": {},
     "output_type": "execute_result"
    }
   ],
   "source": [
    "# The wide window uses independent hours of data as input to predict the water level of the next hour\n",
    "# Here, the prediction is done on 6 hours\n",
    "# This is used for Dense and Recurrent Neural Networks\n",
    "wide_window = WindowGenerator(\n",
    "        input_width=6, label_width=6, shift=1,\n",
    "        train_df=train_df,\n",
    "        val_df=val_df,\n",
    "        test_df=test_df\n",
    "    )\n",
    "\n",
    "wide_window"
   ]
  },
  {
   "cell_type": "code",
   "execution_count": 98,
   "metadata": {},
   "outputs": [
    {
     "data": {
      "text/plain": [
       "Total window size: 7\n",
       "Input indices: [0 1 2 3 4 5]\n",
       "Label indices: [6]"
      ]
     },
     "execution_count": 98,
     "metadata": {},
     "output_type": "execute_result"
    }
   ],
   "source": [
    "# The conv window is used for the Convolutional Neural Netwrok\n",
    "# 6 consecutive hours of data are used together to make predictions one hour into the future\n",
    "CONV_WIDTH = 6\n",
    "conv_window = WindowGenerator(\n",
    "        input_width=CONV_WIDTH,\n",
    "        label_width=1,\n",
    "        shift=1,\n",
    "        train_df=train_df,\n",
    "        val_df=val_df,\n",
    "        test_df=test_df\n",
    "    )\n",
    "\n",
    "conv_window"
   ]
  },
  {
   "cell_type": "code",
   "execution_count": 99,
   "metadata": {},
   "outputs": [],
   "source": [
    "# Dense Neural Network\n",
    "dense = tf.keras.Sequential([\n",
    "    tf.keras.layers.Dense(units=64, activation='relu', input_shape=[wide_window.input_width, 1]),\n",
    "    tf.keras.layers.Dense(units=64, activation='relu'),\n",
    "    tf.keras.layers.Dense(units=64, activation='relu'),\n",
    "    tf.keras.layers.Dense(units=1)\n",
    "])\n",
    "\n",
    "# Convolution Neural Network\n",
    "conv_model = tf.keras.Sequential([\n",
    "    tf.keras.layers.Conv1D(filters=64, kernel_size=(CONV_WIDTH,), activation='relu', input_shape=[conv_window.input_width, 1]),\n",
    "    tf.keras.layers.Dense(units=64, activation='relu'),\n",
    "    tf.keras.layers.Dense(units=64, activation='relu'),\n",
    "    tf.keras.layers.Dense(units=1),\n",
    "])\n",
    "\n",
    "# LSTM\n",
    "lstm_model = tf.keras.models.Sequential([\n",
    "    tf.keras.layers.LSTM(64, return_sequences=True, input_shape=[wide_window.input_width, 1]),\n",
    "    tf.keras.layers.Dense(units=64, activation='relu'),\n",
    "    tf.keras.layers.Dense(units=64, activation='relu'),\n",
    "    tf.keras.layers.Dense(units=1)\n",
    "])"
   ]
  },
  {
   "cell_type": "code",
   "execution_count": 100,
   "metadata": {},
   "outputs": [],
   "source": [
    "def r_square(y_true, y_pred):\n",
    "    x = y_true\n",
    "    y = y_pred\n",
    "    mx = K.mean(x, axis=0)\n",
    "    my = K.mean(y, axis=0)\n",
    "    xm, ym = x - mx, y - my\n",
    "    r_num = K.square(K.sum(xm * ym))\n",
    "    x_square_sum = K.sum(xm * xm)\n",
    "    y_square_sum = K.sum(ym * ym)\n",
    "    r_den = (x_square_sum * y_square_sum) + K.epsilon()\n",
    "    \n",
    "    r = r_num / r_den\n",
    "    return r"
   ]
  },
  {
   "cell_type": "code",
   "execution_count": 101,
   "metadata": {},
   "outputs": [],
   "source": [
    "def NSE(y_true, y_pred):\n",
    "    '''\n",
    "    This is the Nash-Sutcliffe Efficiency Coefficient\n",
    "    '''\n",
    "    y_pred = K.flatten(y_pred)\n",
    "    y_true = K.flatten(y_true)\n",
    "\n",
    "    \n",
    "    SS_res =  K.sum(K.square(y_true - y_pred)) \n",
    "    SS_tot = K.sum(K.square(y_true - K.mean(y_true))) \n",
    "    \n",
    "    return ( 1 - SS_res/(SS_tot + K.epsilon()) )"
   ]
  },
  {
   "cell_type": "code",
   "execution_count": 102,
   "metadata": {},
   "outputs": [],
   "source": [
    "# For easy compiling and fitting of different models\n",
    "MAX_EPOCHS = 20\n",
    "\n",
    "def compile_and_fit(model, window, patience=2):\n",
    "    early_stopping = tf.keras.callbacks.EarlyStopping(monitor='val_loss', patience=patience, mode='min')\n",
    "\n",
    "    model.compile(\n",
    "        loss=tf.keras.losses.MeanSquaredError(), \n",
    "        optimizer='adam', \n",
    "        metrics=[tf.keras.metrics.MeanSquaredError(), NSE, r_square]\n",
    "    )\n",
    "\n",
    "    history = model.fit(\n",
    "        window.train, \n",
    "        epochs=MAX_EPOCHS,\n",
    "        validation_data=window.val,\n",
    "        callbacks=[early_stopping]\n",
    "    )\n",
    "\n",
    "    return history"
   ]
  },
  {
   "cell_type": "code",
   "execution_count": 103,
   "metadata": {},
   "outputs": [
    {
     "name": "stdout",
     "output_type": "stream",
     "text": [
      "Epoch 1/20\n",
      "274/274 [==============================] - 2s 5ms/step - loss: 13.9450 - mean_squared_error: 13.9450 - NSE: -37.9089 - r_square: 0.9907 - val_loss: 0.0023 - val_mean_squared_error: 0.0023 - val_NSE: 0.9677 - val_r_square: 0.9735\n",
      "Epoch 2/20\n",
      "274/274 [==============================] - 1s 3ms/step - loss: 0.0045 - mean_squared_error: 0.0045 - NSE: 0.9890 - r_square: 0.9906 - val_loss: 0.0023 - val_mean_squared_error: 0.0023 - val_NSE: 0.9672 - val_r_square: 0.9737\n",
      "Epoch 3/20\n",
      "274/274 [==============================] - 1s 3ms/step - loss: 0.0045 - mean_squared_error: 0.0045 - NSE: 0.9893 - r_square: 0.9909 - val_loss: 0.0021 - val_mean_squared_error: 0.0021 - val_NSE: 0.9711 - val_r_square: 0.9751\n",
      "Epoch 4/20\n",
      "274/274 [==============================] - 1s 3ms/step - loss: 0.0045 - mean_squared_error: 0.0045 - NSE: 0.9890 - r_square: 0.9906 - val_loss: 0.0024 - val_mean_squared_error: 0.0024 - val_NSE: 0.9642 - val_r_square: 0.9737\n",
      "Epoch 5/20\n",
      "274/274 [==============================] - 1s 3ms/step - loss: 0.0045 - mean_squared_error: 0.0045 - NSE: 0.9890 - r_square: 0.9905 - val_loss: 0.0024 - val_mean_squared_error: 0.0024 - val_NSE: 0.9669 - val_r_square: 0.9749\n"
     ]
    }
   ],
   "source": [
    "dense_history = compile_and_fit(dense, wide_window)"
   ]
  },
  {
   "cell_type": "code",
   "execution_count": 104,
   "metadata": {},
   "outputs": [
    {
     "name": "stdout",
     "output_type": "stream",
     "text": [
      "Epoch 1/20\n",
      "274/274 [==============================] - 2s 3ms/step - loss: 6.7998 - mean_squared_error: 6.7998 - NSE: -16.2746 - r_square: 0.9615 - val_loss: 0.0083 - val_mean_squared_error: 0.0083 - val_NSE: 0.8699 - val_r_square: 0.9224\n",
      "Epoch 2/20\n",
      "274/274 [==============================] - 1s 2ms/step - loss: 0.0178 - mean_squared_error: 0.0178 - NSE: 0.9590 - r_square: 0.9647 - val_loss: 0.0068 - val_mean_squared_error: 0.0068 - val_NSE: 0.9139 - val_r_square: 0.9244\n",
      "Epoch 3/20\n",
      "274/274 [==============================] - 1s 3ms/step - loss: 0.0180 - mean_squared_error: 0.0180 - NSE: 0.9587 - r_square: 0.9661 - val_loss: 0.0067 - val_mean_squared_error: 0.0067 - val_NSE: 0.9130 - val_r_square: 0.9224\n",
      "Epoch 4/20\n",
      "274/274 [==============================] - 1s 3ms/step - loss: 0.0179 - mean_squared_error: 0.0179 - NSE: 0.9586 - r_square: 0.9657 - val_loss: 0.0069 - val_mean_squared_error: 0.0069 - val_NSE: 0.9104 - val_r_square: 0.9232\n",
      "Epoch 5/20\n",
      "274/274 [==============================] - 1s 2ms/step - loss: 0.0177 - mean_squared_error: 0.0177 - NSE: 0.9583 - r_square: 0.9648 - val_loss: 0.0074 - val_mean_squared_error: 0.0074 - val_NSE: 0.9015 - val_r_square: 0.9239\n"
     ]
    }
   ],
   "source": [
    "conv_history = compile_and_fit(conv_model, conv_window)"
   ]
  },
  {
   "cell_type": "code",
   "execution_count": 105,
   "metadata": {},
   "outputs": [
    {
     "name": "stdout",
     "output_type": "stream",
     "text": [
      "Epoch 1/20\n",
      "274/274 [==============================] - 4s 8ms/step - loss: 14.8402 - mean_squared_error: 14.8402 - NSE: -38.9159 - r_square: 0.8205 - val_loss: 0.1847 - val_mean_squared_error: 0.1847 - val_NSE: -1.9941 - val_r_square: 0.9625\n",
      "Epoch 2/20\n",
      "274/274 [==============================] - 2s 6ms/step - loss: 0.1183 - mean_squared_error: 0.1183 - NSE: 0.7231 - r_square: 0.9797 - val_loss: 0.0566 - val_mean_squared_error: 0.0566 - val_NSE: 0.0696 - val_r_square: 0.9536\n",
      "Epoch 3/20\n",
      "274/274 [==============================] - 2s 6ms/step - loss: 0.0269 - mean_squared_error: 0.0269 - NSE: 0.9402 - r_square: 0.9612 - val_loss: 0.0090 - val_mean_squared_error: 0.0090 - val_NSE: 0.8520 - val_r_square: 0.9474\n",
      "Epoch 4/20\n",
      "274/274 [==============================] - 2s 6ms/step - loss: 0.0166 - mean_squared_error: 0.0166 - NSE: 0.9631 - r_square: 0.9690 - val_loss: 0.0092 - val_mean_squared_error: 0.0092 - val_NSE: 0.8608 - val_r_square: 0.9603\n",
      "Epoch 5/20\n",
      "274/274 [==============================] - 2s 6ms/step - loss: 0.0120 - mean_squared_error: 0.0120 - NSE: 0.9730 - r_square: 0.9778 - val_loss: 0.0062 - val_mean_squared_error: 0.0062 - val_NSE: 0.9039 - val_r_square: 0.9671\n",
      "Epoch 6/20\n",
      "274/274 [==============================] - 2s 6ms/step - loss: 0.0093 - mean_squared_error: 0.0093 - NSE: 0.9784 - r_square: 0.9830 - val_loss: 0.0035 - val_mean_squared_error: 0.0035 - val_NSE: 0.9468 - val_r_square: 0.9709\n",
      "Epoch 7/20\n",
      "274/274 [==============================] - 2s 6ms/step - loss: 0.0075 - mean_squared_error: 0.0075 - NSE: 0.9827 - r_square: 0.9867 - val_loss: 0.0030 - val_mean_squared_error: 0.0030 - val_NSE: 0.9554 - val_r_square: 0.9743\n",
      "Epoch 8/20\n",
      "274/274 [==============================] - 2s 6ms/step - loss: 0.0062 - mean_squared_error: 0.0062 - NSE: 0.9858 - r_square: 0.9889 - val_loss: 0.0030 - val_mean_squared_error: 0.0030 - val_NSE: 0.9567 - val_r_square: 0.9753\n",
      "Epoch 9/20\n",
      "274/274 [==============================] - 2s 6ms/step - loss: 0.0062 - mean_squared_error: 0.0062 - NSE: 0.9851 - r_square: 0.9901 - val_loss: 0.0022 - val_mean_squared_error: 0.0022 - val_NSE: 0.9704 - val_r_square: 0.9773\n",
      "Epoch 10/20\n",
      "274/274 [==============================] - 2s 6ms/step - loss: 0.0051 - mean_squared_error: 0.0051 - NSE: 0.9877 - r_square: 0.9905 - val_loss: 0.0037 - val_mean_squared_error: 0.0037 - val_NSE: 0.9462 - val_r_square: 0.9765\n",
      "Epoch 11/20\n",
      "274/274 [==============================] - 2s 6ms/step - loss: 0.0062 - mean_squared_error: 0.0062 - NSE: 0.9843 - r_square: 0.9907 - val_loss: 0.0020 - val_mean_squared_error: 0.0020 - val_NSE: 0.9716 - val_r_square: 0.9759\n",
      "Epoch 12/20\n",
      "274/274 [==============================] - 2s 6ms/step - loss: 0.0053 - mean_squared_error: 0.0053 - NSE: 0.9876 - r_square: 0.9914 - val_loss: 0.0028 - val_mean_squared_error: 0.0028 - val_NSE: 0.9601 - val_r_square: 0.9766\n",
      "Epoch 13/20\n",
      "274/274 [==============================] - 2s 6ms/step - loss: 0.0057 - mean_squared_error: 0.0057 - NSE: 0.9858 - r_square: 0.9911 - val_loss: 0.0050 - val_mean_squared_error: 0.0050 - val_NSE: 0.9253 - val_r_square: 0.9766\n"
     ]
    }
   ],
   "source": [
    "lstm_history = compile_and_fit(lstm_model, wide_window)"
   ]
  },
  {
   "cell_type": "code",
   "execution_count": 106,
   "metadata": {},
   "outputs": [],
   "source": [
    "val_performance = {}\n",
    "performance = {}"
   ]
  },
  {
   "cell_type": "code",
   "execution_count": 107,
   "metadata": {},
   "outputs": [
    {
     "name": "stdout",
     "output_type": "stream",
     "text": [
      "137/137 [==============================] - 0s 2ms/step - loss: 0.0024 - mean_squared_error: 0.0024 - NSE: 0.9649 - r_square: 0.9737\n"
     ]
    }
   ],
   "source": [
    "val_performance['Dense'] = dense.evaluate(wide_window.val)"
   ]
  },
  {
   "cell_type": "code",
   "execution_count": 108,
   "metadata": {},
   "outputs": [],
   "source": [
    "performance['Dense'] = dense.evaluate(wide_window.test, verbose=0)"
   ]
  },
  {
   "cell_type": "code",
   "execution_count": 109,
   "metadata": {},
   "outputs": [
    {
     "name": "stdout",
     "output_type": "stream",
     "text": [
      "137/137 [==============================] - 0s 1ms/step - loss: 0.0074 - mean_squared_error: 0.0074 - NSE: 0.8818 - r_square: 0.9274\n"
     ]
    }
   ],
   "source": [
    "val_performance['Conv'] = conv_model.evaluate(conv_window.val)"
   ]
  },
  {
   "cell_type": "code",
   "execution_count": 110,
   "metadata": {},
   "outputs": [],
   "source": [
    "performance['Conv'] = conv_model.evaluate(conv_window.test, verbose=0)"
   ]
  },
  {
   "cell_type": "code",
   "execution_count": 111,
   "metadata": {},
   "outputs": [
    {
     "name": "stdout",
     "output_type": "stream",
     "text": [
      "137/137 [==============================] - 0s 2ms/step - loss: 0.0050 - mean_squared_error: 0.0050 - NSE: 0.9264 - r_square: 0.9768\n"
     ]
    }
   ],
   "source": [
    "val_performance['LSTM'] = lstm_model.evaluate(wide_window.val)"
   ]
  },
  {
   "cell_type": "code",
   "execution_count": 112,
   "metadata": {},
   "outputs": [],
   "source": [
    "performance['LSTM'] = lstm_model.evaluate(wide_window.test, verbose=0)"
   ]
  },
  {
   "cell_type": "code",
   "execution_count": 113,
   "metadata": {},
   "outputs": [
    {
     "data": {
      "text/plain": [
       "{'Dense': [0.007006105501204729,\n",
       "  0.007006104104220867,\n",
       "  0.9740388989448547,\n",
       "  0.9758791923522949],\n",
       " 'Conv': [0.029881425201892853,\n",
       "  0.029881425201892853,\n",
       "  0.893287718296051,\n",
       "  0.9137217998504639],\n",
       " 'LSTM': [0.009718522429466248,\n",
       "  0.009718520566821098,\n",
       "  0.9606552720069885,\n",
       "  0.9780436158180237]}"
      ]
     },
     "execution_count": 113,
     "metadata": {},
     "output_type": "execute_result"
    }
   ],
   "source": [
    "performance"
   ]
  },
  {
   "cell_type": "code",
   "execution_count": 114,
   "metadata": {},
   "outputs": [
    {
     "data": {
      "text/html": [
       "<div>\n",
       "<style scoped>\n",
       "    .dataframe tbody tr th:only-of-type {\n",
       "        vertical-align: middle;\n",
       "    }\n",
       "\n",
       "    .dataframe tbody tr th {\n",
       "        vertical-align: top;\n",
       "    }\n",
       "\n",
       "    .dataframe thead th {\n",
       "        text-align: right;\n",
       "    }\n",
       "</style>\n",
       "<table border=\"1\" class=\"dataframe\">\n",
       "  <thead>\n",
       "    <tr style=\"text-align: right;\">\n",
       "      <th></th>\n",
       "      <th>Loss</th>\n",
       "      <th>MSE</th>\n",
       "      <th>NSE</th>\n",
       "      <th>R^2</th>\n",
       "    </tr>\n",
       "  </thead>\n",
       "  <tbody>\n",
       "    <tr>\n",
       "      <th>Dense</th>\n",
       "      <td>0.007006</td>\n",
       "      <td>0.007006</td>\n",
       "      <td>0.974039</td>\n",
       "      <td>0.975879</td>\n",
       "    </tr>\n",
       "    <tr>\n",
       "      <th>Conv</th>\n",
       "      <td>0.029881</td>\n",
       "      <td>0.029881</td>\n",
       "      <td>0.893288</td>\n",
       "      <td>0.913722</td>\n",
       "    </tr>\n",
       "    <tr>\n",
       "      <th>LSTM</th>\n",
       "      <td>0.009719</td>\n",
       "      <td>0.009719</td>\n",
       "      <td>0.960655</td>\n",
       "      <td>0.978044</td>\n",
       "    </tr>\n",
       "  </tbody>\n",
       "</table>\n",
       "</div>"
      ],
      "text/plain": [
       "           Loss       MSE       NSE       R^2\n",
       "Dense  0.007006  0.007006  0.974039  0.975879\n",
       "Conv   0.029881  0.029881  0.893288  0.913722\n",
       "LSTM   0.009719  0.009719  0.960655  0.978044"
      ]
     },
     "execution_count": 114,
     "metadata": {},
     "output_type": "execute_result"
    }
   ],
   "source": [
    "pd.DataFrame.from_dict(performance, orient='index', columns=['Loss', 'MSE', 'NSE', 'R^2'])"
   ]
  },
  {
   "cell_type": "code",
   "execution_count": null,
   "metadata": {},
   "outputs": [],
   "source": []
  },
  {
   "cell_type": "code",
   "execution_count": 115,
   "metadata": {},
   "outputs": [
    {
     "name": "stdout",
     "output_type": "stream",
     "text": [
      "137/137 [==============================] - 1s 1ms/step\n",
      "(4380, 1, 1)\n"
     ]
    }
   ],
   "source": [
    "prediction_data = test_df[['Waterlevel_Sto_Nino']].values\n",
    "lstm_predictions_univariate_ann = lstm_model.predict(prediction_data)\n",
    "print(lstm_predictions_univariate_ann.shape)"
   ]
  },
  {
   "cell_type": "code",
   "execution_count": 116,
   "metadata": {},
   "outputs": [
    {
     "name": "stdout",
     "output_type": "stream",
     "text": [
      "137/137 [==============================] - 0s 979us/step\n"
     ]
    }
   ],
   "source": [
    "dnn_predictions_univariate_ann = dense.predict(prediction_data)"
   ]
  },
  {
   "cell_type": "code",
   "execution_count": 117,
   "metadata": {},
   "outputs": [
    {
     "data": {
      "text/plain": [
       "array([[[11.911692]],\n",
       "\n",
       "       [[11.892323]],\n",
       "\n",
       "       [[11.872957]],\n",
       "\n",
       "       ...,\n",
       "\n",
       "       [[12.444305]],\n",
       "\n",
       "       [[12.444305]],\n",
       "\n",
       "       [[12.444305]]], dtype=float32)"
      ]
     },
     "execution_count": 117,
     "metadata": {},
     "output_type": "execute_result"
    }
   ],
   "source": [
    "dnn_predictions_univariate_ann"
   ]
  },
  {
   "cell_type": "code",
   "execution_count": 118,
   "metadata": {},
   "outputs": [],
   "source": [
    "dnn_predictions_univariate_ann = dnn_predictions_univariate_ann.reshape(4380)"
   ]
  },
  {
   "cell_type": "code",
   "execution_count": 119,
   "metadata": {},
   "outputs": [
    {
     "data": {
      "text/plain": [
       "array([11.911692, 11.892323, 11.872957, ..., 12.444305, 12.444305,\n",
       "       12.444305], dtype=float32)"
      ]
     },
     "execution_count": 119,
     "metadata": {},
     "output_type": "execute_result"
    }
   ],
   "source": [
    "dnn_predictions_univariate_ann"
   ]
  },
  {
   "cell_type": "code",
   "execution_count": 120,
   "metadata": {},
   "outputs": [],
   "source": [
    "lstm_predictions_univariate_ann = lstm_predictions_univariate_ann.reshape(4380)"
   ]
  },
  {
   "cell_type": "code",
   "execution_count": 121,
   "metadata": {},
   "outputs": [
    {
     "data": {
      "text/plain": [
       "array([11.91529 , 11.894216, 11.873118, ..., 12.484559, 12.484559,\n",
       "       12.484559], dtype=float32)"
      ]
     },
     "execution_count": 121,
     "metadata": {},
     "output_type": "execute_result"
    }
   ],
   "source": [
    "lstm_predictions_univariate_ann"
   ]
  },
  {
   "cell_type": "code",
   "execution_count": null,
   "metadata": {},
   "outputs": [],
   "source": []
  },
  {
   "cell_type": "markdown",
   "metadata": {},
   "source": [
    "## Compare the predictions on the test set"
   ]
  },
  {
   "cell_type": "code",
   "execution_count": 143,
   "metadata": {},
   "outputs": [
    {
     "data": {
      "image/png": "[encoded data removed]",
      "text/plain": [
       "<Figure size 1008x648 with 1 Axes>"
      ]
     },
     "metadata": {
      "needs_background": "light"
     },
     "output_type": "display_data"
    }
   ],
   "source": [
    "from matplotlib import pyplot as plt\n",
    "import matplotlib.dates as mdates  # Import the dates module\n",
    "\n",
    "plt.figure(figsize=(14, 9))  # Adjust the width and height as needed\n",
    "plt.plot(test_dates, lstm_predictions_multi_ann_rainfall_only, c = \"blue\", label = \"Rainfall LSTM\", alpha = 0.5)\n",
    "plt.plot(test_dates, dnn_predictions_univariate_ann, c = \"green\", label = \"Univariate DNN\", alpha = 0.5)\n",
    "#plt.plot(test_dates, lstm_predictions_multi_ann_window_all_inputs, c = \"violet\", label = \"ANN with Saint Venant Inputs\", alpha = 0.5)\n",
    "plt.plot(test_dates, actual, c = \"red\", label = \"Actual\", alpha = 0.50)\n",
    "plt.title('Predictions vs Actual Values - Test Set')\n",
    "plt.ylabel('Water Level Sto Nino (meters)')\n",
    "plt.xlabel('Datetime')\n",
    "\n",
    "# Set x-axis major locator to show ticks for every month\n",
    "plt.gca().xaxis.set_major_locator(mdates.MonthLocator())\n",
    "\n",
    "# Format the dates as YYYY-MM-DD\n",
    "plt.gca().xaxis.set_major_formatter(mdates.DateFormatter('%Y-%m-%d'))\n",
    "\n",
    "plt.gcf().autofmt_xdate()\n",
    "plt.gca().xaxis_date()\n",
    "plt.legend(prop={'size': 14})  # Change the size value as needed\n",
    "plt.show()"
   ]
  },
  {
   "cell_type": "code",
   "execution_count": 123,
   "metadata": {},
   "outputs": [
    {
     "data": {
      "text/plain": [
       "array([11.911692, 11.892323, 11.872957, ..., 12.444305, 12.444305,\n",
       "       12.444305], dtype=float32)"
      ]
     },
     "execution_count": 123,
     "metadata": {},
     "output_type": "execute_result"
    }
   ],
   "source": [
    "dnn_predictions_univariate_ann"
   ]
  },
  {
   "cell_type": "code",
   "execution_count": 124,
   "metadata": {},
   "outputs": [
    {
     "data": {
      "text/plain": [
       "array([11.914163, 11.896237, 11.885884, ..., 12.482856, 12.482852,\n",
       "       12.482851], dtype=float32)"
      ]
     },
     "execution_count": 124,
     "metadata": {},
     "output_type": "execute_result"
    }
   ],
   "source": [
    "lstm_predictions_multi_ann_rainfall_only"
   ]
  },
  {
   "cell_type": "code",
   "execution_count": 125,
   "metadata": {},
   "outputs": [
    {
     "data": {
      "text/plain": [
       "13140    11.89\n",
       "13141    11.87\n",
       "13142    11.85\n",
       "13143    11.84\n",
       "13144    11.84\n",
       "         ...  \n",
       "17515    12.44\n",
       "17516    12.44\n",
       "17517    12.44\n",
       "17518    12.44\n",
       "17519    12.44\n",
       "Name: Waterlevel_Sto_Nino, Length: 4380, dtype: float64"
      ]
     },
     "execution_count": 125,
     "metadata": {},
     "output_type": "execute_result"
    }
   ],
   "source": [
    "actual"
   ]
  },
  {
   "cell_type": "code",
   "execution_count": 128,
   "metadata": {},
   "outputs": [
    {
     "data": {
      "text/plain": [
       "13140   2017-07-02 12:00:00\n",
       "13141   2017-07-02 13:00:00\n",
       "13142   2017-07-02 14:00:00\n",
       "13143   2017-07-02 15:00:00\n",
       "13144   2017-07-02 16:00:00\n",
       "                ...        \n",
       "17515   2017-12-31 19:00:00\n",
       "17516   2017-12-31 20:00:00\n",
       "17517   2017-12-31 21:00:00\n",
       "17518   2017-12-31 22:00:00\n",
       "17519   2017-12-31 23:00:00\n",
       "Name: datetime, Length: 4380, dtype: datetime64[ns]"
      ]
     },
     "execution_count": 128,
     "metadata": {},
     "output_type": "execute_result"
    }
   ],
   "source": [
    "test_dates"
   ]
  },
  {
   "cell_type": "code",
   "execution_count": 129,
   "metadata": {},
   "outputs": [],
   "source": [
    "ann_predictions = pd.DataFrame({\n",
    "    'Date': test_dates,\n",
    "    'Actual': actual,\n",
    "    'Rainfall_ANN': lstm_predictions_multi_ann_rainfall_only,\n",
    "    'Univariate_ANN': dnn_predictions_univariate_ann\n",
    "})"
   ]
  },
  {
   "cell_type": "code",
   "execution_count": 130,
   "metadata": {},
   "outputs": [
    {
     "data": {
      "text/html": [
       "<div>\n",
       "<style scoped>\n",
       "    .dataframe tbody tr th:only-of-type {\n",
       "        vertical-align: middle;\n",
       "    }\n",
       "\n",
       "    .dataframe tbody tr th {\n",
       "        vertical-align: top;\n",
       "    }\n",
       "\n",
       "    .dataframe thead th {\n",
       "        text-align: right;\n",
       "    }\n",
       "</style>\n",
       "<table border=\"1\" class=\"dataframe\">\n",
       "  <thead>\n",
       "    <tr style=\"text-align: right;\">\n",
       "      <th></th>\n",
       "      <th>Date</th>\n",
       "      <th>Actual</th>\n",
       "      <th>Rainfall_ANN</th>\n",
       "      <th>Univariate_ANN</th>\n",
       "    </tr>\n",
       "  </thead>\n",
       "  <tbody>\n",
       "    <tr>\n",
       "      <th>13140</th>\n",
       "      <td>2017-07-02 12:00:00</td>\n",
       "      <td>11.89</td>\n",
       "      <td>11.914163</td>\n",
       "      <td>11.911692</td>\n",
       "    </tr>\n",
       "    <tr>\n",
       "      <th>13141</th>\n",
       "      <td>2017-07-02 13:00:00</td>\n",
       "      <td>11.87</td>\n",
       "      <td>11.896237</td>\n",
       "      <td>11.892323</td>\n",
       "    </tr>\n",
       "    <tr>\n",
       "      <th>13142</th>\n",
       "      <td>2017-07-02 14:00:00</td>\n",
       "      <td>11.85</td>\n",
       "      <td>11.885884</td>\n",
       "      <td>11.872957</td>\n",
       "    </tr>\n",
       "    <tr>\n",
       "      <th>13143</th>\n",
       "      <td>2017-07-02 15:00:00</td>\n",
       "      <td>11.84</td>\n",
       "      <td>11.890244</td>\n",
       "      <td>11.863273</td>\n",
       "    </tr>\n",
       "    <tr>\n",
       "      <th>13144</th>\n",
       "      <td>2017-07-02 16:00:00</td>\n",
       "      <td>11.84</td>\n",
       "      <td>12.485570</td>\n",
       "      <td>11.863273</td>\n",
       "    </tr>\n",
       "    <tr>\n",
       "      <th>...</th>\n",
       "      <td>...</td>\n",
       "      <td>...</td>\n",
       "      <td>...</td>\n",
       "      <td>...</td>\n",
       "    </tr>\n",
       "    <tr>\n",
       "      <th>17515</th>\n",
       "      <td>2017-12-31 19:00:00</td>\n",
       "      <td>12.44</td>\n",
       "      <td>12.482866</td>\n",
       "      <td>12.444305</td>\n",
       "    </tr>\n",
       "    <tr>\n",
       "      <th>17516</th>\n",
       "      <td>2017-12-31 20:00:00</td>\n",
       "      <td>12.44</td>\n",
       "      <td>12.482859</td>\n",
       "      <td>12.444305</td>\n",
       "    </tr>\n",
       "    <tr>\n",
       "      <th>17517</th>\n",
       "      <td>2017-12-31 21:00:00</td>\n",
       "      <td>12.44</td>\n",
       "      <td>12.482856</td>\n",
       "      <td>12.444305</td>\n",
       "    </tr>\n",
       "    <tr>\n",
       "      <th>17518</th>\n",
       "      <td>2017-12-31 22:00:00</td>\n",
       "      <td>12.44</td>\n",
       "      <td>12.482852</td>\n",
       "      <td>12.444305</td>\n",
       "    </tr>\n",
       "    <tr>\n",
       "      <th>17519</th>\n",
       "      <td>2017-12-31 23:00:00</td>\n",
       "      <td>12.44</td>\n",
       "      <td>12.482851</td>\n",
       "      <td>12.444305</td>\n",
       "    </tr>\n",
       "  </tbody>\n",
       "</table>\n",
       "<p>4380 rows × 4 columns</p>\n",
       "</div>"
      ],
      "text/plain": [
       "                     Date  Actual  Rainfall_ANN  Univariate_ANN\n",
       "13140 2017-07-02 12:00:00   11.89     11.914163       11.911692\n",
       "13141 2017-07-02 13:00:00   11.87     11.896237       11.892323\n",
       "13142 2017-07-02 14:00:00   11.85     11.885884       11.872957\n",
       "13143 2017-07-02 15:00:00   11.84     11.890244       11.863273\n",
       "13144 2017-07-02 16:00:00   11.84     12.485570       11.863273\n",
       "...                   ...     ...           ...             ...\n",
       "17515 2017-12-31 19:00:00   12.44     12.482866       12.444305\n",
       "17516 2017-12-31 20:00:00   12.44     12.482859       12.444305\n",
       "17517 2017-12-31 21:00:00   12.44     12.482856       12.444305\n",
       "17518 2017-12-31 22:00:00   12.44     12.482852       12.444305\n",
       "17519 2017-12-31 23:00:00   12.44     12.482851       12.444305\n",
       "\n",
       "[4380 rows x 4 columns]"
      ]
     },
     "execution_count": 130,
     "metadata": {},
     "output_type": "execute_result"
    }
   ],
   "source": [
    "ann_predictions"
   ]
  },
  {
   "cell_type": "code",
   "execution_count": 131,
   "metadata": {},
   "outputs": [
    {
     "name": "stdout",
     "output_type": "stream",
     "text": [
      "<class 'pandas.core.frame.DataFrame'>\n",
      "RangeIndex: 4380 entries, 13140 to 17519\n",
      "Data columns (total 4 columns):\n",
      " #   Column          Non-Null Count  Dtype         \n",
      "---  ------          --------------  -----         \n",
      " 0   Date            4380 non-null   datetime64[ns]\n",
      " 1   Actual          4380 non-null   float64       \n",
      " 2   Rainfall_ANN    4380 non-null   float32       \n",
      " 3   Univariate_ANN  4380 non-null   float32       \n",
      "dtypes: datetime64[ns](1), float32(2), float64(1)\n",
      "memory usage: 102.8 KB\n"
     ]
    }
   ],
   "source": [
    "ann_predictions.info()"
   ]
  },
  {
   "cell_type": "code",
   "execution_count": 132,
   "metadata": {},
   "outputs": [
    {
     "name": "stdout",
     "output_type": "stream",
     "text": [
      "Top 10 highest water levels and their predictions:\n",
      "                     Date  Actual  Rainfall_ANN  Univariate_ANN\n",
      "14361 2017-08-22 09:00:00   16.04     15.811349       15.930516\n",
      "14362 2017-08-22 10:00:00   16.01     15.782442       15.901463\n",
      "14360 2017-08-22 08:00:00   15.90     15.678355       15.794941\n",
      "14871 2017-09-12 15:00:00   15.90     15.399997       15.794941\n",
      "14363 2017-08-22 11:00:00   15.87     15.652169       15.765889\n",
      "14872 2017-09-12 16:00:00   15.82     15.609601       15.717468\n",
      "14877 2017-09-12 21:00:00   15.70     15.476137       15.601262\n",
      "14878 2017-09-12 22:00:00   15.68     15.460105       15.581896\n",
      "14364 2017-08-22 12:00:00   15.66     15.461555       15.562526\n",
      "14876 2017-09-12 20:00:00   15.65     15.429883       15.552842\n",
      "14359 2017-08-22 07:00:00   15.64     15.585851       15.543159\n",
      "14873 2017-09-12 17:00:00   15.62     15.449118       15.523791\n",
      "14879 2017-09-12 23:00:00   15.59     15.380757       15.494738\n",
      "14875 2017-09-12 19:00:00   15.57     15.358048       15.475371\n",
      "14874 2017-09-12 18:00:00   15.51     15.317808       15.417269\n",
      "14365 2017-08-22 13:00:00   15.46     15.313940       15.368849\n",
      "14870 2017-09-12 14:00:00   15.45     14.458617       15.359165\n",
      "14880 2017-09-13 00:00:00   15.41     15.217185       15.320428\n",
      "14358 2017-08-22 06:00:00   15.39     15.278255       15.301062\n",
      "14366 2017-08-22 14:00:00   15.24     15.048839       15.155802\n",
      "14357 2017-08-22 05:00:00   15.20     15.147470       15.117067\n",
      "14881 2017-09-13 01:00:00   15.18     15.006715       15.097698\n",
      "14869 2017-09-12 13:00:00   15.06     14.204226       14.981491\n",
      "14868 2017-09-12 12:00:00   15.05     14.932969       14.971807\n",
      "14367 2017-08-22 15:00:00   15.00     14.874913       14.923388\n",
      "14867 2017-09-12 11:00:00   14.99     14.844049       14.913704\n",
      "14864 2017-09-12 08:00:00   14.98     14.795465       14.904020\n",
      "13759 2017-07-28 07:00:00   14.93     14.906096       14.855602\n",
      "14356 2017-08-22 04:00:00   14.93     14.449399       14.855602\n",
      "14882 2017-09-13 02:00:00   14.93     14.778769       14.855602\n"
     ]
    }
   ],
   "source": [
    "df_sorted = ann_predictions.sort_values(by='Actual', ascending=False)\n",
    "\n",
    "# To see the highest actual water levels and corresponding predictions\n",
    "print(\"Top 10 highest water levels and their predictions:\")\n",
    "print(df_sorted.head(30))"
   ]
  },
  {
   "cell_type": "code",
   "execution_count": 134,
   "metadata": {},
   "outputs": [],
   "source": [
    "df['datetime'] = pd.to_datetime(df['datetime'])"
   ]
  },
  {
   "cell_type": "code",
   "execution_count": 136,
   "metadata": {},
   "outputs": [],
   "source": [
    "start_date = pd.to_datetime('2017-08-22 00:00:00')\n",
    "end_date = pd.to_datetime('2017-08-23 00:00:00')\n",
    "\n",
    "ann_predictions_1 = ann_predictions[(ann_predictions['Date'] >= start_date) & (ann_predictions['Date'] <= end_date)]"
   ]
  },
  {
   "cell_type": "code",
   "execution_count": 137,
   "metadata": {},
   "outputs": [
    {
     "data": {
      "text/html": [
       "<div>\n",
       "<style scoped>\n",
       "    .dataframe tbody tr th:only-of-type {\n",
       "        vertical-align: middle;\n",
       "    }\n",
       "\n",
       "    .dataframe tbody tr th {\n",
       "        vertical-align: top;\n",
       "    }\n",
       "\n",
       "    .dataframe thead th {\n",
       "        text-align: right;\n",
       "    }\n",
       "</style>\n",
       "<table border=\"1\" class=\"dataframe\">\n",
       "  <thead>\n",
       "    <tr style=\"text-align: right;\">\n",
       "      <th></th>\n",
       "      <th>Date</th>\n",
       "      <th>Actual</th>\n",
       "      <th>Rainfall_ANN</th>\n",
       "      <th>Univariate_ANN</th>\n",
       "    </tr>\n",
       "  </thead>\n",
       "  <tbody>\n",
       "    <tr>\n",
       "      <th>14352</th>\n",
       "      <td>2017-08-22 00:00:00</td>\n",
       "      <td>14.11</td>\n",
       "      <td>14.045575</td>\n",
       "      <td>14.061519</td>\n",
       "    </tr>\n",
       "    <tr>\n",
       "      <th>14353</th>\n",
       "      <td>2017-08-22 01:00:00</td>\n",
       "      <td>14.24</td>\n",
       "      <td>14.069823</td>\n",
       "      <td>14.187410</td>\n",
       "    </tr>\n",
       "    <tr>\n",
       "      <th>14354</th>\n",
       "      <td>2017-08-22 02:00:00</td>\n",
       "      <td>14.33</td>\n",
       "      <td>14.126916</td>\n",
       "      <td>14.274567</td>\n",
       "    </tr>\n",
       "    <tr>\n",
       "      <th>14355</th>\n",
       "      <td>2017-08-22 03:00:00</td>\n",
       "      <td>14.50</td>\n",
       "      <td>14.120181</td>\n",
       "      <td>14.439194</td>\n",
       "    </tr>\n",
       "    <tr>\n",
       "      <th>14356</th>\n",
       "      <td>2017-08-22 04:00:00</td>\n",
       "      <td>14.93</td>\n",
       "      <td>14.449399</td>\n",
       "      <td>14.855602</td>\n",
       "    </tr>\n",
       "    <tr>\n",
       "      <th>14357</th>\n",
       "      <td>2017-08-22 05:00:00</td>\n",
       "      <td>15.20</td>\n",
       "      <td>15.147470</td>\n",
       "      <td>15.117067</td>\n",
       "    </tr>\n",
       "    <tr>\n",
       "      <th>14358</th>\n",
       "      <td>2017-08-22 06:00:00</td>\n",
       "      <td>15.39</td>\n",
       "      <td>15.278255</td>\n",
       "      <td>15.301062</td>\n",
       "    </tr>\n",
       "    <tr>\n",
       "      <th>14359</th>\n",
       "      <td>2017-08-22 07:00:00</td>\n",
       "      <td>15.64</td>\n",
       "      <td>15.585851</td>\n",
       "      <td>15.543159</td>\n",
       "    </tr>\n",
       "    <tr>\n",
       "      <th>14360</th>\n",
       "      <td>2017-08-22 08:00:00</td>\n",
       "      <td>15.90</td>\n",
       "      <td>15.678355</td>\n",
       "      <td>15.794941</td>\n",
       "    </tr>\n",
       "    <tr>\n",
       "      <th>14361</th>\n",
       "      <td>2017-08-22 09:00:00</td>\n",
       "      <td>16.04</td>\n",
       "      <td>15.811349</td>\n",
       "      <td>15.930516</td>\n",
       "    </tr>\n",
       "    <tr>\n",
       "      <th>14362</th>\n",
       "      <td>2017-08-22 10:00:00</td>\n",
       "      <td>16.01</td>\n",
       "      <td>15.782442</td>\n",
       "      <td>15.901463</td>\n",
       "    </tr>\n",
       "    <tr>\n",
       "      <th>14363</th>\n",
       "      <td>2017-08-22 11:00:00</td>\n",
       "      <td>15.87</td>\n",
       "      <td>15.652169</td>\n",
       "      <td>15.765889</td>\n",
       "    </tr>\n",
       "    <tr>\n",
       "      <th>14364</th>\n",
       "      <td>2017-08-22 12:00:00</td>\n",
       "      <td>15.66</td>\n",
       "      <td>15.461555</td>\n",
       "      <td>15.562526</td>\n",
       "    </tr>\n",
       "    <tr>\n",
       "      <th>14365</th>\n",
       "      <td>2017-08-22 13:00:00</td>\n",
       "      <td>15.46</td>\n",
       "      <td>15.313940</td>\n",
       "      <td>15.368849</td>\n",
       "    </tr>\n",
       "    <tr>\n",
       "      <th>14366</th>\n",
       "      <td>2017-08-22 14:00:00</td>\n",
       "      <td>15.24</td>\n",
       "      <td>15.048839</td>\n",
       "      <td>15.155802</td>\n",
       "    </tr>\n",
       "    <tr>\n",
       "      <th>14367</th>\n",
       "      <td>2017-08-22 15:00:00</td>\n",
       "      <td>15.00</td>\n",
       "      <td>14.874913</td>\n",
       "      <td>14.923388</td>\n",
       "    </tr>\n",
       "    <tr>\n",
       "      <th>14368</th>\n",
       "      <td>2017-08-22 16:00:00</td>\n",
       "      <td>14.78</td>\n",
       "      <td>14.731389</td>\n",
       "      <td>14.710342</td>\n",
       "    </tr>\n",
       "    <tr>\n",
       "      <th>14369</th>\n",
       "      <td>2017-08-22 17:00:00</td>\n",
       "      <td>14.57</td>\n",
       "      <td>14.531200</td>\n",
       "      <td>14.506980</td>\n",
       "    </tr>\n",
       "    <tr>\n",
       "      <th>14370</th>\n",
       "      <td>2017-08-22 18:00:00</td>\n",
       "      <td>14.39</td>\n",
       "      <td>14.339255</td>\n",
       "      <td>14.332670</td>\n",
       "    </tr>\n",
       "    <tr>\n",
       "      <th>14371</th>\n",
       "      <td>2017-08-22 19:00:00</td>\n",
       "      <td>14.21</td>\n",
       "      <td>14.193663</td>\n",
       "      <td>14.158360</td>\n",
       "    </tr>\n",
       "    <tr>\n",
       "      <th>14372</th>\n",
       "      <td>2017-08-22 20:00:00</td>\n",
       "      <td>14.07</td>\n",
       "      <td>14.050226</td>\n",
       "      <td>14.022783</td>\n",
       "    </tr>\n",
       "    <tr>\n",
       "      <th>14373</th>\n",
       "      <td>2017-08-22 21:00:00</td>\n",
       "      <td>13.95</td>\n",
       "      <td>13.934063</td>\n",
       "      <td>13.906576</td>\n",
       "    </tr>\n",
       "    <tr>\n",
       "      <th>14374</th>\n",
       "      <td>2017-08-22 22:00:00</td>\n",
       "      <td>13.87</td>\n",
       "      <td>13.872943</td>\n",
       "      <td>13.829106</td>\n",
       "    </tr>\n",
       "    <tr>\n",
       "      <th>14375</th>\n",
       "      <td>2017-08-22 23:00:00</td>\n",
       "      <td>13.80</td>\n",
       "      <td>13.797591</td>\n",
       "      <td>13.761318</td>\n",
       "    </tr>\n",
       "    <tr>\n",
       "      <th>14376</th>\n",
       "      <td>2017-08-23 00:00:00</td>\n",
       "      <td>13.73</td>\n",
       "      <td>13.722034</td>\n",
       "      <td>13.693531</td>\n",
       "    </tr>\n",
       "  </tbody>\n",
       "</table>\n",
       "</div>"
      ],
      "text/plain": [
       "                     Date  Actual  Rainfall_ANN  Univariate_ANN\n",
       "14352 2017-08-22 00:00:00   14.11     14.045575       14.061519\n",
       "14353 2017-08-22 01:00:00   14.24     14.069823       14.187410\n",
       "14354 2017-08-22 02:00:00   14.33     14.126916       14.274567\n",
       "14355 2017-08-22 03:00:00   14.50     14.120181       14.439194\n",
       "14356 2017-08-22 04:00:00   14.93     14.449399       14.855602\n",
       "14357 2017-08-22 05:00:00   15.20     15.147470       15.117067\n",
       "14358 2017-08-22 06:00:00   15.39     15.278255       15.301062\n",
       "14359 2017-08-22 07:00:00   15.64     15.585851       15.543159\n",
       "14360 2017-08-22 08:00:00   15.90     15.678355       15.794941\n",
       "14361 2017-08-22 09:00:00   16.04     15.811349       15.930516\n",
       "14362 2017-08-22 10:00:00   16.01     15.782442       15.901463\n",
       "14363 2017-08-22 11:00:00   15.87     15.652169       15.765889\n",
       "14364 2017-08-22 12:00:00   15.66     15.461555       15.562526\n",
       "14365 2017-08-22 13:00:00   15.46     15.313940       15.368849\n",
       "14366 2017-08-22 14:00:00   15.24     15.048839       15.155802\n",
       "14367 2017-08-22 15:00:00   15.00     14.874913       14.923388\n",
       "14368 2017-08-22 16:00:00   14.78     14.731389       14.710342\n",
       "14369 2017-08-22 17:00:00   14.57     14.531200       14.506980\n",
       "14370 2017-08-22 18:00:00   14.39     14.339255       14.332670\n",
       "14371 2017-08-22 19:00:00   14.21     14.193663       14.158360\n",
       "14372 2017-08-22 20:00:00   14.07     14.050226       14.022783\n",
       "14373 2017-08-22 21:00:00   13.95     13.934063       13.906576\n",
       "14374 2017-08-22 22:00:00   13.87     13.872943       13.829106\n",
       "14375 2017-08-22 23:00:00   13.80     13.797591       13.761318\n",
       "14376 2017-08-23 00:00:00   13.73     13.722034       13.693531"
      ]
     },
     "execution_count": 137,
     "metadata": {},
     "output_type": "execute_result"
    }
   ],
   "source": [
    "ann_predictions_1"
   ]
  },
  {
   "cell_type": "code",
   "execution_count": 138,
   "metadata": {},
   "outputs": [],
   "source": [
    "start_date = pd.to_datetime('2017-08-22 00:00:00')\n",
    "end_date = pd.to_datetime('2017-09-22 00:00:00')\n",
    "ann_predictions_2 = ann_predictions[(ann_predictions['Date'] >= start_date) & (ann_predictions['Date'] <= end_date)]"
   ]
  },
  {
   "cell_type": "code",
   "execution_count": null,
   "metadata": {},
   "outputs": [],
   "source": []
  },
  {
   "cell_type": "code",
   "execution_count": 141,
   "metadata": {},
   "outputs": [
    {
     "data": {
      "image/png": "[encoded data removed]",
      "text/plain": [
       "<Figure size 432x288 with 1 Axes>"
      ]
     },
     "metadata": {
      "needs_background": "light"
     },
     "output_type": "display_data"
    }
   ],
   "source": [
    "from matplotlib import pyplot as plt\n",
    "import matplotlib.dates as mdates  # Import the dates module\n",
    "\n",
    "plt.plot(ann_predictions_1['Date'], ann_predictions_1['Rainfall_ANN'], c = \"blue\", label = \"Rainfall LSTM\", alpha = 0.5)\n",
    "plt.plot(ann_predictions_1['Date'], ann_predictions_1['Univariate_ANN'], c = \"green\", label = \"Univariate DNN\", alpha = 0.5)\n",
    "#plt.plot(test_dates, lstm_predictions_multi_ann_window_all_inputs, c = \"violet\", label = \"ANN with Saint Venant Inputs\", alpha = 0.5)\n",
    "plt.plot(ann_predictions_1['Date'], ann_predictions_1['Actual'], c = \"red\", label = \"Actual\", alpha = 0.50)\n",
    "plt.title('Predictions vs Actual Values - Heavy Rainfall Event 1')\n",
    "plt.ylabel('Water Level Sto Nino (meters)')\n",
    "plt.xlabel('Datetime')\n",
    "\n",
    "# Set x-axis to show hourly ticks\n",
    "plt.gca().xaxis.set_major_locator(mdates.HourLocator(interval=3))  # Show every hour\n",
    "plt.gca().xaxis.set_major_formatter(mdates.DateFormatter('%Y-%m-%d %H:00'))  # Format as YYYY-MM-DD HH:00\n",
    "\n",
    "# Rotate and align the tick labels so they look better\n",
    "plt.gcf().autofmt_xdate()\n",
    "\n",
    "# Add gridlines for better readability of hourly intervals\n",
    "plt.grid(True, alpha=0.3)\n",
    "\n",
    "plt.legend()\n",
    "plt.show()"
   ]
  },
  {
   "cell_type": "code",
   "execution_count": 142,
   "metadata": {},
   "outputs": [
    {
     "data": {
      "image/png": "[encoded data removed]",
      "text/plain": [
       "<Figure size 864x648 with 1 Axes>"
      ]
     },
     "metadata": {
      "needs_background": "light"
     },
     "output_type": "display_data"
    }
   ],
   "source": [
    "from matplotlib import pyplot as plt\n",
    "import matplotlib.dates as mdates  # Import the dates module\n",
    "\n",
    "plt.figure(figsize=(12, 9))  # Adjust the width and height as needed\n",
    "\n",
    "plt.plot(ann_predictions_2['Date'], ann_predictions_2['Rainfall_ANN'], c = \"blue\", label = \"Rainfall LSTM\", alpha = 0.5)\n",
    "plt.plot(ann_predictions_2['Date'], ann_predictions_2['Univariate_ANN'], c = \"green\", label = \"Univariate DNN\", alpha = 0.5)\n",
    "#plt.plot(test_dates, lstm_predictions_multi_ann_window_all_inputs, c = \"violet\", label = \"ANN with Saint Venant Inputs\", alpha = 0.5)\n",
    "plt.plot(ann_predictions_2['Date'], ann_predictions_2['Actual'], c = \"red\", label = \"Actual\", alpha = 0.50)\n",
    "plt.title('Predictions vs Actual Values - August 22, 2017 - Sept. 22, 2017')\n",
    "plt.ylabel('Water Level Sto Nino (meters)')\n",
    "plt.xlabel('Datetime')\n",
    "\n",
    "# Set x-axis to show weekly intervals using AutoDateLocator\n",
    "locator = mdates.AutoDateLocator(interval_multiples=False)\n",
    "formatter = mdates.AutoDateFormatter(locator)\n",
    "plt.gca().xaxis.set_major_locator(locator)\n",
    "plt.gca().xaxis.set_major_formatter(formatter)\n",
    "\n",
    "# Rotate and align the tick labels so they look better\n",
    "plt.gcf().autofmt_xdate()\n",
    "\n",
    "# Add gridlines for better readability of hourly intervals\n",
    "plt.grid(True, alpha=0.3)\n",
    "\n",
    "plt.legend(prop={'size': 14})  # Change the size value as needed\n",
    "plt.show()"
   ]
  },
  {
   "cell_type": "code",
   "execution_count": null,
   "metadata": {},
   "outputs": [],
   "source": []
  }
 ],
 "metadata": {
  "kernelspec": {
   "display_name": "Python 3",
   "language": "python",
   "name": "python3"
  },
  "language_info": {
   "codemirror_mode": {
    "name": "ipython",
    "version": 3
   },
   "file_extension": ".py",
   "mimetype": "text/x-python",
   "name": "python",
   "nbconvert_exporter": "python",
   "pygments_lexer": "ipython3",
   "version": "3.8.3"
  }
 },
 "nbformat": 4,
 "nbformat_minor": 5
}
