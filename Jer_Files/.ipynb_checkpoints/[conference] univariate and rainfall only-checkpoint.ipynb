{
 "cells": [
  {
   "cell_type": "code",
   "execution_count": 1,
   "id": "ed5c2842",
   "metadata": {},
   "outputs": [],
   "source": [
    "import tensorflow as tf\n",
    "import pandas as pd\n",
    "import os\n",
    "import numpy as np\n",
    "import datetime as dt\n",
    "from random import seed\n",
    "from tensorflow.keras import models\n",
    "from tensorflow.keras import layers\n",
    "from tensorflow.keras import backend as K\n",
    "tf.compat.v1.experimental.output_all_intermediates(True)"
   ]
  },
  {
   "cell_type": "code",
   "execution_count": 2,
   "id": "b9943001",
   "metadata": {},
   "outputs": [
    {
     "name": "stdout",
     "output_type": "stream",
     "text": [
      "C:\\Users\\jerem\\AppData\\Local\\Programs\\Python\\Python310\\python.exe\n"
     ]
    }
   ],
   "source": [
    "import sys\n",
    "print(sys.executable)"
   ]
  },
  {
   "cell_type": "markdown",
   "id": "9d592987",
   "metadata": {},
   "source": [
    "## 1. Using only rainfall and water level inputs"
   ]
  },
  {
   "cell_type": "code",
   "execution_count": 3,
   "id": "6cfa161f",
   "metadata": {},
   "outputs": [],
   "source": [
    "seed(36)"
   ]
  },
  {
   "cell_type": "code",
   "execution_count": 4,
   "id": "8707a83c",
   "metadata": {},
   "outputs": [
    {
     "data": {
      "text/html": [
       "<div>\n",
       "<style scoped>\n",
       "    .dataframe tbody tr th:only-of-type {\n",
       "        vertical-align: middle;\n",
       "    }\n",
       "\n",
       "    .dataframe tbody tr th {\n",
       "        vertical-align: top;\n",
       "    }\n",
       "\n",
       "    .dataframe thead th {\n",
       "        text-align: right;\n",
       "    }\n",
       "</style>\n",
       "<table border=\"1\" class=\"dataframe\">\n",
       "  <thead>\n",
       "    <tr style=\"text-align: right;\">\n",
       "      <th></th>\n",
       "      <th>Unnamed: 0</th>\n",
       "      <th>index</th>\n",
       "      <th>Rainfall_Aries</th>\n",
       "      <th>Rainfall_Boso</th>\n",
       "      <th>Rainfall_Campana</th>\n",
       "      <th>Rainfall_Nangka</th>\n",
       "      <th>Rainfall_Oro</th>\n",
       "      <th>Waterlevel_Sto_Nino</th>\n",
       "      <th>Waterlevel_Montalban</th>\n",
       "      <th>Discharge_Sto_Nino</th>\n",
       "      <th>Discharge_San_Jose</th>\n",
       "      <th>Cross_Section_Sto_Nino</th>\n",
       "      <th>Cross_Section_Montalban</th>\n",
       "      <th>Velocity_Sto_Nino</th>\n",
       "      <th>Velocity_Montalban</th>\n",
       "      <th>datetime</th>\n",
       "      <th>t</th>\n",
       "      <th>x</th>\n",
       "    </tr>\n",
       "  </thead>\n",
       "  <tbody>\n",
       "    <tr>\n",
       "      <th>0</th>\n",
       "      <td>0</td>\n",
       "      <td>0</td>\n",
       "      <td>0</td>\n",
       "      <td>1</td>\n",
       "      <td>2</td>\n",
       "      <td>0</td>\n",
       "      <td>0</td>\n",
       "      <td>12.18</td>\n",
       "      <td>21.03</td>\n",
       "      <td>21.033407</td>\n",
       "      <td>14.842428</td>\n",
       "      <td>803.88</td>\n",
       "      <td>630.9</td>\n",
       "      <td>0.026165</td>\n",
       "      <td>0.023526</td>\n",
       "      <td>2016-01-01 00:00:00</td>\n",
       "      <td>0.0</td>\n",
       "      <td>14420</td>\n",
       "    </tr>\n",
       "    <tr>\n",
       "      <th>1</th>\n",
       "      <td>1</td>\n",
       "      <td>1</td>\n",
       "      <td>0</td>\n",
       "      <td>1</td>\n",
       "      <td>1</td>\n",
       "      <td>1</td>\n",
       "      <td>0</td>\n",
       "      <td>12.19</td>\n",
       "      <td>21.03</td>\n",
       "      <td>21.280072</td>\n",
       "      <td>14.842428</td>\n",
       "      <td>804.54</td>\n",
       "      <td>630.9</td>\n",
       "      <td>0.026450</td>\n",
       "      <td>0.023526</td>\n",
       "      <td>2016-01-01 01:00:00</td>\n",
       "      <td>3600.0</td>\n",
       "      <td>14420</td>\n",
       "    </tr>\n",
       "    <tr>\n",
       "      <th>2</th>\n",
       "      <td>2</td>\n",
       "      <td>2</td>\n",
       "      <td>1</td>\n",
       "      <td>1</td>\n",
       "      <td>1</td>\n",
       "      <td>0</td>\n",
       "      <td>1</td>\n",
       "      <td>12.19</td>\n",
       "      <td>21.03</td>\n",
       "      <td>21.280072</td>\n",
       "      <td>14.842428</td>\n",
       "      <td>804.54</td>\n",
       "      <td>630.9</td>\n",
       "      <td>0.026450</td>\n",
       "      <td>0.023526</td>\n",
       "      <td>2016-01-01 02:00:00</td>\n",
       "      <td>7200.0</td>\n",
       "      <td>14420</td>\n",
       "    </tr>\n",
       "    <tr>\n",
       "      <th>3</th>\n",
       "      <td>3</td>\n",
       "      <td>3</td>\n",
       "      <td>0</td>\n",
       "      <td>0</td>\n",
       "      <td>0</td>\n",
       "      <td>1</td>\n",
       "      <td>0</td>\n",
       "      <td>12.20</td>\n",
       "      <td>21.03</td>\n",
       "      <td>21.529056</td>\n",
       "      <td>14.842428</td>\n",
       "      <td>805.20</td>\n",
       "      <td>630.9</td>\n",
       "      <td>0.026738</td>\n",
       "      <td>0.023526</td>\n",
       "      <td>2016-01-01 03:00:00</td>\n",
       "      <td>10800.0</td>\n",
       "      <td>14420</td>\n",
       "    </tr>\n",
       "    <tr>\n",
       "      <th>4</th>\n",
       "      <td>4</td>\n",
       "      <td>4</td>\n",
       "      <td>1</td>\n",
       "      <td>1</td>\n",
       "      <td>1</td>\n",
       "      <td>0</td>\n",
       "      <td>0</td>\n",
       "      <td>12.20</td>\n",
       "      <td>21.03</td>\n",
       "      <td>21.529056</td>\n",
       "      <td>14.842428</td>\n",
       "      <td>805.20</td>\n",
       "      <td>630.9</td>\n",
       "      <td>0.026738</td>\n",
       "      <td>0.023526</td>\n",
       "      <td>2016-01-01 04:00:00</td>\n",
       "      <td>14400.0</td>\n",
       "      <td>14420</td>\n",
       "    </tr>\n",
       "    <tr>\n",
       "      <th>5</th>\n",
       "      <td>5</td>\n",
       "      <td>5</td>\n",
       "      <td>0</td>\n",
       "      <td>0</td>\n",
       "      <td>1</td>\n",
       "      <td>0</td>\n",
       "      <td>0</td>\n",
       "      <td>12.20</td>\n",
       "      <td>21.03</td>\n",
       "      <td>21.529056</td>\n",
       "      <td>14.842428</td>\n",
       "      <td>805.20</td>\n",
       "      <td>630.9</td>\n",
       "      <td>0.026738</td>\n",
       "      <td>0.023526</td>\n",
       "      <td>2016-01-01 05:00:00</td>\n",
       "      <td>18000.0</td>\n",
       "      <td>14420</td>\n",
       "    </tr>\n",
       "    <tr>\n",
       "      <th>6</th>\n",
       "      <td>6</td>\n",
       "      <td>6</td>\n",
       "      <td>0</td>\n",
       "      <td>1</td>\n",
       "      <td>1</td>\n",
       "      <td>0</td>\n",
       "      <td>0</td>\n",
       "      <td>12.21</td>\n",
       "      <td>21.03</td>\n",
       "      <td>21.780375</td>\n",
       "      <td>14.842428</td>\n",
       "      <td>805.86</td>\n",
       "      <td>630.9</td>\n",
       "      <td>0.027027</td>\n",
       "      <td>0.023526</td>\n",
       "      <td>2016-01-01 06:00:00</td>\n",
       "      <td>21600.0</td>\n",
       "      <td>14420</td>\n",
       "    </tr>\n",
       "    <tr>\n",
       "      <th>7</th>\n",
       "      <td>7</td>\n",
       "      <td>7</td>\n",
       "      <td>0</td>\n",
       "      <td>0</td>\n",
       "      <td>0</td>\n",
       "      <td>0</td>\n",
       "      <td>0</td>\n",
       "      <td>12.21</td>\n",
       "      <td>21.03</td>\n",
       "      <td>21.780375</td>\n",
       "      <td>14.842428</td>\n",
       "      <td>805.86</td>\n",
       "      <td>630.9</td>\n",
       "      <td>0.027027</td>\n",
       "      <td>0.023526</td>\n",
       "      <td>2016-01-01 07:00:00</td>\n",
       "      <td>25200.0</td>\n",
       "      <td>14420</td>\n",
       "    </tr>\n",
       "    <tr>\n",
       "      <th>8</th>\n",
       "      <td>8</td>\n",
       "      <td>8</td>\n",
       "      <td>1</td>\n",
       "      <td>0</td>\n",
       "      <td>1</td>\n",
       "      <td>0</td>\n",
       "      <td>0</td>\n",
       "      <td>12.21</td>\n",
       "      <td>21.03</td>\n",
       "      <td>21.780375</td>\n",
       "      <td>14.842428</td>\n",
       "      <td>805.86</td>\n",
       "      <td>630.9</td>\n",
       "      <td>0.027027</td>\n",
       "      <td>0.023526</td>\n",
       "      <td>2016-01-01 08:00:00</td>\n",
       "      <td>28800.0</td>\n",
       "      <td>14420</td>\n",
       "    </tr>\n",
       "    <tr>\n",
       "      <th>9</th>\n",
       "      <td>9</td>\n",
       "      <td>9</td>\n",
       "      <td>0</td>\n",
       "      <td>0</td>\n",
       "      <td>0</td>\n",
       "      <td>0</td>\n",
       "      <td>0</td>\n",
       "      <td>12.21</td>\n",
       "      <td>21.03</td>\n",
       "      <td>21.780375</td>\n",
       "      <td>14.842428</td>\n",
       "      <td>805.86</td>\n",
       "      <td>630.9</td>\n",
       "      <td>0.027027</td>\n",
       "      <td>0.023526</td>\n",
       "      <td>2016-01-01 09:00:00</td>\n",
       "      <td>32400.0</td>\n",
       "      <td>14420</td>\n",
       "    </tr>\n",
       "  </tbody>\n",
       "</table>\n",
       "</div>"
      ],
      "text/plain": [
       "   Unnamed: 0  index  Rainfall_Aries  Rainfall_Boso  Rainfall_Campana   \n",
       "0           0      0               0              1                 2  \\\n",
       "1           1      1               0              1                 1   \n",
       "2           2      2               1              1                 1   \n",
       "3           3      3               0              0                 0   \n",
       "4           4      4               1              1                 1   \n",
       "5           5      5               0              0                 1   \n",
       "6           6      6               0              1                 1   \n",
       "7           7      7               0              0                 0   \n",
       "8           8      8               1              0                 1   \n",
       "9           9      9               0              0                 0   \n",
       "\n",
       "   Rainfall_Nangka  Rainfall_Oro  Waterlevel_Sto_Nino  Waterlevel_Montalban   \n",
       "0                0             0                12.18                 21.03  \\\n",
       "1                1             0                12.19                 21.03   \n",
       "2                0             1                12.19                 21.03   \n",
       "3                1             0                12.20                 21.03   \n",
       "4                0             0                12.20                 21.03   \n",
       "5                0             0                12.20                 21.03   \n",
       "6                0             0                12.21                 21.03   \n",
       "7                0             0                12.21                 21.03   \n",
       "8                0             0                12.21                 21.03   \n",
       "9                0             0                12.21                 21.03   \n",
       "\n",
       "   Discharge_Sto_Nino  Discharge_San_Jose  Cross_Section_Sto_Nino   \n",
       "0           21.033407           14.842428                  803.88  \\\n",
       "1           21.280072           14.842428                  804.54   \n",
       "2           21.280072           14.842428                  804.54   \n",
       "3           21.529056           14.842428                  805.20   \n",
       "4           21.529056           14.842428                  805.20   \n",
       "5           21.529056           14.842428                  805.20   \n",
       "6           21.780375           14.842428                  805.86   \n",
       "7           21.780375           14.842428                  805.86   \n",
       "8           21.780375           14.842428                  805.86   \n",
       "9           21.780375           14.842428                  805.86   \n",
       "\n",
       "   Cross_Section_Montalban  Velocity_Sto_Nino  Velocity_Montalban   \n",
       "0                    630.9           0.026165            0.023526  \\\n",
       "1                    630.9           0.026450            0.023526   \n",
       "2                    630.9           0.026450            0.023526   \n",
       "3                    630.9           0.026738            0.023526   \n",
       "4                    630.9           0.026738            0.023526   \n",
       "5                    630.9           0.026738            0.023526   \n",
       "6                    630.9           0.027027            0.023526   \n",
       "7                    630.9           0.027027            0.023526   \n",
       "8                    630.9           0.027027            0.023526   \n",
       "9                    630.9           0.027027            0.023526   \n",
       "\n",
       "              datetime        t      x  \n",
       "0  2016-01-01 00:00:00      0.0  14420  \n",
       "1  2016-01-01 01:00:00   3600.0  14420  \n",
       "2  2016-01-01 02:00:00   7200.0  14420  \n",
       "3  2016-01-01 03:00:00  10800.0  14420  \n",
       "4  2016-01-01 04:00:00  14400.0  14420  \n",
       "5  2016-01-01 05:00:00  18000.0  14420  \n",
       "6  2016-01-01 06:00:00  21600.0  14420  \n",
       "7  2016-01-01 07:00:00  25200.0  14420  \n",
       "8  2016-01-01 08:00:00  28800.0  14420  \n",
       "9  2016-01-01 09:00:00  32400.0  14420  "
      ]
     },
     "execution_count": 4,
     "metadata": {},
     "output_type": "execute_result"
    }
   ],
   "source": [
    "df = pd.read_csv(\"compiled_data_2016_2017.csv\")\n",
    "df.head(10)"
   ]
  },
  {
   "cell_type": "code",
   "execution_count": 5,
   "id": "762133d8",
   "metadata": {},
   "outputs": [],
   "source": [
    "n = len(df)"
   ]
  },
  {
   "cell_type": "code",
   "execution_count": 6,
   "id": "50f911a6",
   "metadata": {},
   "outputs": [
    {
     "data": {
      "text/plain": [
       "13140    2017-07-02 12:00:00\n",
       "13141    2017-07-02 13:00:00\n",
       "13142    2017-07-02 14:00:00\n",
       "13143    2017-07-02 15:00:00\n",
       "13144    2017-07-02 16:00:00\n",
       "                ...         \n",
       "17515    2017-12-31 19:00:00\n",
       "17516    2017-12-31 20:00:00\n",
       "17517    2017-12-31 21:00:00\n",
       "17518    2017-12-31 22:00:00\n",
       "17519    2017-12-31 23:00:00\n",
       "Name: datetime, Length: 4380, dtype: object"
      ]
     },
     "execution_count": 6,
     "metadata": {},
     "output_type": "execute_result"
    }
   ],
   "source": [
    "test = df[int(n*0.75):]\n",
    "test_dates = test['datetime']\n",
    "test_dates"
   ]
  },
  {
   "cell_type": "code",
   "execution_count": 7,
   "id": "a8346517",
   "metadata": {},
   "outputs": [],
   "source": [
    "test_dates = pd.to_datetime(test_dates)\n"
   ]
  },
  {
   "cell_type": "code",
   "execution_count": 8,
   "id": "08e95d47",
   "metadata": {},
   "outputs": [
    {
     "data": {
      "text/html": [
       "<div>\n",
       "<style scoped>\n",
       "    .dataframe tbody tr th:only-of-type {\n",
       "        vertical-align: middle;\n",
       "    }\n",
       "\n",
       "    .dataframe tbody tr th {\n",
       "        vertical-align: top;\n",
       "    }\n",
       "\n",
       "    .dataframe thead th {\n",
       "        text-align: right;\n",
       "    }\n",
       "</style>\n",
       "<table border=\"1\" class=\"dataframe\">\n",
       "  <thead>\n",
       "    <tr style=\"text-align: right;\">\n",
       "      <th></th>\n",
       "      <th>Rainfall_Aries</th>\n",
       "      <th>Rainfall_Boso</th>\n",
       "      <th>Rainfall_Campana</th>\n",
       "      <th>Rainfall_Nangka</th>\n",
       "      <th>Rainfall_Oro</th>\n",
       "      <th>Waterlevel_Sto_Nino</th>\n",
       "    </tr>\n",
       "  </thead>\n",
       "  <tbody>\n",
       "    <tr>\n",
       "      <th>0</th>\n",
       "      <td>0</td>\n",
       "      <td>1</td>\n",
       "      <td>2</td>\n",
       "      <td>0</td>\n",
       "      <td>0</td>\n",
       "      <td>12.18</td>\n",
       "    </tr>\n",
       "    <tr>\n",
       "      <th>1</th>\n",
       "      <td>0</td>\n",
       "      <td>1</td>\n",
       "      <td>1</td>\n",
       "      <td>1</td>\n",
       "      <td>0</td>\n",
       "      <td>12.19</td>\n",
       "    </tr>\n",
       "    <tr>\n",
       "      <th>2</th>\n",
       "      <td>1</td>\n",
       "      <td>1</td>\n",
       "      <td>1</td>\n",
       "      <td>0</td>\n",
       "      <td>1</td>\n",
       "      <td>12.19</td>\n",
       "    </tr>\n",
       "    <tr>\n",
       "      <th>3</th>\n",
       "      <td>0</td>\n",
       "      <td>0</td>\n",
       "      <td>0</td>\n",
       "      <td>1</td>\n",
       "      <td>0</td>\n",
       "      <td>12.20</td>\n",
       "    </tr>\n",
       "    <tr>\n",
       "      <th>4</th>\n",
       "      <td>1</td>\n",
       "      <td>1</td>\n",
       "      <td>1</td>\n",
       "      <td>0</td>\n",
       "      <td>0</td>\n",
       "      <td>12.20</td>\n",
       "    </tr>\n",
       "    <tr>\n",
       "      <th>5</th>\n",
       "      <td>0</td>\n",
       "      <td>0</td>\n",
       "      <td>1</td>\n",
       "      <td>0</td>\n",
       "      <td>0</td>\n",
       "      <td>12.20</td>\n",
       "    </tr>\n",
       "    <tr>\n",
       "      <th>6</th>\n",
       "      <td>0</td>\n",
       "      <td>1</td>\n",
       "      <td>1</td>\n",
       "      <td>0</td>\n",
       "      <td>0</td>\n",
       "      <td>12.21</td>\n",
       "    </tr>\n",
       "    <tr>\n",
       "      <th>7</th>\n",
       "      <td>0</td>\n",
       "      <td>0</td>\n",
       "      <td>0</td>\n",
       "      <td>0</td>\n",
       "      <td>0</td>\n",
       "      <td>12.21</td>\n",
       "    </tr>\n",
       "    <tr>\n",
       "      <th>8</th>\n",
       "      <td>1</td>\n",
       "      <td>0</td>\n",
       "      <td>1</td>\n",
       "      <td>0</td>\n",
       "      <td>0</td>\n",
       "      <td>12.21</td>\n",
       "    </tr>\n",
       "    <tr>\n",
       "      <th>9</th>\n",
       "      <td>0</td>\n",
       "      <td>0</td>\n",
       "      <td>0</td>\n",
       "      <td>0</td>\n",
       "      <td>0</td>\n",
       "      <td>12.21</td>\n",
       "    </tr>\n",
       "  </tbody>\n",
       "</table>\n",
       "</div>"
      ],
      "text/plain": [
       "   Rainfall_Aries  Rainfall_Boso  Rainfall_Campana  Rainfall_Nangka   \n",
       "0               0              1                 2                0  \\\n",
       "1               0              1                 1                1   \n",
       "2               1              1                 1                0   \n",
       "3               0              0                 0                1   \n",
       "4               1              1                 1                0   \n",
       "5               0              0                 1                0   \n",
       "6               0              1                 1                0   \n",
       "7               0              0                 0                0   \n",
       "8               1              0                 1                0   \n",
       "9               0              0                 0                0   \n",
       "\n",
       "   Rainfall_Oro  Waterlevel_Sto_Nino  \n",
       "0             0                12.18  \n",
       "1             0                12.19  \n",
       "2             1                12.19  \n",
       "3             0                12.20  \n",
       "4             0                12.20  \n",
       "5             0                12.20  \n",
       "6             0                12.21  \n",
       "7             0                12.21  \n",
       "8             0                12.21  \n",
       "9             0                12.21  "
      ]
     },
     "execution_count": 8,
     "metadata": {},
     "output_type": "execute_result"
    }
   ],
   "source": [
    "df_1 = df[['Rainfall_Aries', 'Rainfall_Boso', 'Rainfall_Campana', 'Rainfall_Nangka', 'Rainfall_Oro', 'Waterlevel_Sto_Nino']]\n",
    "df_1.head(10)"
   ]
  },
  {
   "cell_type": "code",
   "execution_count": 9,
   "id": "65284f8b",
   "metadata": {},
   "outputs": [],
   "source": [
    "# Splitting for time series: split into 50-25-25\n",
    "n = len(df_1)\n",
    "train_df = df_1[0:int(n*0.5)]\n",
    "val_df = df_1[int(n*0.5):int(n*0.75)]\n",
    "test_df = df_1[int(n*0.75):]"
   ]
  },
  {
   "cell_type": "code",
   "execution_count": 10,
   "id": "20612512",
   "metadata": {},
   "outputs": [],
   "source": [
    "class WindowGenerator():\n",
    "    def __init__(self, input_width, label_width, shift, train_df=train_df, val_df=val_df, test_df=test_df, label_columns=None):\n",
    "        # Store the raw data.\n",
    "        self.train_df = train_df\n",
    "        self.val_df = val_df\n",
    "        self.test_df = test_df\n",
    "\n",
    "        # Work out the label column indices.\n",
    "        self.label_columns = label_columns\n",
    "        if label_columns is not None:\n",
    "            self.label_columns_indices = {name: i for i, name in enumerate(label_columns)}\n",
    "        self.column_indices = {name: i for i, name in enumerate(train_df.columns)}\n",
    "\n",
    "        # Work out the window parameters.\n",
    "        self.input_width = input_width\n",
    "        self.label_width = label_width\n",
    "        self.shift = shift\n",
    "\n",
    "        self.total_window_size = input_width + shift\n",
    "\n",
    "        self.input_slice = slice(0, input_width)\n",
    "        self.input_indices = np.arange(self.total_window_size)[self.input_slice]\n",
    "\n",
    "        self.label_start = self.total_window_size - self.label_width\n",
    "        self.labels_slice = slice(self.label_start, None)\n",
    "        self.label_indices = np.arange(self.total_window_size)[self.labels_slice]\n",
    "\n",
    "    def __repr__(self):\n",
    "        return '\\n'.join([\n",
    "            f'Total window size: {self.total_window_size}',\n",
    "            f'Input indices: {self.input_indices}',\n",
    "            f'Label indices: {self.label_indices}',\n",
    "            f'Label column name(s): {self.label_columns}'])\n",
    "\n",
    "    def split_window(self, features):\n",
    "        inputs = features[:, self.input_slice, :]\n",
    "        labels = features[:, self.labels_slice, :]\n",
    "        if self.label_columns is not None:\n",
    "            labels = tf.stack([labels[:, :, self.column_indices[name]] for name in self.label_columns], axis=-1)\n",
    "\n",
    "        # Slicing doesn't preserve static shape information, so set the shapes\n",
    "        # manually. This way the `tf.data.Datasets` are easier to inspect.\n",
    "        inputs.set_shape([None, self.input_width, None])\n",
    "        labels.set_shape([None, self.label_width, None])\n",
    "\n",
    "        return inputs, labels\n",
    "    \n",
    "    # Creating tf datasets for more convenient use and integration into model in the future\n",
    "    def make_dataset(self, data):\n",
    "        data = np.array(data, dtype=np.float32)\n",
    "        ds = tf.keras.utils.timeseries_dataset_from_array(\n",
    "            data=data,\n",
    "            targets=None,\n",
    "            sequence_length=self.total_window_size,\n",
    "            sequence_stride=1,\n",
    "            shuffle=True,\n",
    "            batch_size=32,)\n",
    "\n",
    "        ds = ds.map(self.split_window)\n",
    "\n",
    "        return ds\n",
    "    \n",
    "    # properties to access them as tf datasets\n",
    "    @property\n",
    "    def train(self):\n",
    "        return self.make_dataset(self.train_df)\n",
    "\n",
    "    @property\n",
    "    def val(self):\n",
    "        return self.make_dataset(self.val_df)\n",
    "\n",
    "    @property\n",
    "    def test(self):\n",
    "        return self.make_dataset(self.test_df)\n",
    "\n",
    "    @property\n",
    "    def example(self):\n",
    "        \"\"\"Get and cache an example batch of `inputs, labels` for plotting.\"\"\"\n",
    "        result = getattr(self, '_example', None)\n",
    "        if result is None:\n",
    "            # No example batch was found, so get one from the `.train` dataset\n",
    "            result = next(iter(self.train))\n",
    "            # And cache it for next time\n",
    "            self._example = result\n",
    "        return result"
   ]
  },
  {
   "cell_type": "code",
   "execution_count": 11,
   "id": "499ee701",
   "metadata": {},
   "outputs": [
    {
     "data": {
      "text/plain": [
       "Total window size: 7\n",
       "Input indices: [0 1 2 3 4 5]\n",
       "Label indices: [1 2 3 4 5 6]\n",
       "Label column name(s): ['Waterlevel_Sto_Nino']"
      ]
     },
     "execution_count": 11,
     "metadata": {},
     "output_type": "execute_result"
    }
   ],
   "source": [
    "# The wide window uses independent hours of data as input to predict the water level of the next hour\n",
    "# Here, the prediction is done on 6 hours\n",
    "# This is used for Dense and Recurrent Neural Networks\n",
    "wide_window = WindowGenerator(\n",
    "        input_width=6, label_width=6, shift=1,\n",
    "        label_columns=['Waterlevel_Sto_Nino']\n",
    "    )\n",
    "\n",
    "wide_window"
   ]
  },
  {
   "cell_type": "code",
   "execution_count": 12,
   "id": "558fcf55",
   "metadata": {},
   "outputs": [
    {
     "data": {
      "text/plain": [
       "Total window size: 7\n",
       "Input indices: [0 1 2 3 4 5]\n",
       "Label indices: [6]\n",
       "Label column name(s): ['Waterlevel_Sto_Nino']"
      ]
     },
     "execution_count": 12,
     "metadata": {},
     "output_type": "execute_result"
    }
   ],
   "source": [
    "# The conv window is used for the Convolutional Neural Netwrok\n",
    "# 6 consecutive hours of data are used together to make predictions one hour into the future\n",
    "CONV_WIDTH = 6\n",
    "conv_window = WindowGenerator(\n",
    "        input_width=CONV_WIDTH,\n",
    "        label_width=1,\n",
    "        shift=1,\n",
    "        label_columns=['Waterlevel_Sto_Nino']\n",
    "    )\n",
    "\n",
    "conv_window"
   ]
  },
  {
   "cell_type": "code",
   "execution_count": 13,
   "id": "14e805fe",
   "metadata": {},
   "outputs": [],
   "source": [
    "def r_square(y_true, y_pred):\n",
    "    x = y_true\n",
    "    y = y_pred\n",
    "    mx = K.mean(x, axis=0)\n",
    "    my = K.mean(y, axis=0)\n",
    "    xm, ym = x - mx, y - my\n",
    "    r_num = K.square(K.sum(xm * ym))\n",
    "    x_square_sum = K.sum(xm * xm)\n",
    "    y_square_sum = K.sum(ym * ym)\n",
    "    r_den = (x_square_sum * y_square_sum) + K.epsilon()\n",
    "    \n",
    "    r = r_num / r_den\n",
    "    return r"
   ]
  },
  {
   "cell_type": "code",
   "execution_count": 14,
   "id": "41e5a7e4",
   "metadata": {},
   "outputs": [],
   "source": [
    "def NSE(y_true, y_pred):\n",
    "    '''\n",
    "    This is the Nash-Sutcliffe Efficiency Coefficient\n",
    "    '''\n",
    "    y_pred = K.flatten(y_pred)\n",
    "    y_true = K.flatten(y_true)\n",
    "\n",
    "    \n",
    "    SS_res =  K.sum(K.square(y_true - y_pred)) \n",
    "    SS_tot = K.sum(K.square(y_true - K.mean(y_true))) \n",
    "    \n",
    "    return ( 1 - SS_res/(SS_tot + K.epsilon()) )"
   ]
  },
  {
   "cell_type": "code",
   "execution_count": 15,
   "id": "7c8af789",
   "metadata": {},
   "outputs": [],
   "source": [
    "# For easy compiling and fitting of different models\n",
    "MAX_EPOCHS = 20\n",
    "\n",
    "def compile_and_fit(model, window, patience=2):\n",
    "    early_stopping = tf.keras.callbacks.EarlyStopping(monitor='val_loss', patience=patience, mode='min')\n",
    "\n",
    "    model.compile(\n",
    "        loss=tf.keras.losses.MeanSquaredError(), \n",
    "        optimizer='adam', \n",
    "        metrics=[tf.keras.metrics.MeanSquaredError(), NSE, r_square]\n",
    "    )\n",
    "\n",
    "    history = model.fit(\n",
    "        window.train, \n",
    "        epochs=MAX_EPOCHS,\n",
    "        validation_data=window.val,\n",
    "        callbacks=[early_stopping]\n",
    "    )\n",
    "\n",
    "    return history"
   ]
  },
  {
   "cell_type": "code",
   "execution_count": 16,
   "id": "2cc6cce3",
   "metadata": {},
   "outputs": [],
   "source": [
    "# Dense Neural Network\n",
    "dense = tf.keras.Sequential([\n",
    "    tf.keras.layers.Dense(units=64, activation='relu'),\n",
    "    tf.keras.layers.Dense(units=64, activation='relu'),\n",
    "    tf.keras.layers.Dense(units=64, activation='relu'),\n",
    "    tf.keras.layers.Dense(units=1)\n",
    "])\n",
    "\n",
    "# Convolution Neural Network\n",
    "conv_model = tf.keras.Sequential([\n",
    "    tf.keras.layers.Conv1D(filters=64, kernel_size=(CONV_WIDTH,), activation='relu'),\n",
    "    tf.keras.layers.Dense(units=64, activation='relu'),\n",
    "    tf.keras.layers.Dense(units=64, activation='relu'),\n",
    "    tf.keras.layers.Dense(units=1),\n",
    "])\n",
    "\n",
    "# LSTM\n",
    "lstm_model = tf.keras.models.Sequential([\n",
    "    tf.keras.layers.LSTM(64, return_sequences=True),\n",
    "    tf.keras.layers.Dense(units=64, activation='relu'),\n",
    "    tf.keras.layers.Dense(units=64, activation='relu'),\n",
    "    tf.keras.layers.Dense(units=1)\n",
    "])"
   ]
  },
  {
   "cell_type": "code",
   "execution_count": 17,
   "id": "4acf02b0",
   "metadata": {},
   "outputs": [
    {
     "name": "stdout",
     "output_type": "stream",
     "text": [
      "Epoch 1/20\n",
      "274/274 [==============================] - 5s 10ms/step - loss: 7.0817 - mean_squared_error: 7.0816 - NSE: -17.6905 - r_square: 0.7789 - val_loss: 0.0172 - val_mean_squared_error: 0.0172 - val_NSE: 0.7188 - val_r_square: 0.8918\n",
      "Epoch 2/20\n",
      "274/274 [==============================] - 2s 6ms/step - loss: 0.0105 - mean_squared_error: 0.0105 - NSE: 0.9736 - r_square: 0.9761 - val_loss: 0.0084 - val_mean_squared_error: 0.0084 - val_NSE: 0.8628 - val_r_square: 0.9247\n",
      "Epoch 3/20\n",
      "274/274 [==============================] - 2s 6ms/step - loss: 0.0057 - mean_squared_error: 0.0057 - NSE: 0.9859 - r_square: 0.9870 - val_loss: 0.0065 - val_mean_squared_error: 0.0065 - val_NSE: 0.9026 - val_r_square: 0.9298\n",
      "Epoch 4/20\n",
      "274/274 [==============================] - 2s 6ms/step - loss: 0.0046 - mean_squared_error: 0.0046 - NSE: 0.9882 - r_square: 0.9891 - val_loss: 0.0070 - val_mean_squared_error: 0.0070 - val_NSE: 0.9032 - val_r_square: 0.9307\n",
      "Epoch 5/20\n",
      "274/274 [==============================] - 1s 5ms/step - loss: 0.0042 - mean_squared_error: 0.0042 - NSE: 0.9896 - r_square: 0.9906 - val_loss: 0.0062 - val_mean_squared_error: 0.0062 - val_NSE: 0.9080 - val_r_square: 0.9365\n",
      "Epoch 6/20\n",
      "274/274 [==============================] - 2s 6ms/step - loss: 0.0040 - mean_squared_error: 0.0040 - NSE: 0.9898 - r_square: 0.9909 - val_loss: 0.0068 - val_mean_squared_error: 0.0068 - val_NSE: 0.9015 - val_r_square: 0.9342\n",
      "Epoch 7/20\n",
      "274/274 [==============================] - 2s 6ms/step - loss: 0.0046 - mean_squared_error: 0.0046 - NSE: 0.9885 - r_square: 0.9899 - val_loss: 0.0071 - val_mean_squared_error: 0.0071 - val_NSE: 0.8935 - val_r_square: 0.9248\n"
     ]
    }
   ],
   "source": [
    "dense_history = compile_and_fit(dense, wide_window)"
   ]
  },
  {
   "cell_type": "code",
   "execution_count": 18,
   "id": "1d45de3c",
   "metadata": {},
   "outputs": [
    {
     "data": {
      "text/plain": [
       "{'loss': [7.0816521644592285,\n",
       "  0.010542241856455803,\n",
       "  0.005666388664394617,\n",
       "  0.0046079023741185665,\n",
       "  0.004166313447058201,\n",
       "  0.004003626760095358,\n",
       "  0.0045716422609984875],\n",
       " 'mean_squared_error': [7.0816497802734375,\n",
       "  0.010542240925133228,\n",
       "  0.0056663923896849155,\n",
       "  0.0046079023741185665,\n",
       "  0.004166316706687212,\n",
       "  0.00400362815707922,\n",
       "  0.0045716422609984875],\n",
       " 'NSE': [-17.690505981445312,\n",
       "  0.9735798835754395,\n",
       "  0.9859068989753723,\n",
       "  0.9881948232650757,\n",
       "  0.9895546436309814,\n",
       "  0.9897827506065369,\n",
       "  0.9884979724884033],\n",
       " 'r_square': [0.778914749622345,\n",
       "  0.9761120676994324,\n",
       "  0.987025260925293,\n",
       "  0.9891376495361328,\n",
       "  0.9906230568885803,\n",
       "  0.9908500909805298,\n",
       "  0.9899346828460693],\n",
       " 'val_loss': [0.017152676358819008,\n",
       "  0.00843973271548748,\n",
       "  0.006485049147158861,\n",
       "  0.007000710815191269,\n",
       "  0.0062382277101278305,\n",
       "  0.006773974746465683,\n",
       "  0.007088831625878811],\n",
       " 'val_mean_squared_error': [0.017152681946754456,\n",
       "  0.00843973457813263,\n",
       "  0.006485048681497574,\n",
       "  0.007000711280852556,\n",
       "  0.006238229107111692,\n",
       "  0.006773974280804396,\n",
       "  0.007088833022862673],\n",
       " 'val_NSE': [0.7188100814819336,\n",
       "  0.8628249168395996,\n",
       "  0.9025512337684631,\n",
       "  0.9032106399536133,\n",
       "  0.9079880118370056,\n",
       "  0.9014599919319153,\n",
       "  0.8935487270355225],\n",
       " 'val_r_square': [0.8918268084526062,\n",
       "  0.9247452020645142,\n",
       "  0.9298185110092163,\n",
       "  0.9306557178497314,\n",
       "  0.936549186706543,\n",
       "  0.9342178702354431,\n",
       "  0.9247958064079285]}"
      ]
     },
     "execution_count": 18,
     "metadata": {},
     "output_type": "execute_result"
    }
   ],
   "source": [
    "dense_history.history"
   ]
  },
  {
   "cell_type": "code",
   "execution_count": 19,
   "id": "f78300af",
   "metadata": {},
   "outputs": [
    {
     "name": "stdout",
     "output_type": "stream",
     "text": [
      "Epoch 1/20\n",
      "274/274 [==============================] - 4s 6ms/step - loss: 7.5215 - mean_squared_error: 7.5215 - NSE: -18.8396 - r_square: 0.7695 - val_loss: 0.0321 - val_mean_squared_error: 0.0321 - val_NSE: 0.5210 - val_r_square: 0.8095\n",
      "Epoch 2/20\n",
      "274/274 [==============================] - 2s 6ms/step - loss: 0.0378 - mean_squared_error: 0.0378 - NSE: 0.9060 - r_square: 0.9353 - val_loss: 0.0166 - val_mean_squared_error: 0.0166 - val_NSE: 0.7403 - val_r_square: 0.8495\n",
      "Epoch 3/20\n",
      "274/274 [==============================] - 1s 4ms/step - loss: 0.0211 - mean_squared_error: 0.0211 - NSE: 0.9458 - r_square: 0.9579 - val_loss: 0.0153 - val_mean_squared_error: 0.0153 - val_NSE: 0.7532 - val_r_square: 0.8563\n",
      "Epoch 4/20\n",
      "274/274 [==============================] - 1s 4ms/step - loss: 0.0186 - mean_squared_error: 0.0186 - NSE: 0.9519 - r_square: 0.9634 - val_loss: 0.0122 - val_mean_squared_error: 0.0122 - val_NSE: 0.8282 - val_r_square: 0.8757\n",
      "Epoch 5/20\n",
      "274/274 [==============================] - 1s 5ms/step - loss: 0.0155 - mean_squared_error: 0.0155 - NSE: 0.9620 - r_square: 0.9695 - val_loss: 0.0150 - val_mean_squared_error: 0.0150 - val_NSE: 0.7009 - val_r_square: 0.8611\n",
      "Epoch 6/20\n",
      "274/274 [==============================] - 2s 6ms/step - loss: 0.0151 - mean_squared_error: 0.0151 - NSE: 0.9620 - r_square: 0.9716 - val_loss: 0.0111 - val_mean_squared_error: 0.0111 - val_NSE: 0.8119 - val_r_square: 0.8919\n",
      "Epoch 7/20\n",
      "274/274 [==============================] - 1s 5ms/step - loss: 0.0158 - mean_squared_error: 0.0158 - NSE: 0.9601 - r_square: 0.9690 - val_loss: 0.0173 - val_mean_squared_error: 0.0173 - val_NSE: 0.7464 - val_r_square: 0.8515\n",
      "Epoch 8/20\n",
      "274/274 [==============================] - 2s 6ms/step - loss: 0.0197 - mean_squared_error: 0.0197 - NSE: 0.9520 - r_square: 0.9648 - val_loss: 0.0105 - val_mean_squared_error: 0.0105 - val_NSE: 0.8516 - val_r_square: 0.8945\n",
      "Epoch 9/20\n",
      "274/274 [==============================] - 2s 6ms/step - loss: 0.0255 - mean_squared_error: 0.0255 - NSE: 0.9383 - r_square: 0.9559 - val_loss: 0.0180 - val_mean_squared_error: 0.0180 - val_NSE: 0.7307 - val_r_square: 0.8466\n",
      "Epoch 10/20\n",
      "274/274 [==============================] - 2s 6ms/step - loss: 0.0221 - mean_squared_error: 0.0221 - NSE: 0.9455 - r_square: 0.9628 - val_loss: 0.0126 - val_mean_squared_error: 0.0126 - val_NSE: 0.8170 - val_r_square: 0.8809\n"
     ]
    }
   ],
   "source": [
    "conv_history = compile_and_fit(conv_model, conv_window)"
   ]
  },
  {
   "cell_type": "code",
   "execution_count": 20,
   "id": "aa742482",
   "metadata": {},
   "outputs": [
    {
     "name": "stdout",
     "output_type": "stream",
     "text": [
      "Epoch 1/20\n",
      "274/274 [==============================] - 10s 18ms/step - loss: 11.4893 - mean_squared_error: 11.4893 - NSE: -29.6066 - r_square: 0.3643 - val_loss: 0.1209 - val_mean_squared_error: 0.1209 - val_NSE: -0.9249 - val_r_square: 0.3402\n",
      "Epoch 2/20\n",
      "274/274 [==============================] - 3s 10ms/step - loss: 0.1363 - mean_squared_error: 0.1363 - NSE: 0.6800 - r_square: 0.7944 - val_loss: 0.0593 - val_mean_squared_error: 0.0593 - val_NSE: -0.1011 - val_r_square: 0.6610\n",
      "Epoch 3/20\n",
      "274/274 [==============================] - 3s 12ms/step - loss: 0.0523 - mean_squared_error: 0.0523 - NSE: 0.8774 - r_square: 0.9067 - val_loss: 0.0278 - val_mean_squared_error: 0.0278 - val_NSE: 0.5841 - val_r_square: 0.8099\n",
      "Epoch 4/20\n",
      "274/274 [==============================] - 3s 12ms/step - loss: 0.0298 - mean_squared_error: 0.0298 - NSE: 0.9304 - r_square: 0.9415 - val_loss: 0.0213 - val_mean_squared_error: 0.0213 - val_NSE: 0.6606 - val_r_square: 0.8403\n",
      "Epoch 5/20\n",
      "274/274 [==============================] - 3s 11ms/step - loss: 0.0213 - mean_squared_error: 0.0213 - NSE: 0.9494 - r_square: 0.9580 - val_loss: 0.0170 - val_mean_squared_error: 0.0170 - val_NSE: 0.6227 - val_r_square: 0.8595\n",
      "Epoch 6/20\n",
      "274/274 [==============================] - 3s 10ms/step - loss: 0.0156 - mean_squared_error: 0.0156 - NSE: 0.9633 - r_square: 0.9684 - val_loss: 0.0126 - val_mean_squared_error: 0.0126 - val_NSE: 0.8058 - val_r_square: 0.8744\n",
      "Epoch 7/20\n",
      "274/274 [==============================] - 3s 11ms/step - loss: 0.0123 - mean_squared_error: 0.0123 - NSE: 0.9714 - r_square: 0.9767 - val_loss: 0.0104 - val_mean_squared_error: 0.0104 - val_NSE: 0.8283 - val_r_square: 0.9070\n",
      "Epoch 8/20\n",
      "274/274 [==============================] - 3s 11ms/step - loss: 0.0093 - mean_squared_error: 0.0093 - NSE: 0.9779 - r_square: 0.9815 - val_loss: 0.0081 - val_mean_squared_error: 0.0081 - val_NSE: 0.8680 - val_r_square: 0.9112\n",
      "Epoch 9/20\n",
      "274/274 [==============================] - 3s 11ms/step - loss: 0.0080 - mean_squared_error: 0.0080 - NSE: 0.9812 - r_square: 0.9849 - val_loss: 0.0073 - val_mean_squared_error: 0.0073 - val_NSE: 0.8930 - val_r_square: 0.9228\n",
      "Epoch 10/20\n",
      "274/274 [==============================] - 3s 11ms/step - loss: 0.0067 - mean_squared_error: 0.0067 - NSE: 0.9835 - r_square: 0.9876 - val_loss: 0.0068 - val_mean_squared_error: 0.0068 - val_NSE: 0.9005 - val_r_square: 0.9247\n",
      "Epoch 11/20\n",
      "274/274 [==============================] - 3s 12ms/step - loss: 0.0065 - mean_squared_error: 0.0065 - NSE: 0.9845 - r_square: 0.9885 - val_loss: 0.0054 - val_mean_squared_error: 0.0054 - val_NSE: 0.9148 - val_r_square: 0.9363\n",
      "Epoch 12/20\n",
      "274/274 [==============================] - 3s 11ms/step - loss: 0.0065 - mean_squared_error: 0.0065 - NSE: 0.9840 - r_square: 0.9886 - val_loss: 0.0078 - val_mean_squared_error: 0.0078 - val_NSE: 0.8735 - val_r_square: 0.9285\n",
      "Epoch 13/20\n",
      "274/274 [==============================] - 3s 11ms/step - loss: 0.0058 - mean_squared_error: 0.0058 - NSE: 0.9858 - r_square: 0.9896 - val_loss: 0.0063 - val_mean_squared_error: 0.0063 - val_NSE: 0.9050 - val_r_square: 0.9329\n"
     ]
    }
   ],
   "source": [
    "lstm_history = compile_and_fit(lstm_model, wide_window)"
   ]
  },
  {
   "cell_type": "code",
   "execution_count": 21,
   "id": "ec2b39da",
   "metadata": {},
   "outputs": [],
   "source": [
    "val_performance = {}\n",
    "performance = {}"
   ]
  },
  {
   "cell_type": "code",
   "execution_count": 22,
   "id": "e4668f89",
   "metadata": {},
   "outputs": [
    {
     "name": "stdout",
     "output_type": "stream",
     "text": [
      "137/137 [==============================] - 0s 3ms/step - loss: 0.0071 - mean_squared_error: 0.0071 - NSE: 0.8916 - r_square: 0.9284\n"
     ]
    }
   ],
   "source": [
    "val_performance['Dense'] = dense.evaluate(wide_window.val)"
   ]
  },
  {
   "cell_type": "code",
   "execution_count": 23,
   "id": "5c6371c9",
   "metadata": {},
   "outputs": [],
   "source": [
    "performance['Dense'] = dense.evaluate(wide_window.test, verbose=0)"
   ]
  },
  {
   "cell_type": "code",
   "execution_count": 24,
   "id": "4fcd8228",
   "metadata": {},
   "outputs": [
    {
     "name": "stdout",
     "output_type": "stream",
     "text": [
      "137/137 [==============================] - 0s 2ms/step - loss: 0.0126 - mean_squared_error: 0.0126 - NSE: 0.8055 - r_square: 0.8780\n"
     ]
    }
   ],
   "source": [
    "val_performance['Conv'] = conv_model.evaluate(conv_window.val)"
   ]
  },
  {
   "cell_type": "code",
   "execution_count": 25,
   "id": "8ee18543",
   "metadata": {},
   "outputs": [],
   "source": [
    "performance['Conv'] = conv_model.evaluate(conv_window.test, verbose=0)"
   ]
  },
  {
   "cell_type": "code",
   "execution_count": 26,
   "id": "67a6fbcd",
   "metadata": {},
   "outputs": [
    {
     "name": "stdout",
     "output_type": "stream",
     "text": [
      "137/137 [==============================] - 1s 5ms/step - loss: 0.0063 - mean_squared_error: 0.0063 - NSE: 0.9011 - r_square: 0.9305\n"
     ]
    }
   ],
   "source": [
    "val_performance['LSTM'] = lstm_model.evaluate(wide_window.val)"
   ]
  },
  {
   "cell_type": "code",
   "execution_count": 27,
   "id": "ca9d0c9d",
   "metadata": {},
   "outputs": [],
   "source": [
    "performance['LSTM'] = lstm_model.evaluate(wide_window.test, verbose=0)"
   ]
  },
  {
   "cell_type": "code",
   "execution_count": 28,
   "id": "e462f6ed",
   "metadata": {},
   "outputs": [
    {
     "data": {
      "text/plain": [
       "{'Dense': [0.007088832091540098,\n",
       "  0.0070888325572013855,\n",
       "  0.8915606737136841,\n",
       "  0.9283826351165771],\n",
       " 'Conv': [0.012637211009860039,\n",
       "  0.012637211009860039,\n",
       "  0.8054702877998352,\n",
       "  0.8779716491699219],\n",
       " 'LSTM': [0.006348748225718737,\n",
       "  0.006348748225718737,\n",
       "  0.9010827541351318,\n",
       "  0.9304801225662231]}"
      ]
     },
     "execution_count": 28,
     "metadata": {},
     "output_type": "execute_result"
    }
   ],
   "source": [
    "val_performance"
   ]
  },
  {
   "cell_type": "code",
   "execution_count": 29,
   "id": "c8a71e82",
   "metadata": {},
   "outputs": [
    {
     "data": {
      "text/plain": [
       "{'Dense': [0.01978330872952938,\n",
       "  0.019783305004239082,\n",
       "  0.9327208399772644,\n",
       "  0.9454557299613953],\n",
       " 'Conv': [0.07618694007396698,\n",
       "  0.07618694007396698,\n",
       "  0.6832350492477417,\n",
       "  0.8917523622512817],\n",
       " 'LSTM': [0.01263510249555111,\n",
       "  0.012635109946131706,\n",
       "  0.9495426416397095,\n",
       "  0.9567736387252808]}"
      ]
     },
     "execution_count": 29,
     "metadata": {},
     "output_type": "execute_result"
    }
   ],
   "source": [
    "performance"
   ]
  },
  {
   "cell_type": "code",
   "execution_count": 30,
   "id": "834888ee",
   "metadata": {},
   "outputs": [],
   "source": [
    "import pandas as pd\n",
    "\n",
    "\n",
    "\n",
    "df_perf = pd.DataFrame.from_dict(performance, orient='index', columns=['Loss', 'MSE', 'NSE', 'R^2'])"
   ]
  },
  {
   "cell_type": "code",
   "execution_count": 31,
   "id": "a23464e8",
   "metadata": {},
   "outputs": [
    {
     "data": {
      "text/html": [
       "<div>\n",
       "<style scoped>\n",
       "    .dataframe tbody tr th:only-of-type {\n",
       "        vertical-align: middle;\n",
       "    }\n",
       "\n",
       "    .dataframe tbody tr th {\n",
       "        vertical-align: top;\n",
       "    }\n",
       "\n",
       "    .dataframe thead th {\n",
       "        text-align: right;\n",
       "    }\n",
       "</style>\n",
       "<table border=\"1\" class=\"dataframe\">\n",
       "  <thead>\n",
       "    <tr style=\"text-align: right;\">\n",
       "      <th></th>\n",
       "      <th>Loss</th>\n",
       "      <th>MSE</th>\n",
       "      <th>NSE</th>\n",
       "      <th>R^2</th>\n",
       "    </tr>\n",
       "  </thead>\n",
       "  <tbody>\n",
       "    <tr>\n",
       "      <th>Dense</th>\n",
       "      <td>0.019783</td>\n",
       "      <td>0.019783</td>\n",
       "      <td>0.932721</td>\n",
       "      <td>0.945456</td>\n",
       "    </tr>\n",
       "    <tr>\n",
       "      <th>Conv</th>\n",
       "      <td>0.076187</td>\n",
       "      <td>0.076187</td>\n",
       "      <td>0.683235</td>\n",
       "      <td>0.891752</td>\n",
       "    </tr>\n",
       "    <tr>\n",
       "      <th>LSTM</th>\n",
       "      <td>0.012635</td>\n",
       "      <td>0.012635</td>\n",
       "      <td>0.949543</td>\n",
       "      <td>0.956774</td>\n",
       "    </tr>\n",
       "  </tbody>\n",
       "</table>\n",
       "</div>"
      ],
      "text/plain": [
       "           Loss       MSE       NSE       R^2\n",
       "Dense  0.019783  0.019783  0.932721  0.945456\n",
       "Conv   0.076187  0.076187  0.683235  0.891752\n",
       "LSTM   0.012635  0.012635  0.949543  0.956774"
      ]
     },
     "execution_count": 31,
     "metadata": {},
     "output_type": "execute_result"
    }
   ],
   "source": [
    "df_perf"
   ]
  },
  {
   "cell_type": "code",
   "execution_count": 32,
   "id": "09e07327",
   "metadata": {},
   "outputs": [
    {
     "name": "stdout",
     "output_type": "stream",
     "text": [
      "1/1 [==============================] - 3s 3s/step\n"
     ]
    }
   ],
   "source": [
    "prediction_data = test_df.values.reshape(1, -1, 6)  # Add batch dimension of 1\n",
    "lstm_predictions_multi_ann_rainfall_only = lstm_model.predict(prediction_data)\n",
    "actual = test_df['Waterlevel_Sto_Nino']\n",
    "lstm_predictions_multi_ann_rainfall_only = lstm_predictions_multi_ann_rainfall_only.reshape(4380)"
   ]
  },
  {
   "cell_type": "code",
   "execution_count": 33,
   "id": "2e6e8e5d",
   "metadata": {},
   "outputs": [],
   "source": [
    "actual_test = test_df['Waterlevel_Sto_Nino']"
   ]
  },
  {
   "cell_type": "code",
   "execution_count": 34,
   "id": "86009ba5",
   "metadata": {},
   "outputs": [
    {
     "data": {
      "text/plain": [
       "13140   2017-07-02 12:00:00\n",
       "13141   2017-07-02 13:00:00\n",
       "13142   2017-07-02 14:00:00\n",
       "13143   2017-07-02 15:00:00\n",
       "13144   2017-07-02 16:00:00\n",
       "                ...        \n",
       "17515   2017-12-31 19:00:00\n",
       "17516   2017-12-31 20:00:00\n",
       "17517   2017-12-31 21:00:00\n",
       "17518   2017-12-31 22:00:00\n",
       "17519   2017-12-31 23:00:00\n",
       "Name: datetime, Length: 4380, dtype: datetime64[ns]"
      ]
     },
     "execution_count": 34,
     "metadata": {},
     "output_type": "execute_result"
    }
   ],
   "source": [
    "test_dates"
   ]
  },
  {
   "cell_type": "markdown",
   "id": "ac10b86c",
   "metadata": {},
   "source": [
    "## 2. Univariate Time series ANN - Using only water level \n"
   ]
  },
  {
   "cell_type": "code",
   "execution_count": 35,
   "id": "f30f6b95",
   "metadata": {},
   "outputs": [],
   "source": [
    "import tensorflow as tf\n",
    "import numpy as np\n",
    "\n",
    "class WindowGenerator():\n",
    "    def __init__(self, input_width, label_width, shift, train_df=train_df, val_df=val_df, test_df=test_df):\n",
    "        # Store the raw data - select only the Sto Nino water level column\n",
    "        self.train_df = train_df[['Waterlevel_Sto_Nino']].values\n",
    "        self.val_df = val_df[['Waterlevel_Sto_Nino']].values\n",
    "        self.test_df = test_df[['Waterlevel_Sto_Nino']].values\n",
    "\n",
    "        # Work out the window parameters\n",
    "        self.input_width = input_width\n",
    "        self.label_width = label_width\n",
    "        self.shift = shift\n",
    "        self.total_window_size = input_width + shift\n",
    "\n",
    "        # Input and label slices\n",
    "        self.input_slice = slice(0, input_width)\n",
    "        self.input_indices = np.arange(self.total_window_size)[self.input_slice]\n",
    "        self.label_start = self.total_window_size - self.label_width\n",
    "        self.labels_slice = slice(self.label_start, None)\n",
    "        self.label_indices = np.arange(self.total_window_size)[self.labels_slice]\n",
    "\n",
    "    def __repr__(self):\n",
    "        return '\\n'.join([\n",
    "            f'Total window size: {self.total_window_size}',\n",
    "            f'Input indices: {self.input_indices}',\n",
    "            f'Label indices: {self.label_indices}'])\n",
    "\n",
    "    def split_window(self, features):\n",
    "        # Features shape is (batch, time_steps, 1)\n",
    "        inputs = features[:, self.input_slice, :]\n",
    "        labels = features[:, self.labels_slice, :]\n",
    "        \n",
    "        # Set shapes explicitly\n",
    "        inputs.set_shape([None, self.input_width, 1])\n",
    "        labels.set_shape([None, self.label_width, 1])\n",
    "        \n",
    "        return inputs, labels\n",
    "    \n",
    "    def make_dataset(self, data):\n",
    "        # Ensure data is float32 and has correct shape (samples, 1)\n",
    "        data = np.array(data, dtype=np.float32)\n",
    "        if len(data.shape) == 1:\n",
    "            data = data.reshape(-1, 1)\n",
    "            \n",
    "        ds = tf.keras.utils.timeseries_dataset_from_array(\n",
    "            data=data,\n",
    "            targets=None,\n",
    "            sequence_length=self.total_window_size,\n",
    "            sequence_stride=1,\n",
    "            shuffle=True,\n",
    "            batch_size=32,)\n",
    "        \n",
    "        ds = ds.map(self.split_window)\n",
    "        return ds\n",
    "    \n",
    "    @property\n",
    "    def train(self):\n",
    "        return self.make_dataset(self.train_df)\n",
    "    \n",
    "    @property\n",
    "    def val(self):\n",
    "        return self.make_dataset(self.val_df)\n",
    "    \n",
    "    @property\n",
    "    def test(self):\n",
    "        return self.make_dataset(self.test_df)\n",
    "    \n",
    "    @property\n",
    "    def example(self):\n",
    "        \"\"\"Get and cache an example batch of `inputs, labels` for plotting.\"\"\"\n",
    "        result = getattr(self, '_example', None)\n",
    "        if result is None:\n",
    "            result = next(iter(self.train))\n",
    "            self._example = result\n",
    "        return result"
   ]
  },
  {
   "cell_type": "code",
   "execution_count": 36,
   "id": "d535b2cc",
   "metadata": {},
   "outputs": [
    {
     "data": {
      "text/plain": [
       "Total window size: 7\n",
       "Input indices: [0 1 2 3 4 5]\n",
       "Label indices: [1 2 3 4 5 6]"
      ]
     },
     "execution_count": 36,
     "metadata": {},
     "output_type": "execute_result"
    }
   ],
   "source": [
    "# The wide window uses independent hours of data as input to predict the water level of the next hour\n",
    "# Here, the prediction is done on 6 hours\n",
    "# This is used for Dense and Recurrent Neural Networks\n",
    "wide_window = WindowGenerator(\n",
    "        input_width=6, label_width=6, shift=1,\n",
    "        train_df=train_df,\n",
    "        val_df=val_df,\n",
    "        test_df=test_df\n",
    "    )\n",
    "\n",
    "wide_window"
   ]
  },
  {
   "cell_type": "code",
   "execution_count": 37,
   "id": "000788fa",
   "metadata": {},
   "outputs": [
    {
     "data": {
      "text/plain": [
       "Total window size: 7\n",
       "Input indices: [0 1 2 3 4 5]\n",
       "Label indices: [6]"
      ]
     },
     "execution_count": 37,
     "metadata": {},
     "output_type": "execute_result"
    }
   ],
   "source": [
    "# The conv window is used for the Convolutional Neural Netwrok\n",
    "# 6 consecutive hours of data are used together to make predictions one hour into the future\n",
    "CONV_WIDTH = 6\n",
    "conv_window = WindowGenerator(\n",
    "        input_width=CONV_WIDTH,\n",
    "        label_width=1,\n",
    "        shift=1,\n",
    "        train_df=train_df,\n",
    "        val_df=val_df,\n",
    "        test_df=test_df\n",
    "    )\n",
    "\n",
    "conv_window"
   ]
  },
  {
   "cell_type": "code",
   "execution_count": 38,
   "id": "6e0fa72a",
   "metadata": {},
   "outputs": [],
   "source": [
    "# Dense Neural Network\n",
    "dense = tf.keras.Sequential([\n",
    "    tf.keras.layers.Dense(units=64, activation='relu', input_shape=[wide_window.input_width, 1]),\n",
    "    tf.keras.layers.Dense(units=64, activation='relu'),\n",
    "    tf.keras.layers.Dense(units=64, activation='relu'),\n",
    "    tf.keras.layers.Dense(units=1)\n",
    "])\n",
    "\n",
    "# Convolution Neural Network\n",
    "conv_model = tf.keras.Sequential([\n",
    "    tf.keras.layers.Conv1D(filters=64, kernel_size=(CONV_WIDTH,), activation='relu', input_shape=[conv_window.input_width, 1]),\n",
    "    tf.keras.layers.Dense(units=64, activation='relu'),\n",
    "    tf.keras.layers.Dense(units=64, activation='relu'),\n",
    "    tf.keras.layers.Dense(units=1),\n",
    "])\n",
    "\n",
    "# LSTM\n",
    "lstm_model = tf.keras.models.Sequential([\n",
    "    tf.keras.layers.LSTM(64, return_sequences=True, input_shape=[wide_window.input_width, 1]),\n",
    "    tf.keras.layers.Dense(units=64, activation='relu'),\n",
    "    tf.keras.layers.Dense(units=64, activation='relu'),\n",
    "    tf.keras.layers.Dense(units=1)\n",
    "])"
   ]
  },
  {
   "cell_type": "code",
   "execution_count": 39,
   "id": "0ac15139",
   "metadata": {},
   "outputs": [],
   "source": [
    "def r_square(y_true, y_pred):\n",
    "    x = y_true\n",
    "    y = y_pred\n",
    "    mx = K.mean(x, axis=0)\n",
    "    my = K.mean(y, axis=0)\n",
    "    xm, ym = x - mx, y - my\n",
    "    r_num = K.square(K.sum(xm * ym))\n",
    "    x_square_sum = K.sum(xm * xm)\n",
    "    y_square_sum = K.sum(ym * ym)\n",
    "    r_den = (x_square_sum * y_square_sum) + K.epsilon()\n",
    "    \n",
    "    r = r_num / r_den\n",
    "    return r"
   ]
  },
  {
   "cell_type": "code",
   "execution_count": 40,
   "id": "34daf20f",
   "metadata": {},
   "outputs": [],
   "source": [
    "def NSE(y_true, y_pred):\n",
    "    '''\n",
    "    This is the Nash-Sutcliffe Efficiency Coefficient\n",
    "    '''\n",
    "    y_pred = K.flatten(y_pred)\n",
    "    y_true = K.flatten(y_true)\n",
    "\n",
    "    \n",
    "    SS_res =  K.sum(K.square(y_true - y_pred)) \n",
    "    SS_tot = K.sum(K.square(y_true - K.mean(y_true))) \n",
    "    \n",
    "    return ( 1 - SS_res/(SS_tot + K.epsilon()) )"
   ]
  },
  {
   "cell_type": "code",
   "execution_count": 41,
   "id": "f00148f0",
   "metadata": {},
   "outputs": [],
   "source": [
    "# For easy compiling and fitting of different models\n",
    "MAX_EPOCHS = 20\n",
    "\n",
    "def compile_and_fit(model, window, patience=2):\n",
    "    early_stopping = tf.keras.callbacks.EarlyStopping(monitor='val_loss', patience=patience, mode='min')\n",
    "\n",
    "    model.compile(\n",
    "        loss=tf.keras.losses.MeanSquaredError(), \n",
    "        optimizer='adam', \n",
    "        metrics=[tf.keras.metrics.MeanSquaredError(), NSE, r_square]\n",
    "    )\n",
    "\n",
    "    history = model.fit(\n",
    "        window.train, \n",
    "        epochs=MAX_EPOCHS,\n",
    "        validation_data=window.val,\n",
    "        callbacks=[early_stopping]\n",
    "    )\n",
    "\n",
    "    return history"
   ]
  },
  {
   "cell_type": "code",
   "execution_count": 42,
   "id": "22b65d80",
   "metadata": {},
   "outputs": [
    {
     "name": "stdout",
     "output_type": "stream",
     "text": [
      "Epoch 1/20\n",
      "274/274 [==============================] - 4s 8ms/step - loss: 13.9152 - mean_squared_error: 13.9152 - NSE: -36.8323 - r_square: 0.9906 - val_loss: 0.0021 - val_mean_squared_error: 0.0021 - val_NSE: 0.9704 - val_r_square: 0.9743\n",
      "Epoch 2/20\n",
      "274/274 [==============================] - 2s 7ms/step - loss: 0.0045 - mean_squared_error: 0.0045 - NSE: 0.9892 - r_square: 0.9906 - val_loss: 0.0023 - val_mean_squared_error: 0.0023 - val_NSE: 0.9654 - val_r_square: 0.9732\n",
      "Epoch 3/20\n",
      "274/274 [==============================] - 2s 7ms/step - loss: 0.0045 - mean_squared_error: 0.0045 - NSE: 0.9893 - r_square: 0.9908 - val_loss: 0.0022 - val_mean_squared_error: 0.0022 - val_NSE: 0.9686 - val_r_square: 0.9741\n"
     ]
    }
   ],
   "source": [
    "dense_history = compile_and_fit(dense, wide_window)"
   ]
  },
  {
   "cell_type": "code",
   "execution_count": 43,
   "id": "e6c63b96",
   "metadata": {},
   "outputs": [
    {
     "name": "stdout",
     "output_type": "stream",
     "text": [
      "Epoch 1/20\n",
      "274/274 [==============================] - 4s 8ms/step - loss: 6.8256 - mean_squared_error: 6.8256 - NSE: -15.4795 - r_square: 0.9618 - val_loss: 0.0069 - val_mean_squared_error: 0.0069 - val_NSE: 0.9089 - val_r_square: 0.9235\n",
      "Epoch 2/20\n",
      "274/274 [==============================] - 1s 4ms/step - loss: 0.0180 - mean_squared_error: 0.0180 - NSE: 0.9584 - r_square: 0.9648 - val_loss: 0.0069 - val_mean_squared_error: 0.0069 - val_NSE: 0.9097 - val_r_square: 0.9216\n",
      "Epoch 3/20\n",
      "274/274 [==============================] - 1s 5ms/step - loss: 0.0180 - mean_squared_error: 0.0180 - NSE: 0.9576 - r_square: 0.9641 - val_loss: 0.0095 - val_mean_squared_error: 0.0095 - val_NSE: 0.8652 - val_r_square: 0.9205\n",
      "Epoch 4/20\n",
      "274/274 [==============================] - 2s 5ms/step - loss: 0.0179 - mean_squared_error: 0.0179 - NSE: 0.9587 - r_square: 0.9648 - val_loss: 0.0070 - val_mean_squared_error: 0.0070 - val_NSE: 0.9069 - val_r_square: 0.9236\n"
     ]
    }
   ],
   "source": [
    "conv_history = compile_and_fit(conv_model, conv_window)"
   ]
  },
  {
   "cell_type": "code",
   "execution_count": 44,
   "id": "3b6c0bfe",
   "metadata": {},
   "outputs": [
    {
     "name": "stdout",
     "output_type": "stream",
     "text": [
      "Epoch 1/20\n",
      "274/274 [==============================] - 10s 15ms/step - loss: 14.8468 - mean_squared_error: 14.8468 - NSE: -40.0460 - r_square: 0.8251 - val_loss: 0.1482 - val_mean_squared_error: 0.1482 - val_NSE: -1.2796 - val_r_square: 0.9604\n",
      "Epoch 2/20\n",
      "274/274 [==============================] - 3s 11ms/step - loss: 0.1016 - mean_squared_error: 0.1016 - NSE: 0.7690 - r_square: 0.9560 - val_loss: 0.0351 - val_mean_squared_error: 0.0351 - val_NSE: 0.4276 - val_r_square: 0.9085\n",
      "Epoch 3/20\n",
      "274/274 [==============================] - 3s 12ms/step - loss: 0.0302 - mean_squared_error: 0.0302 - NSE: 0.9325 - r_square: 0.9464 - val_loss: 0.0121 - val_mean_squared_error: 0.0121 - val_NSE: 0.8079 - val_r_square: 0.9488\n",
      "Epoch 4/20\n",
      "274/274 [==============================] - 3s 10ms/step - loss: 0.0177 - mean_squared_error: 0.0177 - NSE: 0.9597 - r_square: 0.9694 - val_loss: 0.0067 - val_mean_squared_error: 0.0067 - val_NSE: 0.8944 - val_r_square: 0.9610\n",
      "Epoch 5/20\n",
      "274/274 [==============================] - 3s 9ms/step - loss: 0.0113 - mean_squared_error: 0.0113 - NSE: 0.9743 - r_square: 0.9799 - val_loss: 0.0033 - val_mean_squared_error: 0.0033 - val_NSE: 0.9533 - val_r_square: 0.9673\n",
      "Epoch 6/20\n",
      "274/274 [==============================] - 2s 9ms/step - loss: 0.0089 - mean_squared_error: 0.0089 - NSE: 0.9793 - r_square: 0.9844 - val_loss: 0.0051 - val_mean_squared_error: 0.0051 - val_NSE: 0.9265 - val_r_square: 0.9704\n",
      "Epoch 7/20\n",
      "274/274 [==============================] - 3s 10ms/step - loss: 0.0077 - mean_squared_error: 0.0077 - NSE: 0.9817 - r_square: 0.9865 - val_loss: 0.0028 - val_mean_squared_error: 0.0028 - val_NSE: 0.9581 - val_r_square: 0.9696\n",
      "Epoch 8/20\n",
      "274/274 [==============================] - 3s 10ms/step - loss: 0.0069 - mean_squared_error: 0.0069 - NSE: 0.9833 - r_square: 0.9879 - val_loss: 0.0071 - val_mean_squared_error: 0.0071 - val_NSE: 0.8908 - val_r_square: 0.9713\n",
      "Epoch 9/20\n",
      "274/274 [==============================] - 3s 10ms/step - loss: 0.0064 - mean_squared_error: 0.0064 - NSE: 0.9844 - r_square: 0.9884 - val_loss: 0.0029 - val_mean_squared_error: 0.0029 - val_NSE: 0.9585 - val_r_square: 0.9719\n"
     ]
    }
   ],
   "source": [
    "lstm_history = compile_and_fit(lstm_model, wide_window)"
   ]
  },
  {
   "cell_type": "code",
   "execution_count": 45,
   "id": "a9780cf2",
   "metadata": {},
   "outputs": [],
   "source": [
    "val_performance = {}\n",
    "performance = {}"
   ]
  },
  {
   "cell_type": "code",
   "execution_count": 46,
   "id": "24a9666e",
   "metadata": {},
   "outputs": [
    {
     "name": "stdout",
     "output_type": "stream",
     "text": [
      "137/137 [==============================] - 0s 2ms/step - loss: 0.0022 - mean_squared_error: 0.0022 - NSE: 0.9689 - r_square: 0.9739\n"
     ]
    }
   ],
   "source": [
    "val_performance['Dense'] = dense.evaluate(wide_window.val)"
   ]
  },
  {
   "cell_type": "code",
   "execution_count": 47,
   "id": "fc8dc6e7",
   "metadata": {},
   "outputs": [],
   "source": [
    "performance['Dense'] = dense.evaluate(wide_window.test, verbose=0)"
   ]
  },
  {
   "cell_type": "code",
   "execution_count": 48,
   "id": "12057740",
   "metadata": {},
   "outputs": [
    {
     "name": "stdout",
     "output_type": "stream",
     "text": [
      "137/137 [==============================] - 0s 2ms/step - loss: 0.0070 - mean_squared_error: 0.0070 - NSE: 0.9024 - r_square: 0.9223\n"
     ]
    }
   ],
   "source": [
    "val_performance['Conv'] = conv_model.evaluate(conv_window.val)"
   ]
  },
  {
   "cell_type": "code",
   "execution_count": 49,
   "id": "94ff1c63",
   "metadata": {},
   "outputs": [],
   "source": [
    "performance['Conv'] = conv_model.evaluate(conv_window.test, verbose=0)"
   ]
  },
  {
   "cell_type": "code",
   "execution_count": 50,
   "id": "01dffd5f",
   "metadata": {},
   "outputs": [
    {
     "name": "stdout",
     "output_type": "stream",
     "text": [
      "137/137 [==============================] - 1s 3ms/step - loss: 0.0029 - mean_squared_error: 0.0029 - NSE: 0.9566 - r_square: 0.9720\n"
     ]
    }
   ],
   "source": [
    "val_performance['LSTM'] = lstm_model.evaluate(wide_window.val)"
   ]
  },
  {
   "cell_type": "code",
   "execution_count": 51,
   "id": "f5dd9903",
   "metadata": {},
   "outputs": [],
   "source": [
    "performance['LSTM'] = lstm_model.evaluate(wide_window.test, verbose=0)"
   ]
  },
  {
   "cell_type": "code",
   "execution_count": 52,
   "id": "3c65a718",
   "metadata": {},
   "outputs": [
    {
     "data": {
      "text/plain": [
       "{'Dense': [0.00707867369055748,\n",
       "  0.007078671827912331,\n",
       "  0.974090576171875,\n",
       "  0.9762545228004456],\n",
       " 'Conv': [0.028707673773169518,\n",
       "  0.028707673773169518,\n",
       "  0.895296573638916,\n",
       "  0.9090005159378052],\n",
       " 'LSTM': [0.009287525899708271,\n",
       "  0.009287523105740547,\n",
       "  0.9664724469184875,\n",
       "  0.9742442965507507]}"
      ]
     },
     "execution_count": 52,
     "metadata": {},
     "output_type": "execute_result"
    }
   ],
   "source": [
    "performance"
   ]
  },
  {
   "cell_type": "code",
   "execution_count": 53,
   "id": "efb9dcdc",
   "metadata": {},
   "outputs": [
    {
     "data": {
      "text/html": [
       "<div>\n",
       "<style scoped>\n",
       "    .dataframe tbody tr th:only-of-type {\n",
       "        vertical-align: middle;\n",
       "    }\n",
       "\n",
       "    .dataframe tbody tr th {\n",
       "        vertical-align: top;\n",
       "    }\n",
       "\n",
       "    .dataframe thead th {\n",
       "        text-align: right;\n",
       "    }\n",
       "</style>\n",
       "<table border=\"1\" class=\"dataframe\">\n",
       "  <thead>\n",
       "    <tr style=\"text-align: right;\">\n",
       "      <th></th>\n",
       "      <th>Loss</th>\n",
       "      <th>MSE</th>\n",
       "      <th>NSE</th>\n",
       "      <th>R^2</th>\n",
       "    </tr>\n",
       "  </thead>\n",
       "  <tbody>\n",
       "    <tr>\n",
       "      <th>Dense</th>\n",
       "      <td>0.007079</td>\n",
       "      <td>0.007079</td>\n",
       "      <td>0.974091</td>\n",
       "      <td>0.976255</td>\n",
       "    </tr>\n",
       "    <tr>\n",
       "      <th>Conv</th>\n",
       "      <td>0.028708</td>\n",
       "      <td>0.028708</td>\n",
       "      <td>0.895297</td>\n",
       "      <td>0.909001</td>\n",
       "    </tr>\n",
       "    <tr>\n",
       "      <th>LSTM</th>\n",
       "      <td>0.009288</td>\n",
       "      <td>0.009288</td>\n",
       "      <td>0.966472</td>\n",
       "      <td>0.974244</td>\n",
       "    </tr>\n",
       "  </tbody>\n",
       "</table>\n",
       "</div>"
      ],
      "text/plain": [
       "           Loss       MSE       NSE       R^2\n",
       "Dense  0.007079  0.007079  0.974091  0.976255\n",
       "Conv   0.028708  0.028708  0.895297  0.909001\n",
       "LSTM   0.009288  0.009288  0.966472  0.974244"
      ]
     },
     "execution_count": 53,
     "metadata": {},
     "output_type": "execute_result"
    }
   ],
   "source": [
    "pd.DataFrame.from_dict(performance, orient='index', columns=['Loss', 'MSE', 'NSE', 'R^2'])"
   ]
  },
  {
   "cell_type": "code",
   "execution_count": null,
   "id": "c7e8d220",
   "metadata": {},
   "outputs": [],
   "source": []
  },
  {
   "cell_type": "code",
   "execution_count": 54,
   "id": "6f3d2c3c",
   "metadata": {},
   "outputs": [
    {
     "name": "stdout",
     "output_type": "stream",
     "text": [
      "WARNING:tensorflow:Model was constructed with shape (None, 6, 1) for input KerasTensor(type_spec=TensorSpec(shape=(None, 6, 1), dtype=tf.float32, name='lstm_1_input'), name='lstm_1_input', description=\"created by layer 'lstm_1_input'\"), but it was called on an input with incompatible shape (None, 1, 1).\n",
      "137/137 [==============================] - 1s 2ms/step\n",
      "(4380, 1, 1)\n"
     ]
    }
   ],
   "source": [
    "prediction_data = test_df[['Waterlevel_Sto_Nino']].values\n",
    "lstm_predictions_univariate_ann = lstm_model.predict(prediction_data)\n",
    "print(lstm_predictions_univariate_ann.shape)"
   ]
  },
  {
   "cell_type": "code",
   "execution_count": 55,
   "id": "16198946",
   "metadata": {},
   "outputs": [
    {
     "name": "stdout",
     "output_type": "stream",
     "text": [
      "WARNING:tensorflow:Model was constructed with shape (None, 6, 1) for input KerasTensor(type_spec=TensorSpec(shape=(None, 6, 1), dtype=tf.float32, name='dense_10_input'), name='dense_10_input', description=\"created by layer 'dense_10_input'\"), but it was called on an input with incompatible shape (None, 1, 1).\n",
      "137/137 [==============================] - 0s 1ms/step\n"
     ]
    }
   ],
   "source": [
    "dnn_predictions_univariate_ann = dense.predict(prediction_data)"
   ]
  },
  {
   "cell_type": "code",
   "execution_count": 56,
   "id": "690c6379",
   "metadata": {},
   "outputs": [
    {
     "data": {
      "text/plain": [
       "array([[[11.906377]],\n",
       "\n",
       "       [[11.887028]],\n",
       "\n",
       "       [[11.867679]],\n",
       "\n",
       "       ...,\n",
       "\n",
       "       [[12.438479]],\n",
       "\n",
       "       [[12.438479]],\n",
       "\n",
       "       [[12.438479]]], dtype=float32)"
      ]
     },
     "execution_count": 56,
     "metadata": {},
     "output_type": "execute_result"
    }
   ],
   "source": [
    "dnn_predictions_univariate_ann"
   ]
  },
  {
   "cell_type": "code",
   "execution_count": 57,
   "id": "f0be6ba0",
   "metadata": {},
   "outputs": [],
   "source": [
    "dnn_predictions_univariate_ann = dnn_predictions_univariate_ann.reshape(4380)"
   ]
  },
  {
   "cell_type": "code",
   "execution_count": 58,
   "id": "610ab161",
   "metadata": {},
   "outputs": [
    {
     "data": {
      "text/plain": [
       "array([11.906377, 11.887028, 11.867679, ..., 12.438479, 12.438479,\n",
       "       12.438479], dtype=float32)"
      ]
     },
     "execution_count": 58,
     "metadata": {},
     "output_type": "execute_result"
    }
   ],
   "source": [
    "dnn_predictions_univariate_ann"
   ]
  },
  {
   "cell_type": "code",
   "execution_count": 59,
   "id": "db4a963c",
   "metadata": {},
   "outputs": [],
   "source": [
    "lstm_predictions_univariate_ann = lstm_predictions_univariate_ann.reshape(4380)"
   ]
  },
  {
   "cell_type": "code",
   "execution_count": 60,
   "id": "5fee0ee4",
   "metadata": {},
   "outputs": [
    {
     "data": {
      "text/plain": [
       "array([11.866258, 11.845786, 11.825289, ..., 12.418395, 12.418395,\n",
       "       12.418395], dtype=float32)"
      ]
     },
     "execution_count": 60,
     "metadata": {},
     "output_type": "execute_result"
    }
   ],
   "source": [
    "lstm_predictions_univariate_ann"
   ]
  },
  {
   "cell_type": "code",
   "execution_count": null,
   "id": "18530c4f",
   "metadata": {},
   "outputs": [],
   "source": []
  },
  {
   "cell_type": "markdown",
   "id": "051fbacc",
   "metadata": {},
   "source": [
    "## Compare the predictions on the test set"
   ]
  },
  {
   "cell_type": "code",
   "execution_count": 61,
   "id": "8a059ca7",
   "metadata": {},
   "outputs": [
    {
     "data": {
      "image/png": "[encoded data removed]",
      "text/plain": [
       "<Figure size 1400x900 with 1 Axes>"
      ]
     },
     "metadata": {},
     "output_type": "display_data"
    }
   ],
   "source": [
    "from matplotlib import pyplot as plt\n",
    "import matplotlib.dates as mdates  # Import the dates module\n",
    "\n",
    "plt.figure(figsize=(14, 9))  # Adjust the width and height as needed\n",
    "plt.plot(test_dates, lstm_predictions_multi_ann_rainfall_only, c = \"blue\", label = \"Rainfall LSTM\", alpha = 0.5)\n",
    "plt.plot(test_dates, dnn_predictions_univariate_ann, c = \"green\", label = \"Univariate DNN\", alpha = 0.5)\n",
    "#plt.plot(test_dates, lstm_predictions_multi_ann_window_all_inputs, c = \"violet\", label = \"ANN with Saint Venant Inputs\", alpha = 0.5)\n",
    "plt.plot(test_dates, actual, c = \"red\", label = \"Actual\", alpha = 0.50)\n",
    "plt.title('Predictions vs Actual Values - Test Set')\n",
    "plt.ylabel('Water Level Sto Nino (meters)')\n",
    "plt.xlabel('Datetime')\n",
    "\n",
    "# Set x-axis major locator to show ticks for every month\n",
    "plt.gca().xaxis.set_major_locator(mdates.MonthLocator())\n",
    "\n",
    "# Format the dates as YYYY-MM-DD\n",
    "plt.gca().xaxis.set_major_formatter(mdates.DateFormatter('%Y-%m-%d'))\n",
    "\n",
    "plt.gcf().autofmt_xdate()\n",
    "plt.gca().xaxis_date()\n",
    "plt.legend(prop={'size': 14})  # Change the size value as needed\n",
    "plt.show()"
   ]
  },
  {
   "cell_type": "code",
   "execution_count": 62,
   "id": "79fb1fff",
   "metadata": {},
   "outputs": [
    {
     "data": {
      "text/plain": [
       "array([11.906377, 11.887028, 11.867679, ..., 12.438479, 12.438479,\n",
       "       12.438479], dtype=float32)"
      ]
     },
     "execution_count": 62,
     "metadata": {},
     "output_type": "execute_result"
    }
   ],
   "source": [
    "dnn_predictions_univariate_ann"
   ]
  },
  {
   "cell_type": "code",
   "execution_count": 63,
   "id": "f5a5acef",
   "metadata": {},
   "outputs": [
    {
     "data": {
      "text/plain": [
       "array([11.867529, 11.878017, 11.862883, ..., 12.466129, 12.46612 ,\n",
       "       12.466116], dtype=float32)"
      ]
     },
     "execution_count": 63,
     "metadata": {},
     "output_type": "execute_result"
    }
   ],
   "source": [
    "lstm_predictions_multi_ann_rainfall_only"
   ]
  },
  {
   "cell_type": "code",
   "execution_count": 64,
   "id": "7b90df78",
   "metadata": {},
   "outputs": [
    {
     "data": {
      "text/plain": [
       "13140    11.89\n",
       "13141    11.87\n",
       "13142    11.85\n",
       "13143    11.84\n",
       "13144    11.84\n",
       "         ...  \n",
       "17515    12.44\n",
       "17516    12.44\n",
       "17517    12.44\n",
       "17518    12.44\n",
       "17519    12.44\n",
       "Name: Waterlevel_Sto_Nino, Length: 4380, dtype: float64"
      ]
     },
     "execution_count": 64,
     "metadata": {},
     "output_type": "execute_result"
    }
   ],
   "source": [
    "actual"
   ]
  },
  {
   "cell_type": "code",
   "execution_count": 65,
   "id": "8861f710",
   "metadata": {},
   "outputs": [
    {
     "data": {
      "text/plain": [
       "13140   2017-07-02 12:00:00\n",
       "13141   2017-07-02 13:00:00\n",
       "13142   2017-07-02 14:00:00\n",
       "13143   2017-07-02 15:00:00\n",
       "13144   2017-07-02 16:00:00\n",
       "                ...        \n",
       "17515   2017-12-31 19:00:00\n",
       "17516   2017-12-31 20:00:00\n",
       "17517   2017-12-31 21:00:00\n",
       "17518   2017-12-31 22:00:00\n",
       "17519   2017-12-31 23:00:00\n",
       "Name: datetime, Length: 4380, dtype: datetime64[ns]"
      ]
     },
     "execution_count": 65,
     "metadata": {},
     "output_type": "execute_result"
    }
   ],
   "source": [
    "test_dates"
   ]
  },
  {
   "cell_type": "code",
   "execution_count": 66,
   "id": "08a94580",
   "metadata": {},
   "outputs": [],
   "source": [
    "ann_predictions = pd.DataFrame({\n",
    "    'Date': test_dates,\n",
    "    'Actual': actual,\n",
    "    'Rainfall_ANN': lstm_predictions_multi_ann_rainfall_only,\n",
    "    'Univariate_ANN': dnn_predictions_univariate_ann\n",
    "})"
   ]
  },
  {
   "cell_type": "code",
   "execution_count": 67,
   "id": "45de0787",
   "metadata": {},
   "outputs": [
    {
     "data": {
      "text/html": [
       "<div>\n",
       "<style scoped>\n",
       "    .dataframe tbody tr th:only-of-type {\n",
       "        vertical-align: middle;\n",
       "    }\n",
       "\n",
       "    .dataframe tbody tr th {\n",
       "        vertical-align: top;\n",
       "    }\n",
       "\n",
       "    .dataframe thead th {\n",
       "        text-align: right;\n",
       "    }\n",
       "</style>\n",
       "<table border=\"1\" class=\"dataframe\">\n",
       "  <thead>\n",
       "    <tr style=\"text-align: right;\">\n",
       "      <th></th>\n",
       "      <th>Date</th>\n",
       "      <th>Actual</th>\n",
       "      <th>Rainfall_ANN</th>\n",
       "      <th>Univariate_ANN</th>\n",
       "    </tr>\n",
       "  </thead>\n",
       "  <tbody>\n",
       "    <tr>\n",
       "      <th>13140</th>\n",
       "      <td>2017-07-02 12:00:00</td>\n",
       "      <td>11.89</td>\n",
       "      <td>11.867529</td>\n",
       "      <td>11.906377</td>\n",
       "    </tr>\n",
       "    <tr>\n",
       "      <th>13141</th>\n",
       "      <td>2017-07-02 13:00:00</td>\n",
       "      <td>11.87</td>\n",
       "      <td>11.878017</td>\n",
       "      <td>11.887028</td>\n",
       "    </tr>\n",
       "    <tr>\n",
       "      <th>13142</th>\n",
       "      <td>2017-07-02 14:00:00</td>\n",
       "      <td>11.85</td>\n",
       "      <td>11.862883</td>\n",
       "      <td>11.867679</td>\n",
       "    </tr>\n",
       "    <tr>\n",
       "      <th>13143</th>\n",
       "      <td>2017-07-02 15:00:00</td>\n",
       "      <td>11.84</td>\n",
       "      <td>11.818756</td>\n",
       "      <td>11.858004</td>\n",
       "    </tr>\n",
       "    <tr>\n",
       "      <th>13144</th>\n",
       "      <td>2017-07-02 16:00:00</td>\n",
       "      <td>11.84</td>\n",
       "      <td>12.542150</td>\n",
       "      <td>11.858004</td>\n",
       "    </tr>\n",
       "    <tr>\n",
       "      <th>...</th>\n",
       "      <td>...</td>\n",
       "      <td>...</td>\n",
       "      <td>...</td>\n",
       "      <td>...</td>\n",
       "    </tr>\n",
       "    <tr>\n",
       "      <th>17515</th>\n",
       "      <td>2017-12-31 19:00:00</td>\n",
       "      <td>12.44</td>\n",
       "      <td>12.466156</td>\n",
       "      <td>12.438479</td>\n",
       "    </tr>\n",
       "    <tr>\n",
       "      <th>17516</th>\n",
       "      <td>2017-12-31 20:00:00</td>\n",
       "      <td>12.44</td>\n",
       "      <td>12.466138</td>\n",
       "      <td>12.438479</td>\n",
       "    </tr>\n",
       "    <tr>\n",
       "      <th>17517</th>\n",
       "      <td>2017-12-31 21:00:00</td>\n",
       "      <td>12.44</td>\n",
       "      <td>12.466129</td>\n",
       "      <td>12.438479</td>\n",
       "    </tr>\n",
       "    <tr>\n",
       "      <th>17518</th>\n",
       "      <td>2017-12-31 22:00:00</td>\n",
       "      <td>12.44</td>\n",
       "      <td>12.466120</td>\n",
       "      <td>12.438479</td>\n",
       "    </tr>\n",
       "    <tr>\n",
       "      <th>17519</th>\n",
       "      <td>2017-12-31 23:00:00</td>\n",
       "      <td>12.44</td>\n",
       "      <td>12.466116</td>\n",
       "      <td>12.438479</td>\n",
       "    </tr>\n",
       "  </tbody>\n",
       "</table>\n",
       "<p>4380 rows × 4 columns</p>\n",
       "</div>"
      ],
      "text/plain": [
       "                     Date  Actual  Rainfall_ANN  Univariate_ANN\n",
       "13140 2017-07-02 12:00:00   11.89     11.867529       11.906377\n",
       "13141 2017-07-02 13:00:00   11.87     11.878017       11.887028\n",
       "13142 2017-07-02 14:00:00   11.85     11.862883       11.867679\n",
       "13143 2017-07-02 15:00:00   11.84     11.818756       11.858004\n",
       "13144 2017-07-02 16:00:00   11.84     12.542150       11.858004\n",
       "...                   ...     ...           ...             ...\n",
       "17515 2017-12-31 19:00:00   12.44     12.466156       12.438479\n",
       "17516 2017-12-31 20:00:00   12.44     12.466138       12.438479\n",
       "17517 2017-12-31 21:00:00   12.44     12.466129       12.438479\n",
       "17518 2017-12-31 22:00:00   12.44     12.466120       12.438479\n",
       "17519 2017-12-31 23:00:00   12.44     12.466116       12.438479\n",
       "\n",
       "[4380 rows x 4 columns]"
      ]
     },
     "execution_count": 67,
     "metadata": {},
     "output_type": "execute_result"
    }
   ],
   "source": [
    "ann_predictions"
   ]
  },
  {
   "cell_type": "code",
   "execution_count": 68,
   "id": "e4713dbf",
   "metadata": {},
   "outputs": [
    {
     "name": "stdout",
     "output_type": "stream",
     "text": [
      "<class 'pandas.core.frame.DataFrame'>\n",
      "RangeIndex: 4380 entries, 13140 to 17519\n",
      "Data columns (total 4 columns):\n",
      " #   Column          Non-Null Count  Dtype         \n",
      "---  ------          --------------  -----         \n",
      " 0   Date            4380 non-null   datetime64[ns]\n",
      " 1   Actual          4380 non-null   float64       \n",
      " 2   Rainfall_ANN    4380 non-null   float32       \n",
      " 3   Univariate_ANN  4380 non-null   float32       \n",
      "dtypes: datetime64[ns](1), float32(2), float64(1)\n",
      "memory usage: 102.8 KB\n"
     ]
    }
   ],
   "source": [
    "ann_predictions.info()"
   ]
  },
  {
   "cell_type": "code",
   "execution_count": 69,
   "id": "7b2fffcd",
   "metadata": {},
   "outputs": [
    {
     "name": "stdout",
     "output_type": "stream",
     "text": [
      "Top 10 highest water levels and their predictions:\n",
      "                     Date  Actual  Rainfall_ANN  Univariate_ANN\n",
      "14361 2017-08-22 09:00:00   16.04     15.749824       15.921340\n",
      "14362 2017-08-22 10:00:00   16.01     15.727484       15.892316\n",
      "14360 2017-08-22 08:00:00   15.90     15.601762       15.785893\n",
      "14871 2017-09-12 15:00:00   15.90     15.335878       15.785893\n",
      "14363 2017-08-22 11:00:00   15.87     15.614613       15.756871\n",
      "14872 2017-09-12 16:00:00   15.82     15.558156       15.708498\n",
      "14877 2017-09-12 21:00:00   15.70     15.424488       15.592402\n",
      "14878 2017-09-12 22:00:00   15.68     15.414875       15.573052\n",
      "14364 2017-08-22 12:00:00   15.66     15.437933       15.553703\n",
      "14876 2017-09-12 20:00:00   15.65     15.377065       15.544029\n",
      "14359 2017-08-22 07:00:00   15.64     15.557380       15.534355\n",
      "14873 2017-09-12 17:00:00   15.62     15.435711       15.515005\n",
      "14879 2017-09-12 23:00:00   15.59     15.345650       15.485982\n",
      "14875 2017-09-12 19:00:00   15.57     15.312020       15.466633\n",
      "14874 2017-09-12 18:00:00   15.51     15.259909       15.408586\n",
      "14365 2017-08-22 13:00:00   15.46     15.263644       15.360210\n",
      "14870 2017-09-12 14:00:00   15.45     14.650743       15.350537\n",
      "14880 2017-09-13 00:00:00   15.41     15.197932       15.311839\n",
      "14358 2017-08-22 06:00:00   15.39     15.194095       15.292490\n",
      "14366 2017-08-22 14:00:00   15.24     15.117599       15.147370\n",
      "14357 2017-08-22 05:00:00   15.20     15.498213       15.108672\n",
      "14881 2017-09-13 01:00:00   15.18     15.002953       15.089322\n",
      "14869 2017-09-12 13:00:00   15.06     13.884096       14.973228\n",
      "14868 2017-09-12 12:00:00   15.05     14.932917       14.963552\n",
      "14367 2017-08-22 15:00:00   15.00     14.884557       14.915179\n",
      "14867 2017-09-12 11:00:00   14.99     14.856783       14.905505\n",
      "14864 2017-09-12 08:00:00   14.98     14.580751       14.895830\n",
      "13759 2017-07-28 07:00:00   14.93     14.824205       14.847459\n",
      "14356 2017-08-22 04:00:00   14.93     14.470237       14.847459\n",
      "14882 2017-09-13 02:00:00   14.93     14.784639       14.847459\n"
     ]
    }
   ],
   "source": [
    "df_sorted = ann_predictions.sort_values(by='Actual', ascending=False)\n",
    "\n",
    "# To see the highest actual water levels and corresponding predictions\n",
    "print(\"Top 10 highest water levels and their predictions:\")\n",
    "print(df_sorted.head(30))"
   ]
  },
  {
   "cell_type": "code",
   "execution_count": 70,
   "id": "abd68cbd",
   "metadata": {},
   "outputs": [],
   "source": [
    "df['datetime'] = pd.to_datetime(df['datetime'])"
   ]
  },
  {
   "cell_type": "code",
   "execution_count": 71,
   "id": "1fbd3379",
   "metadata": {},
   "outputs": [],
   "source": [
    "start_date = pd.to_datetime('2017-08-22 00:00:00')\n",
    "end_date = pd.to_datetime('2017-08-23 00:00:00')\n",
    "\n",
    "ann_predictions_1 = ann_predictions[(ann_predictions['Date'] >= start_date) & (ann_predictions['Date'] <= end_date)]"
   ]
  },
  {
   "cell_type": "code",
   "execution_count": 72,
   "id": "3bc8be77",
   "metadata": {},
   "outputs": [
    {
     "data": {
      "text/html": [
       "<div>\n",
       "<style scoped>\n",
       "    .dataframe tbody tr th:only-of-type {\n",
       "        vertical-align: middle;\n",
       "    }\n",
       "\n",
       "    .dataframe tbody tr th {\n",
       "        vertical-align: top;\n",
       "    }\n",
       "\n",
       "    .dataframe thead th {\n",
       "        text-align: right;\n",
       "    }\n",
       "</style>\n",
       "<table border=\"1\" class=\"dataframe\">\n",
       "  <thead>\n",
       "    <tr style=\"text-align: right;\">\n",
       "      <th></th>\n",
       "      <th>Date</th>\n",
       "      <th>Actual</th>\n",
       "      <th>Rainfall_ANN</th>\n",
       "      <th>Univariate_ANN</th>\n",
       "    </tr>\n",
       "  </thead>\n",
       "  <tbody>\n",
       "    <tr>\n",
       "      <th>14352</th>\n",
       "      <td>2017-08-22 00:00:00</td>\n",
       "      <td>14.11</td>\n",
       "      <td>14.149551</td>\n",
       "      <td>14.054139</td>\n",
       "    </tr>\n",
       "    <tr>\n",
       "      <th>14353</th>\n",
       "      <td>2017-08-22 01:00:00</td>\n",
       "      <td>14.24</td>\n",
       "      <td>14.259041</td>\n",
       "      <td>14.179909</td>\n",
       "    </tr>\n",
       "    <tr>\n",
       "      <th>14354</th>\n",
       "      <td>2017-08-22 02:00:00</td>\n",
       "      <td>14.33</td>\n",
       "      <td>14.404389</td>\n",
       "      <td>14.266980</td>\n",
       "    </tr>\n",
       "    <tr>\n",
       "      <th>14355</th>\n",
       "      <td>2017-08-22 03:00:00</td>\n",
       "      <td>14.50</td>\n",
       "      <td>14.463607</td>\n",
       "      <td>14.431450</td>\n",
       "    </tr>\n",
       "    <tr>\n",
       "      <th>14356</th>\n",
       "      <td>2017-08-22 04:00:00</td>\n",
       "      <td>14.93</td>\n",
       "      <td>14.470237</td>\n",
       "      <td>14.847459</td>\n",
       "    </tr>\n",
       "    <tr>\n",
       "      <th>14357</th>\n",
       "      <td>2017-08-22 05:00:00</td>\n",
       "      <td>15.20</td>\n",
       "      <td>15.498213</td>\n",
       "      <td>15.108672</td>\n",
       "    </tr>\n",
       "    <tr>\n",
       "      <th>14358</th>\n",
       "      <td>2017-08-22 06:00:00</td>\n",
       "      <td>15.39</td>\n",
       "      <td>15.194095</td>\n",
       "      <td>15.292490</td>\n",
       "    </tr>\n",
       "    <tr>\n",
       "      <th>14359</th>\n",
       "      <td>2017-08-22 07:00:00</td>\n",
       "      <td>15.64</td>\n",
       "      <td>15.557380</td>\n",
       "      <td>15.534355</td>\n",
       "    </tr>\n",
       "    <tr>\n",
       "      <th>14360</th>\n",
       "      <td>2017-08-22 08:00:00</td>\n",
       "      <td>15.90</td>\n",
       "      <td>15.601762</td>\n",
       "      <td>15.785893</td>\n",
       "    </tr>\n",
       "    <tr>\n",
       "      <th>14361</th>\n",
       "      <td>2017-08-22 09:00:00</td>\n",
       "      <td>16.04</td>\n",
       "      <td>15.749824</td>\n",
       "      <td>15.921340</td>\n",
       "    </tr>\n",
       "    <tr>\n",
       "      <th>14362</th>\n",
       "      <td>2017-08-22 10:00:00</td>\n",
       "      <td>16.01</td>\n",
       "      <td>15.727484</td>\n",
       "      <td>15.892316</td>\n",
       "    </tr>\n",
       "    <tr>\n",
       "      <th>14363</th>\n",
       "      <td>2017-08-22 11:00:00</td>\n",
       "      <td>15.87</td>\n",
       "      <td>15.614613</td>\n",
       "      <td>15.756871</td>\n",
       "    </tr>\n",
       "    <tr>\n",
       "      <th>14364</th>\n",
       "      <td>2017-08-22 12:00:00</td>\n",
       "      <td>15.66</td>\n",
       "      <td>15.437933</td>\n",
       "      <td>15.553703</td>\n",
       "    </tr>\n",
       "    <tr>\n",
       "      <th>14365</th>\n",
       "      <td>2017-08-22 13:00:00</td>\n",
       "      <td>15.46</td>\n",
       "      <td>15.263644</td>\n",
       "      <td>15.360210</td>\n",
       "    </tr>\n",
       "    <tr>\n",
       "      <th>14366</th>\n",
       "      <td>2017-08-22 14:00:00</td>\n",
       "      <td>15.24</td>\n",
       "      <td>15.117599</td>\n",
       "      <td>15.147370</td>\n",
       "    </tr>\n",
       "    <tr>\n",
       "      <th>14367</th>\n",
       "      <td>2017-08-22 15:00:00</td>\n",
       "      <td>15.00</td>\n",
       "      <td>14.884557</td>\n",
       "      <td>14.915179</td>\n",
       "    </tr>\n",
       "    <tr>\n",
       "      <th>14368</th>\n",
       "      <td>2017-08-22 16:00:00</td>\n",
       "      <td>14.78</td>\n",
       "      <td>14.768661</td>\n",
       "      <td>14.702336</td>\n",
       "    </tr>\n",
       "    <tr>\n",
       "      <th>14369</th>\n",
       "      <td>2017-08-22 17:00:00</td>\n",
       "      <td>14.57</td>\n",
       "      <td>14.544598</td>\n",
       "      <td>14.499173</td>\n",
       "    </tr>\n",
       "    <tr>\n",
       "      <th>14370</th>\n",
       "      <td>2017-08-22 18:00:00</td>\n",
       "      <td>14.39</td>\n",
       "      <td>14.380244</td>\n",
       "      <td>14.325028</td>\n",
       "    </tr>\n",
       "    <tr>\n",
       "      <th>14371</th>\n",
       "      <td>2017-08-22 19:00:00</td>\n",
       "      <td>14.21</td>\n",
       "      <td>14.216537</td>\n",
       "      <td>14.150885</td>\n",
       "    </tr>\n",
       "    <tr>\n",
       "      <th>14372</th>\n",
       "      <td>2017-08-22 20:00:00</td>\n",
       "      <td>14.07</td>\n",
       "      <td>14.070626</td>\n",
       "      <td>14.015441</td>\n",
       "    </tr>\n",
       "    <tr>\n",
       "      <th>14373</th>\n",
       "      <td>2017-08-22 21:00:00</td>\n",
       "      <td>13.95</td>\n",
       "      <td>13.941403</td>\n",
       "      <td>13.899344</td>\n",
       "    </tr>\n",
       "    <tr>\n",
       "      <th>14374</th>\n",
       "      <td>2017-08-22 22:00:00</td>\n",
       "      <td>13.87</td>\n",
       "      <td>13.872509</td>\n",
       "      <td>13.821948</td>\n",
       "    </tr>\n",
       "    <tr>\n",
       "      <th>14375</th>\n",
       "      <td>2017-08-22 23:00:00</td>\n",
       "      <td>13.80</td>\n",
       "      <td>13.792051</td>\n",
       "      <td>13.754227</td>\n",
       "    </tr>\n",
       "    <tr>\n",
       "      <th>14376</th>\n",
       "      <td>2017-08-23 00:00:00</td>\n",
       "      <td>13.73</td>\n",
       "      <td>13.717147</td>\n",
       "      <td>13.686503</td>\n",
       "    </tr>\n",
       "  </tbody>\n",
       "</table>\n",
       "</div>"
      ],
      "text/plain": [
       "                     Date  Actual  Rainfall_ANN  Univariate_ANN\n",
       "14352 2017-08-22 00:00:00   14.11     14.149551       14.054139\n",
       "14353 2017-08-22 01:00:00   14.24     14.259041       14.179909\n",
       "14354 2017-08-22 02:00:00   14.33     14.404389       14.266980\n",
       "14355 2017-08-22 03:00:00   14.50     14.463607       14.431450\n",
       "14356 2017-08-22 04:00:00   14.93     14.470237       14.847459\n",
       "14357 2017-08-22 05:00:00   15.20     15.498213       15.108672\n",
       "14358 2017-08-22 06:00:00   15.39     15.194095       15.292490\n",
       "14359 2017-08-22 07:00:00   15.64     15.557380       15.534355\n",
       "14360 2017-08-22 08:00:00   15.90     15.601762       15.785893\n",
       "14361 2017-08-22 09:00:00   16.04     15.749824       15.921340\n",
       "14362 2017-08-22 10:00:00   16.01     15.727484       15.892316\n",
       "14363 2017-08-22 11:00:00   15.87     15.614613       15.756871\n",
       "14364 2017-08-22 12:00:00   15.66     15.437933       15.553703\n",
       "14365 2017-08-22 13:00:00   15.46     15.263644       15.360210\n",
       "14366 2017-08-22 14:00:00   15.24     15.117599       15.147370\n",
       "14367 2017-08-22 15:00:00   15.00     14.884557       14.915179\n",
       "14368 2017-08-22 16:00:00   14.78     14.768661       14.702336\n",
       "14369 2017-08-22 17:00:00   14.57     14.544598       14.499173\n",
       "14370 2017-08-22 18:00:00   14.39     14.380244       14.325028\n",
       "14371 2017-08-22 19:00:00   14.21     14.216537       14.150885\n",
       "14372 2017-08-22 20:00:00   14.07     14.070626       14.015441\n",
       "14373 2017-08-22 21:00:00   13.95     13.941403       13.899344\n",
       "14374 2017-08-22 22:00:00   13.87     13.872509       13.821948\n",
       "14375 2017-08-22 23:00:00   13.80     13.792051       13.754227\n",
       "14376 2017-08-23 00:00:00   13.73     13.717147       13.686503"
      ]
     },
     "execution_count": 72,
     "metadata": {},
     "output_type": "execute_result"
    }
   ],
   "source": [
    "ann_predictions_1"
   ]
  },
  {
   "cell_type": "code",
   "execution_count": 73,
   "id": "8e3c288c",
   "metadata": {},
   "outputs": [],
   "source": [
    "start_date = pd.to_datetime('2017-08-22 00:00:00')\n",
    "end_date = pd.to_datetime('2017-09-22 00:00:00')\n",
    "ann_predictions_2 = ann_predictions[(ann_predictions['Date'] >= start_date) & (ann_predictions['Date'] <= end_date)]"
   ]
  },
  {
   "cell_type": "code",
   "execution_count": null,
   "id": "536b8121",
   "metadata": {},
   "outputs": [],
   "source": []
  },
  {
   "cell_type": "code",
   "execution_count": 74,
   "id": "7248f087",
   "metadata": {},
   "outputs": [
    {
     "data": {
      "image/png": "[encoded data removed]",
      "text/plain": [
       "<Figure size 640x480 with 1 Axes>"
      ]
     },
     "metadata": {},
     "output_type": "display_data"
    }
   ],
   "source": [
    "from matplotlib import pyplot as plt\n",
    "import matplotlib.dates as mdates  # Import the dates module\n",
    "\n",
    "plt.plot(ann_predictions_1['Date'], ann_predictions_1['Rainfall_ANN'], c = \"blue\", label = \"Rainfall LSTM\", alpha = 0.5)\n",
    "plt.plot(ann_predictions_1['Date'], ann_predictions_1['Univariate_ANN'], c = \"green\", label = \"Univariate DNN\", alpha = 0.5)\n",
    "#plt.plot(test_dates, lstm_predictions_multi_ann_window_all_inputs, c = \"violet\", label = \"ANN with Saint Venant Inputs\", alpha = 0.5)\n",
    "plt.plot(ann_predictions_1['Date'], ann_predictions_1['Actual'], c = \"red\", label = \"Actual\", alpha = 0.50)\n",
    "plt.title('Predictions vs Actual Values - Heavy Rainfall Event 1')\n",
    "plt.ylabel('Water Level Sto Nino (meters)')\n",
    "plt.xlabel('Datetime')\n",
    "\n",
    "# Set x-axis to show hourly ticks\n",
    "plt.gca().xaxis.set_major_locator(mdates.HourLocator(interval=3))  # Show every hour\n",
    "plt.gca().xaxis.set_major_formatter(mdates.DateFormatter('%Y-%m-%d %H:00'))  # Format as YYYY-MM-DD HH:00\n",
    "\n",
    "# Rotate and align the tick labels so they look better\n",
    "plt.gcf().autofmt_xdate()\n",
    "\n",
    "# Add gridlines for better readability of hourly intervals\n",
    "plt.grid(True, alpha=0.3)\n",
    "\n",
    "plt.legend()\n",
    "plt.show()"
   ]
  },
  {
   "cell_type": "code",
   "execution_count": 75,
   "id": "697aabee",
   "metadata": {},
   "outputs": [
    {
     "data": {
      "image/png": "[encoded data removed]",
      "text/plain": [
       "<Figure size 1200x900 with 1 Axes>"
      ]
     },
     "metadata": {},
     "output_type": "display_data"
    }
   ],
   "source": [
    "from matplotlib import pyplot as plt\n",
    "import matplotlib.dates as mdates  # Import the dates module\n",
    "\n",
    "plt.figure(figsize=(12, 9))  # Adjust the width and height as needed\n",
    "\n",
    "plt.plot(ann_predictions_2['Date'], ann_predictions_2['Rainfall_ANN'], c = \"blue\", label = \"Rainfall LSTM\", alpha = 0.5)\n",
    "plt.plot(ann_predictions_2['Date'], ann_predictions_2['Univariate_ANN'], c = \"green\", label = \"Univariate DNN\", alpha = 0.5)\n",
    "#plt.plot(test_dates, lstm_predictions_multi_ann_window_all_inputs, c = \"violet\", label = \"ANN with Saint Venant Inputs\", alpha = 0.5)\n",
    "plt.plot(ann_predictions_2['Date'], ann_predictions_2['Actual'], c = \"red\", label = \"Actual\", alpha = 0.50)\n",
    "plt.title('Predictions vs Actual Values - August 22, 2017 - Sept. 22, 2017')\n",
    "plt.ylabel('Water Level Sto Nino (meters)')\n",
    "plt.xlabel('Datetime')\n",
    "\n",
    "# Set x-axis to show weekly intervals using AutoDateLocator\n",
    "locator = mdates.AutoDateLocator(interval_multiples=False)\n",
    "formatter = mdates.AutoDateFormatter(locator)\n",
    "plt.gca().xaxis.set_major_locator(locator)\n",
    "plt.gca().xaxis.set_major_formatter(formatter)\n",
    "\n",
    "# Rotate and align the tick labels so they look better\n",
    "plt.gcf().autofmt_xdate()\n",
    "\n",
    "# Add gridlines for better readability of hourly intervals\n",
    "plt.grid(True, alpha=0.3)\n",
    "\n",
    "plt.legend(prop={'size': 14})  # Change the size value as needed\n",
    "plt.show()"
   ]
  },
  {
   "cell_type": "code",
   "execution_count": null,
   "id": "5e485f0a",
   "metadata": {},
   "outputs": [],
   "source": []
  }
 ],
 "metadata": {
  "kernelspec": {
   "display_name": "Python 3 (ipykernel)",
   "language": "python",
   "name": "python3"
  },
  "language_info": {
   "codemirror_mode": {
    "name": "ipython",
    "version": 3
   },
   "file_extension": ".py",
   "mimetype": "text/x-python",
   "name": "python",
   "nbconvert_exporter": "python",
   "pygments_lexer": "ipython3",
   "version": "3.9.13"
  }
 },
 "nbformat": 4,
 "nbformat_minor": 5
}
